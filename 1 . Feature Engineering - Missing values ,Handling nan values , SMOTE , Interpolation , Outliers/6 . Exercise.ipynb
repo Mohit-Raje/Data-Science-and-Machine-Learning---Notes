{
 "cells": [
  {
   "cell_type": "markdown",
   "id": "f7cef05a-df3d-47fc-8ca7-ced7dc47aefc",
   "metadata": {},
   "source": [
    "### Q1: What are Missing Values in a Dataset?\n",
    "Missing values occur when some observations in a dataset lack recorded information for certain variables. This can happen due to data collection errors, survey non-responses, sensor failures, or human mistakes.\n",
    "\n",
    "Why is it Essential to Handle Missing Values?\n",
    "Handling missing values is crucial because:\n",
    "✅ Prevents Bias – Missing data can introduce biases, leading to incorrect conclusions.\n",
    "✅ Ensures Model Performance – Many ML algorithms fail or perform poorly with missing values.\n",
    "✅ Avoids Data Loss – Simply removing missing rows may lead to significant data loss.\n",
    "✅ Maintains Data Integrity – Proper handling preserves the statistical properties of the dataset.\n",
    "\n",
    "Algorithms That Are NOT Affected by Missing Values\n",
    "Some algorithms can handle missing values inherently, including:\n",
    "\n",
    "🔹 Tree-Based Models:\n",
    "\n",
    "Decision Trees (CART)\n",
    "Random Forest\n",
    "XGBoost (can handle missing values internally)\n",
    "LightGBM\n",
    "🔹 k-Nearest Neighbors (KNN) – If distance metrics can be modified to ignore missing values.\n",
    "\n",
    "🔹 Naive Bayes – Works with missing values by ignoring them during probability estimation."
   ]
  },
  {
   "cell_type": "markdown",
   "id": "2777a0e1-6402-4e74-96b3-0b2083e57881",
   "metadata": {},
   "source": [
    "### Q2: List down techniques used to handle missing data. Give an example of each with python code."
   ]
  },
  {
   "cell_type": "code",
   "execution_count": 200,
   "id": "e8c0314f-25af-4bae-920c-9bb44294dfc7",
   "metadata": {
    "tags": []
   },
   "outputs": [],
   "source": [
    "import pandas as pd\n",
    "import numpy as np\n",
    "import seaborn as sns\n",
    "import matplotlib.pyplot as plt"
   ]
  },
  {
   "cell_type": "code",
   "execution_count": 117,
   "id": "b89d5980-5482-4a82-8353-d4f5073fbcce",
   "metadata": {
    "tags": []
   },
   "outputs": [],
   "source": [
    "df=pd.read_csv(\"Ship_Performance_Dataset.csv\")"
   ]
  },
  {
   "cell_type": "code",
   "execution_count": 118,
   "id": "2baa28e9-e9d8-4907-b27c-0ee4922023e1",
   "metadata": {
    "tags": []
   },
   "outputs": [
    {
     "data": {
      "text/html": [
       "<div>\n",
       "<style scoped>\n",
       "    .dataframe tbody tr th:only-of-type {\n",
       "        vertical-align: middle;\n",
       "    }\n",
       "\n",
       "    .dataframe tbody tr th {\n",
       "        vertical-align: top;\n",
       "    }\n",
       "\n",
       "    .dataframe thead th {\n",
       "        text-align: right;\n",
       "    }\n",
       "</style>\n",
       "<table border=\"1\" class=\"dataframe\">\n",
       "  <thead>\n",
       "    <tr style=\"text-align: right;\">\n",
       "      <th></th>\n",
       "      <th>Date</th>\n",
       "      <th>Ship_Type</th>\n",
       "      <th>Route_Type</th>\n",
       "      <th>Engine_Type</th>\n",
       "      <th>Maintenance_Status</th>\n",
       "      <th>Speed_Over_Ground_knots</th>\n",
       "      <th>Engine_Power_kW</th>\n",
       "      <th>Distance_Traveled_nm</th>\n",
       "      <th>Draft_meters</th>\n",
       "      <th>Weather_Condition</th>\n",
       "      <th>Cargo_Weight_tons</th>\n",
       "      <th>Operational_Cost_USD</th>\n",
       "      <th>Revenue_per_Voyage_USD</th>\n",
       "      <th>Turnaround_Time_hours</th>\n",
       "      <th>Efficiency_nm_per_kWh</th>\n",
       "      <th>Seasonal_Impact_Score</th>\n",
       "      <th>Weekly_Voyage_Count</th>\n",
       "      <th>Average_Load_Percentage</th>\n",
       "    </tr>\n",
       "  </thead>\n",
       "  <tbody>\n",
       "    <tr>\n",
       "      <th>0</th>\n",
       "      <td>2023-06-04</td>\n",
       "      <td>Container Ship</td>\n",
       "      <td>None</td>\n",
       "      <td>Heavy Fuel Oil (HFO)</td>\n",
       "      <td>Critical</td>\n",
       "      <td>12.597558</td>\n",
       "      <td>2062.983982</td>\n",
       "      <td>1030.943616</td>\n",
       "      <td>14.132284</td>\n",
       "      <td>Moderate</td>\n",
       "      <td>1959.017882</td>\n",
       "      <td>483832.354540</td>\n",
       "      <td>292183.273104</td>\n",
       "      <td>25.867077</td>\n",
       "      <td>1.455179</td>\n",
       "      <td>1.415653</td>\n",
       "      <td>1</td>\n",
       "      <td>93.769249</td>\n",
       "    </tr>\n",
       "    <tr>\n",
       "      <th>1</th>\n",
       "      <td>2023-06-11</td>\n",
       "      <td>Fish Carrier</td>\n",
       "      <td>Short-haul</td>\n",
       "      <td>Steam Turbine</td>\n",
       "      <td>Good</td>\n",
       "      <td>10.387580</td>\n",
       "      <td>1796.057415</td>\n",
       "      <td>1060.486382</td>\n",
       "      <td>14.653083</td>\n",
       "      <td>Rough</td>\n",
       "      <td>162.394712</td>\n",
       "      <td>483388.000509</td>\n",
       "      <td>883765.787360</td>\n",
       "      <td>63.248196</td>\n",
       "      <td>0.290361</td>\n",
       "      <td>0.885648</td>\n",
       "      <td>6</td>\n",
       "      <td>93.895372</td>\n",
       "    </tr>\n",
       "    <tr>\n",
       "      <th>2</th>\n",
       "      <td>2023-06-18</td>\n",
       "      <td>Container Ship</td>\n",
       "      <td>Long-haul</td>\n",
       "      <td>Diesel</td>\n",
       "      <td>Fair</td>\n",
       "      <td>20.749747</td>\n",
       "      <td>1648.556685</td>\n",
       "      <td>658.874144</td>\n",
       "      <td>7.199261</td>\n",
       "      <td>Moderate</td>\n",
       "      <td>178.040917</td>\n",
       "      <td>448543.404044</td>\n",
       "      <td>394018.746904</td>\n",
       "      <td>49.418150</td>\n",
       "      <td>0.499595</td>\n",
       "      <td>1.405813</td>\n",
       "      <td>9</td>\n",
       "      <td>96.218244</td>\n",
       "    </tr>\n",
       "    <tr>\n",
       "      <th>3</th>\n",
       "      <td>2023-06-25</td>\n",
       "      <td>Bulk Carrier</td>\n",
       "      <td>Transoceanic</td>\n",
       "      <td>Steam Turbine</td>\n",
       "      <td>Fair</td>\n",
       "      <td>21.055102</td>\n",
       "      <td>915.261795</td>\n",
       "      <td>1126.822519</td>\n",
       "      <td>11.789063</td>\n",
       "      <td>Moderate</td>\n",
       "      <td>1737.385346</td>\n",
       "      <td>261349.605449</td>\n",
       "      <td>87551.375175</td>\n",
       "      <td>22.409110</td>\n",
       "      <td>0.702906</td>\n",
       "      <td>1.370704</td>\n",
       "      <td>1</td>\n",
       "      <td>66.193698</td>\n",
       "    </tr>\n",
       "    <tr>\n",
       "      <th>4</th>\n",
       "      <td>2023-07-02</td>\n",
       "      <td>Fish Carrier</td>\n",
       "      <td>Transoceanic</td>\n",
       "      <td>Diesel</td>\n",
       "      <td>Fair</td>\n",
       "      <td>13.742777</td>\n",
       "      <td>1089.721803</td>\n",
       "      <td>1445.281159</td>\n",
       "      <td>9.727833</td>\n",
       "      <td>Moderate</td>\n",
       "      <td>260.595103</td>\n",
       "      <td>287718.375160</td>\n",
       "      <td>676121.459632</td>\n",
       "      <td>64.158231</td>\n",
       "      <td>1.331343</td>\n",
       "      <td>0.583383</td>\n",
       "      <td>8</td>\n",
       "      <td>80.008581</td>\n",
       "    </tr>\n",
       "    <tr>\n",
       "      <th>...</th>\n",
       "      <td>...</td>\n",
       "      <td>...</td>\n",
       "      <td>...</td>\n",
       "      <td>...</td>\n",
       "      <td>...</td>\n",
       "      <td>...</td>\n",
       "      <td>...</td>\n",
       "      <td>...</td>\n",
       "      <td>...</td>\n",
       "      <td>...</td>\n",
       "      <td>...</td>\n",
       "      <td>...</td>\n",
       "      <td>...</td>\n",
       "      <td>...</td>\n",
       "      <td>...</td>\n",
       "      <td>...</td>\n",
       "      <td>...</td>\n",
       "      <td>...</td>\n",
       "    </tr>\n",
       "    <tr>\n",
       "      <th>2731</th>\n",
       "      <td>2024-06-02</td>\n",
       "      <td>Tanker</td>\n",
       "      <td>Short-haul</td>\n",
       "      <td>Heavy Fuel Oil (HFO)</td>\n",
       "      <td>Good</td>\n",
       "      <td>11.607997</td>\n",
       "      <td>2918.395972</td>\n",
       "      <td>239.990359</td>\n",
       "      <td>13.700906</td>\n",
       "      <td>Moderate</td>\n",
       "      <td>318.111891</td>\n",
       "      <td>237975.067292</td>\n",
       "      <td>731584.322921</td>\n",
       "      <td>47.152337</td>\n",
       "      <td>1.000265</td>\n",
       "      <td>1.284895</td>\n",
       "      <td>3</td>\n",
       "      <td>74.813114</td>\n",
       "    </tr>\n",
       "    <tr>\n",
       "      <th>2732</th>\n",
       "      <td>2024-06-09</td>\n",
       "      <td>Bulk Carrier</td>\n",
       "      <td>Short-haul</td>\n",
       "      <td>Heavy Fuel Oil (HFO)</td>\n",
       "      <td>Good</td>\n",
       "      <td>13.852798</td>\n",
       "      <td>2161.282358</td>\n",
       "      <td>831.355653</td>\n",
       "      <td>14.612775</td>\n",
       "      <td>None</td>\n",
       "      <td>218.309002</td>\n",
       "      <td>21029.021721</td>\n",
       "      <td>374365.370930</td>\n",
       "      <td>64.325916</td>\n",
       "      <td>0.653474</td>\n",
       "      <td>0.891085</td>\n",
       "      <td>2</td>\n",
       "      <td>84.595155</td>\n",
       "    </tr>\n",
       "    <tr>\n",
       "      <th>2733</th>\n",
       "      <td>2024-06-16</td>\n",
       "      <td>Container Ship</td>\n",
       "      <td>Short-haul</td>\n",
       "      <td>Steam Turbine</td>\n",
       "      <td>Critical</td>\n",
       "      <td>16.813713</td>\n",
       "      <td>1343.608006</td>\n",
       "      <td>1376.460622</td>\n",
       "      <td>9.306518</td>\n",
       "      <td>None</td>\n",
       "      <td>1630.646419</td>\n",
       "      <td>78883.312529</td>\n",
       "      <td>234120.365052</td>\n",
       "      <td>53.551090</td>\n",
       "      <td>0.594169</td>\n",
       "      <td>0.725404</td>\n",
       "      <td>6</td>\n",
       "      <td>80.975269</td>\n",
       "    </tr>\n",
       "    <tr>\n",
       "      <th>2734</th>\n",
       "      <td>2024-06-23</td>\n",
       "      <td>Tanker</td>\n",
       "      <td>Transoceanic</td>\n",
       "      <td>Heavy Fuel Oil (HFO)</td>\n",
       "      <td>Good</td>\n",
       "      <td>23.132643</td>\n",
       "      <td>2028.143572</td>\n",
       "      <td>619.236340</td>\n",
       "      <td>6.623856</td>\n",
       "      <td>Moderate</td>\n",
       "      <td>153.441965</td>\n",
       "      <td>25241.550250</td>\n",
       "      <td>799713.737211</td>\n",
       "      <td>14.335517</td>\n",
       "      <td>0.895670</td>\n",
       "      <td>0.902960</td>\n",
       "      <td>2</td>\n",
       "      <td>92.853622</td>\n",
       "    </tr>\n",
       "    <tr>\n",
       "      <th>2735</th>\n",
       "      <td>2024-06-30</td>\n",
       "      <td>Fish Carrier</td>\n",
       "      <td>Coastal</td>\n",
       "      <td>Steam Turbine</td>\n",
       "      <td>Fair</td>\n",
       "      <td>11.527987</td>\n",
       "      <td>2928.588108</td>\n",
       "      <td>1930.235779</td>\n",
       "      <td>14.187652</td>\n",
       "      <td>Moderate</td>\n",
       "      <td>712.997894</td>\n",
       "      <td>55163.241668</td>\n",
       "      <td>382208.021405</td>\n",
       "      <td>63.886256</td>\n",
       "      <td>0.825349</td>\n",
       "      <td>1.289204</td>\n",
       "      <td>2</td>\n",
       "      <td>66.190613</td>\n",
       "    </tr>\n",
       "  </tbody>\n",
       "</table>\n",
       "<p>2736 rows × 18 columns</p>\n",
       "</div>"
      ],
      "text/plain": [
       "            Date       Ship_Type    Route_Type           Engine_Type  \\\n",
       "0     2023-06-04  Container Ship          None  Heavy Fuel Oil (HFO)   \n",
       "1     2023-06-11    Fish Carrier    Short-haul         Steam Turbine   \n",
       "2     2023-06-18  Container Ship     Long-haul                Diesel   \n",
       "3     2023-06-25    Bulk Carrier  Transoceanic         Steam Turbine   \n",
       "4     2023-07-02    Fish Carrier  Transoceanic                Diesel   \n",
       "...          ...             ...           ...                   ...   \n",
       "2731  2024-06-02          Tanker    Short-haul  Heavy Fuel Oil (HFO)   \n",
       "2732  2024-06-09    Bulk Carrier    Short-haul  Heavy Fuel Oil (HFO)   \n",
       "2733  2024-06-16  Container Ship    Short-haul         Steam Turbine   \n",
       "2734  2024-06-23          Tanker  Transoceanic  Heavy Fuel Oil (HFO)   \n",
       "2735  2024-06-30    Fish Carrier       Coastal         Steam Turbine   \n",
       "\n",
       "     Maintenance_Status  Speed_Over_Ground_knots  Engine_Power_kW  \\\n",
       "0              Critical                12.597558      2062.983982   \n",
       "1                  Good                10.387580      1796.057415   \n",
       "2                  Fair                20.749747      1648.556685   \n",
       "3                  Fair                21.055102       915.261795   \n",
       "4                  Fair                13.742777      1089.721803   \n",
       "...                 ...                      ...              ...   \n",
       "2731               Good                11.607997      2918.395972   \n",
       "2732               Good                13.852798      2161.282358   \n",
       "2733           Critical                16.813713      1343.608006   \n",
       "2734               Good                23.132643      2028.143572   \n",
       "2735               Fair                11.527987      2928.588108   \n",
       "\n",
       "      Distance_Traveled_nm  Draft_meters Weather_Condition  Cargo_Weight_tons  \\\n",
       "0              1030.943616     14.132284          Moderate        1959.017882   \n",
       "1              1060.486382     14.653083             Rough         162.394712   \n",
       "2               658.874144      7.199261          Moderate         178.040917   \n",
       "3              1126.822519     11.789063          Moderate        1737.385346   \n",
       "4              1445.281159      9.727833          Moderate         260.595103   \n",
       "...                    ...           ...               ...                ...   \n",
       "2731            239.990359     13.700906          Moderate         318.111891   \n",
       "2732            831.355653     14.612775              None         218.309002   \n",
       "2733           1376.460622      9.306518              None        1630.646419   \n",
       "2734            619.236340      6.623856          Moderate         153.441965   \n",
       "2735           1930.235779     14.187652          Moderate         712.997894   \n",
       "\n",
       "      Operational_Cost_USD  Revenue_per_Voyage_USD  Turnaround_Time_hours  \\\n",
       "0            483832.354540           292183.273104              25.867077   \n",
       "1            483388.000509           883765.787360              63.248196   \n",
       "2            448543.404044           394018.746904              49.418150   \n",
       "3            261349.605449            87551.375175              22.409110   \n",
       "4            287718.375160           676121.459632              64.158231   \n",
       "...                    ...                     ...                    ...   \n",
       "2731         237975.067292           731584.322921              47.152337   \n",
       "2732          21029.021721           374365.370930              64.325916   \n",
       "2733          78883.312529           234120.365052              53.551090   \n",
       "2734          25241.550250           799713.737211              14.335517   \n",
       "2735          55163.241668           382208.021405              63.886256   \n",
       "\n",
       "      Efficiency_nm_per_kWh  Seasonal_Impact_Score  Weekly_Voyage_Count  \\\n",
       "0                  1.455179               1.415653                    1   \n",
       "1                  0.290361               0.885648                    6   \n",
       "2                  0.499595               1.405813                    9   \n",
       "3                  0.702906               1.370704                    1   \n",
       "4                  1.331343               0.583383                    8   \n",
       "...                     ...                    ...                  ...   \n",
       "2731               1.000265               1.284895                    3   \n",
       "2732               0.653474               0.891085                    2   \n",
       "2733               0.594169               0.725404                    6   \n",
       "2734               0.895670               0.902960                    2   \n",
       "2735               0.825349               1.289204                    2   \n",
       "\n",
       "      Average_Load_Percentage  \n",
       "0                   93.769249  \n",
       "1                   93.895372  \n",
       "2                   96.218244  \n",
       "3                   66.193698  \n",
       "4                   80.008581  \n",
       "...                       ...  \n",
       "2731                74.813114  \n",
       "2732                84.595155  \n",
       "2733                80.975269  \n",
       "2734                92.853622  \n",
       "2735                66.190613  \n",
       "\n",
       "[2736 rows x 18 columns]"
      ]
     },
     "execution_count": 118,
     "metadata": {},
     "output_type": "execute_result"
    }
   ],
   "source": [
    "df"
   ]
  },
  {
   "cell_type": "code",
   "execution_count": 119,
   "id": "07e9fd3d-1c20-4307-96b0-ecf9185c9a3f",
   "metadata": {
    "tags": []
   },
   "outputs": [],
   "source": [
    "df['Route_Type']=df['Route_Type'].replace({'None' : np.nan})"
   ]
  },
  {
   "cell_type": "code",
   "execution_count": 120,
   "id": "03635dec-c758-4662-be6a-798d22c92033",
   "metadata": {
    "tags": []
   },
   "outputs": [
    {
     "data": {
      "text/plain": [
       "Date                         0\n",
       "Ship_Type                    0\n",
       "Route_Type                 136\n",
       "Engine_Type                  0\n",
       "Maintenance_Status           0\n",
       "Speed_Over_Ground_knots      0\n",
       "Engine_Power_kW              0\n",
       "Distance_Traveled_nm         0\n",
       "Draft_meters                 0\n",
       "Weather_Condition            0\n",
       "Cargo_Weight_tons            0\n",
       "Operational_Cost_USD         0\n",
       "Revenue_per_Voyage_USD       0\n",
       "Turnaround_Time_hours        0\n",
       "Efficiency_nm_per_kWh        0\n",
       "Seasonal_Impact_Score        0\n",
       "Weekly_Voyage_Count          0\n",
       "Average_Load_Percentage      0\n",
       "dtype: int64"
      ]
     },
     "execution_count": 120,
     "metadata": {},
     "output_type": "execute_result"
    }
   ],
   "source": [
    "df.isnull().sum()"
   ]
  },
  {
   "cell_type": "code",
   "execution_count": 121,
   "id": "c1ee7a7a-e2f3-4e10-9131-778077621658",
   "metadata": {
    "tags": []
   },
   "outputs": [
    {
     "name": "stdout",
     "output_type": "stream",
     "text": [
      "[nan 'Short-haul' 'Long-haul' 'Transoceanic' 'Coastal']\n",
      "[nan 'Short-haul' 'Long-haul' 'Transoceanic' 'Coastal']\n"
     ]
    }
   ],
   "source": [
    "print(df['Route_Type'].unique())\n",
    "print(df['Route_Type'].unique())"
   ]
  },
  {
   "cell_type": "code",
   "execution_count": 122,
   "id": "4e3a98ac-cc21-4ff7-911f-eb07b2d2ff08",
   "metadata": {
    "tags": []
   },
   "outputs": [],
   "source": [
    "columns=df.columns"
   ]
  },
  {
   "cell_type": "code",
   "execution_count": 123,
   "id": "6f65cfba-5f25-4403-9b1a-65479a8e02d2",
   "metadata": {
    "tags": []
   },
   "outputs": [
    {
     "data": {
      "text/plain": [
       "Index(['Date', 'Ship_Type', 'Route_Type', 'Engine_Type', 'Maintenance_Status',\n",
       "       'Speed_Over_Ground_knots', 'Engine_Power_kW', 'Distance_Traveled_nm',\n",
       "       'Draft_meters', 'Weather_Condition', 'Cargo_Weight_tons',\n",
       "       'Operational_Cost_USD', 'Revenue_per_Voyage_USD',\n",
       "       'Turnaround_Time_hours', 'Efficiency_nm_per_kWh',\n",
       "       'Seasonal_Impact_Score', 'Weekly_Voyage_Count',\n",
       "       'Average_Load_Percentage'],\n",
       "      dtype='object')"
      ]
     },
     "execution_count": 123,
     "metadata": {},
     "output_type": "execute_result"
    }
   ],
   "source": [
    "columns"
   ]
  },
  {
   "cell_type": "code",
   "execution_count": 124,
   "id": "163bac75-8ea6-475c-9173-844c49d5a3e9",
   "metadata": {
    "tags": []
   },
   "outputs": [
    {
     "name": "stdout",
     "output_type": "stream",
     "text": [
      "<class 'pandas.core.frame.DataFrame'>\n",
      "RangeIndex: 2736 entries, 0 to 2735\n",
      "Data columns (total 18 columns):\n",
      " #   Column                   Non-Null Count  Dtype  \n",
      "---  ------                   --------------  -----  \n",
      " 0   Date                     2736 non-null   object \n",
      " 1   Ship_Type                2736 non-null   object \n",
      " 2   Route_Type               2600 non-null   object \n",
      " 3   Engine_Type              2736 non-null   object \n",
      " 4   Maintenance_Status       2736 non-null   object \n",
      " 5   Speed_Over_Ground_knots  2736 non-null   float64\n",
      " 6   Engine_Power_kW          2736 non-null   float64\n",
      " 7   Distance_Traveled_nm     2736 non-null   float64\n",
      " 8   Draft_meters             2736 non-null   float64\n",
      " 9   Weather_Condition        2736 non-null   object \n",
      " 10  Cargo_Weight_tons        2736 non-null   float64\n",
      " 11  Operational_Cost_USD     2736 non-null   float64\n",
      " 12  Revenue_per_Voyage_USD   2736 non-null   float64\n",
      " 13  Turnaround_Time_hours    2736 non-null   float64\n",
      " 14  Efficiency_nm_per_kWh    2736 non-null   float64\n",
      " 15  Seasonal_Impact_Score    2736 non-null   float64\n",
      " 16  Weekly_Voyage_Count      2736 non-null   int64  \n",
      " 17  Average_Load_Percentage  2736 non-null   float64\n",
      "dtypes: float64(11), int64(1), object(6)\n",
      "memory usage: 384.9+ KB\n"
     ]
    }
   ],
   "source": [
    "df.info()"
   ]
  },
  {
   "cell_type": "code",
   "execution_count": 125,
   "id": "b5786d96-5d5b-4d7b-9364-8937c0533a17",
   "metadata": {
    "tags": []
   },
   "outputs": [],
   "source": [
    "df['Date']=pd.to_datetime(df['Date'])"
   ]
  },
  {
   "cell_type": "code",
   "execution_count": 126,
   "id": "01e39704-37e4-49c4-a0a2-e54c410d8852",
   "metadata": {
    "tags": []
   },
   "outputs": [],
   "source": [
    "def get_unique_values(df):\n",
    "    columns=df.columns\n",
    "    for column in columns:\n",
    "        if df[column].dtypes == 'object':\n",
    "            print(column  , df[column].unique())"
   ]
  },
  {
   "cell_type": "code",
   "execution_count": 127,
   "id": "b9fcb546-4fc1-43cb-8204-1b65fdcb2211",
   "metadata": {
    "tags": []
   },
   "outputs": [
    {
     "name": "stdout",
     "output_type": "stream",
     "text": [
      "Ship_Type ['Container Ship' 'Fish Carrier' 'Bulk Carrier' 'None' 'Tanker']\n",
      "Route_Type [nan 'Short-haul' 'Long-haul' 'Transoceanic' 'Coastal']\n",
      "Engine_Type ['Heavy Fuel Oil (HFO)' 'Steam Turbine' 'Diesel' 'None']\n",
      "Maintenance_Status ['Critical' 'Good' 'Fair' 'None']\n",
      "Weather_Condition ['Moderate' 'Rough' 'Calm' 'None']\n"
     ]
    }
   ],
   "source": [
    "get_unique_values(df)"
   ]
  },
  {
   "cell_type": "code",
   "execution_count": 128,
   "id": "957e50c0-c675-492e-bd71-2b830394ffcd",
   "metadata": {
    "tags": []
   },
   "outputs": [],
   "source": [
    "def replace_None(df):\n",
    "    columns=df.columns\n",
    "    for column in columns:\n",
    "        if df[column].dtypes == 'object':\n",
    "            df[column] = df[column].replace({'None' : np.nan})"
   ]
  },
  {
   "cell_type": "code",
   "execution_count": 129,
   "id": "915c7114-3fe2-44de-aabd-58cb04eab60e",
   "metadata": {
    "tags": []
   },
   "outputs": [],
   "source": [
    "replace_None(df)"
   ]
  },
  {
   "cell_type": "code",
   "execution_count": 130,
   "id": "5d8768df-2a65-477b-86b2-be4cd2ef433b",
   "metadata": {
    "tags": []
   },
   "outputs": [
    {
     "data": {
      "text/plain": [
       "Date                         0\n",
       "Ship_Type                  136\n",
       "Route_Type                 136\n",
       "Engine_Type                136\n",
       "Maintenance_Status         136\n",
       "Speed_Over_Ground_knots      0\n",
       "Engine_Power_kW              0\n",
       "Distance_Traveled_nm         0\n",
       "Draft_meters                 0\n",
       "Weather_Condition          136\n",
       "Cargo_Weight_tons            0\n",
       "Operational_Cost_USD         0\n",
       "Revenue_per_Voyage_USD       0\n",
       "Turnaround_Time_hours        0\n",
       "Efficiency_nm_per_kWh        0\n",
       "Seasonal_Impact_Score        0\n",
       "Weekly_Voyage_Count          0\n",
       "Average_Load_Percentage      0\n",
       "dtype: int64"
      ]
     },
     "execution_count": 130,
     "metadata": {},
     "output_type": "execute_result"
    }
   ],
   "source": [
    "df.isnull().sum()"
   ]
  },
  {
   "cell_type": "code",
   "execution_count": 131,
   "id": "48a9bef9-68ab-462c-87d3-abcb3ff0b899",
   "metadata": {
    "tags": []
   },
   "outputs": [
    {
     "data": {
      "text/plain": [
       "Date                       datetime64[ns]\n",
       "Ship_Type                          object\n",
       "Route_Type                         object\n",
       "Engine_Type                        object\n",
       "Maintenance_Status                 object\n",
       "Speed_Over_Ground_knots           float64\n",
       "Engine_Power_kW                   float64\n",
       "Distance_Traveled_nm              float64\n",
       "Draft_meters                      float64\n",
       "Weather_Condition                  object\n",
       "Cargo_Weight_tons                 float64\n",
       "Operational_Cost_USD              float64\n",
       "Revenue_per_Voyage_USD            float64\n",
       "Turnaround_Time_hours             float64\n",
       "Efficiency_nm_per_kWh             float64\n",
       "Seasonal_Impact_Score             float64\n",
       "Weekly_Voyage_Count                 int64\n",
       "Average_Load_Percentage           float64\n",
       "dtype: object"
      ]
     },
     "execution_count": 131,
     "metadata": {},
     "output_type": "execute_result"
    }
   ],
   "source": [
    "df.dtypes"
   ]
  },
  {
   "cell_type": "code",
   "execution_count": 132,
   "id": "c300d380-28c4-4b9d-adab-38b78553bd85",
   "metadata": {
    "tags": []
   },
   "outputs": [
    {
     "name": "stdout",
     "output_type": "stream",
     "text": [
      "No None found\n",
      "No None found\n",
      "No None found\n",
      "No None found\n",
      "No None found\n",
      "No None found\n",
      "No None found\n",
      "No None found\n",
      "No None found\n",
      "No None found\n",
      "No None found\n"
     ]
    }
   ],
   "source": [
    "def get_numeric_cols(df):\n",
    "    columns=df.columns\n",
    "    for column in columns:\n",
    "        if df[column].dtypes == \"float64\":\n",
    "            if None in df[column]:\n",
    "                print(df[column])\n",
    "            else:\n",
    "                print(\"No None found\")\n",
    "get_numeric_cols(df)"
   ]
  },
  {
   "cell_type": "markdown",
   "id": "67072fb8-b399-4c80-8ff9-b8ddf1e14281",
   "metadata": {
    "tags": []
   },
   "source": [
    "#### ***Mode Imputation***"
   ]
  },
  {
   "cell_type": "code",
   "execution_count": 133,
   "id": "391b93e2-b96c-4751-8e3b-e0f0389b20b8",
   "metadata": {
    "tags": []
   },
   "outputs": [],
   "source": [
    "null_df=df.isnull().sum()"
   ]
  },
  {
   "cell_type": "code",
   "execution_count": 134,
   "id": "7764ce78-e263-49d7-ac9d-557e6d0eb91e",
   "metadata": {
    "tags": []
   },
   "outputs": [],
   "source": [
    "null_df=pd.DataFrame(data=null_df).reset_index()"
   ]
  },
  {
   "cell_type": "code",
   "execution_count": 135,
   "id": "b2b02bf1-3c79-4637-9932-0bb50612709c",
   "metadata": {
    "tags": []
   },
   "outputs": [],
   "source": [
    "null_df.columns=[\n",
    "    'index',\n",
    "    'null_count'\n",
    "]"
   ]
  },
  {
   "cell_type": "code",
   "execution_count": 136,
   "id": "053ed580-3d49-423b-bfd8-4b2ff5f24e98",
   "metadata": {
    "tags": []
   },
   "outputs": [],
   "source": [
    "null_df=null_df[null_df['null_count']!=0]"
   ]
  },
  {
   "cell_type": "code",
   "execution_count": 137,
   "id": "524e7150-a1d3-4e87-b539-a31dbbf6ab8f",
   "metadata": {
    "tags": []
   },
   "outputs": [
    {
     "data": {
      "text/html": [
       "<div>\n",
       "<style scoped>\n",
       "    .dataframe tbody tr th:only-of-type {\n",
       "        vertical-align: middle;\n",
       "    }\n",
       "\n",
       "    .dataframe tbody tr th {\n",
       "        vertical-align: top;\n",
       "    }\n",
       "\n",
       "    .dataframe thead th {\n",
       "        text-align: right;\n",
       "    }\n",
       "</style>\n",
       "<table border=\"1\" class=\"dataframe\">\n",
       "  <thead>\n",
       "    <tr style=\"text-align: right;\">\n",
       "      <th></th>\n",
       "      <th>index</th>\n",
       "      <th>null_count</th>\n",
       "    </tr>\n",
       "  </thead>\n",
       "  <tbody>\n",
       "    <tr>\n",
       "      <th>1</th>\n",
       "      <td>Ship_Type</td>\n",
       "      <td>136</td>\n",
       "    </tr>\n",
       "    <tr>\n",
       "      <th>2</th>\n",
       "      <td>Route_Type</td>\n",
       "      <td>136</td>\n",
       "    </tr>\n",
       "    <tr>\n",
       "      <th>3</th>\n",
       "      <td>Engine_Type</td>\n",
       "      <td>136</td>\n",
       "    </tr>\n",
       "    <tr>\n",
       "      <th>4</th>\n",
       "      <td>Maintenance_Status</td>\n",
       "      <td>136</td>\n",
       "    </tr>\n",
       "    <tr>\n",
       "      <th>9</th>\n",
       "      <td>Weather_Condition</td>\n",
       "      <td>136</td>\n",
       "    </tr>\n",
       "  </tbody>\n",
       "</table>\n",
       "</div>"
      ],
      "text/plain": [
       "                index  null_count\n",
       "1           Ship_Type         136\n",
       "2          Route_Type         136\n",
       "3         Engine_Type         136\n",
       "4  Maintenance_Status         136\n",
       "9   Weather_Condition         136"
      ]
     },
     "execution_count": 137,
     "metadata": {},
     "output_type": "execute_result"
    }
   ],
   "source": [
    "null_df"
   ]
  },
  {
   "cell_type": "markdown",
   "id": "ef7bde25-f1c6-49eb-b4a0-9b492606777d",
   "metadata": {},
   "source": [
    "#### **Ship_Type -- Mode Imputatio**"
   ]
  },
  {
   "cell_type": "code",
   "execution_count": 138,
   "id": "2dd6848a-de47-4ce5-8cc3-5c477f3df9c7",
   "metadata": {
    "tags": []
   },
   "outputs": [
    {
     "data": {
      "text/plain": [
       "array(['Container Ship', 'Fish Carrier', 'Bulk Carrier', nan, 'Tanker'],\n",
       "      dtype=object)"
      ]
     },
     "execution_count": 138,
     "metadata": {},
     "output_type": "execute_result"
    }
   ],
   "source": [
    "df['Ship_Type'].unique()"
   ]
  },
  {
   "cell_type": "code",
   "execution_count": 139,
   "id": "a76e705b-1148-4a8b-ae5a-638b652515c6",
   "metadata": {
    "tags": []
   },
   "outputs": [
    {
     "data": {
      "text/plain": [
       "0    Bulk Carrier\n",
       "Name: Ship_Type, dtype: object"
      ]
     },
     "execution_count": 139,
     "metadata": {},
     "output_type": "execute_result"
    }
   ],
   "source": [
    "df[df['Ship_Type'].notna()]['Ship_Type'].mode()"
   ]
  },
  {
   "cell_type": "code",
   "execution_count": 140,
   "id": "f1fa365d-cc0a-4dee-a5bd-487bb525c972",
   "metadata": {
    "tags": []
   },
   "outputs": [],
   "source": [
    "df['Ship_Type'].fillna('Bulk Carrier' , inplace=True)"
   ]
  },
  {
   "cell_type": "code",
   "execution_count": 141,
   "id": "c08deb9e-8b8e-4ed4-9929-8dbaceab9a10",
   "metadata": {
    "tags": []
   },
   "outputs": [
    {
     "data": {
      "text/plain": [
       "array(['Container Ship', 'Fish Carrier', 'Bulk Carrier', 'Tanker'],\n",
       "      dtype=object)"
      ]
     },
     "execution_count": 141,
     "metadata": {},
     "output_type": "execute_result"
    }
   ],
   "source": [
    "df['Ship_Type'].unique()"
   ]
  },
  {
   "cell_type": "markdown",
   "id": "78bf99e3-7a21-4aac-a738-06da4591a974",
   "metadata": {},
   "source": [
    "#### **Route_Type -- Random Sampling**"
   ]
  },
  {
   "cell_type": "code",
   "execution_count": 142,
   "id": "10f670b9-f9a5-443b-9a8a-466ce2917e11",
   "metadata": {
    "tags": []
   },
   "outputs": [
    {
     "data": {
      "text/plain": [
       "80    Short-haul\n",
       "Name: Route_Type, dtype: object"
      ]
     },
     "execution_count": 142,
     "metadata": {},
     "output_type": "execute_result"
    }
   ],
   "source": [
    "df[df['Route_Type'].notna()]['Route_Type'].sample(n=1)"
   ]
  },
  {
   "cell_type": "code",
   "execution_count": 143,
   "id": "e3a8eeb5-f996-4cdd-82ac-58ee5ba68dfd",
   "metadata": {
    "tags": []
   },
   "outputs": [],
   "source": [
    "df['Route_Type'].fillna('Coastal' , inplace=True)"
   ]
  },
  {
   "cell_type": "code",
   "execution_count": 144,
   "id": "f209f54e-582d-4dcd-a191-ef141243fa55",
   "metadata": {
    "tags": []
   },
   "outputs": [
    {
     "data": {
      "text/plain": [
       "array(['Coastal', 'Short-haul', 'Long-haul', 'Transoceanic'], dtype=object)"
      ]
     },
     "execution_count": 144,
     "metadata": {},
     "output_type": "execute_result"
    }
   ],
   "source": [
    "df['Route_Type'].unique()"
   ]
  },
  {
   "cell_type": "markdown",
   "id": "f1309c7b-0a92-4f19-989c-e72794e2bfe2",
   "metadata": {},
   "source": [
    "### **Engine_Type -- ffill : filling nan with last known value** "
   ]
  },
  {
   "cell_type": "code",
   "execution_count": 145,
   "id": "59ebc241-8dcf-4e00-b70e-1dec0aa11a4e",
   "metadata": {
    "tags": []
   },
   "outputs": [
    {
     "data": {
      "text/plain": [
       "array(['Heavy Fuel Oil (HFO)', 'Steam Turbine', 'Diesel', nan],\n",
       "      dtype=object)"
      ]
     },
     "execution_count": 145,
     "metadata": {},
     "output_type": "execute_result"
    }
   ],
   "source": [
    "df['Engine_Type'].unique()"
   ]
  },
  {
   "cell_type": "code",
   "execution_count": 146,
   "id": "7583db49-6809-447e-8970-1ab2729788ef",
   "metadata": {},
   "outputs": [],
   "source": [
    "df['Engine_Type']=df['Engine_Type'].fillna(method='ffill')"
   ]
  },
  {
   "cell_type": "code",
   "execution_count": 115,
   "id": "38e0e978-ddfc-4214-a1ae-9cd113ea1e89",
   "metadata": {
    "tags": []
   },
   "outputs": [
    {
     "data": {
      "text/plain": [
       "0"
      ]
     },
     "execution_count": 115,
     "metadata": {},
     "output_type": "execute_result"
    }
   ],
   "source": [
    "df['Engine_Type'].isnull().sum()"
   ]
  },
  {
   "cell_type": "markdown",
   "id": "be7785b0-4f5b-41fd-ae41-3ccfc39cb59d",
   "metadata": {},
   "source": [
    "### **Maintenance_Status - bfill:filling nan with the next known value** "
   ]
  },
  {
   "cell_type": "code",
   "execution_count": 147,
   "id": "8554b791-5d95-41ab-aa05-c03a1a840555",
   "metadata": {
    "tags": []
   },
   "outputs": [
    {
     "data": {
      "text/plain": [
       "array(['Critical', 'Good', 'Fair', nan], dtype=object)"
      ]
     },
     "execution_count": 147,
     "metadata": {},
     "output_type": "execute_result"
    }
   ],
   "source": [
    "df['Maintenance_Status'].unique()"
   ]
  },
  {
   "cell_type": "code",
   "execution_count": 150,
   "id": "627a3fd2-971f-4435-91bd-81b4ec1270b9",
   "metadata": {
    "tags": []
   },
   "outputs": [],
   "source": [
    "df['Maintenance_Status']=df['Maintenance_Status'].fillna(method='bfill')"
   ]
  },
  {
   "cell_type": "code",
   "execution_count": 151,
   "id": "70be45aa-5787-48de-b498-7bdf33cfe7a9",
   "metadata": {
    "tags": []
   },
   "outputs": [
    {
     "data": {
      "text/plain": [
       "0"
      ]
     },
     "execution_count": 151,
     "metadata": {},
     "output_type": "execute_result"
    }
   ],
   "source": [
    "df['Maintenance_Status'].isnull().sum()"
   ]
  },
  {
   "cell_type": "markdown",
   "id": "fe23b7b5-2661-40c8-8eb7-0500ddd30c8a",
   "metadata": {},
   "source": [
    "### **Weather_Condition -- Automation**"
   ]
  },
  {
   "cell_type": "code",
   "execution_count": 182,
   "id": "b5832097-81f6-494a-8ed6-bdd496991332",
   "metadata": {
    "tags": []
   },
   "outputs": [
    {
     "name": "stdout",
     "output_type": "stream",
     "text": [
      "['Weather_Condition']\n"
     ]
    }
   ],
   "source": [
    "temp=df.isnull().sum()\n",
    "temp=pd.DataFrame(temp).reset_index()\n",
    "null_index=list(temp[temp[0]!=0]['index'])\n",
    "print(null_index)"
   ]
  },
  {
   "cell_type": "code",
   "execution_count": 186,
   "id": "9751b5f3-cf4a-48dd-a91b-6e63bea3226d",
   "metadata": {
    "tags": []
   },
   "outputs": [],
   "source": [
    "def fillna_auto(df):\n",
    "    temp=df.isnull().sum()\n",
    "    temp=pd.DataFrame(temp).reset_index()\n",
    "    null_index=list(temp[temp[0]!=0]['index'])\n",
    "    \n",
    "    for col in null_index:\n",
    "        column_mode=df[df[col].notna()][col].mode()\n",
    "        column_mode=list(column_mode)[0]\n",
    "        column_mode\n",
    "        df[col]=df[col].fillna(column_mode)"
   ]
  },
  {
   "cell_type": "code",
   "execution_count": 187,
   "id": "49245185-fae9-43a9-a011-066644a7f998",
   "metadata": {
    "tags": []
   },
   "outputs": [],
   "source": [
    "fillna_auto(df)"
   ]
  },
  {
   "cell_type": "code",
   "execution_count": 190,
   "id": "b6ba3da2-9a3b-431a-acc0-a698b29ed7c2",
   "metadata": {
    "tags": []
   },
   "outputs": [
    {
     "data": {
      "text/plain": [
       "array(['Moderate', 'Rough', 'Calm'], dtype=object)"
      ]
     },
     "execution_count": 190,
     "metadata": {},
     "output_type": "execute_result"
    }
   ],
   "source": [
    "df['Weather_Condition'].unique()"
   ]
  },
  {
   "cell_type": "markdown",
   "id": "16a48af2-2991-4ac8-8422-275ae6f81085",
   "metadata": {},
   "source": [
    "### **All the nan values filled up**"
   ]
  },
  {
   "cell_type": "code",
   "execution_count": 191,
   "id": "494982f8-5192-414b-b20d-97cd67a454ec",
   "metadata": {
    "tags": []
   },
   "outputs": [
    {
     "data": {
      "text/plain": [
       "Date                       0\n",
       "Ship_Type                  0\n",
       "Route_Type                 0\n",
       "Engine_Type                0\n",
       "Maintenance_Status         0\n",
       "Speed_Over_Ground_knots    0\n",
       "Engine_Power_kW            0\n",
       "Distance_Traveled_nm       0\n",
       "Draft_meters               0\n",
       "Weather_Condition          0\n",
       "Cargo_Weight_tons          0\n",
       "Operational_Cost_USD       0\n",
       "Revenue_per_Voyage_USD     0\n",
       "Turnaround_Time_hours      0\n",
       "Efficiency_nm_per_kWh      0\n",
       "Seasonal_Impact_Score      0\n",
       "Weekly_Voyage_Count        0\n",
       "Average_Load_Percentage    0\n",
       "dtype: int64"
      ]
     },
     "execution_count": 191,
     "metadata": {},
     "output_type": "execute_result"
    }
   ],
   "source": [
    "df.isnull().sum()"
   ]
  },
  {
   "cell_type": "markdown",
   "id": "a099c64a-1538-43d5-a8f4-a7157e22f24e",
   "metadata": {},
   "source": [
    "## **Mean , Median imputation technique**"
   ]
  },
  {
   "cell_type": "code",
   "execution_count": 309,
   "id": "e0e591ac-bdff-43c3-8f01-3eacb072a568",
   "metadata": {
    "tags": []
   },
   "outputs": [],
   "source": [
    "df=pd.read_csv(\"laptopData.csv\")"
   ]
  },
  {
   "cell_type": "code",
   "execution_count": 310,
   "id": "06e0a5fb-9317-42c9-a185-1626e80f71d9",
   "metadata": {
    "tags": []
   },
   "outputs": [
    {
     "data": {
      "text/html": [
       "<div>\n",
       "<style scoped>\n",
       "    .dataframe tbody tr th:only-of-type {\n",
       "        vertical-align: middle;\n",
       "    }\n",
       "\n",
       "    .dataframe tbody tr th {\n",
       "        vertical-align: top;\n",
       "    }\n",
       "\n",
       "    .dataframe thead th {\n",
       "        text-align: right;\n",
       "    }\n",
       "</style>\n",
       "<table border=\"1\" class=\"dataframe\">\n",
       "  <thead>\n",
       "    <tr style=\"text-align: right;\">\n",
       "      <th></th>\n",
       "      <th>Unnamed: 0</th>\n",
       "      <th>Company</th>\n",
       "      <th>TypeName</th>\n",
       "      <th>Inches</th>\n",
       "      <th>ScreenResolution</th>\n",
       "      <th>Cpu</th>\n",
       "      <th>Ram</th>\n",
       "      <th>Memory</th>\n",
       "      <th>Gpu</th>\n",
       "      <th>OpSys</th>\n",
       "      <th>Weight</th>\n",
       "      <th>Price</th>\n",
       "    </tr>\n",
       "  </thead>\n",
       "  <tbody>\n",
       "    <tr>\n",
       "      <th>0</th>\n",
       "      <td>0.0</td>\n",
       "      <td>Apple</td>\n",
       "      <td>Ultrabook</td>\n",
       "      <td>13.3</td>\n",
       "      <td>IPS Panel Retina Display 2560x1600</td>\n",
       "      <td>Intel Core i5 2.3GHz</td>\n",
       "      <td>8GB</td>\n",
       "      <td>128GB SSD</td>\n",
       "      <td>Intel Iris Plus Graphics 640</td>\n",
       "      <td>macOS</td>\n",
       "      <td>1.37kg</td>\n",
       "      <td>71378.6832</td>\n",
       "    </tr>\n",
       "    <tr>\n",
       "      <th>1</th>\n",
       "      <td>1.0</td>\n",
       "      <td>Apple</td>\n",
       "      <td>Ultrabook</td>\n",
       "      <td>13.3</td>\n",
       "      <td>1440x900</td>\n",
       "      <td>Intel Core i5 1.8GHz</td>\n",
       "      <td>8GB</td>\n",
       "      <td>128GB Flash Storage</td>\n",
       "      <td>Intel HD Graphics 6000</td>\n",
       "      <td>macOS</td>\n",
       "      <td>1.34kg</td>\n",
       "      <td>47895.5232</td>\n",
       "    </tr>\n",
       "    <tr>\n",
       "      <th>2</th>\n",
       "      <td>2.0</td>\n",
       "      <td>HP</td>\n",
       "      <td>Notebook</td>\n",
       "      <td>15.6</td>\n",
       "      <td>Full HD 1920x1080</td>\n",
       "      <td>Intel Core i5 7200U 2.5GHz</td>\n",
       "      <td>8GB</td>\n",
       "      <td>256GB SSD</td>\n",
       "      <td>Intel HD Graphics 620</td>\n",
       "      <td>No OS</td>\n",
       "      <td>1.86kg</td>\n",
       "      <td>30636.0000</td>\n",
       "    </tr>\n",
       "    <tr>\n",
       "      <th>3</th>\n",
       "      <td>3.0</td>\n",
       "      <td>Apple</td>\n",
       "      <td>Ultrabook</td>\n",
       "      <td>15.4</td>\n",
       "      <td>IPS Panel Retina Display 2880x1800</td>\n",
       "      <td>Intel Core i7 2.7GHz</td>\n",
       "      <td>16GB</td>\n",
       "      <td>512GB SSD</td>\n",
       "      <td>AMD Radeon Pro 455</td>\n",
       "      <td>macOS</td>\n",
       "      <td>1.83kg</td>\n",
       "      <td>135195.3360</td>\n",
       "    </tr>\n",
       "    <tr>\n",
       "      <th>4</th>\n",
       "      <td>4.0</td>\n",
       "      <td>Apple</td>\n",
       "      <td>Ultrabook</td>\n",
       "      <td>13.3</td>\n",
       "      <td>IPS Panel Retina Display 2560x1600</td>\n",
       "      <td>Intel Core i5 3.1GHz</td>\n",
       "      <td>8GB</td>\n",
       "      <td>256GB SSD</td>\n",
       "      <td>Intel Iris Plus Graphics 650</td>\n",
       "      <td>macOS</td>\n",
       "      <td>1.37kg</td>\n",
       "      <td>96095.8080</td>\n",
       "    </tr>\n",
       "  </tbody>\n",
       "</table>\n",
       "</div>"
      ],
      "text/plain": [
       "   Unnamed: 0 Company   TypeName Inches                    ScreenResolution  \\\n",
       "0         0.0   Apple  Ultrabook   13.3  IPS Panel Retina Display 2560x1600   \n",
       "1         1.0   Apple  Ultrabook   13.3                            1440x900   \n",
       "2         2.0      HP   Notebook   15.6                   Full HD 1920x1080   \n",
       "3         3.0   Apple  Ultrabook   15.4  IPS Panel Retina Display 2880x1800   \n",
       "4         4.0   Apple  Ultrabook   13.3  IPS Panel Retina Display 2560x1600   \n",
       "\n",
       "                          Cpu   Ram               Memory  \\\n",
       "0        Intel Core i5 2.3GHz   8GB            128GB SSD   \n",
       "1        Intel Core i5 1.8GHz   8GB  128GB Flash Storage   \n",
       "2  Intel Core i5 7200U 2.5GHz   8GB            256GB SSD   \n",
       "3        Intel Core i7 2.7GHz  16GB            512GB SSD   \n",
       "4        Intel Core i5 3.1GHz   8GB            256GB SSD   \n",
       "\n",
       "                            Gpu  OpSys  Weight        Price  \n",
       "0  Intel Iris Plus Graphics 640  macOS  1.37kg   71378.6832  \n",
       "1        Intel HD Graphics 6000  macOS  1.34kg   47895.5232  \n",
       "2         Intel HD Graphics 620  No OS  1.86kg   30636.0000  \n",
       "3            AMD Radeon Pro 455  macOS  1.83kg  135195.3360  \n",
       "4  Intel Iris Plus Graphics 650  macOS  1.37kg   96095.8080  "
      ]
     },
     "execution_count": 310,
     "metadata": {},
     "output_type": "execute_result"
    }
   ],
   "source": [
    "df.head()"
   ]
  },
  {
   "cell_type": "code",
   "execution_count": 311,
   "id": "ef534ce2-f83f-47ba-88be-43235f8ecffe",
   "metadata": {
    "tags": []
   },
   "outputs": [
    {
     "data": {
      "text/plain": [
       "Unnamed: 0          30\n",
       "Company             30\n",
       "TypeName            30\n",
       "Inches              30\n",
       "ScreenResolution    30\n",
       "Cpu                 30\n",
       "Ram                 30\n",
       "Memory              30\n",
       "Gpu                 30\n",
       "OpSys               30\n",
       "Weight              30\n",
       "Price               30\n",
       "dtype: int64"
      ]
     },
     "execution_count": 311,
     "metadata": {},
     "output_type": "execute_result"
    }
   ],
   "source": [
    "df.isnull().sum()"
   ]
  },
  {
   "cell_type": "code",
   "execution_count": 312,
   "id": "446af914-c651-441d-b58a-1d31456f0c96",
   "metadata": {
    "tags": []
   },
   "outputs": [
    {
     "data": {
      "text/plain": [
       "59955.81407321288"
      ]
     },
     "execution_count": 312,
     "metadata": {},
     "output_type": "execute_result"
    }
   ],
   "source": [
    "df['Price'].mean()"
   ]
  },
  {
   "cell_type": "code",
   "execution_count": 313,
   "id": "24ecfd4c-c47b-48d4-8bb8-c0c6b1fee0ee",
   "metadata": {
    "tags": []
   },
   "outputs": [
    {
     "data": {
      "text/plain": [
       "<seaborn.axisgrid.FacetGrid at 0x21a89e943d0>"
      ]
     },
     "execution_count": 313,
     "metadata": {},
     "output_type": "execute_result"
    },
    {
     "data": {
      "image/png": "[encoded data removed]",
      "text/plain": [
       "<Figure size 500x500 with 1 Axes>"
      ]
     },
     "metadata": {},
     "output_type": "display_data"
    }
   ],
   "source": [
    "sns.displot(df['Price'] , kde=True)"
   ]
  },
  {
   "cell_type": "code",
   "execution_count": 314,
   "id": "fe9c048c-1e20-4f7b-ba22-9ce5ce9a2c6d",
   "metadata": {
    "tags": []
   },
   "outputs": [],
   "source": [
    "df['Price'].fillna(df['Price'].median() , inplace=True)"
   ]
  },
  {
   "cell_type": "code",
   "execution_count": 315,
   "id": "dc79a118-9baa-46c4-aa9a-68d7f8da8a99",
   "metadata": {
    "tags": []
   },
   "outputs": [
    {
     "data": {
      "text/plain": [
       "Unnamed: 0          30\n",
       "Company             30\n",
       "TypeName            30\n",
       "Inches              30\n",
       "ScreenResolution    30\n",
       "Cpu                 30\n",
       "Ram                 30\n",
       "Memory              30\n",
       "Gpu                 30\n",
       "OpSys               30\n",
       "Weight              30\n",
       "Price                0\n",
       "dtype: int64"
      ]
     },
     "execution_count": 315,
     "metadata": {},
     "output_type": "execute_result"
    }
   ],
   "source": [
    "df.isnull().sum()"
   ]
  },
  {
   "cell_type": "code",
   "execution_count": 316,
   "id": "4559409b-f15c-4ea9-9d43-8bb5048bd7d0",
   "metadata": {
    "tags": []
   },
   "outputs": [],
   "source": [
    "df.drop(['Unnamed: 0'] , axis=1 , inplace=True)"
   ]
  },
  {
   "cell_type": "code",
   "execution_count": 317,
   "id": "84470f86-91bb-47a3-ad1f-0bd41179d227",
   "metadata": {
    "tags": []
   },
   "outputs": [
    {
     "data": {
      "text/plain": [
       "Index(['Company', 'TypeName', 'Inches', 'ScreenResolution', 'Cpu', 'Ram',\n",
       "       'Memory', 'Gpu', 'OpSys', 'Weight', 'Price'],\n",
       "      dtype='object')"
      ]
     },
     "execution_count": 317,
     "metadata": {},
     "output_type": "execute_result"
    }
   ],
   "source": [
    "df.columns"
   ]
  },
  {
   "cell_type": "code",
   "execution_count": 318,
   "id": "679aca50-0cb3-472b-bf4e-ea8f50faf3c2",
   "metadata": {
    "tags": []
   },
   "outputs": [
    {
     "data": {
      "text/plain": [
       "<seaborn.axisgrid.FacetGrid at 0x21a8a03dd10>"
      ]
     },
     "execution_count": 318,
     "metadata": {},
     "output_type": "execute_result"
    },
    {
     "data": {
      "image/png": "[encoded data removed]",
      "text/plain": [
       "<Figure size 500x500 with 1 Axes>"
      ]
     },
     "metadata": {},
     "output_type": "display_data"
    }
   ],
   "source": [
    "sns.displot(df['Inches'] , kde=True)"
   ]
  },
  {
   "cell_type": "code",
   "execution_count": 319,
   "id": "1e27b213-5c22-43a6-9213-76f24da989ca",
   "metadata": {
    "tags": []
   },
   "outputs": [
    {
     "data": {
      "text/plain": [
       "array(['13.3', '15.6', '15.4', '14', '12', nan, '17.3', '13.5', '12.5',\n",
       "       '13', '18.4', '13.9', '11.6', '25.6', '35.6', '12.3', '27.3', '24',\n",
       "       '33.5', '?', '31.6', '17', '15', '14.1', '11.3', '10.1'],\n",
       "      dtype=object)"
      ]
     },
     "execution_count": 319,
     "metadata": {},
     "output_type": "execute_result"
    }
   ],
   "source": [
    "df['Inches'].unique()"
   ]
  },
  {
   "cell_type": "code",
   "execution_count": 320,
   "id": "36a7ab0a-4ec2-4860-b1d9-fd2c43581bd7",
   "metadata": {
    "tags": []
   },
   "outputs": [],
   "source": [
    "df['Inches']=df['Inches'].replace({'?' : np.nan})"
   ]
  },
  {
   "cell_type": "code",
   "execution_count": 321,
   "id": "6a3cfe7e-c037-4861-bfbd-fe7d2a684ef8",
   "metadata": {
    "tags": []
   },
   "outputs": [],
   "source": [
    "df['Inches']=pd.to_numeric(df['Inches'])"
   ]
  },
  {
   "cell_type": "code",
   "execution_count": 322,
   "id": "c309e198-c3ad-45db-b785-88e47c15482b",
   "metadata": {
    "tags": []
   },
   "outputs": [
    {
     "data": {
      "text/plain": [
       "31"
      ]
     },
     "execution_count": 322,
     "metadata": {},
     "output_type": "execute_result"
    }
   ],
   "source": [
    "df['Inches'].isnull().sum()"
   ]
  },
  {
   "cell_type": "code",
   "execution_count": 323,
   "id": "074d5b7d-5e97-49bb-8763-dc20b7ea7cc0",
   "metadata": {
    "tags": []
   },
   "outputs": [
    {
     "data": {
      "text/plain": [
       "Company             30\n",
       "TypeName            30\n",
       "Inches              31\n",
       "ScreenResolution    30\n",
       "Cpu                 30\n",
       "Ram                 30\n",
       "Memory              30\n",
       "Gpu                 30\n",
       "OpSys               30\n",
       "Weight              30\n",
       "Price                0\n",
       "dtype: int64"
      ]
     },
     "execution_count": 323,
     "metadata": {},
     "output_type": "execute_result"
    }
   ],
   "source": [
    "df.isnull().sum()"
   ]
  },
  {
   "cell_type": "code",
   "execution_count": 324,
   "id": "8a61e2c9-ebf5-4930-8618-a437188bf60b",
   "metadata": {
    "tags": []
   },
   "outputs": [
    {
     "data": {
      "text/plain": [
       "<seaborn.axisgrid.FacetGrid at 0x21a89dd2550>"
      ]
     },
     "execution_count": 324,
     "metadata": {},
     "output_type": "execute_result"
    },
    {
     "data": {
      "image/png": "[encoded data removed]",
      "text/plain": [
       "<Figure size 500x500 with 1 Axes>"
      ]
     },
     "metadata": {},
     "output_type": "display_data"
    }
   ],
   "source": [
    "sns.displot(df['Inches'] , kde=True)"
   ]
  },
  {
   "cell_type": "code",
   "execution_count": 325,
   "id": "fe0a9109-829b-47c1-a9dc-11efaa8418e1",
   "metadata": {
    "tags": []
   },
   "outputs": [],
   "source": [
    "mean_weight=round(df['Inches'].mean() , 1)"
   ]
  },
  {
   "cell_type": "code",
   "execution_count": 326,
   "id": "bc8fa18d-ed60-49aa-8ccd-cdaa9323e41a",
   "metadata": {
    "tags": []
   },
   "outputs": [
    {
     "data": {
      "text/plain": [
       "15.1"
      ]
     },
     "execution_count": 326,
     "metadata": {},
     "output_type": "execute_result"
    }
   ],
   "source": [
    "mean_weight"
   ]
  },
  {
   "cell_type": "code",
   "execution_count": 327,
   "id": "6586880a-f340-4c41-997f-c87223e056c9",
   "metadata": {
    "tags": []
   },
   "outputs": [
    {
     "data": {
      "text/plain": [
       "Company             30\n",
       "TypeName            30\n",
       "Inches              31\n",
       "ScreenResolution    30\n",
       "Cpu                 30\n",
       "Ram                 30\n",
       "Memory              30\n",
       "Gpu                 30\n",
       "OpSys               30\n",
       "Weight              30\n",
       "Price                0\n",
       "dtype: int64"
      ]
     },
     "execution_count": 327,
     "metadata": {},
     "output_type": "execute_result"
    }
   ],
   "source": [
    "df.isnull().sum()"
   ]
  },
  {
   "cell_type": "code",
   "execution_count": 328,
   "id": "98b5acce-047e-462a-8e9d-819b3f8dfca6",
   "metadata": {
    "tags": []
   },
   "outputs": [],
   "source": [
    "df['Inches'].fillna(mean_weight , inplace=True)"
   ]
  },
  {
   "cell_type": "code",
   "execution_count": 329,
   "id": "25453db3-57f1-440a-a625-6ced03e72321",
   "metadata": {
    "tags": []
   },
   "outputs": [
    {
     "data": {
      "text/plain": [
       "(1303, 11)"
      ]
     },
     "execution_count": 329,
     "metadata": {},
     "output_type": "execute_result"
    }
   ],
   "source": [
    "df.shape"
   ]
  },
  {
   "cell_type": "code",
   "execution_count": 330,
   "id": "0aae3596-a4f5-49c5-9455-eb958519f5c8",
   "metadata": {
    "tags": []
   },
   "outputs": [
    {
     "data": {
      "text/plain": [
       "Company             30\n",
       "TypeName            30\n",
       "Inches               0\n",
       "ScreenResolution    30\n",
       "Cpu                 30\n",
       "Ram                 30\n",
       "Memory              30\n",
       "Gpu                 30\n",
       "OpSys               30\n",
       "Weight              30\n",
       "Price                0\n",
       "dtype: int64"
      ]
     },
     "execution_count": 330,
     "metadata": {},
     "output_type": "execute_result"
    }
   ],
   "source": [
    "df.isnull().sum()"
   ]
  },
  {
   "cell_type": "markdown",
   "id": "c7f1dc50-263b-4735-91bd-f80454619fb9",
   "metadata": {},
   "source": [
    "### **Replacing object data type columns with automation**"
   ]
  },
  {
   "cell_type": "code",
   "execution_count": 331,
   "id": "78fbaf1b-8631-405b-8186-0def8f6d1f75",
   "metadata": {
    "tags": []
   },
   "outputs": [
    {
     "data": {
      "text/html": [
       "<div>\n",
       "<style scoped>\n",
       "    .dataframe tbody tr th:only-of-type {\n",
       "        vertical-align: middle;\n",
       "    }\n",
       "\n",
       "    .dataframe tbody tr th {\n",
       "        vertical-align: top;\n",
       "    }\n",
       "\n",
       "    .dataframe thead th {\n",
       "        text-align: right;\n",
       "    }\n",
       "</style>\n",
       "<table border=\"1\" class=\"dataframe\">\n",
       "  <thead>\n",
       "    <tr style=\"text-align: right;\">\n",
       "      <th></th>\n",
       "      <th>Company</th>\n",
       "      <th>TypeName</th>\n",
       "      <th>Inches</th>\n",
       "      <th>ScreenResolution</th>\n",
       "      <th>Cpu</th>\n",
       "      <th>Ram</th>\n",
       "      <th>Memory</th>\n",
       "      <th>Gpu</th>\n",
       "      <th>OpSys</th>\n",
       "      <th>Weight</th>\n",
       "      <th>Price</th>\n",
       "    </tr>\n",
       "  </thead>\n",
       "  <tbody>\n",
       "    <tr>\n",
       "      <th>0</th>\n",
       "      <td>Apple</td>\n",
       "      <td>Ultrabook</td>\n",
       "      <td>13.3</td>\n",
       "      <td>IPS Panel Retina Display 2560x1600</td>\n",
       "      <td>Intel Core i5 2.3GHz</td>\n",
       "      <td>8GB</td>\n",
       "      <td>128GB SSD</td>\n",
       "      <td>Intel Iris Plus Graphics 640</td>\n",
       "      <td>macOS</td>\n",
       "      <td>1.37kg</td>\n",
       "      <td>71378.6832</td>\n",
       "    </tr>\n",
       "    <tr>\n",
       "      <th>1</th>\n",
       "      <td>Apple</td>\n",
       "      <td>Ultrabook</td>\n",
       "      <td>13.3</td>\n",
       "      <td>1440x900</td>\n",
       "      <td>Intel Core i5 1.8GHz</td>\n",
       "      <td>8GB</td>\n",
       "      <td>128GB Flash Storage</td>\n",
       "      <td>Intel HD Graphics 6000</td>\n",
       "      <td>macOS</td>\n",
       "      <td>1.34kg</td>\n",
       "      <td>47895.5232</td>\n",
       "    </tr>\n",
       "    <tr>\n",
       "      <th>2</th>\n",
       "      <td>HP</td>\n",
       "      <td>Notebook</td>\n",
       "      <td>15.6</td>\n",
       "      <td>Full HD 1920x1080</td>\n",
       "      <td>Intel Core i5 7200U 2.5GHz</td>\n",
       "      <td>8GB</td>\n",
       "      <td>256GB SSD</td>\n",
       "      <td>Intel HD Graphics 620</td>\n",
       "      <td>No OS</td>\n",
       "      <td>1.86kg</td>\n",
       "      <td>30636.0000</td>\n",
       "    </tr>\n",
       "    <tr>\n",
       "      <th>3</th>\n",
       "      <td>Apple</td>\n",
       "      <td>Ultrabook</td>\n",
       "      <td>15.4</td>\n",
       "      <td>IPS Panel Retina Display 2880x1800</td>\n",
       "      <td>Intel Core i7 2.7GHz</td>\n",
       "      <td>16GB</td>\n",
       "      <td>512GB SSD</td>\n",
       "      <td>AMD Radeon Pro 455</td>\n",
       "      <td>macOS</td>\n",
       "      <td>1.83kg</td>\n",
       "      <td>135195.3360</td>\n",
       "    </tr>\n",
       "    <tr>\n",
       "      <th>4</th>\n",
       "      <td>Apple</td>\n",
       "      <td>Ultrabook</td>\n",
       "      <td>13.3</td>\n",
       "      <td>IPS Panel Retina Display 2560x1600</td>\n",
       "      <td>Intel Core i5 3.1GHz</td>\n",
       "      <td>8GB</td>\n",
       "      <td>256GB SSD</td>\n",
       "      <td>Intel Iris Plus Graphics 650</td>\n",
       "      <td>macOS</td>\n",
       "      <td>1.37kg</td>\n",
       "      <td>96095.8080</td>\n",
       "    </tr>\n",
       "    <tr>\n",
       "      <th>...</th>\n",
       "      <td>...</td>\n",
       "      <td>...</td>\n",
       "      <td>...</td>\n",
       "      <td>...</td>\n",
       "      <td>...</td>\n",
       "      <td>...</td>\n",
       "      <td>...</td>\n",
       "      <td>...</td>\n",
       "      <td>...</td>\n",
       "      <td>...</td>\n",
       "      <td>...</td>\n",
       "    </tr>\n",
       "    <tr>\n",
       "      <th>1298</th>\n",
       "      <td>Lenovo</td>\n",
       "      <td>2 in 1 Convertible</td>\n",
       "      <td>14.0</td>\n",
       "      <td>IPS Panel Full HD / Touchscreen 1920x1080</td>\n",
       "      <td>Intel Core i7 6500U 2.5GHz</td>\n",
       "      <td>4GB</td>\n",
       "      <td>128GB SSD</td>\n",
       "      <td>Intel HD Graphics 520</td>\n",
       "      <td>Windows 10</td>\n",
       "      <td>1.8kg</td>\n",
       "      <td>33992.6400</td>\n",
       "    </tr>\n",
       "    <tr>\n",
       "      <th>1299</th>\n",
       "      <td>Lenovo</td>\n",
       "      <td>2 in 1 Convertible</td>\n",
       "      <td>13.3</td>\n",
       "      <td>IPS Panel Quad HD+ / Touchscreen 3200x1800</td>\n",
       "      <td>Intel Core i7 6500U 2.5GHz</td>\n",
       "      <td>16GB</td>\n",
       "      <td>512GB SSD</td>\n",
       "      <td>Intel HD Graphics 520</td>\n",
       "      <td>Windows 10</td>\n",
       "      <td>1.3kg</td>\n",
       "      <td>79866.7200</td>\n",
       "    </tr>\n",
       "    <tr>\n",
       "      <th>1300</th>\n",
       "      <td>Lenovo</td>\n",
       "      <td>Notebook</td>\n",
       "      <td>14.0</td>\n",
       "      <td>1366x768</td>\n",
       "      <td>Intel Celeron Dual Core N3050 1.6GHz</td>\n",
       "      <td>2GB</td>\n",
       "      <td>64GB Flash Storage</td>\n",
       "      <td>Intel HD Graphics</td>\n",
       "      <td>Windows 10</td>\n",
       "      <td>1.5kg</td>\n",
       "      <td>12201.1200</td>\n",
       "    </tr>\n",
       "    <tr>\n",
       "      <th>1301</th>\n",
       "      <td>HP</td>\n",
       "      <td>Notebook</td>\n",
       "      <td>15.6</td>\n",
       "      <td>1366x768</td>\n",
       "      <td>Intel Core i7 6500U 2.5GHz</td>\n",
       "      <td>6GB</td>\n",
       "      <td>1TB HDD</td>\n",
       "      <td>AMD Radeon R5 M330</td>\n",
       "      <td>Windows 10</td>\n",
       "      <td>2.19kg</td>\n",
       "      <td>40705.9200</td>\n",
       "    </tr>\n",
       "    <tr>\n",
       "      <th>1302</th>\n",
       "      <td>Asus</td>\n",
       "      <td>Notebook</td>\n",
       "      <td>15.6</td>\n",
       "      <td>1366x768</td>\n",
       "      <td>Intel Celeron Dual Core N3050 1.6GHz</td>\n",
       "      <td>4GB</td>\n",
       "      <td>500GB HDD</td>\n",
       "      <td>Intel HD Graphics</td>\n",
       "      <td>Windows 10</td>\n",
       "      <td>2.2kg</td>\n",
       "      <td>19660.3200</td>\n",
       "    </tr>\n",
       "  </tbody>\n",
       "</table>\n",
       "<p>1303 rows × 11 columns</p>\n",
       "</div>"
      ],
      "text/plain": [
       "     Company            TypeName  Inches  \\\n",
       "0      Apple           Ultrabook    13.3   \n",
       "1      Apple           Ultrabook    13.3   \n",
       "2         HP            Notebook    15.6   \n",
       "3      Apple           Ultrabook    15.4   \n",
       "4      Apple           Ultrabook    13.3   \n",
       "...      ...                 ...     ...   \n",
       "1298  Lenovo  2 in 1 Convertible    14.0   \n",
       "1299  Lenovo  2 in 1 Convertible    13.3   \n",
       "1300  Lenovo            Notebook    14.0   \n",
       "1301      HP            Notebook    15.6   \n",
       "1302    Asus            Notebook    15.6   \n",
       "\n",
       "                                ScreenResolution  \\\n",
       "0             IPS Panel Retina Display 2560x1600   \n",
       "1                                       1440x900   \n",
       "2                              Full HD 1920x1080   \n",
       "3             IPS Panel Retina Display 2880x1800   \n",
       "4             IPS Panel Retina Display 2560x1600   \n",
       "...                                          ...   \n",
       "1298   IPS Panel Full HD / Touchscreen 1920x1080   \n",
       "1299  IPS Panel Quad HD+ / Touchscreen 3200x1800   \n",
       "1300                                    1366x768   \n",
       "1301                                    1366x768   \n",
       "1302                                    1366x768   \n",
       "\n",
       "                                       Cpu   Ram               Memory  \\\n",
       "0                     Intel Core i5 2.3GHz   8GB            128GB SSD   \n",
       "1                     Intel Core i5 1.8GHz   8GB  128GB Flash Storage   \n",
       "2               Intel Core i5 7200U 2.5GHz   8GB            256GB SSD   \n",
       "3                     Intel Core i7 2.7GHz  16GB            512GB SSD   \n",
       "4                     Intel Core i5 3.1GHz   8GB            256GB SSD   \n",
       "...                                    ...   ...                  ...   \n",
       "1298            Intel Core i7 6500U 2.5GHz   4GB            128GB SSD   \n",
       "1299            Intel Core i7 6500U 2.5GHz  16GB            512GB SSD   \n",
       "1300  Intel Celeron Dual Core N3050 1.6GHz   2GB   64GB Flash Storage   \n",
       "1301            Intel Core i7 6500U 2.5GHz   6GB              1TB HDD   \n",
       "1302  Intel Celeron Dual Core N3050 1.6GHz   4GB            500GB HDD   \n",
       "\n",
       "                               Gpu       OpSys  Weight        Price  \n",
       "0     Intel Iris Plus Graphics 640       macOS  1.37kg   71378.6832  \n",
       "1           Intel HD Graphics 6000       macOS  1.34kg   47895.5232  \n",
       "2            Intel HD Graphics 620       No OS  1.86kg   30636.0000  \n",
       "3               AMD Radeon Pro 455       macOS  1.83kg  135195.3360  \n",
       "4     Intel Iris Plus Graphics 650       macOS  1.37kg   96095.8080  \n",
       "...                            ...         ...     ...          ...  \n",
       "1298         Intel HD Graphics 520  Windows 10   1.8kg   33992.6400  \n",
       "1299         Intel HD Graphics 520  Windows 10   1.3kg   79866.7200  \n",
       "1300             Intel HD Graphics  Windows 10   1.5kg   12201.1200  \n",
       "1301            AMD Radeon R5 M330  Windows 10  2.19kg   40705.9200  \n",
       "1302             Intel HD Graphics  Windows 10   2.2kg   19660.3200  \n",
       "\n",
       "[1303 rows x 11 columns]"
      ]
     },
     "execution_count": 331,
     "metadata": {},
     "output_type": "execute_result"
    }
   ],
   "source": [
    "df"
   ]
  },
  {
   "cell_type": "code",
   "execution_count": 332,
   "id": "1bc76cb7-3651-41a7-9327-7f5c4c7c1608",
   "metadata": {
    "tags": []
   },
   "outputs": [
    {
     "data": {
      "text/plain": [
       "Company             30\n",
       "TypeName            30\n",
       "Inches               0\n",
       "ScreenResolution    30\n",
       "Cpu                 30\n",
       "Ram                 30\n",
       "Memory              30\n",
       "Gpu                 30\n",
       "OpSys               30\n",
       "Weight              30\n",
       "Price                0\n",
       "dtype: int64"
      ]
     },
     "execution_count": 332,
     "metadata": {},
     "output_type": "execute_result"
    }
   ],
   "source": [
    "df.isnull().sum()"
   ]
  },
  {
   "cell_type": "code",
   "execution_count": 333,
   "id": "b0258839-0524-41b2-8e78-f124e4d335cf",
   "metadata": {
    "tags": []
   },
   "outputs": [
    {
     "data": {
      "text/plain": [
       "['Company',\n",
       " 'TypeName',\n",
       " 'ScreenResolution',\n",
       " 'Cpu',\n",
       " 'Ram',\n",
       " 'Memory',\n",
       " 'Gpu',\n",
       " 'OpSys',\n",
       " 'Weight']"
      ]
     },
     "execution_count": 333,
     "metadata": {},
     "output_type": "execute_result"
    }
   ],
   "source": [
    "temp=df.isnull().sum()\n",
    "temp=pd.DataFrame(temp).reset_index()\n",
    "null_value=temp[temp[0]!=0]\n",
    "null_cols=list(null_value['index'])\n",
    "null_cols"
   ]
  },
  {
   "cell_type": "code",
   "execution_count": 339,
   "id": "cc65938a-cb56-4ed6-a279-b1a221549219",
   "metadata": {
    "tags": []
   },
   "outputs": [
    {
     "data": {
      "text/plain": [
       "'Lenovo'"
      ]
     },
     "execution_count": 339,
     "metadata": {},
     "output_type": "execute_result"
    }
   ],
   "source": [
    "mode_value=list(df[df['Company'].notna()]['Company'].mode())\n",
    "mode_value[0]"
   ]
  },
  {
   "cell_type": "code",
   "execution_count": 340,
   "id": "21f2c6a2-61cc-4401-bd3b-01dcb264176f",
   "metadata": {
    "tags": []
   },
   "outputs": [],
   "source": [
    "def fillna_mode(df):\n",
    "    temp=df.isnull().sum()\n",
    "    temp=pd.DataFrame(temp).reset_index()\n",
    "    null_value=temp[temp[0]!=0]\n",
    "    null_cols=list(null_value['index'])\n",
    "        \n",
    "    for col in null_cols:\n",
    "        mode_value=df[df[col].notna()][col].mode()\n",
    "        df[col].fillna(mode_value[0] , inplace=True)\n",
    "        "
   ]
  },
  {
   "cell_type": "code",
   "execution_count": 341,
   "id": "eafa6400-5a1f-4ed7-bfda-8a8cc7067a70",
   "metadata": {
    "tags": []
   },
   "outputs": [],
   "source": [
    "fillna_mode(df)"
   ]
  },
  {
   "cell_type": "code",
   "execution_count": 342,
   "id": "6ea3cc4b-be85-4ce9-8519-28e2074c0464",
   "metadata": {
    "tags": []
   },
   "outputs": [
    {
     "data": {
      "text/plain": [
       "Company             0\n",
       "TypeName            0\n",
       "Inches              0\n",
       "ScreenResolution    0\n",
       "Cpu                 0\n",
       "Ram                 0\n",
       "Memory              0\n",
       "Gpu                 0\n",
       "OpSys               0\n",
       "Weight              0\n",
       "Price               0\n",
       "dtype: int64"
      ]
     },
     "execution_count": 342,
     "metadata": {},
     "output_type": "execute_result"
    }
   ],
   "source": [
    "df.isnull().sum()"
   ]
  },
  {
   "cell_type": "markdown",
   "id": "7b559ef7-65aa-46c9-832e-e479fa993909",
   "metadata": {},
   "source": [
    "### Q3: Explain the imbalanced data. What will happen if imbalanced data is not handled?\n",
    "\n",
    "\n",
    "\n",
    "Imbalanced data refers to a dataset where the number of observations in different classes is unevenly distributed. This is common in classification problems, such as fraud detection, medical diagnosis, and spam detection.\n",
    "\n",
    "For example, in a fraud detection dataset:\n",
    "\n",
    "Non-Fraud Transactions (Class 0): 99,000 samples\n",
    "Fraud Transactions (Class 1): 1,000 samples\n",
    "Here, the dataset is highly imbalanced because the majority class (non-fraud) dominates the minority class (fraud).\n",
    "\n",
    "\n",
    "Problems If Imbalanced Data is Not Handled\n",
    "\n",
    "\n",
    "1. Biased Model\n",
    "\n",
    "2. Reduces Accuracy\n",
    "\n",
    "3. Model cannot generalize - model fails to learn meaningful patterns in the data\n",
    "\n",
    "How to Handle Imbalanced Data?\n",
    "\n",
    "1. Resampling : SMOTE\n",
    "\n",
    "2. Up Sampling / Down Sampling \n",
    "\n"
   ]
  },
  {
   "cell_type": "markdown",
   "id": "8d09da97-f56a-4065-a4c4-891329d9c102",
   "metadata": {},
   "source": [
    "### Q4: What are Up-sampling and Down-sampling? Explain with an example when up-sampling and down-sampling are required.\n",
    "\n",
    "\n",
    "Up-sampling : to increase the number of samples in the minority class , but no new samples are created rather the same datapoint is incremented from the minority class .\n",
    "\n",
    "Down sampling : to reduce the sample of the majority class so that the dataset is balanced"
   ]
  },
  {
   "cell_type": "code",
   "execution_count": 371,
   "id": "0a0c59ed-24e2-4fd4-b172-cceeda562cd9",
   "metadata": {
    "tags": []
   },
   "outputs": [],
   "source": [
    "n_sample=1000\n",
    "n_class_0_pct=0.9\n",
    "class_0=int(n_sample*n_class_0_pct)\n",
    "class_1=n_sample-class_0\n",
    "\n",
    "class_0 = pd.DataFrame({\n",
    "    'feature_1' : np.random.normal(loc=0 , scale=1 , size= class_0),\n",
    "    'feature_2' : np.random.normal(loc=0 , scale=1 , size=class_0),\n",
    "    'target' : [0] * class_0\n",
    "})\n",
    "\n",
    "class_1 = pd.DataFrame({\n",
    "    'feature_1' : np.random.normal(loc=0 , scale=1 , size=class_1),\n",
    "    'feature_2' : np.random.normal(loc=0 , scale=1 , size=class_1) , \n",
    "    'target' : [1] * class_1\n",
    "})"
   ]
  },
  {
   "cell_type": "code",
   "execution_count": 372,
   "id": "97958b40-6189-4f76-9bf7-2d85c093a36d",
   "metadata": {
    "tags": []
   },
   "outputs": [
    {
     "data": {
      "text/html": [
       "<div>\n",
       "<style scoped>\n",
       "    .dataframe tbody tr th:only-of-type {\n",
       "        vertical-align: middle;\n",
       "    }\n",
       "\n",
       "    .dataframe tbody tr th {\n",
       "        vertical-align: top;\n",
       "    }\n",
       "\n",
       "    .dataframe thead th {\n",
       "        text-align: right;\n",
       "    }\n",
       "</style>\n",
       "<table border=\"1\" class=\"dataframe\">\n",
       "  <thead>\n",
       "    <tr style=\"text-align: right;\">\n",
       "      <th></th>\n",
       "      <th>feature_1</th>\n",
       "      <th>feature_2</th>\n",
       "      <th>target</th>\n",
       "    </tr>\n",
       "  </thead>\n",
       "  <tbody>\n",
       "    <tr>\n",
       "      <th>0</th>\n",
       "      <td>0.453824</td>\n",
       "      <td>0.144033</td>\n",
       "      <td>1</td>\n",
       "    </tr>\n",
       "    <tr>\n",
       "      <th>1</th>\n",
       "      <td>1.422226</td>\n",
       "      <td>0.659856</td>\n",
       "      <td>1</td>\n",
       "    </tr>\n",
       "    <tr>\n",
       "      <th>2</th>\n",
       "      <td>-0.027443</td>\n",
       "      <td>0.892767</td>\n",
       "      <td>1</td>\n",
       "    </tr>\n",
       "    <tr>\n",
       "      <th>3</th>\n",
       "      <td>-0.273302</td>\n",
       "      <td>1.424092</td>\n",
       "      <td>1</td>\n",
       "    </tr>\n",
       "    <tr>\n",
       "      <th>4</th>\n",
       "      <td>-0.753044</td>\n",
       "      <td>-0.672545</td>\n",
       "      <td>1</td>\n",
       "    </tr>\n",
       "    <tr>\n",
       "      <th>...</th>\n",
       "      <td>...</td>\n",
       "      <td>...</td>\n",
       "      <td>...</td>\n",
       "    </tr>\n",
       "    <tr>\n",
       "      <th>95</th>\n",
       "      <td>-0.697469</td>\n",
       "      <td>-1.290255</td>\n",
       "      <td>1</td>\n",
       "    </tr>\n",
       "    <tr>\n",
       "      <th>96</th>\n",
       "      <td>0.225901</td>\n",
       "      <td>1.096447</td>\n",
       "      <td>1</td>\n",
       "    </tr>\n",
       "    <tr>\n",
       "      <th>97</th>\n",
       "      <td>0.421895</td>\n",
       "      <td>1.344051</td>\n",
       "      <td>1</td>\n",
       "    </tr>\n",
       "    <tr>\n",
       "      <th>98</th>\n",
       "      <td>0.778877</td>\n",
       "      <td>0.565434</td>\n",
       "      <td>1</td>\n",
       "    </tr>\n",
       "    <tr>\n",
       "      <th>99</th>\n",
       "      <td>-0.421883</td>\n",
       "      <td>-0.705210</td>\n",
       "      <td>1</td>\n",
       "    </tr>\n",
       "  </tbody>\n",
       "</table>\n",
       "<p>100 rows × 3 columns</p>\n",
       "</div>"
      ],
      "text/plain": [
       "    feature_1  feature_2  target\n",
       "0    0.453824   0.144033       1\n",
       "1    1.422226   0.659856       1\n",
       "2   -0.027443   0.892767       1\n",
       "3   -0.273302   1.424092       1\n",
       "4   -0.753044  -0.672545       1\n",
       "..        ...        ...     ...\n",
       "95  -0.697469  -1.290255       1\n",
       "96   0.225901   1.096447       1\n",
       "97   0.421895   1.344051       1\n",
       "98   0.778877   0.565434       1\n",
       "99  -0.421883  -0.705210       1\n",
       "\n",
       "[100 rows x 3 columns]"
      ]
     },
     "execution_count": 372,
     "metadata": {},
     "output_type": "execute_result"
    }
   ],
   "source": [
    "class_1"
   ]
  },
  {
   "cell_type": "code",
   "execution_count": 373,
   "id": "e4513d1a-2949-4b3c-80d3-d17ee038d6a7",
   "metadata": {
    "tags": []
   },
   "outputs": [
    {
     "data": {
      "text/html": [
       "<div>\n",
       "<style scoped>\n",
       "    .dataframe tbody tr th:only-of-type {\n",
       "        vertical-align: middle;\n",
       "    }\n",
       "\n",
       "    .dataframe tbody tr th {\n",
       "        vertical-align: top;\n",
       "    }\n",
       "\n",
       "    .dataframe thead th {\n",
       "        text-align: right;\n",
       "    }\n",
       "</style>\n",
       "<table border=\"1\" class=\"dataframe\">\n",
       "  <thead>\n",
       "    <tr style=\"text-align: right;\">\n",
       "      <th></th>\n",
       "      <th>feature_1</th>\n",
       "      <th>feature_2</th>\n",
       "      <th>target</th>\n",
       "    </tr>\n",
       "  </thead>\n",
       "  <tbody>\n",
       "    <tr>\n",
       "      <th>0</th>\n",
       "      <td>-0.019536</td>\n",
       "      <td>1.865815</td>\n",
       "      <td>0</td>\n",
       "    </tr>\n",
       "    <tr>\n",
       "      <th>1</th>\n",
       "      <td>0.878209</td>\n",
       "      <td>0.271793</td>\n",
       "      <td>0</td>\n",
       "    </tr>\n",
       "    <tr>\n",
       "      <th>2</th>\n",
       "      <td>0.133781</td>\n",
       "      <td>-2.693590</td>\n",
       "      <td>0</td>\n",
       "    </tr>\n",
       "    <tr>\n",
       "      <th>3</th>\n",
       "      <td>-0.356259</td>\n",
       "      <td>0.049766</td>\n",
       "      <td>0</td>\n",
       "    </tr>\n",
       "    <tr>\n",
       "      <th>4</th>\n",
       "      <td>-0.914269</td>\n",
       "      <td>0.756228</td>\n",
       "      <td>0</td>\n",
       "    </tr>\n",
       "    <tr>\n",
       "      <th>...</th>\n",
       "      <td>...</td>\n",
       "      <td>...</td>\n",
       "      <td>...</td>\n",
       "    </tr>\n",
       "    <tr>\n",
       "      <th>895</th>\n",
       "      <td>-0.859254</td>\n",
       "      <td>0.116461</td>\n",
       "      <td>0</td>\n",
       "    </tr>\n",
       "    <tr>\n",
       "      <th>896</th>\n",
       "      <td>1.251492</td>\n",
       "      <td>1.028282</td>\n",
       "      <td>0</td>\n",
       "    </tr>\n",
       "    <tr>\n",
       "      <th>897</th>\n",
       "      <td>0.548898</td>\n",
       "      <td>-1.322886</td>\n",
       "      <td>0</td>\n",
       "    </tr>\n",
       "    <tr>\n",
       "      <th>898</th>\n",
       "      <td>0.876428</td>\n",
       "      <td>-0.078358</td>\n",
       "      <td>0</td>\n",
       "    </tr>\n",
       "    <tr>\n",
       "      <th>899</th>\n",
       "      <td>0.292413</td>\n",
       "      <td>-0.910742</td>\n",
       "      <td>0</td>\n",
       "    </tr>\n",
       "  </tbody>\n",
       "</table>\n",
       "<p>900 rows × 3 columns</p>\n",
       "</div>"
      ],
      "text/plain": [
       "     feature_1  feature_2  target\n",
       "0    -0.019536   1.865815       0\n",
       "1     0.878209   0.271793       0\n",
       "2     0.133781  -2.693590       0\n",
       "3    -0.356259   0.049766       0\n",
       "4    -0.914269   0.756228       0\n",
       "..         ...        ...     ...\n",
       "895  -0.859254   0.116461       0\n",
       "896   1.251492   1.028282       0\n",
       "897   0.548898  -1.322886       0\n",
       "898   0.876428  -0.078358       0\n",
       "899   0.292413  -0.910742       0\n",
       "\n",
       "[900 rows x 3 columns]"
      ]
     },
     "execution_count": 373,
     "metadata": {},
     "output_type": "execute_result"
    }
   ],
   "source": [
    "class_0"
   ]
  },
  {
   "cell_type": "code",
   "execution_count": 374,
   "id": "60c24bd6-8cbe-4a02-b12b-f713009bd13b",
   "metadata": {
    "tags": []
   },
   "outputs": [],
   "source": [
    "df=pd.concat([class_0 , class_1] , axis=0).reset_index()"
   ]
  },
  {
   "cell_type": "code",
   "execution_count": 375,
   "id": "7f4fb181-3b18-4169-9e3f-0bb691295465",
   "metadata": {
    "tags": []
   },
   "outputs": [
    {
     "data": {
      "text/html": [
       "<div>\n",
       "<style scoped>\n",
       "    .dataframe tbody tr th:only-of-type {\n",
       "        vertical-align: middle;\n",
       "    }\n",
       "\n",
       "    .dataframe tbody tr th {\n",
       "        vertical-align: top;\n",
       "    }\n",
       "\n",
       "    .dataframe thead th {\n",
       "        text-align: right;\n",
       "    }\n",
       "</style>\n",
       "<table border=\"1\" class=\"dataframe\">\n",
       "  <thead>\n",
       "    <tr style=\"text-align: right;\">\n",
       "      <th></th>\n",
       "      <th>index</th>\n",
       "      <th>feature_1</th>\n",
       "      <th>feature_2</th>\n",
       "      <th>target</th>\n",
       "    </tr>\n",
       "  </thead>\n",
       "  <tbody>\n",
       "    <tr>\n",
       "      <th>0</th>\n",
       "      <td>0</td>\n",
       "      <td>-0.019536</td>\n",
       "      <td>1.865815</td>\n",
       "      <td>0</td>\n",
       "    </tr>\n",
       "    <tr>\n",
       "      <th>1</th>\n",
       "      <td>1</td>\n",
       "      <td>0.878209</td>\n",
       "      <td>0.271793</td>\n",
       "      <td>0</td>\n",
       "    </tr>\n",
       "    <tr>\n",
       "      <th>2</th>\n",
       "      <td>2</td>\n",
       "      <td>0.133781</td>\n",
       "      <td>-2.693590</td>\n",
       "      <td>0</td>\n",
       "    </tr>\n",
       "    <tr>\n",
       "      <th>3</th>\n",
       "      <td>3</td>\n",
       "      <td>-0.356259</td>\n",
       "      <td>0.049766</td>\n",
       "      <td>0</td>\n",
       "    </tr>\n",
       "    <tr>\n",
       "      <th>4</th>\n",
       "      <td>4</td>\n",
       "      <td>-0.914269</td>\n",
       "      <td>0.756228</td>\n",
       "      <td>0</td>\n",
       "    </tr>\n",
       "    <tr>\n",
       "      <th>...</th>\n",
       "      <td>...</td>\n",
       "      <td>...</td>\n",
       "      <td>...</td>\n",
       "      <td>...</td>\n",
       "    </tr>\n",
       "    <tr>\n",
       "      <th>995</th>\n",
       "      <td>95</td>\n",
       "      <td>-0.697469</td>\n",
       "      <td>-1.290255</td>\n",
       "      <td>1</td>\n",
       "    </tr>\n",
       "    <tr>\n",
       "      <th>996</th>\n",
       "      <td>96</td>\n",
       "      <td>0.225901</td>\n",
       "      <td>1.096447</td>\n",
       "      <td>1</td>\n",
       "    </tr>\n",
       "    <tr>\n",
       "      <th>997</th>\n",
       "      <td>97</td>\n",
       "      <td>0.421895</td>\n",
       "      <td>1.344051</td>\n",
       "      <td>1</td>\n",
       "    </tr>\n",
       "    <tr>\n",
       "      <th>998</th>\n",
       "      <td>98</td>\n",
       "      <td>0.778877</td>\n",
       "      <td>0.565434</td>\n",
       "      <td>1</td>\n",
       "    </tr>\n",
       "    <tr>\n",
       "      <th>999</th>\n",
       "      <td>99</td>\n",
       "      <td>-0.421883</td>\n",
       "      <td>-0.705210</td>\n",
       "      <td>1</td>\n",
       "    </tr>\n",
       "  </tbody>\n",
       "</table>\n",
       "<p>1000 rows × 4 columns</p>\n",
       "</div>"
      ],
      "text/plain": [
       "     index  feature_1  feature_2  target\n",
       "0        0  -0.019536   1.865815       0\n",
       "1        1   0.878209   0.271793       0\n",
       "2        2   0.133781  -2.693590       0\n",
       "3        3  -0.356259   0.049766       0\n",
       "4        4  -0.914269   0.756228       0\n",
       "..     ...        ...        ...     ...\n",
       "995     95  -0.697469  -1.290255       1\n",
       "996     96   0.225901   1.096447       1\n",
       "997     97   0.421895   1.344051       1\n",
       "998     98   0.778877   0.565434       1\n",
       "999     99  -0.421883  -0.705210       1\n",
       "\n",
       "[1000 rows x 4 columns]"
      ]
     },
     "execution_count": 375,
     "metadata": {},
     "output_type": "execute_result"
    }
   ],
   "source": [
    "df"
   ]
  },
  {
   "cell_type": "code",
   "execution_count": 376,
   "id": "a28184c6-0379-4857-9480-c9c38908e5c2",
   "metadata": {
    "tags": []
   },
   "outputs": [],
   "source": [
    "df.drop(['index'] , axis=1 , inplace=True)"
   ]
  },
  {
   "cell_type": "code",
   "execution_count": 377,
   "id": "0de9cf65-5cb3-46e4-8a64-4a12ee4feded",
   "metadata": {
    "tags": []
   },
   "outputs": [
    {
     "data": {
      "text/plain": [
       "0    900\n",
       "1    100\n",
       "Name: target, dtype: int64"
      ]
     },
     "execution_count": 377,
     "metadata": {},
     "output_type": "execute_result"
    }
   ],
   "source": [
    "df['target'].value_counts()"
   ]
  },
  {
   "cell_type": "code",
   "execution_count": 380,
   "id": "49d3fd10-3fa1-445c-9c7b-c5595c2c401f",
   "metadata": {
    "tags": []
   },
   "outputs": [],
   "source": [
    "df_minority=df[df['target']==1]\n",
    "df_majority=df[df['target']==0]"
   ]
  },
  {
   "cell_type": "code",
   "execution_count": 381,
   "id": "502f7b26-b48c-4507-be33-8356e3ae317b",
   "metadata": {
    "tags": []
   },
   "outputs": [
    {
     "data": {
      "text/html": [
       "<div>\n",
       "<style scoped>\n",
       "    .dataframe tbody tr th:only-of-type {\n",
       "        vertical-align: middle;\n",
       "    }\n",
       "\n",
       "    .dataframe tbody tr th {\n",
       "        vertical-align: top;\n",
       "    }\n",
       "\n",
       "    .dataframe thead th {\n",
       "        text-align: right;\n",
       "    }\n",
       "</style>\n",
       "<table border=\"1\" class=\"dataframe\">\n",
       "  <thead>\n",
       "    <tr style=\"text-align: right;\">\n",
       "      <th></th>\n",
       "      <th>feature_1</th>\n",
       "      <th>feature_2</th>\n",
       "      <th>target</th>\n",
       "    </tr>\n",
       "  </thead>\n",
       "  <tbody>\n",
       "    <tr>\n",
       "      <th>900</th>\n",
       "      <td>0.453824</td>\n",
       "      <td>0.144033</td>\n",
       "      <td>1</td>\n",
       "    </tr>\n",
       "    <tr>\n",
       "      <th>901</th>\n",
       "      <td>1.422226</td>\n",
       "      <td>0.659856</td>\n",
       "      <td>1</td>\n",
       "    </tr>\n",
       "    <tr>\n",
       "      <th>902</th>\n",
       "      <td>-0.027443</td>\n",
       "      <td>0.892767</td>\n",
       "      <td>1</td>\n",
       "    </tr>\n",
       "    <tr>\n",
       "      <th>903</th>\n",
       "      <td>-0.273302</td>\n",
       "      <td>1.424092</td>\n",
       "      <td>1</td>\n",
       "    </tr>\n",
       "    <tr>\n",
       "      <th>904</th>\n",
       "      <td>-0.753044</td>\n",
       "      <td>-0.672545</td>\n",
       "      <td>1</td>\n",
       "    </tr>\n",
       "    <tr>\n",
       "      <th>...</th>\n",
       "      <td>...</td>\n",
       "      <td>...</td>\n",
       "      <td>...</td>\n",
       "    </tr>\n",
       "    <tr>\n",
       "      <th>995</th>\n",
       "      <td>-0.697469</td>\n",
       "      <td>-1.290255</td>\n",
       "      <td>1</td>\n",
       "    </tr>\n",
       "    <tr>\n",
       "      <th>996</th>\n",
       "      <td>0.225901</td>\n",
       "      <td>1.096447</td>\n",
       "      <td>1</td>\n",
       "    </tr>\n",
       "    <tr>\n",
       "      <th>997</th>\n",
       "      <td>0.421895</td>\n",
       "      <td>1.344051</td>\n",
       "      <td>1</td>\n",
       "    </tr>\n",
       "    <tr>\n",
       "      <th>998</th>\n",
       "      <td>0.778877</td>\n",
       "      <td>0.565434</td>\n",
       "      <td>1</td>\n",
       "    </tr>\n",
       "    <tr>\n",
       "      <th>999</th>\n",
       "      <td>-0.421883</td>\n",
       "      <td>-0.705210</td>\n",
       "      <td>1</td>\n",
       "    </tr>\n",
       "  </tbody>\n",
       "</table>\n",
       "<p>100 rows × 3 columns</p>\n",
       "</div>"
      ],
      "text/plain": [
       "     feature_1  feature_2  target\n",
       "900   0.453824   0.144033       1\n",
       "901   1.422226   0.659856       1\n",
       "902  -0.027443   0.892767       1\n",
       "903  -0.273302   1.424092       1\n",
       "904  -0.753044  -0.672545       1\n",
       "..         ...        ...     ...\n",
       "995  -0.697469  -1.290255       1\n",
       "996   0.225901   1.096447       1\n",
       "997   0.421895   1.344051       1\n",
       "998   0.778877   0.565434       1\n",
       "999  -0.421883  -0.705210       1\n",
       "\n",
       "[100 rows x 3 columns]"
      ]
     },
     "execution_count": 381,
     "metadata": {},
     "output_type": "execute_result"
    }
   ],
   "source": [
    "df_minority"
   ]
  },
  {
   "cell_type": "code",
   "execution_count": 382,
   "id": "df95419f-b416-4d77-8d2a-8375977b9586",
   "metadata": {
    "tags": []
   },
   "outputs": [
    {
     "data": {
      "text/html": [
       "<div>\n",
       "<style scoped>\n",
       "    .dataframe tbody tr th:only-of-type {\n",
       "        vertical-align: middle;\n",
       "    }\n",
       "\n",
       "    .dataframe tbody tr th {\n",
       "        vertical-align: top;\n",
       "    }\n",
       "\n",
       "    .dataframe thead th {\n",
       "        text-align: right;\n",
       "    }\n",
       "</style>\n",
       "<table border=\"1\" class=\"dataframe\">\n",
       "  <thead>\n",
       "    <tr style=\"text-align: right;\">\n",
       "      <th></th>\n",
       "      <th>feature_1</th>\n",
       "      <th>feature_2</th>\n",
       "      <th>target</th>\n",
       "    </tr>\n",
       "  </thead>\n",
       "  <tbody>\n",
       "    <tr>\n",
       "      <th>0</th>\n",
       "      <td>-0.019536</td>\n",
       "      <td>1.865815</td>\n",
       "      <td>0</td>\n",
       "    </tr>\n",
       "    <tr>\n",
       "      <th>1</th>\n",
       "      <td>0.878209</td>\n",
       "      <td>0.271793</td>\n",
       "      <td>0</td>\n",
       "    </tr>\n",
       "    <tr>\n",
       "      <th>2</th>\n",
       "      <td>0.133781</td>\n",
       "      <td>-2.693590</td>\n",
       "      <td>0</td>\n",
       "    </tr>\n",
       "    <tr>\n",
       "      <th>3</th>\n",
       "      <td>-0.356259</td>\n",
       "      <td>0.049766</td>\n",
       "      <td>0</td>\n",
       "    </tr>\n",
       "    <tr>\n",
       "      <th>4</th>\n",
       "      <td>-0.914269</td>\n",
       "      <td>0.756228</td>\n",
       "      <td>0</td>\n",
       "    </tr>\n",
       "    <tr>\n",
       "      <th>...</th>\n",
       "      <td>...</td>\n",
       "      <td>...</td>\n",
       "      <td>...</td>\n",
       "    </tr>\n",
       "    <tr>\n",
       "      <th>895</th>\n",
       "      <td>-0.859254</td>\n",
       "      <td>0.116461</td>\n",
       "      <td>0</td>\n",
       "    </tr>\n",
       "    <tr>\n",
       "      <th>896</th>\n",
       "      <td>1.251492</td>\n",
       "      <td>1.028282</td>\n",
       "      <td>0</td>\n",
       "    </tr>\n",
       "    <tr>\n",
       "      <th>897</th>\n",
       "      <td>0.548898</td>\n",
       "      <td>-1.322886</td>\n",
       "      <td>0</td>\n",
       "    </tr>\n",
       "    <tr>\n",
       "      <th>898</th>\n",
       "      <td>0.876428</td>\n",
       "      <td>-0.078358</td>\n",
       "      <td>0</td>\n",
       "    </tr>\n",
       "    <tr>\n",
       "      <th>899</th>\n",
       "      <td>0.292413</td>\n",
       "      <td>-0.910742</td>\n",
       "      <td>0</td>\n",
       "    </tr>\n",
       "  </tbody>\n",
       "</table>\n",
       "<p>900 rows × 3 columns</p>\n",
       "</div>"
      ],
      "text/plain": [
       "     feature_1  feature_2  target\n",
       "0    -0.019536   1.865815       0\n",
       "1     0.878209   0.271793       0\n",
       "2     0.133781  -2.693590       0\n",
       "3    -0.356259   0.049766       0\n",
       "4    -0.914269   0.756228       0\n",
       "..         ...        ...     ...\n",
       "895  -0.859254   0.116461       0\n",
       "896   1.251492   1.028282       0\n",
       "897   0.548898  -1.322886       0\n",
       "898   0.876428  -0.078358       0\n",
       "899   0.292413  -0.910742       0\n",
       "\n",
       "[900 rows x 3 columns]"
      ]
     },
     "execution_count": 382,
     "metadata": {},
     "output_type": "execute_result"
    }
   ],
   "source": [
    "df_majority"
   ]
  },
  {
   "cell_type": "code",
   "execution_count": 383,
   "id": "7c7825cf-58ad-4086-a7c9-d076a7b99ab3",
   "metadata": {
    "tags": []
   },
   "outputs": [
    {
     "data": {
      "text/html": [
       "<div>\n",
       "<style scoped>\n",
       "    .dataframe tbody tr th:only-of-type {\n",
       "        vertical-align: middle;\n",
       "    }\n",
       "\n",
       "    .dataframe tbody tr th {\n",
       "        vertical-align: top;\n",
       "    }\n",
       "\n",
       "    .dataframe thead th {\n",
       "        text-align: right;\n",
       "    }\n",
       "</style>\n",
       "<table border=\"1\" class=\"dataframe\">\n",
       "  <thead>\n",
       "    <tr style=\"text-align: right;\">\n",
       "      <th></th>\n",
       "      <th>feature_1</th>\n",
       "      <th>feature_2</th>\n",
       "      <th>target</th>\n",
       "    </tr>\n",
       "  </thead>\n",
       "  <tbody>\n",
       "    <tr>\n",
       "      <th>921</th>\n",
       "      <td>1.024350</td>\n",
       "      <td>-0.519442</td>\n",
       "      <td>1</td>\n",
       "    </tr>\n",
       "    <tr>\n",
       "      <th>969</th>\n",
       "      <td>1.075590</td>\n",
       "      <td>-0.068637</td>\n",
       "      <td>1</td>\n",
       "    </tr>\n",
       "    <tr>\n",
       "      <th>927</th>\n",
       "      <td>0.672771</td>\n",
       "      <td>-0.634195</td>\n",
       "      <td>1</td>\n",
       "    </tr>\n",
       "    <tr>\n",
       "      <th>912</th>\n",
       "      <td>0.220464</td>\n",
       "      <td>1.269772</td>\n",
       "      <td>1</td>\n",
       "    </tr>\n",
       "    <tr>\n",
       "      <th>926</th>\n",
       "      <td>0.163113</td>\n",
       "      <td>0.779390</td>\n",
       "      <td>1</td>\n",
       "    </tr>\n",
       "    <tr>\n",
       "      <th>...</th>\n",
       "      <td>...</td>\n",
       "      <td>...</td>\n",
       "      <td>...</td>\n",
       "    </tr>\n",
       "    <tr>\n",
       "      <th>970</th>\n",
       "      <td>0.587692</td>\n",
       "      <td>0.625692</td>\n",
       "      <td>1</td>\n",
       "    </tr>\n",
       "    <tr>\n",
       "      <th>905</th>\n",
       "      <td>1.268987</td>\n",
       "      <td>0.175707</td>\n",
       "      <td>1</td>\n",
       "    </tr>\n",
       "    <tr>\n",
       "      <th>904</th>\n",
       "      <td>-0.753044</td>\n",
       "      <td>-0.672545</td>\n",
       "      <td>1</td>\n",
       "    </tr>\n",
       "    <tr>\n",
       "      <th>900</th>\n",
       "      <td>0.453824</td>\n",
       "      <td>0.144033</td>\n",
       "      <td>1</td>\n",
       "    </tr>\n",
       "    <tr>\n",
       "      <th>911</th>\n",
       "      <td>-0.074090</td>\n",
       "      <td>0.629975</td>\n",
       "      <td>1</td>\n",
       "    </tr>\n",
       "  </tbody>\n",
       "</table>\n",
       "<p>900 rows × 3 columns</p>\n",
       "</div>"
      ],
      "text/plain": [
       "     feature_1  feature_2  target\n",
       "921   1.024350  -0.519442       1\n",
       "969   1.075590  -0.068637       1\n",
       "927   0.672771  -0.634195       1\n",
       "912   0.220464   1.269772       1\n",
       "926   0.163113   0.779390       1\n",
       "..         ...        ...     ...\n",
       "970   0.587692   0.625692       1\n",
       "905   1.268987   0.175707       1\n",
       "904  -0.753044  -0.672545       1\n",
       "900   0.453824   0.144033       1\n",
       "911  -0.074090   0.629975       1\n",
       "\n",
       "[900 rows x 3 columns]"
      ]
     },
     "execution_count": 383,
     "metadata": {},
     "output_type": "execute_result"
    }
   ],
   "source": [
    "from sklearn.utils import resample\n",
    "\n",
    "df_minority_upsampled=resample(df_minority , replace=True , n_samples=len(df_majority) , random_state=142)\n",
    "df_minority_upsampled"
   ]
  },
  {
   "cell_type": "code",
   "execution_count": 384,
   "id": "36475c0a-cbe5-401a-9f35-c1c1002acc99",
   "metadata": {
    "tags": []
   },
   "outputs": [],
   "source": [
    "df=pd.concat([df_majority , df_minority_upsampled] , axis=0)"
   ]
  },
  {
   "cell_type": "code",
   "execution_count": 385,
   "id": "61ca0453-4bac-46a5-b323-a59177e0986e",
   "metadata": {
    "tags": []
   },
   "outputs": [
    {
     "data": {
      "text/html": [
       "<div>\n",
       "<style scoped>\n",
       "    .dataframe tbody tr th:only-of-type {\n",
       "        vertical-align: middle;\n",
       "    }\n",
       "\n",
       "    .dataframe tbody tr th {\n",
       "        vertical-align: top;\n",
       "    }\n",
       "\n",
       "    .dataframe thead th {\n",
       "        text-align: right;\n",
       "    }\n",
       "</style>\n",
       "<table border=\"1\" class=\"dataframe\">\n",
       "  <thead>\n",
       "    <tr style=\"text-align: right;\">\n",
       "      <th></th>\n",
       "      <th>feature_1</th>\n",
       "      <th>feature_2</th>\n",
       "      <th>target</th>\n",
       "    </tr>\n",
       "  </thead>\n",
       "  <tbody>\n",
       "    <tr>\n",
       "      <th>0</th>\n",
       "      <td>-0.019536</td>\n",
       "      <td>1.865815</td>\n",
       "      <td>0</td>\n",
       "    </tr>\n",
       "    <tr>\n",
       "      <th>1</th>\n",
       "      <td>0.878209</td>\n",
       "      <td>0.271793</td>\n",
       "      <td>0</td>\n",
       "    </tr>\n",
       "    <tr>\n",
       "      <th>2</th>\n",
       "      <td>0.133781</td>\n",
       "      <td>-2.693590</td>\n",
       "      <td>0</td>\n",
       "    </tr>\n",
       "    <tr>\n",
       "      <th>3</th>\n",
       "      <td>-0.356259</td>\n",
       "      <td>0.049766</td>\n",
       "      <td>0</td>\n",
       "    </tr>\n",
       "    <tr>\n",
       "      <th>4</th>\n",
       "      <td>-0.914269</td>\n",
       "      <td>0.756228</td>\n",
       "      <td>0</td>\n",
       "    </tr>\n",
       "    <tr>\n",
       "      <th>...</th>\n",
       "      <td>...</td>\n",
       "      <td>...</td>\n",
       "      <td>...</td>\n",
       "    </tr>\n",
       "    <tr>\n",
       "      <th>970</th>\n",
       "      <td>0.587692</td>\n",
       "      <td>0.625692</td>\n",
       "      <td>1</td>\n",
       "    </tr>\n",
       "    <tr>\n",
       "      <th>905</th>\n",
       "      <td>1.268987</td>\n",
       "      <td>0.175707</td>\n",
       "      <td>1</td>\n",
       "    </tr>\n",
       "    <tr>\n",
       "      <th>904</th>\n",
       "      <td>-0.753044</td>\n",
       "      <td>-0.672545</td>\n",
       "      <td>1</td>\n",
       "    </tr>\n",
       "    <tr>\n",
       "      <th>900</th>\n",
       "      <td>0.453824</td>\n",
       "      <td>0.144033</td>\n",
       "      <td>1</td>\n",
       "    </tr>\n",
       "    <tr>\n",
       "      <th>911</th>\n",
       "      <td>-0.074090</td>\n",
       "      <td>0.629975</td>\n",
       "      <td>1</td>\n",
       "    </tr>\n",
       "  </tbody>\n",
       "</table>\n",
       "<p>1800 rows × 3 columns</p>\n",
       "</div>"
      ],
      "text/plain": [
       "     feature_1  feature_2  target\n",
       "0    -0.019536   1.865815       0\n",
       "1     0.878209   0.271793       0\n",
       "2     0.133781  -2.693590       0\n",
       "3    -0.356259   0.049766       0\n",
       "4    -0.914269   0.756228       0\n",
       "..         ...        ...     ...\n",
       "970   0.587692   0.625692       1\n",
       "905   1.268987   0.175707       1\n",
       "904  -0.753044  -0.672545       1\n",
       "900   0.453824   0.144033       1\n",
       "911  -0.074090   0.629975       1\n",
       "\n",
       "[1800 rows x 3 columns]"
      ]
     },
     "execution_count": 385,
     "metadata": {},
     "output_type": "execute_result"
    }
   ],
   "source": [
    "df"
   ]
  },
  {
   "cell_type": "markdown",
   "id": "2cb3d905-3f80-4e5c-ab70-67c9331af4e9",
   "metadata": {},
   "source": [
    "### **Downsample**"
   ]
  },
  {
   "cell_type": "code",
   "execution_count": 387,
   "id": "bd2d907c-6856-41f5-9ab0-7bf69617d2a6",
   "metadata": {
    "tags": []
   },
   "outputs": [],
   "source": [
    "n_sample=1000\n",
    "n_class_0_pct=0.9\n",
    "class_0=int(n_sample*n_class_0_pct)\n",
    "class_1=n_sample-class_0\n",
    "\n",
    "class_0 = pd.DataFrame({\n",
    "    'feature_1' : np.random.normal(loc=0 , scale=1 , size= class_0),\n",
    "    'feature_2' : np.random.normal(loc=0 , scale=1 , size=class_0),\n",
    "    'target' : [0] * class_0\n",
    "})\n",
    "\n",
    "class_1 = pd.DataFrame({\n",
    "    'feature_1' : np.random.normal(loc=0 , scale=1 , size=class_1),\n",
    "    'feature_2' : np.random.normal(loc=0 , scale=1 , size=class_1) , \n",
    "    'target' : [1] * class_1\n",
    "})"
   ]
  },
  {
   "cell_type": "code",
   "execution_count": 390,
   "id": "39152038-ed49-4462-b0c5-22fb48d809fe",
   "metadata": {
    "tags": []
   },
   "outputs": [],
   "source": [
    "df=pd.concat([class_0  , class_1]).reset_index(drop=True)"
   ]
  },
  {
   "cell_type": "code",
   "execution_count": 391,
   "id": "6e0a2fb4-18c0-4055-ade5-34219d81ce81",
   "metadata": {
    "tags": []
   },
   "outputs": [
    {
     "data": {
      "text/html": [
       "<div>\n",
       "<style scoped>\n",
       "    .dataframe tbody tr th:only-of-type {\n",
       "        vertical-align: middle;\n",
       "    }\n",
       "\n",
       "    .dataframe tbody tr th {\n",
       "        vertical-align: top;\n",
       "    }\n",
       "\n",
       "    .dataframe thead th {\n",
       "        text-align: right;\n",
       "    }\n",
       "</style>\n",
       "<table border=\"1\" class=\"dataframe\">\n",
       "  <thead>\n",
       "    <tr style=\"text-align: right;\">\n",
       "      <th></th>\n",
       "      <th>feature_1</th>\n",
       "      <th>feature_2</th>\n",
       "      <th>target</th>\n",
       "    </tr>\n",
       "  </thead>\n",
       "  <tbody>\n",
       "    <tr>\n",
       "      <th>0</th>\n",
       "      <td>0.242831</td>\n",
       "      <td>-0.027322</td>\n",
       "      <td>0</td>\n",
       "    </tr>\n",
       "    <tr>\n",
       "      <th>1</th>\n",
       "      <td>-1.316681</td>\n",
       "      <td>1.272801</td>\n",
       "      <td>0</td>\n",
       "    </tr>\n",
       "    <tr>\n",
       "      <th>2</th>\n",
       "      <td>0.231454</td>\n",
       "      <td>-0.022601</td>\n",
       "      <td>0</td>\n",
       "    </tr>\n",
       "    <tr>\n",
       "      <th>3</th>\n",
       "      <td>0.070773</td>\n",
       "      <td>-0.483606</td>\n",
       "      <td>0</td>\n",
       "    </tr>\n",
       "    <tr>\n",
       "      <th>4</th>\n",
       "      <td>0.246936</td>\n",
       "      <td>0.330920</td>\n",
       "      <td>0</td>\n",
       "    </tr>\n",
       "    <tr>\n",
       "      <th>...</th>\n",
       "      <td>...</td>\n",
       "      <td>...</td>\n",
       "      <td>...</td>\n",
       "    </tr>\n",
       "    <tr>\n",
       "      <th>995</th>\n",
       "      <td>-1.927722</td>\n",
       "      <td>0.040410</td>\n",
       "      <td>1</td>\n",
       "    </tr>\n",
       "    <tr>\n",
       "      <th>996</th>\n",
       "      <td>-1.020541</td>\n",
       "      <td>-0.807962</td>\n",
       "      <td>1</td>\n",
       "    </tr>\n",
       "    <tr>\n",
       "      <th>997</th>\n",
       "      <td>0.105545</td>\n",
       "      <td>0.175023</td>\n",
       "      <td>1</td>\n",
       "    </tr>\n",
       "    <tr>\n",
       "      <th>998</th>\n",
       "      <td>0.723689</td>\n",
       "      <td>0.789105</td>\n",
       "      <td>1</td>\n",
       "    </tr>\n",
       "    <tr>\n",
       "      <th>999</th>\n",
       "      <td>0.433046</td>\n",
       "      <td>0.118551</td>\n",
       "      <td>1</td>\n",
       "    </tr>\n",
       "  </tbody>\n",
       "</table>\n",
       "<p>1000 rows × 3 columns</p>\n",
       "</div>"
      ],
      "text/plain": [
       "     feature_1  feature_2  target\n",
       "0     0.242831  -0.027322       0\n",
       "1    -1.316681   1.272801       0\n",
       "2     0.231454  -0.022601       0\n",
       "3     0.070773  -0.483606       0\n",
       "4     0.246936   0.330920       0\n",
       "..         ...        ...     ...\n",
       "995  -1.927722   0.040410       1\n",
       "996  -1.020541  -0.807962       1\n",
       "997   0.105545   0.175023       1\n",
       "998   0.723689   0.789105       1\n",
       "999   0.433046   0.118551       1\n",
       "\n",
       "[1000 rows x 3 columns]"
      ]
     },
     "execution_count": 391,
     "metadata": {},
     "output_type": "execute_result"
    }
   ],
   "source": [
    "df"
   ]
  },
  {
   "cell_type": "code",
   "execution_count": 392,
   "id": "475f3718-c0a1-4b94-9ece-ad1d2378a4fc",
   "metadata": {
    "tags": []
   },
   "outputs": [],
   "source": [
    "df_minority=df[df['target']==1]"
   ]
  },
  {
   "cell_type": "code",
   "execution_count": 393,
   "id": "054fd182-f802-47d1-a9f4-ae71826a933f",
   "metadata": {
    "tags": []
   },
   "outputs": [],
   "source": [
    "df_majority=df[df['target']==0]"
   ]
  },
  {
   "cell_type": "code",
   "execution_count": 395,
   "id": "7af622b0-7ab2-42f6-ad86-9e23f5a789f6",
   "metadata": {
    "tags": []
   },
   "outputs": [],
   "source": [
    "from sklearn.utils import resample\n",
    "down_scaled=resample(df_majority, replace=False , n_samples=len(df_minority))\n",
    "down_scaled=down_scaled.reset_index(drop=True)"
   ]
  },
  {
   "cell_type": "code",
   "execution_count": 396,
   "id": "917b6d88-b8e4-4900-99a9-1a4e235ca22e",
   "metadata": {
    "tags": []
   },
   "outputs": [
    {
     "data": {
      "text/html": [
       "<div>\n",
       "<style scoped>\n",
       "    .dataframe tbody tr th:only-of-type {\n",
       "        vertical-align: middle;\n",
       "    }\n",
       "\n",
       "    .dataframe tbody tr th {\n",
       "        vertical-align: top;\n",
       "    }\n",
       "\n",
       "    .dataframe thead th {\n",
       "        text-align: right;\n",
       "    }\n",
       "</style>\n",
       "<table border=\"1\" class=\"dataframe\">\n",
       "  <thead>\n",
       "    <tr style=\"text-align: right;\">\n",
       "      <th></th>\n",
       "      <th>feature_1</th>\n",
       "      <th>feature_2</th>\n",
       "      <th>target</th>\n",
       "    </tr>\n",
       "  </thead>\n",
       "  <tbody>\n",
       "    <tr>\n",
       "      <th>0</th>\n",
       "      <td>0.450688</td>\n",
       "      <td>1.603669</td>\n",
       "      <td>0</td>\n",
       "    </tr>\n",
       "    <tr>\n",
       "      <th>1</th>\n",
       "      <td>-1.311378</td>\n",
       "      <td>0.611379</td>\n",
       "      <td>0</td>\n",
       "    </tr>\n",
       "    <tr>\n",
       "      <th>2</th>\n",
       "      <td>-1.437840</td>\n",
       "      <td>0.625386</td>\n",
       "      <td>0</td>\n",
       "    </tr>\n",
       "    <tr>\n",
       "      <th>3</th>\n",
       "      <td>-0.159315</td>\n",
       "      <td>0.181090</td>\n",
       "      <td>0</td>\n",
       "    </tr>\n",
       "    <tr>\n",
       "      <th>4</th>\n",
       "      <td>-1.075604</td>\n",
       "      <td>-1.015208</td>\n",
       "      <td>0</td>\n",
       "    </tr>\n",
       "    <tr>\n",
       "      <th>...</th>\n",
       "      <td>...</td>\n",
       "      <td>...</td>\n",
       "      <td>...</td>\n",
       "    </tr>\n",
       "    <tr>\n",
       "      <th>95</th>\n",
       "      <td>-1.632898</td>\n",
       "      <td>0.083625</td>\n",
       "      <td>0</td>\n",
       "    </tr>\n",
       "    <tr>\n",
       "      <th>96</th>\n",
       "      <td>0.274804</td>\n",
       "      <td>0.751072</td>\n",
       "      <td>0</td>\n",
       "    </tr>\n",
       "    <tr>\n",
       "      <th>97</th>\n",
       "      <td>0.122697</td>\n",
       "      <td>-1.217296</td>\n",
       "      <td>0</td>\n",
       "    </tr>\n",
       "    <tr>\n",
       "      <th>98</th>\n",
       "      <td>1.519794</td>\n",
       "      <td>0.449517</td>\n",
       "      <td>0</td>\n",
       "    </tr>\n",
       "    <tr>\n",
       "      <th>99</th>\n",
       "      <td>0.630317</td>\n",
       "      <td>0.030477</td>\n",
       "      <td>0</td>\n",
       "    </tr>\n",
       "  </tbody>\n",
       "</table>\n",
       "<p>100 rows × 3 columns</p>\n",
       "</div>"
      ],
      "text/plain": [
       "    feature_1  feature_2  target\n",
       "0    0.450688   1.603669       0\n",
       "1   -1.311378   0.611379       0\n",
       "2   -1.437840   0.625386       0\n",
       "3   -0.159315   0.181090       0\n",
       "4   -1.075604  -1.015208       0\n",
       "..        ...        ...     ...\n",
       "95  -1.632898   0.083625       0\n",
       "96   0.274804   0.751072       0\n",
       "97   0.122697  -1.217296       0\n",
       "98   1.519794   0.449517       0\n",
       "99   0.630317   0.030477       0\n",
       "\n",
       "[100 rows x 3 columns]"
      ]
     },
     "execution_count": 396,
     "metadata": {},
     "output_type": "execute_result"
    }
   ],
   "source": [
    "down_scaled"
   ]
  },
  {
   "cell_type": "code",
   "execution_count": 397,
   "id": "e18b8c7f-9a0c-42d3-8a01-9b9b1256003f",
   "metadata": {
    "tags": []
   },
   "outputs": [],
   "source": [
    "df=pd.concat([down_scaled , df_minority] , axis=0).reset_index(drop=True)"
   ]
  },
  {
   "cell_type": "code",
   "execution_count": 398,
   "id": "0dc43f34-3e2d-4a28-a48f-6b540e23d94f",
   "metadata": {
    "tags": []
   },
   "outputs": [
    {
     "data": {
      "text/html": [
       "<div>\n",
       "<style scoped>\n",
       "    .dataframe tbody tr th:only-of-type {\n",
       "        vertical-align: middle;\n",
       "    }\n",
       "\n",
       "    .dataframe tbody tr th {\n",
       "        vertical-align: top;\n",
       "    }\n",
       "\n",
       "    .dataframe thead th {\n",
       "        text-align: right;\n",
       "    }\n",
       "</style>\n",
       "<table border=\"1\" class=\"dataframe\">\n",
       "  <thead>\n",
       "    <tr style=\"text-align: right;\">\n",
       "      <th></th>\n",
       "      <th>feature_1</th>\n",
       "      <th>feature_2</th>\n",
       "      <th>target</th>\n",
       "    </tr>\n",
       "  </thead>\n",
       "  <tbody>\n",
       "    <tr>\n",
       "      <th>0</th>\n",
       "      <td>0.450688</td>\n",
       "      <td>1.603669</td>\n",
       "      <td>0</td>\n",
       "    </tr>\n",
       "    <tr>\n",
       "      <th>1</th>\n",
       "      <td>-1.311378</td>\n",
       "      <td>0.611379</td>\n",
       "      <td>0</td>\n",
       "    </tr>\n",
       "    <tr>\n",
       "      <th>2</th>\n",
       "      <td>-1.437840</td>\n",
       "      <td>0.625386</td>\n",
       "      <td>0</td>\n",
       "    </tr>\n",
       "    <tr>\n",
       "      <th>3</th>\n",
       "      <td>-0.159315</td>\n",
       "      <td>0.181090</td>\n",
       "      <td>0</td>\n",
       "    </tr>\n",
       "    <tr>\n",
       "      <th>4</th>\n",
       "      <td>-1.075604</td>\n",
       "      <td>-1.015208</td>\n",
       "      <td>0</td>\n",
       "    </tr>\n",
       "    <tr>\n",
       "      <th>...</th>\n",
       "      <td>...</td>\n",
       "      <td>...</td>\n",
       "      <td>...</td>\n",
       "    </tr>\n",
       "    <tr>\n",
       "      <th>195</th>\n",
       "      <td>-1.927722</td>\n",
       "      <td>0.040410</td>\n",
       "      <td>1</td>\n",
       "    </tr>\n",
       "    <tr>\n",
       "      <th>196</th>\n",
       "      <td>-1.020541</td>\n",
       "      <td>-0.807962</td>\n",
       "      <td>1</td>\n",
       "    </tr>\n",
       "    <tr>\n",
       "      <th>197</th>\n",
       "      <td>0.105545</td>\n",
       "      <td>0.175023</td>\n",
       "      <td>1</td>\n",
       "    </tr>\n",
       "    <tr>\n",
       "      <th>198</th>\n",
       "      <td>0.723689</td>\n",
       "      <td>0.789105</td>\n",
       "      <td>1</td>\n",
       "    </tr>\n",
       "    <tr>\n",
       "      <th>199</th>\n",
       "      <td>0.433046</td>\n",
       "      <td>0.118551</td>\n",
       "      <td>1</td>\n",
       "    </tr>\n",
       "  </tbody>\n",
       "</table>\n",
       "<p>200 rows × 3 columns</p>\n",
       "</div>"
      ],
      "text/plain": [
       "     feature_1  feature_2  target\n",
       "0     0.450688   1.603669       0\n",
       "1    -1.311378   0.611379       0\n",
       "2    -1.437840   0.625386       0\n",
       "3    -0.159315   0.181090       0\n",
       "4    -1.075604  -1.015208       0\n",
       "..         ...        ...     ...\n",
       "195  -1.927722   0.040410       1\n",
       "196  -1.020541  -0.807962       1\n",
       "197   0.105545   0.175023       1\n",
       "198   0.723689   0.789105       1\n",
       "199   0.433046   0.118551       1\n",
       "\n",
       "[200 rows x 3 columns]"
      ]
     },
     "execution_count": 398,
     "metadata": {},
     "output_type": "execute_result"
    }
   ],
   "source": [
    "df"
   ]
  },
  {
   "cell_type": "markdown",
   "id": "cd754530-b187-4aab-808d-08290b3d74fa",
   "metadata": {},
   "source": [
    "### What is data Augmentation? Explain SMOTE.\n",
    "\n",
    "Data augmentation is a technique used to increase the amount of data by artificially generating new data points. In the context of handling imbalanced datasets, data augmentation helps by adding more samples to the minority class, thereby improving model performance and reducing bias.\n",
    "\n",
    "This is particularly important because imbalanced datasets can lead to biased ML models, where the model favors the majority class, resulting in poor accuracy for minority class predictions.\n",
    "\n",
    "SMOTE (Synthetic Minority Over-sampling Technique):\n",
    "SMOTE is a statistical resampling technique that generates synthetic data points for the minority class instead of simply duplicating existing ones.\n",
    "\n",
    "It works by using k-Nearest Neighbors (KNN) to create new synthetic samples between existing minority class points.\n",
    "These new points fall within the range of existing data and follow the same distribution, making them more realistic.\n",
    "This helps in balancing the dataset, improving model learning without overfitting to duplicated data."
   ]
  },
  {
   "cell_type": "code",
   "execution_count": 400,
   "id": "4e6f5568-eb35-4743-a9cf-6574d6a88366",
   "metadata": {
    "tags": []
   },
   "outputs": [],
   "source": [
    "from sklearn.datasets import make_classification\n",
    "X , y = make_classification(n_samples=1000 , n_features=2 , n_clusters_per_class=1 , weights=[0.90] ,n_redundant=0)"
   ]
  },
  {
   "cell_type": "code",
   "execution_count": 401,
   "id": "b0f9ed25-161f-46b2-b263-8c46711c2b3d",
   "metadata": {
    "tags": []
   },
   "outputs": [],
   "source": [
    "X=pd.DataFrame(X , columns=['f1' , 'f2'])\n",
    "y=pd.DataFrame(y , columns=['target'])"
   ]
  },
  {
   "cell_type": "code",
   "execution_count": 402,
   "id": "6e655c73-822c-4caa-8846-223568724392",
   "metadata": {
    "tags": []
   },
   "outputs": [
    {
     "data": {
      "text/html": [
       "<div>\n",
       "<style scoped>\n",
       "    .dataframe tbody tr th:only-of-type {\n",
       "        vertical-align: middle;\n",
       "    }\n",
       "\n",
       "    .dataframe tbody tr th {\n",
       "        vertical-align: top;\n",
       "    }\n",
       "\n",
       "    .dataframe thead th {\n",
       "        text-align: right;\n",
       "    }\n",
       "</style>\n",
       "<table border=\"1\" class=\"dataframe\">\n",
       "  <thead>\n",
       "    <tr style=\"text-align: right;\">\n",
       "      <th></th>\n",
       "      <th>f1</th>\n",
       "      <th>f2</th>\n",
       "    </tr>\n",
       "  </thead>\n",
       "  <tbody>\n",
       "    <tr>\n",
       "      <th>0</th>\n",
       "      <td>-1.192809</td>\n",
       "      <td>-0.876159</td>\n",
       "    </tr>\n",
       "    <tr>\n",
       "      <th>1</th>\n",
       "      <td>-0.614744</td>\n",
       "      <td>-1.601903</td>\n",
       "    </tr>\n",
       "    <tr>\n",
       "      <th>2</th>\n",
       "      <td>-1.465197</td>\n",
       "      <td>0.100651</td>\n",
       "    </tr>\n",
       "    <tr>\n",
       "      <th>3</th>\n",
       "      <td>-1.594065</td>\n",
       "      <td>0.483221</td>\n",
       "    </tr>\n",
       "    <tr>\n",
       "      <th>4</th>\n",
       "      <td>-1.679383</td>\n",
       "      <td>-0.638046</td>\n",
       "    </tr>\n",
       "    <tr>\n",
       "      <th>...</th>\n",
       "      <td>...</td>\n",
       "      <td>...</td>\n",
       "    </tr>\n",
       "    <tr>\n",
       "      <th>995</th>\n",
       "      <td>-0.316234</td>\n",
       "      <td>-1.782007</td>\n",
       "    </tr>\n",
       "    <tr>\n",
       "      <th>996</th>\n",
       "      <td>-0.833699</td>\n",
       "      <td>-0.878334</td>\n",
       "    </tr>\n",
       "    <tr>\n",
       "      <th>997</th>\n",
       "      <td>-0.066377</td>\n",
       "      <td>-1.580619</td>\n",
       "    </tr>\n",
       "    <tr>\n",
       "      <th>998</th>\n",
       "      <td>-0.540804</td>\n",
       "      <td>-0.971612</td>\n",
       "    </tr>\n",
       "    <tr>\n",
       "      <th>999</th>\n",
       "      <td>0.310612</td>\n",
       "      <td>-2.088896</td>\n",
       "    </tr>\n",
       "  </tbody>\n",
       "</table>\n",
       "<p>1000 rows × 2 columns</p>\n",
       "</div>"
      ],
      "text/plain": [
       "           f1        f2\n",
       "0   -1.192809 -0.876159\n",
       "1   -0.614744 -1.601903\n",
       "2   -1.465197  0.100651\n",
       "3   -1.594065  0.483221\n",
       "4   -1.679383 -0.638046\n",
       "..        ...       ...\n",
       "995 -0.316234 -1.782007\n",
       "996 -0.833699 -0.878334\n",
       "997 -0.066377 -1.580619\n",
       "998 -0.540804 -0.971612\n",
       "999  0.310612 -2.088896\n",
       "\n",
       "[1000 rows x 2 columns]"
      ]
     },
     "execution_count": 402,
     "metadata": {},
     "output_type": "execute_result"
    }
   ],
   "source": [
    "X"
   ]
  },
  {
   "cell_type": "code",
   "execution_count": 403,
   "id": "1455aa44-37e0-4790-b31c-d0f5a70c8243",
   "metadata": {
    "tags": []
   },
   "outputs": [
    {
     "data": {
      "text/html": [
       "<div>\n",
       "<style scoped>\n",
       "    .dataframe tbody tr th:only-of-type {\n",
       "        vertical-align: middle;\n",
       "    }\n",
       "\n",
       "    .dataframe tbody tr th {\n",
       "        vertical-align: top;\n",
       "    }\n",
       "\n",
       "    .dataframe thead th {\n",
       "        text-align: right;\n",
       "    }\n",
       "</style>\n",
       "<table border=\"1\" class=\"dataframe\">\n",
       "  <thead>\n",
       "    <tr style=\"text-align: right;\">\n",
       "      <th></th>\n",
       "      <th>target</th>\n",
       "    </tr>\n",
       "  </thead>\n",
       "  <tbody>\n",
       "    <tr>\n",
       "      <th>0</th>\n",
       "      <td>0</td>\n",
       "    </tr>\n",
       "    <tr>\n",
       "      <th>1</th>\n",
       "      <td>0</td>\n",
       "    </tr>\n",
       "    <tr>\n",
       "      <th>2</th>\n",
       "      <td>0</td>\n",
       "    </tr>\n",
       "    <tr>\n",
       "      <th>3</th>\n",
       "      <td>0</td>\n",
       "    </tr>\n",
       "    <tr>\n",
       "      <th>4</th>\n",
       "      <td>0</td>\n",
       "    </tr>\n",
       "    <tr>\n",
       "      <th>...</th>\n",
       "      <td>...</td>\n",
       "    </tr>\n",
       "    <tr>\n",
       "      <th>995</th>\n",
       "      <td>0</td>\n",
       "    </tr>\n",
       "    <tr>\n",
       "      <th>996</th>\n",
       "      <td>0</td>\n",
       "    </tr>\n",
       "    <tr>\n",
       "      <th>997</th>\n",
       "      <td>0</td>\n",
       "    </tr>\n",
       "    <tr>\n",
       "      <th>998</th>\n",
       "      <td>0</td>\n",
       "    </tr>\n",
       "    <tr>\n",
       "      <th>999</th>\n",
       "      <td>0</td>\n",
       "    </tr>\n",
       "  </tbody>\n",
       "</table>\n",
       "<p>1000 rows × 1 columns</p>\n",
       "</div>"
      ],
      "text/plain": [
       "     target\n",
       "0         0\n",
       "1         0\n",
       "2         0\n",
       "3         0\n",
       "4         0\n",
       "..      ...\n",
       "995       0\n",
       "996       0\n",
       "997       0\n",
       "998       0\n",
       "999       0\n",
       "\n",
       "[1000 rows x 1 columns]"
      ]
     },
     "execution_count": 403,
     "metadata": {},
     "output_type": "execute_result"
    }
   ],
   "source": [
    "y"
   ]
  },
  {
   "cell_type": "code",
   "execution_count": 404,
   "id": "195db478-c410-4a0b-8138-23050afed50d",
   "metadata": {
    "tags": []
   },
   "outputs": [],
   "source": [
    "df=pd.concat([X , y] ,axis=1)"
   ]
  },
  {
   "cell_type": "code",
   "execution_count": 405,
   "id": "e829811f-9354-4ac5-8ea5-67af2218861a",
   "metadata": {
    "tags": []
   },
   "outputs": [
    {
     "data": {
      "text/html": [
       "<div>\n",
       "<style scoped>\n",
       "    .dataframe tbody tr th:only-of-type {\n",
       "        vertical-align: middle;\n",
       "    }\n",
       "\n",
       "    .dataframe tbody tr th {\n",
       "        vertical-align: top;\n",
       "    }\n",
       "\n",
       "    .dataframe thead th {\n",
       "        text-align: right;\n",
       "    }\n",
       "</style>\n",
       "<table border=\"1\" class=\"dataframe\">\n",
       "  <thead>\n",
       "    <tr style=\"text-align: right;\">\n",
       "      <th></th>\n",
       "      <th>f1</th>\n",
       "      <th>f2</th>\n",
       "      <th>target</th>\n",
       "    </tr>\n",
       "  </thead>\n",
       "  <tbody>\n",
       "    <tr>\n",
       "      <th>0</th>\n",
       "      <td>-1.192809</td>\n",
       "      <td>-0.876159</td>\n",
       "      <td>0</td>\n",
       "    </tr>\n",
       "    <tr>\n",
       "      <th>1</th>\n",
       "      <td>-0.614744</td>\n",
       "      <td>-1.601903</td>\n",
       "      <td>0</td>\n",
       "    </tr>\n",
       "    <tr>\n",
       "      <th>2</th>\n",
       "      <td>-1.465197</td>\n",
       "      <td>0.100651</td>\n",
       "      <td>0</td>\n",
       "    </tr>\n",
       "    <tr>\n",
       "      <th>3</th>\n",
       "      <td>-1.594065</td>\n",
       "      <td>0.483221</td>\n",
       "      <td>0</td>\n",
       "    </tr>\n",
       "    <tr>\n",
       "      <th>4</th>\n",
       "      <td>-1.679383</td>\n",
       "      <td>-0.638046</td>\n",
       "      <td>0</td>\n",
       "    </tr>\n",
       "    <tr>\n",
       "      <th>...</th>\n",
       "      <td>...</td>\n",
       "      <td>...</td>\n",
       "      <td>...</td>\n",
       "    </tr>\n",
       "    <tr>\n",
       "      <th>995</th>\n",
       "      <td>-0.316234</td>\n",
       "      <td>-1.782007</td>\n",
       "      <td>0</td>\n",
       "    </tr>\n",
       "    <tr>\n",
       "      <th>996</th>\n",
       "      <td>-0.833699</td>\n",
       "      <td>-0.878334</td>\n",
       "      <td>0</td>\n",
       "    </tr>\n",
       "    <tr>\n",
       "      <th>997</th>\n",
       "      <td>-0.066377</td>\n",
       "      <td>-1.580619</td>\n",
       "      <td>0</td>\n",
       "    </tr>\n",
       "    <tr>\n",
       "      <th>998</th>\n",
       "      <td>-0.540804</td>\n",
       "      <td>-0.971612</td>\n",
       "      <td>0</td>\n",
       "    </tr>\n",
       "    <tr>\n",
       "      <th>999</th>\n",
       "      <td>0.310612</td>\n",
       "      <td>-2.088896</td>\n",
       "      <td>0</td>\n",
       "    </tr>\n",
       "  </tbody>\n",
       "</table>\n",
       "<p>1000 rows × 3 columns</p>\n",
       "</div>"
      ],
      "text/plain": [
       "           f1        f2  target\n",
       "0   -1.192809 -0.876159       0\n",
       "1   -0.614744 -1.601903       0\n",
       "2   -1.465197  0.100651       0\n",
       "3   -1.594065  0.483221       0\n",
       "4   -1.679383 -0.638046       0\n",
       "..        ...       ...     ...\n",
       "995 -0.316234 -1.782007       0\n",
       "996 -0.833699 -0.878334       0\n",
       "997 -0.066377 -1.580619       0\n",
       "998 -0.540804 -0.971612       0\n",
       "999  0.310612 -2.088896       0\n",
       "\n",
       "[1000 rows x 3 columns]"
      ]
     },
     "execution_count": 405,
     "metadata": {},
     "output_type": "execute_result"
    }
   ],
   "source": [
    "df"
   ]
  },
  {
   "cell_type": "code",
   "execution_count": 409,
   "id": "da8c7325-559b-4443-b6cb-1b8aeb652341",
   "metadata": {
    "tags": []
   },
   "outputs": [
    {
     "data": {
      "text/plain": [
       "0    897\n",
       "1    103\n",
       "Name: target, dtype: int64"
      ]
     },
     "execution_count": 409,
     "metadata": {},
     "output_type": "execute_result"
    }
   ],
   "source": [
    "df['target'].value_counts()"
   ]
  },
  {
   "cell_type": "code",
   "execution_count": 411,
   "id": "9f3a7c07-3f83-4c51-b438-5633ad76d275",
   "metadata": {
    "tags": []
   },
   "outputs": [
    {
     "data": {
      "text/plain": [
       "<matplotlib.collections.PathCollection at 0x21a8990fcd0>"
      ]
     },
     "execution_count": 411,
     "metadata": {},
     "output_type": "execute_result"
    },
    {
     "data": {
      "image/png": "[encoded data removed]",
      "text/plain": [
       "<Figure size 640x480 with 1 Axes>"
      ]
     },
     "metadata": {},
     "output_type": "display_data"
    }
   ],
   "source": [
    "plt.scatter(df['f1'] , df['f2'] , c=df['target'])"
   ]
  },
  {
   "cell_type": "code",
   "execution_count": 415,
   "id": "c406cc10-ecd3-4302-9f79-562784252766",
   "metadata": {
    "tags": []
   },
   "outputs": [],
   "source": [
    "from imblearn.over_sampling import SMOTE\n",
    "\n",
    "smote = SMOTE()\n",
    "X , y = smote.fit_resample(df[['f1','f2']] , df['target'])"
   ]
  },
  {
   "cell_type": "code",
   "execution_count": 417,
   "id": "7011028f-ed98-4637-b51b-3716230346ac",
   "metadata": {
    "tags": []
   },
   "outputs": [],
   "source": [
    "X=pd.DataFrame(X)\n",
    "y=pd.DataFrame(y)"
   ]
  },
  {
   "cell_type": "code",
   "execution_count": 422,
   "id": "7037369a-b9a0-45cc-8755-768835d32d0e",
   "metadata": {
    "tags": []
   },
   "outputs": [],
   "source": [
    "df=pd.concat([X ,y] , axis=1).reset_index(drop=True)"
   ]
  },
  {
   "cell_type": "code",
   "execution_count": 423,
   "id": "ba910f4d-1c71-4ec1-b214-8b400c71d698",
   "metadata": {
    "tags": []
   },
   "outputs": [
    {
     "data": {
      "text/html": [
       "<div>\n",
       "<style scoped>\n",
       "    .dataframe tbody tr th:only-of-type {\n",
       "        vertical-align: middle;\n",
       "    }\n",
       "\n",
       "    .dataframe tbody tr th {\n",
       "        vertical-align: top;\n",
       "    }\n",
       "\n",
       "    .dataframe thead th {\n",
       "        text-align: right;\n",
       "    }\n",
       "</style>\n",
       "<table border=\"1\" class=\"dataframe\">\n",
       "  <thead>\n",
       "    <tr style=\"text-align: right;\">\n",
       "      <th></th>\n",
       "      <th>f1</th>\n",
       "      <th>f2</th>\n",
       "      <th>target</th>\n",
       "    </tr>\n",
       "  </thead>\n",
       "  <tbody>\n",
       "    <tr>\n",
       "      <th>0</th>\n",
       "      <td>-1.192809</td>\n",
       "      <td>-0.876159</td>\n",
       "      <td>0</td>\n",
       "    </tr>\n",
       "    <tr>\n",
       "      <th>1</th>\n",
       "      <td>-0.614744</td>\n",
       "      <td>-1.601903</td>\n",
       "      <td>0</td>\n",
       "    </tr>\n",
       "    <tr>\n",
       "      <th>2</th>\n",
       "      <td>-1.465197</td>\n",
       "      <td>0.100651</td>\n",
       "      <td>0</td>\n",
       "    </tr>\n",
       "    <tr>\n",
       "      <th>3</th>\n",
       "      <td>-1.594065</td>\n",
       "      <td>0.483221</td>\n",
       "      <td>0</td>\n",
       "    </tr>\n",
       "    <tr>\n",
       "      <th>4</th>\n",
       "      <td>-1.679383</td>\n",
       "      <td>-0.638046</td>\n",
       "      <td>0</td>\n",
       "    </tr>\n",
       "    <tr>\n",
       "      <th>...</th>\n",
       "      <td>...</td>\n",
       "      <td>...</td>\n",
       "      <td>...</td>\n",
       "    </tr>\n",
       "    <tr>\n",
       "      <th>1789</th>\n",
       "      <td>1.279439</td>\n",
       "      <td>-0.979951</td>\n",
       "      <td>1</td>\n",
       "    </tr>\n",
       "    <tr>\n",
       "      <th>1790</th>\n",
       "      <td>0.810363</td>\n",
       "      <td>0.520323</td>\n",
       "      <td>1</td>\n",
       "    </tr>\n",
       "    <tr>\n",
       "      <th>1791</th>\n",
       "      <td>1.266741</td>\n",
       "      <td>2.805123</td>\n",
       "      <td>1</td>\n",
       "    </tr>\n",
       "    <tr>\n",
       "      <th>1792</th>\n",
       "      <td>1.080112</td>\n",
       "      <td>0.507086</td>\n",
       "      <td>1</td>\n",
       "    </tr>\n",
       "    <tr>\n",
       "      <th>1793</th>\n",
       "      <td>0.762978</td>\n",
       "      <td>1.679454</td>\n",
       "      <td>1</td>\n",
       "    </tr>\n",
       "  </tbody>\n",
       "</table>\n",
       "<p>1794 rows × 3 columns</p>\n",
       "</div>"
      ],
      "text/plain": [
       "            f1        f2  target\n",
       "0    -1.192809 -0.876159       0\n",
       "1    -0.614744 -1.601903       0\n",
       "2    -1.465197  0.100651       0\n",
       "3    -1.594065  0.483221       0\n",
       "4    -1.679383 -0.638046       0\n",
       "...        ...       ...     ...\n",
       "1789  1.279439 -0.979951       1\n",
       "1790  0.810363  0.520323       1\n",
       "1791  1.266741  2.805123       1\n",
       "1792  1.080112  0.507086       1\n",
       "1793  0.762978  1.679454       1\n",
       "\n",
       "[1794 rows x 3 columns]"
      ]
     },
     "execution_count": 423,
     "metadata": {},
     "output_type": "execute_result"
    }
   ],
   "source": [
    "df"
   ]
  },
  {
   "cell_type": "code",
   "execution_count": 424,
   "id": "4a761bc4-b3a3-4614-bb17-39b99a238bde",
   "metadata": {
    "tags": []
   },
   "outputs": [
    {
     "data": {
      "text/plain": [
       "0    897\n",
       "1    897\n",
       "Name: target, dtype: int64"
      ]
     },
     "execution_count": 424,
     "metadata": {},
     "output_type": "execute_result"
    }
   ],
   "source": [
    "df['target'].value_counts()"
   ]
  },
  {
   "cell_type": "code",
   "execution_count": 431,
   "id": "507b691c-234b-4f71-9c5a-47d80782b31f",
   "metadata": {
    "tags": []
   },
   "outputs": [
    {
     "data": {
      "text/html": [
       "<div>\n",
       "<style scoped>\n",
       "    .dataframe tbody tr th:only-of-type {\n",
       "        vertical-align: middle;\n",
       "    }\n",
       "\n",
       "    .dataframe tbody tr th {\n",
       "        vertical-align: top;\n",
       "    }\n",
       "\n",
       "    .dataframe thead th {\n",
       "        text-align: right;\n",
       "    }\n",
       "</style>\n",
       "<table border=\"1\" class=\"dataframe\">\n",
       "  <thead>\n",
       "    <tr style=\"text-align: right;\">\n",
       "      <th></th>\n",
       "      <th>f1</th>\n",
       "      <th>f2</th>\n",
       "      <th>target</th>\n",
       "    </tr>\n",
       "  </thead>\n",
       "  <tbody>\n",
       "    <tr>\n",
       "      <th>0</th>\n",
       "      <td>-1.192809</td>\n",
       "      <td>-0.876159</td>\n",
       "      <td>0</td>\n",
       "    </tr>\n",
       "    <tr>\n",
       "      <th>1</th>\n",
       "      <td>-0.614744</td>\n",
       "      <td>-1.601903</td>\n",
       "      <td>0</td>\n",
       "    </tr>\n",
       "    <tr>\n",
       "      <th>2</th>\n",
       "      <td>-1.465197</td>\n",
       "      <td>0.100651</td>\n",
       "      <td>0</td>\n",
       "    </tr>\n",
       "    <tr>\n",
       "      <th>3</th>\n",
       "      <td>-1.594065</td>\n",
       "      <td>0.483221</td>\n",
       "      <td>0</td>\n",
       "    </tr>\n",
       "    <tr>\n",
       "      <th>4</th>\n",
       "      <td>-1.679383</td>\n",
       "      <td>-0.638046</td>\n",
       "      <td>0</td>\n",
       "    </tr>\n",
       "    <tr>\n",
       "      <th>...</th>\n",
       "      <td>...</td>\n",
       "      <td>...</td>\n",
       "      <td>...</td>\n",
       "    </tr>\n",
       "    <tr>\n",
       "      <th>1789</th>\n",
       "      <td>1.279439</td>\n",
       "      <td>-0.979951</td>\n",
       "      <td>1</td>\n",
       "    </tr>\n",
       "    <tr>\n",
       "      <th>1790</th>\n",
       "      <td>0.810363</td>\n",
       "      <td>0.520323</td>\n",
       "      <td>1</td>\n",
       "    </tr>\n",
       "    <tr>\n",
       "      <th>1791</th>\n",
       "      <td>1.266741</td>\n",
       "      <td>2.805123</td>\n",
       "      <td>1</td>\n",
       "    </tr>\n",
       "    <tr>\n",
       "      <th>1792</th>\n",
       "      <td>1.080112</td>\n",
       "      <td>0.507086</td>\n",
       "      <td>1</td>\n",
       "    </tr>\n",
       "    <tr>\n",
       "      <th>1793</th>\n",
       "      <td>0.762978</td>\n",
       "      <td>1.679454</td>\n",
       "      <td>1</td>\n",
       "    </tr>\n",
       "  </tbody>\n",
       "</table>\n",
       "<p>1794 rows × 3 columns</p>\n",
       "</div>"
      ],
      "text/plain": [
       "            f1        f2  target\n",
       "0    -1.192809 -0.876159       0\n",
       "1    -0.614744 -1.601903       0\n",
       "2    -1.465197  0.100651       0\n",
       "3    -1.594065  0.483221       0\n",
       "4    -1.679383 -0.638046       0\n",
       "...        ...       ...     ...\n",
       "1789  1.279439 -0.979951       1\n",
       "1790  0.810363  0.520323       1\n",
       "1791  1.266741  2.805123       1\n",
       "1792  1.080112  0.507086       1\n",
       "1793  0.762978  1.679454       1\n",
       "\n",
       "[1794 rows x 3 columns]"
      ]
     },
     "execution_count": 431,
     "metadata": {},
     "output_type": "execute_result"
    }
   ],
   "source": [
    "from imblearn.over_sampling import SMOTE\n",
    "\n",
    "smote=SMOTE()\n",
    "\n",
    "X,y=smote.fit_resample(df[['f1' ,'f2']] , df['target'])\n",
    "df1=pd.DataFrame(X)\n",
    "df2=pd.DataFrame(y)\n",
    "df=pd.concat([df1 , df2] , axis=1).reset_index(drop=True)\n",
    "df"
   ]
  },
  {
   "cell_type": "code",
   "execution_count": 432,
   "id": "20378cb5-1ee0-46dc-8cd6-aa4f1379b74a",
   "metadata": {
    "tags": []
   },
   "outputs": [
    {
     "data": {
      "text/plain": [
       "(1794, 3)"
      ]
     },
     "execution_count": 432,
     "metadata": {},
     "output_type": "execute_result"
    }
   ],
   "source": [
    "df.shape"
   ]
  },
  {
   "cell_type": "markdown",
   "id": "d5911de3-33c7-4f1f-9725-1628ba1693ea",
   "metadata": {},
   "source": [
    "### Q6: What are outliers in a dataset? Why is it essential to handle outliers?\n",
    "\n",
    "\n",
    "Outliers : Abnormal points in the dataset\n",
    "\n",
    "Why handle ? : 1. Skewed analysis issue \n",
    "               2. ML model reduces the accuracy\n",
    "               3. Biased Decision-Making\n",
    "               \n",
    "How to handle : Box-plot , 5 number summary"
   ]
  },
  {
   "cell_type": "code",
   "execution_count": 444,
   "id": "6c04668a-2ee5-4e85-a798-3fd0cbe6480d",
   "metadata": {
    "tags": []
   },
   "outputs": [],
   "source": [
    "dp = [52, 93, 15, 72, 61, 21, 83, 87, 75, 89, 80, 39, 42, 44, 71, 90, 48, 26, 77, 99 , 200 , 300 , 400]"
   ]
  },
  {
   "cell_type": "code",
   "execution_count": 445,
   "id": "79efdc1f-d320-47a7-bec7-1de7c4ccc946",
   "metadata": {
    "tags": []
   },
   "outputs": [
    {
     "data": {
      "text/plain": [
       "list"
      ]
     },
     "execution_count": 445,
     "metadata": {},
     "output_type": "execute_result"
    }
   ],
   "source": [
    "type(dp)"
   ]
  },
  {
   "cell_type": "code",
   "execution_count": 446,
   "id": "8a6af133-a176-416e-b8ba-f6c0c57e9479",
   "metadata": {
    "tags": []
   },
   "outputs": [],
   "source": [
    "dp.sort()"
   ]
  },
  {
   "cell_type": "code",
   "execution_count": 447,
   "id": "7a4aa9c7-f2d7-441c-9de6-7921c4f0c3dd",
   "metadata": {
    "tags": []
   },
   "outputs": [
    {
     "name": "stdout",
     "output_type": "stream",
     "text": [
      "[15, 21, 26, 39, 42, 44, 48, 52, 61, 71, 72, 75, 77, 80, 83, 87, 89, 90, 93, 99, 200, 300, 400]\n"
     ]
    }
   ],
   "source": [
    "print(dp)"
   ]
  },
  {
   "cell_type": "code",
   "execution_count": 448,
   "id": "3edbf99b-4822-44d1-a492-d37a7f1af7f7",
   "metadata": {
    "tags": []
   },
   "outputs": [],
   "source": [
    "minimum , q1 , median , q3 , maximum =np.quantile(dp , [0 , 0.25 ,0.50 , 0.75 , 1])"
   ]
  },
  {
   "cell_type": "code",
   "execution_count": 449,
   "id": "7812fa17-d875-42c8-a0fc-d5536170d12e",
   "metadata": {
    "tags": []
   },
   "outputs": [
    {
     "name": "stdout",
     "output_type": "stream",
     "text": [
      "15.0 46.0 75.0 89.5 400.0\n"
     ]
    }
   ],
   "source": [
    "print(minimum , q1 , median , q3 , maximum)"
   ]
  },
  {
   "cell_type": "code",
   "execution_count": 450,
   "id": "319b0385-1448-4f0b-bc09-d48fa19297d7",
   "metadata": {
    "tags": []
   },
   "outputs": [],
   "source": [
    "IQR=q3-q1"
   ]
  },
  {
   "cell_type": "code",
   "execution_count": 451,
   "id": "9405fd36-b2ae-4cf5-b99b-0068bd655107",
   "metadata": {
    "tags": []
   },
   "outputs": [],
   "source": [
    "LF=q1-(1.5*IQR)\n",
    "HF=q3+(1.5*IQR)"
   ]
  },
  {
   "cell_type": "code",
   "execution_count": 452,
   "id": "abd78656-e7cb-4eed-84ba-5a13fc0c6ca2",
   "metadata": {
    "tags": []
   },
   "outputs": [
    {
     "name": "stdout",
     "output_type": "stream",
     "text": [
      "-19.25 154.75\n"
     ]
    }
   ],
   "source": [
    "print(LF , HF)"
   ]
  },
  {
   "cell_type": "code",
   "execution_count": 453,
   "id": "359b8865-4c9d-4c7c-bf23-3cc3c0f30953",
   "metadata": {
    "tags": []
   },
   "outputs": [
    {
     "data": {
      "text/plain": [
       "<Axes: >"
      ]
     },
     "execution_count": 453,
     "metadata": {},
     "output_type": "execute_result"
    },
    {
     "data": {
      "image/png": "[encoded data removed]",
      "text/plain": [
       "<Figure size 640x480 with 1 Axes>"
      ]
     },
     "metadata": {},
     "output_type": "display_data"
    }
   ],
   "source": [
    "sns.boxplot(dp)"
   ]
  },
  {
   "cell_type": "markdown",
   "id": "811e7763-bbe5-4789-9d2f-67631861ae5a",
   "metadata": {},
   "source": [
    "### Q7: You are working on a project that requires analyzing customer data. However, you notice that some ofthe data is missing. What are some techniques you can use to handle the missing data in your analysis?\n",
    "\n",
    "\n",
    "\n",
    "Handling Missing Data in Customer Analysis\n",
    "Missing data is a common issue in datasets, and handling it properly is crucial for maintaining analysis accuracy. Here are some techniques to deal with missing data:\n",
    "\n",
    "🔹 1. Removing Missing Data\n",
    "✔ Drop Missing Rows (df.dropna()) → If only a few rows have missing values, they can be removed.\n",
    "✔ Drop Columns with Many Missing Values (df.drop(columns=['col_name'])) → If a column has too many missing values (>50%), it may be useless and should be dropped.\n",
    "\n",
    "Example:\n",
    "\n",
    "python\n",
    "Copy\n",
    "Edit\n",
    "df.dropna(inplace=True)  # Removes all rows with missing values\n",
    "df.drop(columns=['Customer_ID'], inplace=True)  # Drops an entire column\n",
    "When to use? → When missing values are very few and won’t affect the analysis.\n",
    "\n",
    "🔹 2. Filling Missing Values (Imputation)\n",
    "If removing data is not an option, we can fill missing values using different techniques:\n",
    "\n",
    "✅ Forward Fill (ffill) → Uses the last known value\n",
    "✅ Backward Fill (bfill) → Uses the next known value\n",
    "✅ Mean/Median Imputation → Replaces missing values with the average/median of the column\n",
    "✅ Mode Imputation → For categorical data, replace missing values with the most frequent value\n",
    "\n",
    "Example:\n",
    "\n",
    "python\n",
    "Copy\n",
    "Edit\n",
    "df['Age'].fillna(df['Age'].mean(), inplace=True)  # Filling with mean\n",
    "df['Salary'].fillna(df['Salary'].median(), inplace=True)  # Filling with median\n",
    "df['City'].fillna(df['City'].mode()[0], inplace=True)  # Filling categorical values with mode\n",
    "df['Purchase_Amount'].fillna(method='ffill', inplace=True)  # Forward fill\n",
    "When to use?\n",
    "\n",
    "Mean → When data is normally distributed\n",
    "Median → When data is skewed (right or left)\n",
    "Mode → When working with categorical data\n",
    "Forward/Backward Fill → When data has a time sequence\n",
    "🔹 3. Predicting Missing Values (Advanced Techniques)\n",
    "✔ Regression Models → Predict missing values using other features\n",
    "✔ KNN Imputation (KNeighborsRegressor) → Uses the nearest neighbors to estimate missing values\n",
    "✔ ML-Based Imputation (SimpleImputer) → Automatically fills missing values\n",
    "\n",
    "Example using sklearn SimpleImputer:\n",
    "\n",
    "python\n",
    "Copy\n",
    "Edit\n",
    "from sklearn.impute import SimpleImputer\n",
    "imputer = SimpleImputer(strategy='mean')  # Can be 'median' or 'most_frequent'\n",
    "df['Salary'] = imputer.fit_transform(df[['Salary']])\n",
    "When to use? → When missing data is not random and can be predicted"
   ]
  },
  {
   "cell_type": "markdown",
   "id": "c53889b8-c6d6-4f9a-9920-ad461a0391de",
   "metadata": {},
   "source": [
    "### Q8: You are working with a large dataset and find that a small percentage of the data is missing. What are some strategies you can use to determine if the missing data is missing at random or if there is a pattern to the missing data?\n",
    "\n",
    "\n",
    "1️⃣ Check the Missing Data Percentage\n",
    "If <5% of the data is missing, it’s likely missing at random.\n",
    "If >30% is missing in a specific column, investigate further.\n",
    "If missingness depends on other variables, it’s Missing at Random (MAR).\n",
    "If missingness is completely independent, it’s Missing Completely at Random (MCAR).\n",
    "If missingness depends on the value itself, it’s Missing Not at Random (MNAR).\n"
   ]
  },
  {
   "cell_type": "markdown",
   "id": "63837331-3da6-4d50-b129-a0556fb7a161",
   "metadata": {},
   "source": [
    "### Q9: Suppose you are working on a medical diagnosis project and find that the majority of patients in the dataset do not have the condition of interest, while a small percentage do. What are some strategies you can use to evaluate the performance of your machine learning model on this imbalanced dataset?\n",
    "\n",
    "\n"
   ]
  }
 ],
 "metadata": {
  "kernelspec": {
   "display_name": "Python 3 (ipykernel)",
   "language": "python",
   "name": "python3"
  },
  "language_info": {
   "codemirror_mode": {
    "name": "ipython",
    "version": 3
   },
   "file_extension": ".py",
   "mimetype": "text/x-python",
   "name": "python",
   "nbconvert_exporter": "python",
   "pygments_lexer": "ipython3",
   "version": "3.11.2"
  }
 },
 "nbformat": 4,
 "nbformat_minor": 5
}
