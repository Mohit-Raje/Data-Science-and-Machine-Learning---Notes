{
  "metadata": {
    "kernelspec": {
      "name": "python",
      "display_name": "Python (Pyodide)",
      "language": "python"
    },
    "language_info": {
      "codemirror_mode": {
        "name": "python",
        "version": 3
      },
      "file_extension": ".py",
      "mimetype": "text/x-python",
      "name": "python",
      "nbconvert_exporter": "python",
      "pygments_lexer": "ipython3",
      "version": "3.8"
    }
  },
  "nbformat_minor": 4,
  "nbformat": 4,
  "cells": [
    {
      "cell_type": "code",
      "source": "import pandas as pd\nimport numpy as np",
      "metadata": {
        "trusted": true
      },
      "outputs": [
        {
          "name": "stderr",
          "text": "<ipython-input-2-baf368f80de7>:1: DeprecationWarning: \nPyarrow will become a required dependency of pandas in the next major release of pandas (pandas 3.0),\n(to allow more performant data types, such as the Arrow string type, and better interoperability with other libraries)\nbut was not found to be installed on your system.\nIf this would cause problems for you,\nplease provide us feedback at https://github.com/pandas-dev/pandas/issues/54466\n        \n  import pandas as pd\n",
          "output_type": "stream"
        }
      ],
      "execution_count": 2
    },
    {
      "cell_type": "code",
      "source": "df=pd.DataFrame({\n    'color' : ['red' , 'green' , 'blue' , 'green' , 'red' , 'blue']\n})",
      "metadata": {
        "trusted": true
      },
      "outputs": [],
      "execution_count": 2
    },
    {
      "cell_type": "code",
      "source": "from sklearn.preprocessing import OneHotEncoder\n\nohe=OneHotEncoder()\nencoded=ohe.fit_transform(df[['color']]).toarray()",
      "metadata": {
        "trusted": true
      },
      "outputs": [],
      "execution_count": 6
    },
    {
      "cell_type": "code",
      "source": "encoded",
      "metadata": {
        "trusted": true
      },
      "outputs": [
        {
          "execution_count": 7,
          "output_type": "execute_result",
          "data": {
            "text/plain": "array([[0., 0., 1.],\n       [0., 1., 0.],\n       [1., 0., 0.],\n       [0., 1., 0.],\n       [0., 0., 1.],\n       [1., 0., 0.]])"
          },
          "metadata": {}
        }
      ],
      "execution_count": 7
    },
    {
      "cell_type": "code",
      "source": "encoded_df=pd.DataFrame(data=encoded , columns=ohe.get_feature_names_out())\nfinal_df=pd.concat([df , encoded_df] , axis=1)\nfinal_df",
      "metadata": {
        "trusted": true
      },
      "outputs": [
        {
          "execution_count": 12,
          "output_type": "execute_result",
          "data": {
            "text/plain": "   color  color_blue  color_green  color_red\n0    red         0.0          0.0        1.0\n1  green         0.0          1.0        0.0\n2   blue         1.0          0.0        0.0\n3  green         0.0          1.0        0.0\n4    red         0.0          0.0        1.0\n5   blue         1.0          0.0        0.0",
            "text/html": "<div>\n<style scoped>\n    .dataframe tbody tr th:only-of-type {\n        vertical-align: middle;\n    }\n\n    .dataframe tbody tr th {\n        vertical-align: top;\n    }\n\n    .dataframe thead th {\n        text-align: right;\n    }\n</style>\n<table border=\"1\" class=\"dataframe\">\n  <thead>\n    <tr style=\"text-align: right;\">\n      <th></th>\n      <th>color</th>\n      <th>color_blue</th>\n      <th>color_green</th>\n      <th>color_red</th>\n    </tr>\n  </thead>\n  <tbody>\n    <tr>\n      <th>0</th>\n      <td>red</td>\n      <td>0.0</td>\n      <td>0.0</td>\n      <td>1.0</td>\n    </tr>\n    <tr>\n      <th>1</th>\n      <td>green</td>\n      <td>0.0</td>\n      <td>1.0</td>\n      <td>0.0</td>\n    </tr>\n    <tr>\n      <th>2</th>\n      <td>blue</td>\n      <td>1.0</td>\n      <td>0.0</td>\n      <td>0.0</td>\n    </tr>\n    <tr>\n      <th>3</th>\n      <td>green</td>\n      <td>0.0</td>\n      <td>1.0</td>\n      <td>0.0</td>\n    </tr>\n    <tr>\n      <th>4</th>\n      <td>red</td>\n      <td>0.0</td>\n      <td>0.0</td>\n      <td>1.0</td>\n    </tr>\n    <tr>\n      <th>5</th>\n      <td>blue</td>\n      <td>1.0</td>\n      <td>0.0</td>\n      <td>0.0</td>\n    </tr>\n  </tbody>\n</table>\n</div>"
          },
          "metadata": {}
        }
      ],
      "execution_count": 12
    },
    {
      "cell_type": "markdown",
      "source": "### Q1. What is the difference between Ordinal Encoding and Label Encoding? Provide an example of when you  might choose one over the other\n\n**Ordinal Encoding**\n\nDefinition: Ordinal encoding assigns a unique integer to each category, preserving the order of the categories.\nUse Case: When the categorical data has a meaningful order or ranking.\nExample: For a feature like \"Education Level\" with categories [\"High School\", \"Bachelor's\", \"Master's\", \"PhD\"], ordinal encoding might assign:\nHigh School: 0\nBachelor's: 1\nMaster's: 2\nPhD: 3\n\n**Label Encoding**\nDefinition: Label encoding assigns a unique integer to each category without considering any order.\nUse Case: When the categorical data does not have an inherent order.\nExample: For a feature like \"Color\" with categories [\"Red\", \"Green\", \"Blue\"], label encoding might assign:\nRed: 0\nGreen: 1\nBlue: 2\n\n",
      "metadata": {}
    },
    {
      "cell_type": "code",
      "source": "df=pd.DataFrame({\n    'degree' : [\"High School\", \"Bachelor's\", \"Master's\", \"PhD\"]\n})",
      "metadata": {
        "trusted": true
      },
      "outputs": [],
      "execution_count": 13
    },
    {
      "cell_type": "code",
      "source": "df",
      "metadata": {
        "trusted": true
      },
      "outputs": [
        {
          "execution_count": 14,
          "output_type": "execute_result",
          "data": {
            "text/plain": "        degree\n0  High School\n1   Bachelor's\n2     Master's\n3          PhD",
            "text/html": "<div>\n<style scoped>\n    .dataframe tbody tr th:only-of-type {\n        vertical-align: middle;\n    }\n\n    .dataframe tbody tr th {\n        vertical-align: top;\n    }\n\n    .dataframe thead th {\n        text-align: right;\n    }\n</style>\n<table border=\"1\" class=\"dataframe\">\n  <thead>\n    <tr style=\"text-align: right;\">\n      <th></th>\n      <th>degree</th>\n    </tr>\n  </thead>\n  <tbody>\n    <tr>\n      <th>0</th>\n      <td>High School</td>\n    </tr>\n    <tr>\n      <th>1</th>\n      <td>Bachelor's</td>\n    </tr>\n    <tr>\n      <th>2</th>\n      <td>Master's</td>\n    </tr>\n    <tr>\n      <th>3</th>\n      <td>PhD</td>\n    </tr>\n  </tbody>\n</table>\n</div>"
          },
          "metadata": {}
        }
      ],
      "execution_count": 14
    },
    {
      "cell_type": "code",
      "source": "from sklearn.preprocessing import OrdinalEncoder\n\nencoder=OrdinalEncoder(categories=[[\"High School\" , \"Bachelor's\" , \"Master's\" ,  \"PhD\"]])",
      "metadata": {
        "trusted": true
      },
      "outputs": [],
      "execution_count": 15
    },
    {
      "cell_type": "code",
      "source": "encoded_data=encoder.fit_transform(df[['degree']])",
      "metadata": {
        "trusted": true
      },
      "outputs": [],
      "execution_count": 18
    },
    {
      "cell_type": "code",
      "source": "encoded_data=encoded_data.flatten()\nencoded_data",
      "metadata": {
        "trusted": true
      },
      "outputs": [
        {
          "execution_count": 21,
          "output_type": "execute_result",
          "data": {
            "text/plain": "array([0., 1., 2., 3.])"
          },
          "metadata": {}
        }
      ],
      "execution_count": 21
    },
    {
      "cell_type": "code",
      "source": "encoded_df=pd.DataFrame(encoded_data , columns=['encoded_data'])",
      "metadata": {
        "trusted": true
      },
      "outputs": [],
      "execution_count": 22
    },
    {
      "cell_type": "code",
      "source": "final_df=pd.concat([df  , encoded_df] , axis=1)\nfinal_df",
      "metadata": {
        "trusted": true
      },
      "outputs": [
        {
          "execution_count": 25,
          "output_type": "execute_result",
          "data": {
            "text/plain": "        degree  encoded_data\n0  High School           0.0\n1   Bachelor's           1.0\n2     Master's           2.0\n3          PhD           3.0",
            "text/html": "<div>\n<style scoped>\n    .dataframe tbody tr th:only-of-type {\n        vertical-align: middle;\n    }\n\n    .dataframe tbody tr th {\n        vertical-align: top;\n    }\n\n    .dataframe thead th {\n        text-align: right;\n    }\n</style>\n<table border=\"1\" class=\"dataframe\">\n  <thead>\n    <tr style=\"text-align: right;\">\n      <th></th>\n      <th>degree</th>\n      <th>encoded_data</th>\n    </tr>\n  </thead>\n  <tbody>\n    <tr>\n      <th>0</th>\n      <td>High School</td>\n      <td>0.0</td>\n    </tr>\n    <tr>\n      <th>1</th>\n      <td>Bachelor's</td>\n      <td>1.0</td>\n    </tr>\n    <tr>\n      <th>2</th>\n      <td>Master's</td>\n      <td>2.0</td>\n    </tr>\n    <tr>\n      <th>3</th>\n      <td>PhD</td>\n      <td>3.0</td>\n    </tr>\n  </tbody>\n</table>\n</div>"
          },
          "metadata": {}
        }
      ],
      "execution_count": 25
    },
    {
      "cell_type": "code",
      "source": "df=pd.DataFrame({\n    'color' : ['red' , 'green' , 'blue' , 'green' , 'red' , 'blue']\n})",
      "metadata": {
        "trusted": true
      },
      "outputs": [],
      "execution_count": 26
    },
    {
      "cell_type": "code",
      "source": "df",
      "metadata": {
        "trusted": true
      },
      "outputs": [
        {
          "execution_count": 27,
          "output_type": "execute_result",
          "data": {
            "text/plain": "   color\n0    red\n1  green\n2   blue\n3  green\n4    red\n5   blue",
            "text/html": "<div>\n<style scoped>\n    .dataframe tbody tr th:only-of-type {\n        vertical-align: middle;\n    }\n\n    .dataframe tbody tr th {\n        vertical-align: top;\n    }\n\n    .dataframe thead th {\n        text-align: right;\n    }\n</style>\n<table border=\"1\" class=\"dataframe\">\n  <thead>\n    <tr style=\"text-align: right;\">\n      <th></th>\n      <th>color</th>\n    </tr>\n  </thead>\n  <tbody>\n    <tr>\n      <th>0</th>\n      <td>red</td>\n    </tr>\n    <tr>\n      <th>1</th>\n      <td>green</td>\n    </tr>\n    <tr>\n      <th>2</th>\n      <td>blue</td>\n    </tr>\n    <tr>\n      <th>3</th>\n      <td>green</td>\n    </tr>\n    <tr>\n      <th>4</th>\n      <td>red</td>\n    </tr>\n    <tr>\n      <th>5</th>\n      <td>blue</td>\n    </tr>\n  </tbody>\n</table>\n</div>"
          },
          "metadata": {}
        }
      ],
      "execution_count": 27
    },
    {
      "cell_type": "code",
      "source": "from sklearn.preprocessing import LabelEncoder\n\nencoder=LabelEncoder()\nencoded_data=encoder.fit_transform(df[['color']])\nencoded_data",
      "metadata": {
        "trusted": true
      },
      "outputs": [
        {
          "name": "stderr",
          "text": "/lib/python3.12/site-packages/sklearn/preprocessing/_label.py:114: DataConversionWarning: A column-vector y was passed when a 1d array was expected. Please change the shape of y to (n_samples, ), for example using ravel().\n  y = column_or_1d(y, warn=True)\n",
          "output_type": "stream"
        },
        {
          "execution_count": 31,
          "output_type": "execute_result",
          "data": {
            "text/plain": "array([2, 1, 0, 1, 2, 0])"
          },
          "metadata": {}
        }
      ],
      "execution_count": 31
    },
    {
      "cell_type": "code",
      "source": "encoded_df=pd.DataFrame(encoded_data , columns=['encoded_data'])\nfinal_df=pd.concat([df ,encoded_df] , axis=1)\nfinal_df",
      "metadata": {
        "trusted": true
      },
      "outputs": [
        {
          "execution_count": 33,
          "output_type": "execute_result",
          "data": {
            "text/plain": "   color  encoded_data\n0    red             2\n1  green             1\n2   blue             0\n3  green             1\n4    red             2\n5   blue             0",
            "text/html": "<div>\n<style scoped>\n    .dataframe tbody tr th:only-of-type {\n        vertical-align: middle;\n    }\n\n    .dataframe tbody tr th {\n        vertical-align: top;\n    }\n\n    .dataframe thead th {\n        text-align: right;\n    }\n</style>\n<table border=\"1\" class=\"dataframe\">\n  <thead>\n    <tr style=\"text-align: right;\">\n      <th></th>\n      <th>color</th>\n      <th>encoded_data</th>\n    </tr>\n  </thead>\n  <tbody>\n    <tr>\n      <th>0</th>\n      <td>red</td>\n      <td>2</td>\n    </tr>\n    <tr>\n      <th>1</th>\n      <td>green</td>\n      <td>1</td>\n    </tr>\n    <tr>\n      <th>2</th>\n      <td>blue</td>\n      <td>0</td>\n    </tr>\n    <tr>\n      <th>3</th>\n      <td>green</td>\n      <td>1</td>\n    </tr>\n    <tr>\n      <th>4</th>\n      <td>red</td>\n      <td>2</td>\n    </tr>\n    <tr>\n      <th>5</th>\n      <td>blue</td>\n      <td>0</td>\n    </tr>\n  </tbody>\n</table>\n</div>"
          },
          "metadata": {}
        }
      ],
      "execution_count": 33
    },
    {
      "cell_type": "markdown",
      "source": "### Q2. Explain how Target Guided Ordinal Encoding works and provide an example of when you might use it in a machine learning project.",
      "metadata": {}
    },
    {
      "cell_type": "code",
      "source": "data = [\n    {\"City\": \"New York\", \"Price\": 100},\n    {\"City\": \"Los Angeles\", \"Price\": 150},\n    {\"City\": \"Chicago\", \"Price\": 120},\n    {\"City\": \"Houston\", \"Price\": 130},\n    {\"City\": \"Phoenix\", \"Price\": 110}\n]",
      "metadata": {
        "trusted": true
      },
      "outputs": [],
      "execution_count": 34
    },
    {
      "cell_type": "code",
      "source": "df=pd.DataFrame(data)",
      "metadata": {
        "trusted": true
      },
      "outputs": [],
      "execution_count": 36
    },
    {
      "cell_type": "code",
      "source": "df",
      "metadata": {
        "trusted": true
      },
      "outputs": [
        {
          "execution_count": 37,
          "output_type": "execute_result",
          "data": {
            "text/plain": "          City  Price\n0     New York    100\n1  Los Angeles    150\n2      Chicago    120\n3      Houston    130\n4      Phoenix    110",
            "text/html": "<div>\n<style scoped>\n    .dataframe tbody tr th:only-of-type {\n        vertical-align: middle;\n    }\n\n    .dataframe tbody tr th {\n        vertical-align: top;\n    }\n\n    .dataframe thead th {\n        text-align: right;\n    }\n</style>\n<table border=\"1\" class=\"dataframe\">\n  <thead>\n    <tr style=\"text-align: right;\">\n      <th></th>\n      <th>City</th>\n      <th>Price</th>\n    </tr>\n  </thead>\n  <tbody>\n    <tr>\n      <th>0</th>\n      <td>New York</td>\n      <td>100</td>\n    </tr>\n    <tr>\n      <th>1</th>\n      <td>Los Angeles</td>\n      <td>150</td>\n    </tr>\n    <tr>\n      <th>2</th>\n      <td>Chicago</td>\n      <td>120</td>\n    </tr>\n    <tr>\n      <th>3</th>\n      <td>Houston</td>\n      <td>130</td>\n    </tr>\n    <tr>\n      <th>4</th>\n      <td>Phoenix</td>\n      <td>110</td>\n    </tr>\n  </tbody>\n</table>\n</div>"
          },
          "metadata": {}
        }
      ],
      "execution_count": 37
    },
    {
      "cell_type": "code",
      "source": "encoded_data=df.groupby(by=\"City\")['Price'].mean().to_dict()\nencoded_data",
      "metadata": {
        "trusted": true
      },
      "outputs": [
        {
          "execution_count": 40,
          "output_type": "execute_result",
          "data": {
            "text/plain": "{'Chicago': 120.0,\n 'Houston': 130.0,\n 'Los Angeles': 150.0,\n 'New York': 100.0,\n 'Phoenix': 110.0}"
          },
          "metadata": {}
        }
      ],
      "execution_count": 40
    },
    {
      "cell_type": "code",
      "source": "df['Encoded_city']=df['City'].map(encoded_data)\ndf",
      "metadata": {
        "trusted": true
      },
      "outputs": [
        {
          "execution_count": 42,
          "output_type": "execute_result",
          "data": {
            "text/plain": "          City  Price  Encoded_city\n0     New York    100         100.0\n1  Los Angeles    150         150.0\n2      Chicago    120         120.0\n3      Houston    130         130.0\n4      Phoenix    110         110.0",
            "text/html": "<div>\n<style scoped>\n    .dataframe tbody tr th:only-of-type {\n        vertical-align: middle;\n    }\n\n    .dataframe tbody tr th {\n        vertical-align: top;\n    }\n\n    .dataframe thead th {\n        text-align: right;\n    }\n</style>\n<table border=\"1\" class=\"dataframe\">\n  <thead>\n    <tr style=\"text-align: right;\">\n      <th></th>\n      <th>City</th>\n      <th>Price</th>\n      <th>Encoded_city</th>\n    </tr>\n  </thead>\n  <tbody>\n    <tr>\n      <th>0</th>\n      <td>New York</td>\n      <td>100</td>\n      <td>100.0</td>\n    </tr>\n    <tr>\n      <th>1</th>\n      <td>Los Angeles</td>\n      <td>150</td>\n      <td>150.0</td>\n    </tr>\n    <tr>\n      <th>2</th>\n      <td>Chicago</td>\n      <td>120</td>\n      <td>120.0</td>\n    </tr>\n    <tr>\n      <th>3</th>\n      <td>Houston</td>\n      <td>130</td>\n      <td>130.0</td>\n    </tr>\n    <tr>\n      <th>4</th>\n      <td>Phoenix</td>\n      <td>110</td>\n      <td>110.0</td>\n    </tr>\n  </tbody>\n</table>\n</div>"
          },
          "metadata": {}
        }
      ],
      "execution_count": 42
    },
    {
      "cell_type": "markdown",
      "source": "### Q3. Define covariance and explain why it is important in statistical analysis. How is covariance calculated\n\n\n\nCovariance it explain the realtionship between two random variable . If the ovariance is positive then the features (x , y) are directly proportional i.e if x goes up y also goes up and vice versa . If the covariance is negative the features are indirectly proportional that is if x goes up y goes down and vice versa\n\nFormula : sum i=1 to n  (xi-x_mean)(yi-y_mean)/n\n\nDisadvantages : The result of the covarinace is number with no specifc range which eventually dont specify the strength of associataion.To solve this issue correlation is needed.",
      "metadata": {}
    },
    {
      "cell_type": "code",
      "source": "data = [\n    {\"City\": \"New York\", 'GDP': 3.5 ,  \"Price\": 100},\n    {\"City\": \"Los Angeles\", 'GDP': 7.4 , \"Price\": 150},\n    {\"City\": \"Chicago\", 'GDP': 4.0 , \"Price\": 120},\n    {\"City\": \"Houston\", 'GDP': 9.0 ,  \"Price\": 130},\n    {\"City\": \"Phoenix\", 'GDP': 8.9 , \"Price\": 110}\n]\n\ndf=pd.DataFrame(data)",
      "metadata": {
        "trusted": true
      },
      "outputs": [],
      "execution_count": 46
    },
    {
      "cell_type": "code",
      "source": "df[['GDP' , 'Price']].cov()",
      "metadata": {
        "trusted": true
      },
      "outputs": [
        {
          "execution_count": 49,
          "output_type": "execute_result",
          "data": {
            "text/plain": "          GDP   Price\nGDP     7.013   21.85\nPrice  21.850  370.00",
            "text/html": "<div>\n<style scoped>\n    .dataframe tbody tr th:only-of-type {\n        vertical-align: middle;\n    }\n\n    .dataframe tbody tr th {\n        vertical-align: top;\n    }\n\n    .dataframe thead th {\n        text-align: right;\n    }\n</style>\n<table border=\"1\" class=\"dataframe\">\n  <thead>\n    <tr style=\"text-align: right;\">\n      <th></th>\n      <th>GDP</th>\n      <th>Price</th>\n    </tr>\n  </thead>\n  <tbody>\n    <tr>\n      <th>GDP</th>\n      <td>7.013</td>\n      <td>21.85</td>\n    </tr>\n    <tr>\n      <th>Price</th>\n      <td>21.850</td>\n      <td>370.00</td>\n    </tr>\n  </tbody>\n</table>\n</div>"
          },
          "metadata": {}
        }
      ],
      "execution_count": 49
    },
    {
      "cell_type": "markdown",
      "source": "### Q4. For a dataset with the following categorical variables: Color (red, green, blue), Size (small, medium,  large), and Material (wood, metal, plastic), perform label encoding using Python's scikit-learn library. Show your code and explain the output",
      "metadata": {}
    },
    {
      "cell_type": "code",
      "source": "data = {\n    'Color': ['red', 'green', 'blue'],\n    'Size': ['small', 'medium', 'large'],\n    'Material': ['wood', 'metal', 'plastic']\n}",
      "metadata": {
        "trusted": true
      },
      "outputs": [],
      "execution_count": 1
    },
    {
      "cell_type": "code",
      "source": "df=pd.DataFrame(data)",
      "metadata": {
        "trusted": true
      },
      "outputs": [],
      "execution_count": 3
    },
    {
      "cell_type": "code",
      "source": "df",
      "metadata": {
        "trusted": true
      },
      "outputs": [
        {
          "execution_count": 4,
          "output_type": "execute_result",
          "data": {
            "text/plain": "   Color    Size Material\n0    red   small     wood\n1  green  medium    metal\n2   blue   large  plastic",
            "text/html": "<div>\n<style scoped>\n    .dataframe tbody tr th:only-of-type {\n        vertical-align: middle;\n    }\n\n    .dataframe tbody tr th {\n        vertical-align: top;\n    }\n\n    .dataframe thead th {\n        text-align: right;\n    }\n</style>\n<table border=\"1\" class=\"dataframe\">\n  <thead>\n    <tr style=\"text-align: right;\">\n      <th></th>\n      <th>Color</th>\n      <th>Size</th>\n      <th>Material</th>\n    </tr>\n  </thead>\n  <tbody>\n    <tr>\n      <th>0</th>\n      <td>red</td>\n      <td>small</td>\n      <td>wood</td>\n    </tr>\n    <tr>\n      <th>1</th>\n      <td>green</td>\n      <td>medium</td>\n      <td>metal</td>\n    </tr>\n    <tr>\n      <th>2</th>\n      <td>blue</td>\n      <td>large</td>\n      <td>plastic</td>\n    </tr>\n  </tbody>\n</table>\n</div>"
          },
          "metadata": {}
        }
      ],
      "execution_count": 4
    },
    {
      "cell_type": "code",
      "source": "from sklearn.preprocessing import LabelEncoder\n\nencoder=LabelEncoder()\n\ndf['Color_Encoded']=encoder.fit_transform(df[['Color']])\ndf['Size_Encoded']=encoder.fit_transform(df[['Size']])\ndf['Material_Encoded']=encoder.fit_transform(df[['Material']])",
      "metadata": {
        "trusted": true
      },
      "outputs": [
        {
          "name": "stderr",
          "text": "/lib/python3.12/site-packages/sklearn/preprocessing/_label.py:114: DataConversionWarning: A column-vector y was passed when a 1d array was expected. Please change the shape of y to (n_samples, ), for example using ravel().\n  y = column_or_1d(y, warn=True)\n/lib/python3.12/site-packages/sklearn/preprocessing/_label.py:114: DataConversionWarning: A column-vector y was passed when a 1d array was expected. Please change the shape of y to (n_samples, ), for example using ravel().\n  y = column_or_1d(y, warn=True)\n/lib/python3.12/site-packages/sklearn/preprocessing/_label.py:114: DataConversionWarning: A column-vector y was passed when a 1d array was expected. Please change the shape of y to (n_samples, ), for example using ravel().\n  y = column_or_1d(y, warn=True)\n",
          "output_type": "stream"
        }
      ],
      "execution_count": 10
    },
    {
      "cell_type": "code",
      "source": "df",
      "metadata": {
        "trusted": true
      },
      "outputs": [
        {
          "execution_count": 11,
          "output_type": "execute_result",
          "data": {
            "text/plain": "   Color    Size Material  Color_Encoded  Size_Encoded  Material_Encoded\n0    red   small     wood              2             2                 2\n1  green  medium    metal              1             1                 0\n2   blue   large  plastic              0             0                 1",
            "text/html": "<div>\n<style scoped>\n    .dataframe tbody tr th:only-of-type {\n        vertical-align: middle;\n    }\n\n    .dataframe tbody tr th {\n        vertical-align: top;\n    }\n\n    .dataframe thead th {\n        text-align: right;\n    }\n</style>\n<table border=\"1\" class=\"dataframe\">\n  <thead>\n    <tr style=\"text-align: right;\">\n      <th></th>\n      <th>Color</th>\n      <th>Size</th>\n      <th>Material</th>\n      <th>Color_Encoded</th>\n      <th>Size_Encoded</th>\n      <th>Material_Encoded</th>\n    </tr>\n  </thead>\n  <tbody>\n    <tr>\n      <th>0</th>\n      <td>red</td>\n      <td>small</td>\n      <td>wood</td>\n      <td>2</td>\n      <td>2</td>\n      <td>2</td>\n    </tr>\n    <tr>\n      <th>1</th>\n      <td>green</td>\n      <td>medium</td>\n      <td>metal</td>\n      <td>1</td>\n      <td>1</td>\n      <td>0</td>\n    </tr>\n    <tr>\n      <th>2</th>\n      <td>blue</td>\n      <td>large</td>\n      <td>plastic</td>\n      <td>0</td>\n      <td>0</td>\n      <td>1</td>\n    </tr>\n  </tbody>\n</table>\n</div>"
          },
          "metadata": {}
        }
      ],
      "execution_count": 11
    },
    {
      "cell_type": "markdown",
      "source": "### Q5. Calculate the covariance matrix for the following variables in a dataset: Age, Income, and Education level. Interpret the results",
      "metadata": {}
    },
    {
      "cell_type": "code",
      "source": "data = {\n    'Age': [25, 32, 47, 51, 62],\n    'Income': [50000, 60000, 80000, 95000, 110000],\n    'Education_level': [12, 14, 16, 18, 20]\n}",
      "metadata": {
        "trusted": true
      },
      "outputs": [],
      "execution_count": 12
    },
    {
      "cell_type": "code",
      "source": "df=pd.DataFrame(data)",
      "metadata": {
        "trusted": true
      },
      "outputs": [],
      "execution_count": 13
    },
    {
      "cell_type": "code",
      "source": "df",
      "metadata": {
        "trusted": true
      },
      "outputs": [
        {
          "execution_count": 14,
          "output_type": "execute_result",
          "data": {
            "text/plain": "   Age  Income  Education_level\n0   25   50000               12\n1   32   60000               14\n2   47   80000               16\n3   51   95000               18\n4   62  110000               20",
            "text/html": "<div>\n<style scoped>\n    .dataframe tbody tr th:only-of-type {\n        vertical-align: middle;\n    }\n\n    .dataframe tbody tr th {\n        vertical-align: top;\n    }\n\n    .dataframe thead th {\n        text-align: right;\n    }\n</style>\n<table border=\"1\" class=\"dataframe\">\n  <thead>\n    <tr style=\"text-align: right;\">\n      <th></th>\n      <th>Age</th>\n      <th>Income</th>\n      <th>Education_level</th>\n    </tr>\n  </thead>\n  <tbody>\n    <tr>\n      <th>0</th>\n      <td>25</td>\n      <td>50000</td>\n      <td>12</td>\n    </tr>\n    <tr>\n      <th>1</th>\n      <td>32</td>\n      <td>60000</td>\n      <td>14</td>\n    </tr>\n    <tr>\n      <th>2</th>\n      <td>47</td>\n      <td>80000</td>\n      <td>16</td>\n    </tr>\n    <tr>\n      <th>3</th>\n      <td>51</td>\n      <td>95000</td>\n      <td>18</td>\n    </tr>\n    <tr>\n      <th>4</th>\n      <td>62</td>\n      <td>110000</td>\n      <td>20</td>\n    </tr>\n  </tbody>\n</table>\n</div>"
          },
          "metadata": {}
        }
      ],
      "execution_count": 14
    },
    {
      "cell_type": "code",
      "source": "df.cov()",
      "metadata": {
        "trusted": true
      },
      "outputs": [
        {
          "execution_count": 15,
          "output_type": "execute_result",
          "data": {
            "text/plain": "                      Age       Income  Education_level\nAge                 221.3     363000.0             46.5\nIncome           363000.0  605000000.0          77500.0\nEducation_level      46.5      77500.0             10.0",
            "text/html": "<div>\n<style scoped>\n    .dataframe tbody tr th:only-of-type {\n        vertical-align: middle;\n    }\n\n    .dataframe tbody tr th {\n        vertical-align: top;\n    }\n\n    .dataframe thead th {\n        text-align: right;\n    }\n</style>\n<table border=\"1\" class=\"dataframe\">\n  <thead>\n    <tr style=\"text-align: right;\">\n      <th></th>\n      <th>Age</th>\n      <th>Income</th>\n      <th>Education_level</th>\n    </tr>\n  </thead>\n  <tbody>\n    <tr>\n      <th>Age</th>\n      <td>221.3</td>\n      <td>363000.0</td>\n      <td>46.5</td>\n    </tr>\n    <tr>\n      <th>Income</th>\n      <td>363000.0</td>\n      <td>605000000.0</td>\n      <td>77500.0</td>\n    </tr>\n    <tr>\n      <th>Education_level</th>\n      <td>46.5</td>\n      <td>77500.0</td>\n      <td>10.0</td>\n    </tr>\n  </tbody>\n</table>\n</div>"
          },
          "metadata": {}
        }
      ],
      "execution_count": 15
    },
    {
      "cell_type": "markdown",
      "source": "### Q6. You are working on a machine learning project with a dataset containing several categorical variables, including \"Gender\" (Male/Female), \"Education Level\" (High School/Bachelor's/Master's/PhD), and \"Employment Status\" (Unemployed/Part-Time/Full-Time). Which encoding method would you use for each variable, and why?",
      "metadata": {}
    },
    {
      "cell_type": "code",
      "source": "data = {\n    'Gender': ['Male', 'Female', 'Female', 'Male'],\n    'Education Level': ['High School', 'Bachelor\\'s', 'Master\\'s', 'PhD'],\n    'Employment Status': ['Unemployed', 'Part-Time', 'Full-Time', 'Unemployed']\n}",
      "metadata": {
        "trusted": true
      },
      "outputs": [],
      "execution_count": 16
    },
    {
      "cell_type": "code",
      "source": "df=pd.DataFrame(data)",
      "metadata": {
        "trusted": true
      },
      "outputs": [],
      "execution_count": 17
    },
    {
      "cell_type": "code",
      "source": "df",
      "metadata": {
        "trusted": true
      },
      "outputs": [
        {
          "execution_count": 18,
          "output_type": "execute_result",
          "data": {
            "text/plain": "   Gender Education Level Employment Status\n0    Male     High School        Unemployed\n1  Female      Bachelor's         Part-Time\n2  Female        Master's         Full-Time\n3    Male             PhD        Unemployed",
            "text/html": "<div>\n<style scoped>\n    .dataframe tbody tr th:only-of-type {\n        vertical-align: middle;\n    }\n\n    .dataframe tbody tr th {\n        vertical-align: top;\n    }\n\n    .dataframe thead th {\n        text-align: right;\n    }\n</style>\n<table border=\"1\" class=\"dataframe\">\n  <thead>\n    <tr style=\"text-align: right;\">\n      <th></th>\n      <th>Gender</th>\n      <th>Education Level</th>\n      <th>Employment Status</th>\n    </tr>\n  </thead>\n  <tbody>\n    <tr>\n      <th>0</th>\n      <td>Male</td>\n      <td>High School</td>\n      <td>Unemployed</td>\n    </tr>\n    <tr>\n      <th>1</th>\n      <td>Female</td>\n      <td>Bachelor's</td>\n      <td>Part-Time</td>\n    </tr>\n    <tr>\n      <th>2</th>\n      <td>Female</td>\n      <td>Master's</td>\n      <td>Full-Time</td>\n    </tr>\n    <tr>\n      <th>3</th>\n      <td>Male</td>\n      <td>PhD</td>\n      <td>Unemployed</td>\n    </tr>\n  </tbody>\n</table>\n</div>"
          },
          "metadata": {}
        }
      ],
      "execution_count": 18
    },
    {
      "cell_type": "code",
      "source": "from sklearn.preprocessing import LabelEncoder\nfrom sklearn.preprocessing import OrdinalEncoder\nfrom sklearn.preprocessing import OneHotEncoder",
      "metadata": {
        "trusted": true
      },
      "outputs": [],
      "execution_count": 27
    },
    {
      "cell_type": "code",
      "source": "label_encoder=LabelEncoder()\ndf['Encoded_Gender']=label_encoder.fit_transform(df[['Gender']])",
      "metadata": {
        "trusted": true
      },
      "outputs": [
        {
          "name": "stderr",
          "text": "/lib/python3.12/site-packages/sklearn/preprocessing/_label.py:114: DataConversionWarning: A column-vector y was passed when a 1d array was expected. Please change the shape of y to (n_samples, ), for example using ravel().\n  y = column_or_1d(y, warn=True)\n",
          "output_type": "stream"
        }
      ],
      "execution_count": 20
    },
    {
      "cell_type": "code",
      "source": "education_encoder = OrdinalEncoder(categories=[['High School', 'Bachelor\\'s', 'Master\\'s', 'PhD']])\ndf['Education_encoded'] = education_encoder.fit_transform(df[['Education Level']])",
      "metadata": {
        "trusted": true
      },
      "outputs": [],
      "execution_count": 26
    },
    {
      "cell_type": "code",
      "source": "onehot_encoder=OneHotEncoder()\nencoded_ohe=onehot_encoder.fit_transform(df[['Employment Status']]).toarray()\nencoded_ohe",
      "metadata": {
        "trusted": true
      },
      "outputs": [
        {
          "execution_count": 31,
          "output_type": "execute_result",
          "data": {
            "text/plain": "array([[0., 0., 1.],\n       [0., 1., 0.],\n       [1., 0., 0.],\n       [0., 0., 1.]])"
          },
          "metadata": {}
        }
      ],
      "execution_count": 31
    },
    {
      "cell_type": "code",
      "source": "pd.DataFrame(encoded_ohe , columns=onehot_encoder.)",
      "metadata": {
        "trusted": true
      },
      "outputs": [],
      "execution_count": null
    }
  ]
}