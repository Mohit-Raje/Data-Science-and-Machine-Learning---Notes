{
  "metadata": {
    "kernelspec": {
      "name": "python",
      "display_name": "Python (Pyodide)",
      "language": "python"
    },
    "language_info": {
      "codemirror_mode": {
        "name": "python",
        "version": 3
      },
      "file_extension": ".py",
      "mimetype": "text/x-python",
      "name": "python",
      "nbconvert_exporter": "python",
      "pygments_lexer": "ipython3",
      "version": "3.8"
    }
  },
  "nbformat_minor": 4,
  "nbformat": 4,
  "cells": [
    {
      "cell_type": "code",
      "source": "import numpy as np\nimport pandas as pd",
      "metadata": {
        "trusted": true
      },
      "outputs": [
        {
          "name": "stderr",
          "text": "<ipython-input-2-59ab05e21164>:2: DeprecationWarning: \nPyarrow will become a required dependency of pandas in the next major release of pandas (pandas 3.0),\n(to allow more performant data types, such as the Arrow string type, and better interoperability with other libraries)\nbut was not found to be installed on your system.\nIf this would cause problems for you,\nplease provide us feedback at https://github.com/pandas-dev/pandas/issues/54466\n        \n  import pandas as pd\n",
          "output_type": "stream"
        }
      ],
      "execution_count": 2
    },
    {
      "cell_type": "markdown",
      "source": "### Q1. Pearson correlation coefficient is a measure of the linear relationship between two variables. Suppose  you have collected data on the amount of time students spend studying for an exam and their final exam scores. Calculate the Pearson correlation coefficient between these two variables and interpret the result.",
      "metadata": {}
    },
    {
      "cell_type": "code",
      "source": "data = {\n    'Study_Time': [10, 12, 14, 16, 18, 20, 22, 24],\n    'Exam_Score': [70, 75, 80, 85, 90, 95, 97, 100]\n}",
      "metadata": {
        "trusted": true
      },
      "outputs": [],
      "execution_count": 3
    },
    {
      "cell_type": "code",
      "source": "df=pd.DataFrame(data)",
      "metadata": {
        "trusted": true
      },
      "outputs": [],
      "execution_count": 4
    },
    {
      "cell_type": "code",
      "source": "df",
      "metadata": {
        "trusted": true
      },
      "outputs": [
        {
          "execution_count": 5,
          "output_type": "execute_result",
          "data": {
            "text/plain": "   Study_Time  Exam_Score\n0          10          70\n1          12          75\n2          14          80\n3          16          85\n4          18          90\n5          20          95\n6          22          97\n7          24         100",
            "text/html": "<div>\n<style scoped>\n    .dataframe tbody tr th:only-of-type {\n        vertical-align: middle;\n    }\n\n    .dataframe tbody tr th {\n        vertical-align: top;\n    }\n\n    .dataframe thead th {\n        text-align: right;\n    }\n</style>\n<table border=\"1\" class=\"dataframe\">\n  <thead>\n    <tr style=\"text-align: right;\">\n      <th></th>\n      <th>Study_Time</th>\n      <th>Exam_Score</th>\n    </tr>\n  </thead>\n  <tbody>\n    <tr>\n      <th>0</th>\n      <td>10</td>\n      <td>70</td>\n    </tr>\n    <tr>\n      <th>1</th>\n      <td>12</td>\n      <td>75</td>\n    </tr>\n    <tr>\n      <th>2</th>\n      <td>14</td>\n      <td>80</td>\n    </tr>\n    <tr>\n      <th>3</th>\n      <td>16</td>\n      <td>85</td>\n    </tr>\n    <tr>\n      <th>4</th>\n      <td>18</td>\n      <td>90</td>\n    </tr>\n    <tr>\n      <th>5</th>\n      <td>20</td>\n      <td>95</td>\n    </tr>\n    <tr>\n      <th>6</th>\n      <td>22</td>\n      <td>97</td>\n    </tr>\n    <tr>\n      <th>7</th>\n      <td>24</td>\n      <td>100</td>\n    </tr>\n  </tbody>\n</table>\n</div>"
          },
          "metadata": {}
        }
      ],
      "execution_count": 5
    },
    {
      "cell_type": "code",
      "source": "df.corr(method='pearson')",
      "metadata": {
        "trusted": true
      },
      "outputs": [
        {
          "execution_count": 6,
          "output_type": "execute_result",
          "data": {
            "text/plain": "            Study_Time  Exam_Score\nStudy_Time    1.000000    0.993247\nExam_Score    0.993247    1.000000",
            "text/html": "<div>\n<style scoped>\n    .dataframe tbody tr th:only-of-type {\n        vertical-align: middle;\n    }\n\n    .dataframe tbody tr th {\n        vertical-align: top;\n    }\n\n    .dataframe thead th {\n        text-align: right;\n    }\n</style>\n<table border=\"1\" class=\"dataframe\">\n  <thead>\n    <tr style=\"text-align: right;\">\n      <th></th>\n      <th>Study_Time</th>\n      <th>Exam_Score</th>\n    </tr>\n  </thead>\n  <tbody>\n    <tr>\n      <th>Study_Time</th>\n      <td>1.000000</td>\n      <td>0.993247</td>\n    </tr>\n    <tr>\n      <th>Exam_Score</th>\n      <td>0.993247</td>\n      <td>1.000000</td>\n    </tr>\n  </tbody>\n</table>\n</div>"
          },
          "metadata": {}
        }
      ],
      "execution_count": 6
    },
    {
      "cell_type": "markdown",
      "source": "### Q2. Spearman's rank correlation is a measure of the monotonic relationship between two variables. Suppose you have collected data on the amount of sleep individuals get each night and their overall job  satisfaction level on a scale of 1 to 10. Calculate the Spearman's rank correlation between these two variables and interpret the result.",
      "metadata": {}
    },
    {
      "cell_type": "code",
      "source": "data = {\n    'Sleep_Hours': [6, 7, 5, 8, 6, 7, 9, 4],\n    'Job_Satisfaction': [5, 6, 4, 8, 6, 7, 9, 3]\n}",
      "metadata": {
        "trusted": true
      },
      "outputs": [],
      "execution_count": 7
    },
    {
      "cell_type": "code",
      "source": "df=pd.DataFrame(data)",
      "metadata": {
        "trusted": true
      },
      "outputs": [],
      "execution_count": 8
    },
    {
      "cell_type": "code",
      "source": "df",
      "metadata": {
        "trusted": true
      },
      "outputs": [
        {
          "execution_count": 9,
          "output_type": "execute_result",
          "data": {
            "text/plain": "   Sleep_Hours  Job_Satisfaction\n0            6                 5\n1            7                 6\n2            5                 4\n3            8                 8\n4            6                 6\n5            7                 7\n6            9                 9\n7            4                 3",
            "text/html": "<div>\n<style scoped>\n    .dataframe tbody tr th:only-of-type {\n        vertical-align: middle;\n    }\n\n    .dataframe tbody tr th {\n        vertical-align: top;\n    }\n\n    .dataframe thead th {\n        text-align: right;\n    }\n</style>\n<table border=\"1\" class=\"dataframe\">\n  <thead>\n    <tr style=\"text-align: right;\">\n      <th></th>\n      <th>Sleep_Hours</th>\n      <th>Job_Satisfaction</th>\n    </tr>\n  </thead>\n  <tbody>\n    <tr>\n      <th>0</th>\n      <td>6</td>\n      <td>5</td>\n    </tr>\n    <tr>\n      <th>1</th>\n      <td>7</td>\n      <td>6</td>\n    </tr>\n    <tr>\n      <th>2</th>\n      <td>5</td>\n      <td>4</td>\n    </tr>\n    <tr>\n      <th>3</th>\n      <td>8</td>\n      <td>8</td>\n    </tr>\n    <tr>\n      <th>4</th>\n      <td>6</td>\n      <td>6</td>\n    </tr>\n    <tr>\n      <th>5</th>\n      <td>7</td>\n      <td>7</td>\n    </tr>\n    <tr>\n      <th>6</th>\n      <td>9</td>\n      <td>9</td>\n    </tr>\n    <tr>\n      <th>7</th>\n      <td>4</td>\n      <td>3</td>\n    </tr>\n  </tbody>\n</table>\n</div>"
          },
          "metadata": {}
        }
      ],
      "execution_count": 9
    },
    {
      "cell_type": "code",
      "source": "df.corr(method='spearman')",
      "metadata": {
        "trusted": true
      },
      "outputs": [
        {
          "execution_count": 10,
          "output_type": "execute_result",
          "data": {
            "text/plain": "                  Sleep_Hours  Job_Satisfaction\nSleep_Hours          1.000000          0.969715\nJob_Satisfaction     0.969715          1.000000",
            "text/html": "<div>\n<style scoped>\n    .dataframe tbody tr th:only-of-type {\n        vertical-align: middle;\n    }\n\n    .dataframe tbody tr th {\n        vertical-align: top;\n    }\n\n    .dataframe thead th {\n        text-align: right;\n    }\n</style>\n<table border=\"1\" class=\"dataframe\">\n  <thead>\n    <tr style=\"text-align: right;\">\n      <th></th>\n      <th>Sleep_Hours</th>\n      <th>Job_Satisfaction</th>\n    </tr>\n  </thead>\n  <tbody>\n    <tr>\n      <th>Sleep_Hours</th>\n      <td>1.000000</td>\n      <td>0.969715</td>\n    </tr>\n    <tr>\n      <th>Job_Satisfaction</th>\n      <td>0.969715</td>\n      <td>1.000000</td>\n    </tr>\n  </tbody>\n</table>\n</div>"
          },
          "metadata": {}
        }
      ],
      "execution_count": 10
    },
    {
      "cell_type": "markdown",
      "source": "### Pearson and Spearman in Terms of outlier \n\n#### Pearson\n**Sensitive to Outliers:**\nSince Pearson correlation uses the actual values of the data points, it is highly sensitive to outliers. Outliers can disproportionately affect the correlation coefficient, making it either much higher or lower than it would be without those outliers.\n\n#### Spearman\n**Robust to Outliers:** Since Spearman's rank correlation uses the ranks of the data rather than the actual values, it is less affected by outliers. Outliers may change the ranks, but they won't have as significant an impact on the correlation coefficient as they would with Pearson correlation.",
      "metadata": {}
    },
    {
      "cell_type": "markdown",
      "source": "### Q3. Suppose you are conducting a study to examine the relationship between the number of hours of  exercise per week and body mass index (BMI) in a sample of adults. You collected data on both variables for 50 participants. Calculate the Pearson correlation coefficient and the Spearman's rank correlation between these two variables and compare the results.",
      "metadata": {}
    },
    {
      "cell_type": "code",
      "source": "hours=np.random.randint(1 , 7 , 50)\nbmi=np.random.uniform(1 , 50 , 50)",
      "metadata": {
        "trusted": true
      },
      "outputs": [],
      "execution_count": 15
    },
    {
      "cell_type": "code",
      "source": "df=pd.DataFrame({\n    'Hours Of workout' : hours,\n    'BMI' : bmi\n})",
      "metadata": {
        "trusted": true
      },
      "outputs": [],
      "execution_count": 16
    },
    {
      "cell_type": "code",
      "source": "df.head()",
      "metadata": {
        "trusted": true
      },
      "outputs": [
        {
          "execution_count": 18,
          "output_type": "execute_result",
          "data": {
            "text/plain": "   Hours Of workout        BMI\n0                 6  35.287416\n1                 2  46.720617\n2                 2  36.457571\n3                 2  38.331256\n4                 3  44.088200",
            "text/html": "<div>\n<style scoped>\n    .dataframe tbody tr th:only-of-type {\n        vertical-align: middle;\n    }\n\n    .dataframe tbody tr th {\n        vertical-align: top;\n    }\n\n    .dataframe thead th {\n        text-align: right;\n    }\n</style>\n<table border=\"1\" class=\"dataframe\">\n  <thead>\n    <tr style=\"text-align: right;\">\n      <th></th>\n      <th>Hours Of workout</th>\n      <th>BMI</th>\n    </tr>\n  </thead>\n  <tbody>\n    <tr>\n      <th>0</th>\n      <td>6</td>\n      <td>35.287416</td>\n    </tr>\n    <tr>\n      <th>1</th>\n      <td>2</td>\n      <td>46.720617</td>\n    </tr>\n    <tr>\n      <th>2</th>\n      <td>2</td>\n      <td>36.457571</td>\n    </tr>\n    <tr>\n      <th>3</th>\n      <td>2</td>\n      <td>38.331256</td>\n    </tr>\n    <tr>\n      <th>4</th>\n      <td>3</td>\n      <td>44.088200</td>\n    </tr>\n  </tbody>\n</table>\n</div>"
          },
          "metadata": {}
        }
      ],
      "execution_count": 18
    },
    {
      "cell_type": "code",
      "source": "df.corr(method='pearson')",
      "metadata": {
        "trusted": true
      },
      "outputs": [
        {
          "execution_count": 19,
          "output_type": "execute_result",
          "data": {
            "text/plain": "                  Hours Of workout       BMI\nHours Of workout          1.000000 -0.172127\nBMI                      -0.172127  1.000000",
            "text/html": "<div>\n<style scoped>\n    .dataframe tbody tr th:only-of-type {\n        vertical-align: middle;\n    }\n\n    .dataframe tbody tr th {\n        vertical-align: top;\n    }\n\n    .dataframe thead th {\n        text-align: right;\n    }\n</style>\n<table border=\"1\" class=\"dataframe\">\n  <thead>\n    <tr style=\"text-align: right;\">\n      <th></th>\n      <th>Hours Of workout</th>\n      <th>BMI</th>\n    </tr>\n  </thead>\n  <tbody>\n    <tr>\n      <th>Hours Of workout</th>\n      <td>1.000000</td>\n      <td>-0.172127</td>\n    </tr>\n    <tr>\n      <th>BMI</th>\n      <td>-0.172127</td>\n      <td>1.000000</td>\n    </tr>\n  </tbody>\n</table>\n</div>"
          },
          "metadata": {}
        }
      ],
      "execution_count": 19
    },
    {
      "cell_type": "code",
      "source": "df.corr(method='spearman')",
      "metadata": {
        "trusted": true
      },
      "outputs": [
        {
          "execution_count": 20,
          "output_type": "execute_result",
          "data": {
            "text/plain": "                  Hours Of workout       BMI\nHours Of workout          1.000000 -0.163131\nBMI                      -0.163131  1.000000",
            "text/html": "<div>\n<style scoped>\n    .dataframe tbody tr th:only-of-type {\n        vertical-align: middle;\n    }\n\n    .dataframe tbody tr th {\n        vertical-align: top;\n    }\n\n    .dataframe thead th {\n        text-align: right;\n    }\n</style>\n<table border=\"1\" class=\"dataframe\">\n  <thead>\n    <tr style=\"text-align: right;\">\n      <th></th>\n      <th>Hours Of workout</th>\n      <th>BMI</th>\n    </tr>\n  </thead>\n  <tbody>\n    <tr>\n      <th>Hours Of workout</th>\n      <td>1.000000</td>\n      <td>-0.163131</td>\n    </tr>\n    <tr>\n      <th>BMI</th>\n      <td>-0.163131</td>\n      <td>1.000000</td>\n    </tr>\n  </tbody>\n</table>\n</div>"
          },
          "metadata": {}
        }
      ],
      "execution_count": 20
    },
    {
      "cell_type": "markdown",
      "source": "### Result Interpretation\n\n\nBoth prearson and spearman depicts weak negative corr between Hours of BMI . This means that, generally, as the number of exercise hours increases, BMI tends to decrease slightly, but the relationship is not very strong.",
      "metadata": {}
    },
    {
      "cell_type": "markdown",
      "source": "### Q4. A researcher is interested in examining the relationship between the number of hours individuals spend watching television per day and their level of physical activity. The researcher collected data on both variables from a sample of 50 participants. Calculate the Pearson correlation coefficient between these two variables.",
      "metadata": {}
    },
    {
      "cell_type": "code",
      "source": "hours=np.random.randint(1, 8 , 50)\nphysical_activity=np.random.randint(1 ,3 ,50)",
      "metadata": {
        "trusted": true
      },
      "outputs": [],
      "execution_count": 22
    },
    {
      "cell_type": "code",
      "source": "df=pd.DataFrame({\n    'Hours' : hours,\n    'Activity' : physical_activity\n})",
      "metadata": {
        "trusted": true
      },
      "outputs": [],
      "execution_count": 23
    },
    {
      "cell_type": "code",
      "source": "df.head()",
      "metadata": {
        "trusted": true
      },
      "outputs": [
        {
          "execution_count": 24,
          "output_type": "execute_result",
          "data": {
            "text/plain": "   Hours  Activity\n0      2         1\n1      3         1\n2      4         1\n3      5         2\n4      7         2",
            "text/html": "<div>\n<style scoped>\n    .dataframe tbody tr th:only-of-type {\n        vertical-align: middle;\n    }\n\n    .dataframe tbody tr th {\n        vertical-align: top;\n    }\n\n    .dataframe thead th {\n        text-align: right;\n    }\n</style>\n<table border=\"1\" class=\"dataframe\">\n  <thead>\n    <tr style=\"text-align: right;\">\n      <th></th>\n      <th>Hours</th>\n      <th>Activity</th>\n    </tr>\n  </thead>\n  <tbody>\n    <tr>\n      <th>0</th>\n      <td>2</td>\n      <td>1</td>\n    </tr>\n    <tr>\n      <th>1</th>\n      <td>3</td>\n      <td>1</td>\n    </tr>\n    <tr>\n      <th>2</th>\n      <td>4</td>\n      <td>1</td>\n    </tr>\n    <tr>\n      <th>3</th>\n      <td>5</td>\n      <td>2</td>\n    </tr>\n    <tr>\n      <th>4</th>\n      <td>7</td>\n      <td>2</td>\n    </tr>\n  </tbody>\n</table>\n</div>"
          },
          "metadata": {}
        }
      ],
      "execution_count": 24
    },
    {
      "cell_type": "code",
      "source": "df.corr(method='pearson')",
      "metadata": {
        "trusted": true
      },
      "outputs": [
        {
          "execution_count": 25,
          "output_type": "execute_result",
          "data": {
            "text/plain": "             Hours  Activity\nHours     1.000000  0.037092\nActivity  0.037092  1.000000",
            "text/html": "<div>\n<style scoped>\n    .dataframe tbody tr th:only-of-type {\n        vertical-align: middle;\n    }\n\n    .dataframe tbody tr th {\n        vertical-align: top;\n    }\n\n    .dataframe thead th {\n        text-align: right;\n    }\n</style>\n<table border=\"1\" class=\"dataframe\">\n  <thead>\n    <tr style=\"text-align: right;\">\n      <th></th>\n      <th>Hours</th>\n      <th>Activity</th>\n    </tr>\n  </thead>\n  <tbody>\n    <tr>\n      <th>Hours</th>\n      <td>1.000000</td>\n      <td>0.037092</td>\n    </tr>\n    <tr>\n      <th>Activity</th>\n      <td>0.037092</td>\n      <td>1.000000</td>\n    </tr>\n  </tbody>\n</table>\n</div>"
          },
          "metadata": {}
        }
      ],
      "execution_count": 25
    },
    {
      "cell_type": "markdown",
      "source": "### Q5. A survey was conducted to examine the relationship between age and preference for a particular brand of soft drink. The survey results are shown below:\n\n![image.png](attachment:ab301e1a-cb65-4827-9871-b643a2f68669.png)",
      "metadata": {},
      "attachments": {
        "ab301e1a-cb65-4827-9871-b643a2f68669.png": {
          "image/png": "[encoded data removed]"
        }
      }
    },
    {
      "cell_type": "code",
      "source": "data = {\n    \"Age (Years)\": [25, 42, 37, 19, 31, 28],\n    \"Soft drink Preference\": [\"Coke\", \"Pepsi\", \"Mountain Dew\", \"Coke\", \"Pepsi\", \"Coke\"]\n}\ndf=pd.DataFrame(data)",
      "metadata": {
        "trusted": true
      },
      "outputs": [],
      "execution_count": 28
    },
    {
      "cell_type": "code",
      "source": "from sklearn.preprocessing import OneHotEncoder\n\nohe=OneHotEncoder()\nencoded_df=ohe.fit_transform(df[['Soft drink Preference']]).toarray()\nencoded_df",
      "metadata": {
        "trusted": true
      },
      "outputs": [
        {
          "execution_count": 31,
          "output_type": "execute_result",
          "data": {
            "text/plain": "array([[1., 0., 0.],\n       [0., 0., 1.],\n       [0., 1., 0.],\n       [1., 0., 0.],\n       [0., 0., 1.],\n       [1., 0., 0.]])"
          },
          "metadata": {}
        }
      ],
      "execution_count": 31
    },
    {
      "cell_type": "code",
      "source": "encoded_df=pd.DataFrame(encoded_df  , columns=ohe.get_feature_names_out())\nencoded_df",
      "metadata": {
        "trusted": true
      },
      "outputs": [
        {
          "execution_count": 33,
          "output_type": "execute_result",
          "data": {
            "text/plain": "   Soft drink Preference_Coke  Soft drink Preference_Mountain Dew  \\\n0                         1.0                                 0.0   \n1                         0.0                                 0.0   \n2                         0.0                                 1.0   \n3                         1.0                                 0.0   \n4                         0.0                                 0.0   \n5                         1.0                                 0.0   \n\n   Soft drink Preference_Pepsi  \n0                          0.0  \n1                          1.0  \n2                          0.0  \n3                          0.0  \n4                          1.0  \n5                          0.0  ",
            "text/html": "<div>\n<style scoped>\n    .dataframe tbody tr th:only-of-type {\n        vertical-align: middle;\n    }\n\n    .dataframe tbody tr th {\n        vertical-align: top;\n    }\n\n    .dataframe thead th {\n        text-align: right;\n    }\n</style>\n<table border=\"1\" class=\"dataframe\">\n  <thead>\n    <tr style=\"text-align: right;\">\n      <th></th>\n      <th>Soft drink Preference_Coke</th>\n      <th>Soft drink Preference_Mountain Dew</th>\n      <th>Soft drink Preference_Pepsi</th>\n    </tr>\n  </thead>\n  <tbody>\n    <tr>\n      <th>0</th>\n      <td>1.0</td>\n      <td>0.0</td>\n      <td>0.0</td>\n    </tr>\n    <tr>\n      <th>1</th>\n      <td>0.0</td>\n      <td>0.0</td>\n      <td>1.0</td>\n    </tr>\n    <tr>\n      <th>2</th>\n      <td>0.0</td>\n      <td>1.0</td>\n      <td>0.0</td>\n    </tr>\n    <tr>\n      <th>3</th>\n      <td>1.0</td>\n      <td>0.0</td>\n      <td>0.0</td>\n    </tr>\n    <tr>\n      <th>4</th>\n      <td>0.0</td>\n      <td>0.0</td>\n      <td>1.0</td>\n    </tr>\n    <tr>\n      <th>5</th>\n      <td>1.0</td>\n      <td>0.0</td>\n      <td>0.0</td>\n    </tr>\n  </tbody>\n</table>\n</div>"
          },
          "metadata": {}
        }
      ],
      "execution_count": 33
    },
    {
      "cell_type": "code",
      "source": "final_df=pd.concat([df , encoded_df], axis=1)",
      "metadata": {
        "trusted": true
      },
      "outputs": [],
      "execution_count": 37
    },
    {
      "cell_type": "code",
      "source": "final_df",
      "metadata": {
        "trusted": true
      },
      "outputs": [
        {
          "execution_count": 38,
          "output_type": "execute_result",
          "data": {
            "text/plain": "   Age (Years) Soft drink Preference  Soft drink Preference_Coke  \\\n0           25                  Coke                         1.0   \n1           42                 Pepsi                         0.0   \n2           37          Mountain Dew                         0.0   \n3           19                  Coke                         1.0   \n4           31                 Pepsi                         0.0   \n5           28                  Coke                         1.0   \n\n   Soft drink Preference_Mountain Dew  Soft drink Preference_Pepsi  \n0                                 0.0                          0.0  \n1                                 0.0                          1.0  \n2                                 1.0                          0.0  \n3                                 0.0                          0.0  \n4                                 0.0                          1.0  \n5                                 0.0                          0.0  ",
            "text/html": "<div>\n<style scoped>\n    .dataframe tbody tr th:only-of-type {\n        vertical-align: middle;\n    }\n\n    .dataframe tbody tr th {\n        vertical-align: top;\n    }\n\n    .dataframe thead th {\n        text-align: right;\n    }\n</style>\n<table border=\"1\" class=\"dataframe\">\n  <thead>\n    <tr style=\"text-align: right;\">\n      <th></th>\n      <th>Age (Years)</th>\n      <th>Soft drink Preference</th>\n      <th>Soft drink Preference_Coke</th>\n      <th>Soft drink Preference_Mountain Dew</th>\n      <th>Soft drink Preference_Pepsi</th>\n    </tr>\n  </thead>\n  <tbody>\n    <tr>\n      <th>0</th>\n      <td>25</td>\n      <td>Coke</td>\n      <td>1.0</td>\n      <td>0.0</td>\n      <td>0.0</td>\n    </tr>\n    <tr>\n      <th>1</th>\n      <td>42</td>\n      <td>Pepsi</td>\n      <td>0.0</td>\n      <td>0.0</td>\n      <td>1.0</td>\n    </tr>\n    <tr>\n      <th>2</th>\n      <td>37</td>\n      <td>Mountain Dew</td>\n      <td>0.0</td>\n      <td>1.0</td>\n      <td>0.0</td>\n    </tr>\n    <tr>\n      <th>3</th>\n      <td>19</td>\n      <td>Coke</td>\n      <td>1.0</td>\n      <td>0.0</td>\n      <td>0.0</td>\n    </tr>\n    <tr>\n      <th>4</th>\n      <td>31</td>\n      <td>Pepsi</td>\n      <td>0.0</td>\n      <td>0.0</td>\n      <td>1.0</td>\n    </tr>\n    <tr>\n      <th>5</th>\n      <td>28</td>\n      <td>Coke</td>\n      <td>1.0</td>\n      <td>0.0</td>\n      <td>0.0</td>\n    </tr>\n  </tbody>\n</table>\n</div>"
          },
          "metadata": {}
        }
      ],
      "execution_count": 38
    },
    {
      "cell_type": "code",
      "source": "df",
      "metadata": {
        "trusted": true
      },
      "outputs": [
        {
          "execution_count": 39,
          "output_type": "execute_result",
          "data": {
            "text/plain": "   Age (Years) Soft drink Preference\n0           25                  Coke\n1           42                 Pepsi\n2           37          Mountain Dew\n3           19                  Coke\n4           31                 Pepsi\n5           28                  Coke",
            "text/html": "<div>\n<style scoped>\n    .dataframe tbody tr th:only-of-type {\n        vertical-align: middle;\n    }\n\n    .dataframe tbody tr th {\n        vertical-align: top;\n    }\n\n    .dataframe thead th {\n        text-align: right;\n    }\n</style>\n<table border=\"1\" class=\"dataframe\">\n  <thead>\n    <tr style=\"text-align: right;\">\n      <th></th>\n      <th>Age (Years)</th>\n      <th>Soft drink Preference</th>\n    </tr>\n  </thead>\n  <tbody>\n    <tr>\n      <th>0</th>\n      <td>25</td>\n      <td>Coke</td>\n    </tr>\n    <tr>\n      <th>1</th>\n      <td>42</td>\n      <td>Pepsi</td>\n    </tr>\n    <tr>\n      <th>2</th>\n      <td>37</td>\n      <td>Mountain Dew</td>\n    </tr>\n    <tr>\n      <th>3</th>\n      <td>19</td>\n      <td>Coke</td>\n    </tr>\n    <tr>\n      <th>4</th>\n      <td>31</td>\n      <td>Pepsi</td>\n    </tr>\n    <tr>\n      <th>5</th>\n      <td>28</td>\n      <td>Coke</td>\n    </tr>\n  </tbody>\n</table>\n</div>"
          },
          "metadata": {}
        }
      ],
      "execution_count": 39
    },
    {
      "cell_type": "code",
      "source": "encoded_data=df.groupby(by=\"Soft drink Preference\")['Age (Years)'].mean().to_dict()\nencoded_data",
      "metadata": {
        "trusted": true
      },
      "outputs": [
        {
          "execution_count": 46,
          "output_type": "execute_result",
          "data": {
            "text/plain": "{'Coke': 24.0, 'Mountain Dew': 37.0, 'Pepsi': 36.5}"
          },
          "metadata": {}
        }
      ],
      "execution_count": 46
    },
    {
      "cell_type": "code",
      "source": "df['Encoded_Soft_Drink']=df['Soft drink Preference'].map(encoded_data)\ndf",
      "metadata": {
        "trusted": true
      },
      "outputs": [
        {
          "execution_count": 48,
          "output_type": "execute_result",
          "data": {
            "text/plain": "   Age (Years) Soft drink Preference  Encoded_Soft_Drink\n0           25                  Coke                24.0\n1           42                 Pepsi                36.5\n2           37          Mountain Dew                37.0\n3           19                  Coke                24.0\n4           31                 Pepsi                36.5\n5           28                  Coke                24.0",
            "text/html": "<div>\n<style scoped>\n    .dataframe tbody tr th:only-of-type {\n        vertical-align: middle;\n    }\n\n    .dataframe tbody tr th {\n        vertical-align: top;\n    }\n\n    .dataframe thead th {\n        text-align: right;\n    }\n</style>\n<table border=\"1\" class=\"dataframe\">\n  <thead>\n    <tr style=\"text-align: right;\">\n      <th></th>\n      <th>Age (Years)</th>\n      <th>Soft drink Preference</th>\n      <th>Encoded_Soft_Drink</th>\n    </tr>\n  </thead>\n  <tbody>\n    <tr>\n      <th>0</th>\n      <td>25</td>\n      <td>Coke</td>\n      <td>24.0</td>\n    </tr>\n    <tr>\n      <th>1</th>\n      <td>42</td>\n      <td>Pepsi</td>\n      <td>36.5</td>\n    </tr>\n    <tr>\n      <th>2</th>\n      <td>37</td>\n      <td>Mountain Dew</td>\n      <td>37.0</td>\n    </tr>\n    <tr>\n      <th>3</th>\n      <td>19</td>\n      <td>Coke</td>\n      <td>24.0</td>\n    </tr>\n    <tr>\n      <th>4</th>\n      <td>31</td>\n      <td>Pepsi</td>\n      <td>36.5</td>\n    </tr>\n    <tr>\n      <th>5</th>\n      <td>28</td>\n      <td>Coke</td>\n      <td>24.0</td>\n    </tr>\n  </tbody>\n</table>\n</div>"
          },
          "metadata": {}
        }
      ],
      "execution_count": 48
    },
    {
      "cell_type": "code",
      "source": "df.drop(['Soft drink Preference'] , axis=1 ,  inplace=True)",
      "metadata": {
        "trusted": true
      },
      "outputs": [],
      "execution_count": 50
    },
    {
      "cell_type": "code",
      "source": "df",
      "metadata": {
        "trusted": true
      },
      "outputs": [
        {
          "execution_count": 51,
          "output_type": "execute_result",
          "data": {
            "text/plain": "   Age (Years)  Encoded_Soft_Drink\n0           25                24.0\n1           42                36.5\n2           37                37.0\n3           19                24.0\n4           31                36.5\n5           28                24.0",
            "text/html": "<div>\n<style scoped>\n    .dataframe tbody tr th:only-of-type {\n        vertical-align: middle;\n    }\n\n    .dataframe tbody tr th {\n        vertical-align: top;\n    }\n\n    .dataframe thead th {\n        text-align: right;\n    }\n</style>\n<table border=\"1\" class=\"dataframe\">\n  <thead>\n    <tr style=\"text-align: right;\">\n      <th></th>\n      <th>Age (Years)</th>\n      <th>Encoded_Soft_Drink</th>\n    </tr>\n  </thead>\n  <tbody>\n    <tr>\n      <th>0</th>\n      <td>25</td>\n      <td>24.0</td>\n    </tr>\n    <tr>\n      <th>1</th>\n      <td>42</td>\n      <td>36.5</td>\n    </tr>\n    <tr>\n      <th>2</th>\n      <td>37</td>\n      <td>37.0</td>\n    </tr>\n    <tr>\n      <th>3</th>\n      <td>19</td>\n      <td>24.0</td>\n    </tr>\n    <tr>\n      <th>4</th>\n      <td>31</td>\n      <td>36.5</td>\n    </tr>\n    <tr>\n      <th>5</th>\n      <td>28</td>\n      <td>24.0</td>\n    </tr>\n  </tbody>\n</table>\n</div>"
          },
          "metadata": {}
        }
      ],
      "execution_count": 51
    },
    {
      "cell_type": "code",
      "source": "df.corr(method='pearson')",
      "metadata": {
        "trusted": true
      },
      "outputs": [
        {
          "execution_count": 52,
          "output_type": "execute_result",
          "data": {
            "text/plain": "                    Age (Years)  Encoded_Soft_Drink\nAge (Years)             1.00000             0.83753\nEncoded_Soft_Drink      0.83753             1.00000",
            "text/html": "<div>\n<style scoped>\n    .dataframe tbody tr th:only-of-type {\n        vertical-align: middle;\n    }\n\n    .dataframe tbody tr th {\n        vertical-align: top;\n    }\n\n    .dataframe thead th {\n        text-align: right;\n    }\n</style>\n<table border=\"1\" class=\"dataframe\">\n  <thead>\n    <tr style=\"text-align: right;\">\n      <th></th>\n      <th>Age (Years)</th>\n      <th>Encoded_Soft_Drink</th>\n    </tr>\n  </thead>\n  <tbody>\n    <tr>\n      <th>Age (Years)</th>\n      <td>1.00000</td>\n      <td>0.83753</td>\n    </tr>\n    <tr>\n      <th>Encoded_Soft_Drink</th>\n      <td>0.83753</td>\n      <td>1.00000</td>\n    </tr>\n  </tbody>\n</table>\n</div>"
          },
          "metadata": {}
        }
      ],
      "execution_count": 52
    },
    {
      "cell_type": "markdown",
      "source": "### Q6. A company is interested in examining the relationship between the number of sales calls made per day  and the number of sales made per week. The company collected data on both variables from a sample of 30 sales representatives. Calculate the Pearson correlation coefficient between these two variables",
      "metadata": {}
    },
    {
      "cell_type": "code",
      "source": "data = {\n    'Sales_Calls_Per_Day': np.random.randint(5, 20, 30),  # Random number of sales calls per day between 5 and 20\n    'Sales_Per_Week': np.random.randint(10, 50, 30)  # Random number of sales per week between 10 and 50\n}",
      "metadata": {
        "trusted": true
      },
      "outputs": [],
      "execution_count": 53
    },
    {
      "cell_type": "code",
      "source": "df=pd.DataFrame(data)",
      "metadata": {
        "trusted": true
      },
      "outputs": [],
      "execution_count": 54
    },
    {
      "cell_type": "code",
      "source": "df.head()",
      "metadata": {
        "trusted": true
      },
      "outputs": [
        {
          "execution_count": 55,
          "output_type": "execute_result",
          "data": {
            "text/plain": "   Sales_Calls_Per_Day  Sales_Per_Week\n0                    7              45\n1                   10              31\n2                    6              46\n3                   11              44\n4                   18              24",
            "text/html": "<div>\n<style scoped>\n    .dataframe tbody tr th:only-of-type {\n        vertical-align: middle;\n    }\n\n    .dataframe tbody tr th {\n        vertical-align: top;\n    }\n\n    .dataframe thead th {\n        text-align: right;\n    }\n</style>\n<table border=\"1\" class=\"dataframe\">\n  <thead>\n    <tr style=\"text-align: right;\">\n      <th></th>\n      <th>Sales_Calls_Per_Day</th>\n      <th>Sales_Per_Week</th>\n    </tr>\n  </thead>\n  <tbody>\n    <tr>\n      <th>0</th>\n      <td>7</td>\n      <td>45</td>\n    </tr>\n    <tr>\n      <th>1</th>\n      <td>10</td>\n      <td>31</td>\n    </tr>\n    <tr>\n      <th>2</th>\n      <td>6</td>\n      <td>46</td>\n    </tr>\n    <tr>\n      <th>3</th>\n      <td>11</td>\n      <td>44</td>\n    </tr>\n    <tr>\n      <th>4</th>\n      <td>18</td>\n      <td>24</td>\n    </tr>\n  </tbody>\n</table>\n</div>"
          },
          "metadata": {}
        }
      ],
      "execution_count": 55
    },
    {
      "cell_type": "code",
      "source": "df.corr(method='pearson')",
      "metadata": {
        "trusted": true
      },
      "outputs": [
        {
          "execution_count": 56,
          "output_type": "execute_result",
          "data": {
            "text/plain": "                     Sales_Calls_Per_Day  Sales_Per_Week\nSales_Calls_Per_Day             1.000000        0.270116\nSales_Per_Week                  0.270116        1.000000",
            "text/html": "<div>\n<style scoped>\n    .dataframe tbody tr th:only-of-type {\n        vertical-align: middle;\n    }\n\n    .dataframe tbody tr th {\n        vertical-align: top;\n    }\n\n    .dataframe thead th {\n        text-align: right;\n    }\n</style>\n<table border=\"1\" class=\"dataframe\">\n  <thead>\n    <tr style=\"text-align: right;\">\n      <th></th>\n      <th>Sales_Calls_Per_Day</th>\n      <th>Sales_Per_Week</th>\n    </tr>\n  </thead>\n  <tbody>\n    <tr>\n      <th>Sales_Calls_Per_Day</th>\n      <td>1.000000</td>\n      <td>0.270116</td>\n    </tr>\n    <tr>\n      <th>Sales_Per_Week</th>\n      <td>0.270116</td>\n      <td>1.000000</td>\n    </tr>\n  </tbody>\n</table>\n</div>"
          },
          "metadata": {}
        }
      ],
      "execution_count": 56
    },
    {
      "cell_type": "code",
      "source": "df.corr(method='spearman')",
      "metadata": {
        "trusted": true
      },
      "outputs": [
        {
          "execution_count": 57,
          "output_type": "execute_result",
          "data": {
            "text/plain": "                     Sales_Calls_Per_Day  Sales_Per_Week\nSales_Calls_Per_Day             1.000000        0.245909\nSales_Per_Week                  0.245909        1.000000",
            "text/html": "<div>\n<style scoped>\n    .dataframe tbody tr th:only-of-type {\n        vertical-align: middle;\n    }\n\n    .dataframe tbody tr th {\n        vertical-align: top;\n    }\n\n    .dataframe thead th {\n        text-align: right;\n    }\n</style>\n<table border=\"1\" class=\"dataframe\">\n  <thead>\n    <tr style=\"text-align: right;\">\n      <th></th>\n      <th>Sales_Calls_Per_Day</th>\n      <th>Sales_Per_Week</th>\n    </tr>\n  </thead>\n  <tbody>\n    <tr>\n      <th>Sales_Calls_Per_Day</th>\n      <td>1.000000</td>\n      <td>0.245909</td>\n    </tr>\n    <tr>\n      <th>Sales_Per_Week</th>\n      <td>0.245909</td>\n      <td>1.000000</td>\n    </tr>\n  </tbody>\n</table>\n</div>"
          },
          "metadata": {}
        }
      ],
      "execution_count": 57
    },
    {
      "cell_type": "code",
      "source": "",
      "metadata": {
        "trusted": true
      },
      "outputs": [],
      "execution_count": null
    }
  ]
}