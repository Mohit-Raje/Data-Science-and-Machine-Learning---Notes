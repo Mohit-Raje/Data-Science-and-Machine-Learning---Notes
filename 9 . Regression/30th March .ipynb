{
 "cells": [
  {
   "cell_type": "markdown",
   "id": "6d24254e-5f64-41a4-985f-8427bbf90845",
   "metadata": {},
   "source": [
    "### Q1. What is Elastic Net Regression and how does it differ from other regression techniques?\n",
    "\n",
    "Elastic regression technique is combination of ridge and lasso technique . In this there exsists advantages of Ridge and  Lasso . Elastic regression is capable to deal with overfitting issue and feature selection as well at the same time . This make elasti net regression technique different from all the regression technique .\n",
    "\n",
    "In Elastic net regression technique two penalties are added to the cost function:\n",
    "\n",
    "1. lambda * sum of slope square\n",
    "2. lambda * sum of absolute \n",
    "\n",
    "\n",
    "Due to these penalties the model does not overfit and also unecessary features are dropped."
   ]
  },
  {
   "cell_type": "markdown",
   "id": "2d76fe73-79ce-4f00-b44e-6e3385c89f9d",
   "metadata": {},
   "source": [
    "### Q2. How do you choose the optimal values of the regularization parameters for Elastic Net Regression?\n",
    "\n",
    "**Cross validation**\n",
    "\n",
    "**Grid search cv with cross validation**"
   ]
  },
  {
   "cell_type": "markdown",
   "id": "efc7856f-8718-4f95-8a20-8632d51b44f2",
   "metadata": {},
   "source": [
    "### Q3. What are the advantages and disadvantages of Elastic Net Regression?"
   ]
  },
  {
   "cell_type": "markdown",
   "id": "243c3d3f-6c80-4fe5-a0e0-a832549812aa",
   "metadata": {
    "tags": []
   },
   "source": [
    " Advantages of Elastic Net Regression\n",
    "Handles Multicollinearity\n",
    "\n",
    "Unlike Lasso, Elastic Net works well when features are highly correlated.\n",
    "\n",
    "It distributes coefficients among correlated variables rather than selecting only one.\n",
    "\n",
    "Feature Selection & Shrinkage\n",
    "\n",
    "Like Lasso, Elastic Net can shrink some coefficients to exactly zero, effectively performing feature selection.\n",
    "\n",
    "This helps in reducing model complexity and improving interpretability.\n",
    "\n",
    "Balances Bias-Variance Tradeoff\n",
    "\n",
    "By combining L1 (Lasso) and L2 (Ridge) penalties, it provides better generalization than using either technique alone.\n",
    "\n",
    "It helps prevent overfitting while ensuring that some features are removed.\n",
    "\n",
    "Works Well for High-Dimensional Data\n",
    "\n",
    "When the number of features (\n",
    "𝑝\n",
    "p) is much larger than the number of observations (\n",
    "𝑛\n",
    "n), Elastic Net performs better than OLS (Ordinary Least Squares).\n",
    "\n",
    "More Stable than Lasso\n",
    "\n",
    "In Lasso, if there are correlated features, it randomly selects one and ignores the others.\n",
    "\n",
    "Elastic Net assigns weights more evenly across correlated features, making it more stable.\n",
    "\n",
    "❌ Disadvantages of Elastic Net Regression\n",
    "Increased Complexity (More Hyperparameters)\n",
    "\n",
    "Requires tuning of two regularization parameters:\n",
    "\n",
    "𝜆\n",
    "1\n",
    "λ \n",
    "1\n",
    "​\n",
    "  (L1 penalty strength)\n",
    "\n",
    "𝜆\n",
    "2\n",
    "λ \n",
    "2\n",
    "​\n",
    "  (L2 penalty strength)\n",
    "\n",
    "Finding optimal values requires cross-validation, which increases computational cost.\n",
    "\n",
    "Can Still Retain Irrelevant Features\n",
    "\n",
    "Unlike pure Lasso, which aggressively shrinks coefficients to zero, Elastic Net may keep some irrelevant features.\n",
    "\n",
    "Not Always Better than Lasso or Ridge\n",
    "\n",
    "If the dataset has:\n",
    "\n",
    "Few features → Lasso may be enough.\n",
    "\n",
    "Highly correlated features but all are important → Ridge may be preferable.\n",
    "\n",
    "Computationally Expensive for Large Datasets\n",
    "\n",
    "The additional tuning parameters make training slower than Ridge or Lasso alone.\n",
    "\n"
   ]
  },
  {
   "cell_type": "markdown",
   "id": "1a559c2a-5825-4185-9bfd-7b308940c959",
   "metadata": {},
   "source": [
    "### Q4. What are some common use cases for Elastic Net Regression?\n",
    "\n",
    "Common Use Cases for Elastic Net Regression\n",
    "Elastic Net Regression is widely used in various real-world applications where feature selection and handling multicollinearity are important. Here are some key use cases:\n",
    "\n",
    "1️⃣ High-Dimensional Data (Feature Selection)\n",
    "Use Case: Genomics & Bioinformatics\n",
    "\n",
    "\n",
    "Datasets in genetics often have thousands of features (genes) but only a few relevant ones.\n",
    "\n",
    "\n",
    "Elastic Net helps in selecting important genetic markers for disease prediction (e.g., cancer detection).\n",
    "\n",
    "\n",
    "\n",
    "2️⃣ Multicollinear Data (Highly Correlated Features)\n",
    "Use Case: Finance & Stock Market Analysis\n",
    "\n",
    "\n",
    "Many financial indicators (e.g., interest rates, inflation, stock prices) are highly correlated.\n",
    "\n",
    "\n",
    "Elastic Net prevents overfitting and selects important predictors for risk assessment or stock price forecasting.\n",
    "\n",
    "\n",
    "\n",
    "3️⃣ Sparse Data (Many Zero Coefficients)\n",
    "Use Case: Text & NLP Applications\n",
    "\n",
    "\n",
    "In sentiment analysis, text data is represented as high-dimensional feature vectors (e.g., TF-IDF, word embeddings).\n",
    "\n",
    "\n",
    "Elastic Net selects the most relevant words/features while reducing noise.\n",
    "\n",
    "\n",
    "\n",
    "4️⃣ Customer Behavior & Marketing Analytics\n",
    "Use Case: Customer Churn Prediction\n",
    "\n",
    "\n",
    "Businesses analyze multiple factors like purchase history, engagement, complaints, demographics.\n",
    "\n",
    "\n",
    "Elastic Net helps identify key factors influencing customer retention while avoiding multicollinearity issues.\n",
    "\n",
    "\n",
    "\n",
    "5️⃣ Medical & Healthcare Analytics\n",
    "Use Case: Disease Risk Prediction & Drug Response Modeling\n",
    "\n",
    "\n",
    "Patient health records often contain redundant medical variables (e.g., blood pressure, cholesterol, BMI).\n",
    "\n",
    "\n",
    "Elastic Net eliminates unnecessary variables and improves disease diagnosis models.\n",
    "\n",
    "\n"
   ]
  },
  {
   "cell_type": "markdown",
   "id": "40c457b9-d1d6-411f-acb4-a96f8fa3495e",
   "metadata": {},
   "source": [
    "### Q5. How do you interpret the coefficients in Elastic Net Regression?\n",
    "\n",
    "In Elastic Net Regression, the interpretation of coefficients is similar to other linear regression models, but with additional considerations due to the L1 (Lasso) and L2 (Ridge) regularization terms.\n",
    "Interpreting the Coefficients:\n",
    "Magnitude of Coefficients:\n",
    "\n",
    "\n",
    "A larger absolute value of a coefficient indicates a stronger influence of that feature on the target variable.\n",
    "\n",
    "\n",
    "A coefficient close to zero suggests that the feature has little effect on the outcome.\n",
    "\n",
    "\n",
    "Feature Selection Impact (L1 Regularization Effect - Lasso):\n",
    "\n",
    "\n",
    "The L1 component forces some coefficients to become exactly zero, effectively removing unimportant features from the model.\n",
    "\n",
    "\n",
    "This helps in identifying the most relevant predictors.\n",
    "\n",
    "\n",
    "Shrinkage Effect (L2 Regularization Effect - Ridge):\n",
    "\n",
    "\n",
    "The L2 component reduces the magnitude of coefficients but does not necessarily make them zero.\n",
    "\n",
    "\n",
    "It helps to prevent overfitting by distributing the importance among correlated features.\n",
    "\n",
    "\n",
    "Combination of L1 and L2:\n",
    "\n",
    "\n",
    "The Elastic Net combines both effects, meaning it can perform feature selection (like Lasso) while also keeping some small but relevant features (like Ridge).\n",
    "\n",
    "\n",
    "The balance between L1 and L2 is controlled by the mixing parameter (α) and the regularization strength (λ).\n",
    "\n",
    "\n",
    "Example:\n",
    "If we have an Elastic Net model predicting house prices using variables like square_feet, number_of_bedrooms, and age_of_house, we might interpret the coefficients as follows:\n",
    "square_feet coefficient = 250 → Every additional square foot increases the house price by $250, keeping other factors constant.\n",
    "\n",
    "\n",
    "number_of_bedrooms coefficient = 0 → This feature was removed by L1 regularization as it wasn't significant.\n",
    "\n",
    "\n",
    "age_of_house coefficient = -1500 → Each additional year reduces the price by $1500, assuming other features remain constant.\n",
    "\n",
    "\n",
    "Key Takeaways:\n",
    "✔ If a coefficient is zero, that feature is not useful for prediction (L1 effect).\n",
    " ✔ If a coefficient is small but nonzero, it is useful but regularized (L2 effect).\n",
    " ✔ The balance between zeroing out and shrinking coefficients depends on the hyperparameters (α, λ).\n"
   ]
  },
  {
   "cell_type": "markdown",
   "id": "b03abdad-5aa6-42f4-9662-f5793079f0bd",
   "metadata": {},
   "source": [
    "### Q6. How do you handle missing values when using Elastic Net Regression?\n",
    "\n",
    "\n",
    "**Drop**\n",
    "\n",
    "**Impute**\n",
    "\n",
    "**Predict**"
   ]
  },
  {
   "cell_type": "markdown",
   "id": "d52dc349-a85b-4437-97ae-7e0b7940aee7",
   "metadata": {},
   "source": [
    "### Q7. How do you use Elastic Net Regression for feature selection?\n",
    "\n",
    "\n",
    "When to Use Elastic Net for Feature Selection?\n",
    "When the dataset has many correlated features (e.g., genomics, finance, NLP).\n",
    "\n",
    "When Lasso alone is too aggressive in feature elimination.\n",
    "\n",
    "When Ridge alone retains too many irrelevant features."
   ]
  },
  {
   "cell_type": "markdown",
   "id": "19f6de88-e4ee-4ecb-a91a-910936d58e3b",
   "metadata": {},
   "source": [
    "### Q8. How do you pickle and unpickle a trained Elastic Net Regression model in Python?"
   ]
  },
  {
   "cell_type": "code",
   "execution_count": 2,
   "id": "bcd22f67-44aa-435a-971b-e1b9d0823086",
   "metadata": {
    "tags": []
   },
   "outputs": [],
   "source": [
    "import pickle\n",
    "from sklearn.linear_model import ElasticNet\n",
    "\n",
    "elasticnet=ElasticNet()"
   ]
  },
  {
   "cell_type": "code",
   "execution_count": null,
   "id": "bfd9e79e-5bf0-4c9e-9dc3-4f8091c12e6b",
   "metadata": {},
   "outputs": [],
   "source": [
    "elasticnet.fit(X_train , y_train)"
   ]
  },
  {
   "cell_type": "code",
   "execution_count": null,
   "id": "912e4665-8ac7-4c0e-a646-74cba3435e0a",
   "metadata": {},
   "outputs": [],
   "source": [
    "with open('elastic_net.pkl' , 'wb') as model_file:\n",
    "    pickle.dump(elasticnet  , model_file)"
   ]
  },
  {
   "cell_type": "code",
   "execution_count": null,
   "id": "771be13c-81f8-4041-86e7-0b7143631feb",
   "metadata": {},
   "outputs": [],
   "source": [
    "with open('elastic_net.pkl' . 'rb') as model_file:\n",
    "    elastic_model=pickle.load(model_file)"
   ]
  },
  {
   "cell_type": "code",
   "execution_count": null,
   "id": "7f4c4f19-8941-4859-b4ff-336bb5e9a9da",
   "metadata": {},
   "outputs": [],
   "source": [
    "elastic_net.predict(X_test)"
   ]
  },
  {
   "cell_type": "code",
   "execution_count": null,
   "id": "8c44295b-7afb-4978-997d-23863b37b360",
   "metadata": {},
   "outputs": [],
   "source": [
    "import joblib\n",
    "\n",
    "# Save the model using joblib\n",
    "joblib.dump(elastic_net, \"elastic_net_model.joblib\")\n",
    "\n",
    "# Load the model using joblib\n",
    "loaded_model = joblib.load(\"elastic_net_model.joblib\")\n"
   ]
  },
  {
   "cell_type": "markdown",
   "id": "7d95fef4-4615-4830-882f-18ad995a8914",
   "metadata": {},
   "source": [
    "### Q9. What is the purpose of pickling a model in machine learning?\n",
    "\n",
    "\n",
    "Models are pickel in ML so that they can be trained one time used n time"
   ]
  },
  {
   "cell_type": "code",
   "execution_count": null,
   "id": "e2fd6d11-e78d-4c9a-99b5-7cd65ae3757d",
   "metadata": {},
   "outputs": [],
   "source": []
  }
 ],
 "metadata": {
  "kernelspec": {
   "display_name": "Python 3 (ipykernel)",
   "language": "python",
   "name": "python3"
  },
  "language_info": {
   "codemirror_mode": {
    "name": "ipython",
    "version": 3
   },
   "file_extension": ".py",
   "mimetype": "text/x-python",
   "name": "python",
   "nbconvert_exporter": "python",
   "pygments_lexer": "ipython3",
   "version": "3.11.2"
  }
 },
 "nbformat": 4,
 "nbformat_minor": 5
}
