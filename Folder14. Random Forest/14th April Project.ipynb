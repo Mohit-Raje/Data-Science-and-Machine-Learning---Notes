{
 "cells": [
  {
   "cell_type": "code",
   "execution_count": 2,
   "id": "f50c5e8f-8d3b-4133-aad5-d649777faac7",
   "metadata": {
    "tags": []
   },
   "outputs": [],
   "source": [
    "import numpy as np\n",
    "import pandas as pd\n",
    "import matplotlib.pyplot as plt\n",
    "import seaborn as sns"
   ]
  },
  {
   "cell_type": "code",
   "execution_count": 3,
   "id": "2d2981cd-d03f-4f96-98ed-0e1b1e58e418",
   "metadata": {
    "tags": []
   },
   "outputs": [],
   "source": [
    "df=pd.read_csv(\"dataset.csv\")"
   ]
  },
  {
   "cell_type": "code",
   "execution_count": 4,
   "id": "146f0b1d-a188-466f-ae68-efa8f358f213",
   "metadata": {
    "tags": []
   },
   "outputs": [
    {
     "data": {
      "text/html": [
       "<div>\n",
       "<style scoped>\n",
       "    .dataframe tbody tr th:only-of-type {\n",
       "        vertical-align: middle;\n",
       "    }\n",
       "\n",
       "    .dataframe tbody tr th {\n",
       "        vertical-align: top;\n",
       "    }\n",
       "\n",
       "    .dataframe thead th {\n",
       "        text-align: right;\n",
       "    }\n",
       "</style>\n",
       "<table border=\"1\" class=\"dataframe\">\n",
       "  <thead>\n",
       "    <tr style=\"text-align: right;\">\n",
       "      <th></th>\n",
       "      <th>age</th>\n",
       "      <th>sex</th>\n",
       "      <th>cp</th>\n",
       "      <th>trestbps</th>\n",
       "      <th>chol</th>\n",
       "      <th>fbs</th>\n",
       "      <th>restecg</th>\n",
       "      <th>thalach</th>\n",
       "      <th>exang</th>\n",
       "      <th>oldpeak</th>\n",
       "      <th>slope</th>\n",
       "      <th>ca</th>\n",
       "      <th>thal</th>\n",
       "      <th>target</th>\n",
       "    </tr>\n",
       "  </thead>\n",
       "  <tbody>\n",
       "    <tr>\n",
       "      <th>0</th>\n",
       "      <td>63</td>\n",
       "      <td>1</td>\n",
       "      <td>3</td>\n",
       "      <td>145</td>\n",
       "      <td>233</td>\n",
       "      <td>1</td>\n",
       "      <td>0</td>\n",
       "      <td>150</td>\n",
       "      <td>0</td>\n",
       "      <td>2.3</td>\n",
       "      <td>0</td>\n",
       "      <td>0</td>\n",
       "      <td>1</td>\n",
       "      <td>1</td>\n",
       "    </tr>\n",
       "    <tr>\n",
       "      <th>1</th>\n",
       "      <td>37</td>\n",
       "      <td>1</td>\n",
       "      <td>2</td>\n",
       "      <td>130</td>\n",
       "      <td>250</td>\n",
       "      <td>0</td>\n",
       "      <td>1</td>\n",
       "      <td>187</td>\n",
       "      <td>0</td>\n",
       "      <td>3.5</td>\n",
       "      <td>0</td>\n",
       "      <td>0</td>\n",
       "      <td>2</td>\n",
       "      <td>1</td>\n",
       "    </tr>\n",
       "    <tr>\n",
       "      <th>2</th>\n",
       "      <td>41</td>\n",
       "      <td>0</td>\n",
       "      <td>1</td>\n",
       "      <td>130</td>\n",
       "      <td>204</td>\n",
       "      <td>0</td>\n",
       "      <td>0</td>\n",
       "      <td>172</td>\n",
       "      <td>0</td>\n",
       "      <td>1.4</td>\n",
       "      <td>2</td>\n",
       "      <td>0</td>\n",
       "      <td>2</td>\n",
       "      <td>1</td>\n",
       "    </tr>\n",
       "    <tr>\n",
       "      <th>3</th>\n",
       "      <td>56</td>\n",
       "      <td>1</td>\n",
       "      <td>1</td>\n",
       "      <td>120</td>\n",
       "      <td>236</td>\n",
       "      <td>0</td>\n",
       "      <td>1</td>\n",
       "      <td>178</td>\n",
       "      <td>0</td>\n",
       "      <td>0.8</td>\n",
       "      <td>2</td>\n",
       "      <td>0</td>\n",
       "      <td>2</td>\n",
       "      <td>1</td>\n",
       "    </tr>\n",
       "    <tr>\n",
       "      <th>4</th>\n",
       "      <td>57</td>\n",
       "      <td>0</td>\n",
       "      <td>0</td>\n",
       "      <td>120</td>\n",
       "      <td>354</td>\n",
       "      <td>0</td>\n",
       "      <td>1</td>\n",
       "      <td>163</td>\n",
       "      <td>1</td>\n",
       "      <td>0.6</td>\n",
       "      <td>2</td>\n",
       "      <td>0</td>\n",
       "      <td>2</td>\n",
       "      <td>1</td>\n",
       "    </tr>\n",
       "  </tbody>\n",
       "</table>\n",
       "</div>"
      ],
      "text/plain": [
       "   age  sex  cp  trestbps  chol  fbs  restecg  thalach  exang  oldpeak  slope  \\\n",
       "0   63    1   3       145   233    1        0      150      0      2.3      0   \n",
       "1   37    1   2       130   250    0        1      187      0      3.5      0   \n",
       "2   41    0   1       130   204    0        0      172      0      1.4      2   \n",
       "3   56    1   1       120   236    0        1      178      0      0.8      2   \n",
       "4   57    0   0       120   354    0        1      163      1      0.6      2   \n",
       "\n",
       "   ca  thal  target  \n",
       "0   0     1       1  \n",
       "1   0     2       1  \n",
       "2   0     2       1  \n",
       "3   0     2       1  \n",
       "4   0     2       1  "
      ]
     },
     "execution_count": 4,
     "metadata": {},
     "output_type": "execute_result"
    }
   ],
   "source": [
    "df.head()"
   ]
  },
  {
   "cell_type": "code",
   "execution_count": 6,
   "id": "312679ab-dfaa-4da2-8d55-8cdbeab7d373",
   "metadata": {
    "tags": []
   },
   "outputs": [
    {
     "data": {
      "text/html": [
       "<div>\n",
       "<style scoped>\n",
       "    .dataframe tbody tr th:only-of-type {\n",
       "        vertical-align: middle;\n",
       "    }\n",
       "\n",
       "    .dataframe tbody tr th {\n",
       "        vertical-align: top;\n",
       "    }\n",
       "\n",
       "    .dataframe thead th {\n",
       "        text-align: right;\n",
       "    }\n",
       "</style>\n",
       "<table border=\"1\" class=\"dataframe\">\n",
       "  <thead>\n",
       "    <tr style=\"text-align: right;\">\n",
       "      <th></th>\n",
       "      <th>count</th>\n",
       "      <th>mean</th>\n",
       "      <th>std</th>\n",
       "      <th>min</th>\n",
       "      <th>25%</th>\n",
       "      <th>50%</th>\n",
       "      <th>75%</th>\n",
       "      <th>max</th>\n",
       "    </tr>\n",
       "  </thead>\n",
       "  <tbody>\n",
       "    <tr>\n",
       "      <th>age</th>\n",
       "      <td>303.0</td>\n",
       "      <td>54.366337</td>\n",
       "      <td>9.082101</td>\n",
       "      <td>29.0</td>\n",
       "      <td>47.5</td>\n",
       "      <td>55.0</td>\n",
       "      <td>61.0</td>\n",
       "      <td>77.0</td>\n",
       "    </tr>\n",
       "    <tr>\n",
       "      <th>sex</th>\n",
       "      <td>303.0</td>\n",
       "      <td>0.683168</td>\n",
       "      <td>0.466011</td>\n",
       "      <td>0.0</td>\n",
       "      <td>0.0</td>\n",
       "      <td>1.0</td>\n",
       "      <td>1.0</td>\n",
       "      <td>1.0</td>\n",
       "    </tr>\n",
       "    <tr>\n",
       "      <th>cp</th>\n",
       "      <td>303.0</td>\n",
       "      <td>0.966997</td>\n",
       "      <td>1.032052</td>\n",
       "      <td>0.0</td>\n",
       "      <td>0.0</td>\n",
       "      <td>1.0</td>\n",
       "      <td>2.0</td>\n",
       "      <td>3.0</td>\n",
       "    </tr>\n",
       "    <tr>\n",
       "      <th>trestbps</th>\n",
       "      <td>303.0</td>\n",
       "      <td>131.623762</td>\n",
       "      <td>17.538143</td>\n",
       "      <td>94.0</td>\n",
       "      <td>120.0</td>\n",
       "      <td>130.0</td>\n",
       "      <td>140.0</td>\n",
       "      <td>200.0</td>\n",
       "    </tr>\n",
       "    <tr>\n",
       "      <th>chol</th>\n",
       "      <td>303.0</td>\n",
       "      <td>246.264026</td>\n",
       "      <td>51.830751</td>\n",
       "      <td>126.0</td>\n",
       "      <td>211.0</td>\n",
       "      <td>240.0</td>\n",
       "      <td>274.5</td>\n",
       "      <td>564.0</td>\n",
       "    </tr>\n",
       "    <tr>\n",
       "      <th>fbs</th>\n",
       "      <td>303.0</td>\n",
       "      <td>0.148515</td>\n",
       "      <td>0.356198</td>\n",
       "      <td>0.0</td>\n",
       "      <td>0.0</td>\n",
       "      <td>0.0</td>\n",
       "      <td>0.0</td>\n",
       "      <td>1.0</td>\n",
       "    </tr>\n",
       "    <tr>\n",
       "      <th>restecg</th>\n",
       "      <td>303.0</td>\n",
       "      <td>0.528053</td>\n",
       "      <td>0.525860</td>\n",
       "      <td>0.0</td>\n",
       "      <td>0.0</td>\n",
       "      <td>1.0</td>\n",
       "      <td>1.0</td>\n",
       "      <td>2.0</td>\n",
       "    </tr>\n",
       "    <tr>\n",
       "      <th>thalach</th>\n",
       "      <td>303.0</td>\n",
       "      <td>149.646865</td>\n",
       "      <td>22.905161</td>\n",
       "      <td>71.0</td>\n",
       "      <td>133.5</td>\n",
       "      <td>153.0</td>\n",
       "      <td>166.0</td>\n",
       "      <td>202.0</td>\n",
       "    </tr>\n",
       "    <tr>\n",
       "      <th>exang</th>\n",
       "      <td>303.0</td>\n",
       "      <td>0.326733</td>\n",
       "      <td>0.469794</td>\n",
       "      <td>0.0</td>\n",
       "      <td>0.0</td>\n",
       "      <td>0.0</td>\n",
       "      <td>1.0</td>\n",
       "      <td>1.0</td>\n",
       "    </tr>\n",
       "    <tr>\n",
       "      <th>oldpeak</th>\n",
       "      <td>303.0</td>\n",
       "      <td>1.039604</td>\n",
       "      <td>1.161075</td>\n",
       "      <td>0.0</td>\n",
       "      <td>0.0</td>\n",
       "      <td>0.8</td>\n",
       "      <td>1.6</td>\n",
       "      <td>6.2</td>\n",
       "    </tr>\n",
       "    <tr>\n",
       "      <th>slope</th>\n",
       "      <td>303.0</td>\n",
       "      <td>1.399340</td>\n",
       "      <td>0.616226</td>\n",
       "      <td>0.0</td>\n",
       "      <td>1.0</td>\n",
       "      <td>1.0</td>\n",
       "      <td>2.0</td>\n",
       "      <td>2.0</td>\n",
       "    </tr>\n",
       "    <tr>\n",
       "      <th>ca</th>\n",
       "      <td>303.0</td>\n",
       "      <td>0.729373</td>\n",
       "      <td>1.022606</td>\n",
       "      <td>0.0</td>\n",
       "      <td>0.0</td>\n",
       "      <td>0.0</td>\n",
       "      <td>1.0</td>\n",
       "      <td>4.0</td>\n",
       "    </tr>\n",
       "    <tr>\n",
       "      <th>thal</th>\n",
       "      <td>303.0</td>\n",
       "      <td>2.313531</td>\n",
       "      <td>0.612277</td>\n",
       "      <td>0.0</td>\n",
       "      <td>2.0</td>\n",
       "      <td>2.0</td>\n",
       "      <td>3.0</td>\n",
       "      <td>3.0</td>\n",
       "    </tr>\n",
       "    <tr>\n",
       "      <th>target</th>\n",
       "      <td>303.0</td>\n",
       "      <td>0.544554</td>\n",
       "      <td>0.498835</td>\n",
       "      <td>0.0</td>\n",
       "      <td>0.0</td>\n",
       "      <td>1.0</td>\n",
       "      <td>1.0</td>\n",
       "      <td>1.0</td>\n",
       "    </tr>\n",
       "  </tbody>\n",
       "</table>\n",
       "</div>"
      ],
      "text/plain": [
       "          count        mean        std    min    25%    50%    75%    max\n",
       "age       303.0   54.366337   9.082101   29.0   47.5   55.0   61.0   77.0\n",
       "sex       303.0    0.683168   0.466011    0.0    0.0    1.0    1.0    1.0\n",
       "cp        303.0    0.966997   1.032052    0.0    0.0    1.0    2.0    3.0\n",
       "trestbps  303.0  131.623762  17.538143   94.0  120.0  130.0  140.0  200.0\n",
       "chol      303.0  246.264026  51.830751  126.0  211.0  240.0  274.5  564.0\n",
       "fbs       303.0    0.148515   0.356198    0.0    0.0    0.0    0.0    1.0\n",
       "restecg   303.0    0.528053   0.525860    0.0    0.0    1.0    1.0    2.0\n",
       "thalach   303.0  149.646865  22.905161   71.0  133.5  153.0  166.0  202.0\n",
       "exang     303.0    0.326733   0.469794    0.0    0.0    0.0    1.0    1.0\n",
       "oldpeak   303.0    1.039604   1.161075    0.0    0.0    0.8    1.6    6.2\n",
       "slope     303.0    1.399340   0.616226    0.0    1.0    1.0    2.0    2.0\n",
       "ca        303.0    0.729373   1.022606    0.0    0.0    0.0    1.0    4.0\n",
       "thal      303.0    2.313531   0.612277    0.0    2.0    2.0    3.0    3.0\n",
       "target    303.0    0.544554   0.498835    0.0    0.0    1.0    1.0    1.0"
      ]
     },
     "execution_count": 6,
     "metadata": {},
     "output_type": "execute_result"
    }
   ],
   "source": [
    "df.describe().T"
   ]
  },
  {
   "cell_type": "code",
   "execution_count": 7,
   "id": "baf0e3b6-39e9-4b59-846f-9d861d31f8de",
   "metadata": {
    "tags": []
   },
   "outputs": [
    {
     "name": "stdout",
     "output_type": "stream",
     "text": [
      "<class 'pandas.core.frame.DataFrame'>\n",
      "RangeIndex: 303 entries, 0 to 302\n",
      "Data columns (total 14 columns):\n",
      " #   Column    Non-Null Count  Dtype  \n",
      "---  ------    --------------  -----  \n",
      " 0   age       303 non-null    int64  \n",
      " 1   sex       303 non-null    int64  \n",
      " 2   cp        303 non-null    int64  \n",
      " 3   trestbps  303 non-null    int64  \n",
      " 4   chol      303 non-null    int64  \n",
      " 5   fbs       303 non-null    int64  \n",
      " 6   restecg   303 non-null    int64  \n",
      " 7   thalach   303 non-null    int64  \n",
      " 8   exang     303 non-null    int64  \n",
      " 9   oldpeak   303 non-null    float64\n",
      " 10  slope     303 non-null    int64  \n",
      " 11  ca        303 non-null    int64  \n",
      " 12  thal      303 non-null    int64  \n",
      " 13  target    303 non-null    int64  \n",
      "dtypes: float64(1), int64(13)\n",
      "memory usage: 33.3 KB\n"
     ]
    }
   ],
   "source": [
    "df.info()"
   ]
  },
  {
   "cell_type": "code",
   "execution_count": 8,
   "id": "d0b84318-1641-46a1-831e-52adc993e47e",
   "metadata": {
    "tags": []
   },
   "outputs": [
    {
     "data": {
      "text/plain": [
       "age         0\n",
       "sex         0\n",
       "cp          0\n",
       "trestbps    0\n",
       "chol        0\n",
       "fbs         0\n",
       "restecg     0\n",
       "thalach     0\n",
       "exang       0\n",
       "oldpeak     0\n",
       "slope       0\n",
       "ca          0\n",
       "thal        0\n",
       "target      0\n",
       "dtype: int64"
      ]
     },
     "execution_count": 8,
     "metadata": {},
     "output_type": "execute_result"
    }
   ],
   "source": [
    "df.isnull().sum()"
   ]
  },
  {
   "cell_type": "code",
   "execution_count": 9,
   "id": "e7844cb7-81b1-45ea-bd1c-cc500002713c",
   "metadata": {
    "tags": []
   },
   "outputs": [
    {
     "data": {
      "text/plain": [
       "1"
      ]
     },
     "execution_count": 9,
     "metadata": {},
     "output_type": "execute_result"
    }
   ],
   "source": [
    "df.duplicated().sum()"
   ]
  },
  {
   "cell_type": "code",
   "execution_count": 11,
   "id": "e89de186-bb0c-4858-87f7-92164a2a8b24",
   "metadata": {
    "tags": []
   },
   "outputs": [],
   "source": [
    "df.drop_duplicates(inplace=True)"
   ]
  },
  {
   "cell_type": "code",
   "execution_count": 12,
   "id": "23bedd97-b84b-4798-8c68-4f9d761b03e3",
   "metadata": {
    "tags": []
   },
   "outputs": [
    {
     "data": {
      "text/plain": [
       "0"
      ]
     },
     "execution_count": 12,
     "metadata": {},
     "output_type": "execute_result"
    }
   ],
   "source": [
    "df.duplicated().sum()"
   ]
  },
  {
   "cell_type": "code",
   "execution_count": 14,
   "id": "1da2cf6c-9a40-4aa0-9348-5c0b15864e6a",
   "metadata": {
    "tags": []
   },
   "outputs": [
    {
     "data": {
      "text/plain": [
       "(302, 14)"
      ]
     },
     "execution_count": 14,
     "metadata": {},
     "output_type": "execute_result"
    }
   ],
   "source": [
    "df.shape"
   ]
  },
  {
   "cell_type": "code",
   "execution_count": 15,
   "id": "c9b11e9a-b32f-4968-b06b-4b96e61f0ed9",
   "metadata": {
    "tags": []
   },
   "outputs": [],
   "source": [
    "X=df.iloc[: , :-1]\n",
    "y=df.iloc[: , -1]"
   ]
  },
  {
   "cell_type": "code",
   "execution_count": 17,
   "id": "4b51662c-df77-421e-abbf-54e62ade5470",
   "metadata": {
    "tags": []
   },
   "outputs": [],
   "source": [
    "from sklearn.model_selection import train_test_split\n",
    "\n",
    "X_train , X_test , y_train , y_test = train_test_split(X , y , test_size=0.30 , random_state=42)"
   ]
  },
  {
   "cell_type": "code",
   "execution_count": 18,
   "id": "f96dff06-c587-44b2-abe8-721c35a5753e",
   "metadata": {
    "tags": []
   },
   "outputs": [
    {
     "name": "stdout",
     "output_type": "stream",
     "text": [
      "(211, 13) (211,)\n",
      "(91, 13) (91,)\n"
     ]
    }
   ],
   "source": [
    "print(X_train.shape , y_train.shape)\n",
    "print(X_test.shape , y_test.shape)"
   ]
  },
  {
   "cell_type": "code",
   "execution_count": 19,
   "id": "b0ddfedc-2a12-4292-8ad2-da38bb17cad4",
   "metadata": {
    "tags": []
   },
   "outputs": [],
   "source": [
    "from sklearn.impute import SimpleImputer\n",
    "from sklearn.preprocessing import StandardScaler\n",
    "from sklearn.pipeline import Pipeline\n",
    "from sklearn.compose import ColumnTransformer"
   ]
  },
  {
   "cell_type": "code",
   "execution_count": null,
   "id": "6654d56e-a88f-4013-9280-1f76387701fb",
   "metadata": {},
   "outputs": [],
   "source": [
    "imputer=SimpleImputer()\n",
    "scaler=StandardScaler()"
   ]
  },
  {
   "cell_type": "code",
   "execution_count": 21,
   "id": "a8c95832-6308-4949-9e90-864c3fb36c7c",
   "metadata": {
    "tags": []
   },
   "outputs": [
    {
     "data": {
      "text/plain": [
       "['age',\n",
       " 'sex',\n",
       " 'cp',\n",
       " 'trestbps',\n",
       " 'chol',\n",
       " 'fbs',\n",
       " 'restecg',\n",
       " 'thalach',\n",
       " 'exang',\n",
       " 'oldpeak',\n",
       " 'slope',\n",
       " 'ca',\n",
       " 'thal']"
      ]
     },
     "execution_count": 21,
     "metadata": {},
     "output_type": "execute_result"
    }
   ],
   "source": [
    "columns=list(X_train.columns)\n",
    "columns"
   ]
  },
  {
   "cell_type": "code",
   "execution_count": 22,
   "id": "97e95fde-4fd8-4577-865a-32640972b883",
   "metadata": {
    "tags": []
   },
   "outputs": [],
   "source": [
    "num_pipeline=Pipeline(\n",
    "    \n",
    "    steps=[\n",
    "        ('imputer' , SimpleImputer(strategy='median')),\n",
    "        ('scaler' , StandardScaler())\n",
    "    ]\n",
    ")"
   ]
  },
  {
   "cell_type": "code",
   "execution_count": 23,
   "id": "a2ec3b0e-78a2-4612-80e1-00baebb47e08",
   "metadata": {
    "tags": []
   },
   "outputs": [],
   "source": [
    "# cat_pipeplie-Pipeline(\n",
    "    \n",
    "#     steps=[\n",
    "#         ('imputer', SimpleImputer(strategy='mode')),\n",
    "#         ('ohe' , OnehotEncoder()),\n",
    "#         ('scaler' , StandardScaler())\n",
    "#     ]\n",
    "\n",
    "# )"
   ]
  },
  {
   "cell_type": "code",
   "execution_count": 26,
   "id": "d14ba1bd-ab4a-4c3e-9222-1dd0adca27e0",
   "metadata": {
    "tags": []
   },
   "outputs": [],
   "source": [
    "preprocessor=ColumnTransformer([\n",
    "    ('num_pipeline' , num_pipeline ,columns)\n",
    "])"
   ]
  },
  {
   "cell_type": "code",
   "execution_count": 28,
   "id": "d1a1da0f-3a82-49fc-9e7a-bda1e9046f95",
   "metadata": {
    "tags": []
   },
   "outputs": [],
   "source": [
    "X_train=preprocessor.fit_transform(X_train)"
   ]
  },
  {
   "cell_type": "code",
   "execution_count": 29,
   "id": "be278c70-f75c-4f3f-b1f8-470d3d1cb4be",
   "metadata": {
    "tags": []
   },
   "outputs": [],
   "source": [
    "X_test=preprocessor.transform(X_test)"
   ]
  },
  {
   "cell_type": "code",
   "execution_count": 31,
   "id": "7c1e3b43-cac4-4138-9e91-18896de12eec",
   "metadata": {
    "tags": []
   },
   "outputs": [],
   "source": [
    "from sklearn.ensemble import RandomForestClassifier\n",
    "from sklearn.linear_model import LogisticRegression\n",
    "from sklearn.tree import DecisionTreeClassifier\n",
    "from sklearn.naive_bayes import GaussianNB , BernoulliNB , MultinomialNB\n",
    "from sklearn.svm import  SVC"
   ]
  },
  {
   "cell_type": "code",
   "execution_count": 49,
   "id": "5b7d42c8-a447-4637-8067-fd07e2fd8fcf",
   "metadata": {
    "tags": []
   },
   "outputs": [],
   "source": [
    "models={\n",
    "    'Random Forest' : RandomForestClassifier() , \n",
    "    'Decision Tree' : DecisionTreeClassifier() , \n",
    "    'SVC' : SVC() , \n",
    "    'Logistic Regression' : LogisticRegression(),\n",
    "    'GaussianNB' : GaussianNB(),\n",
    "    'BernoulliNB' : BernoulliNB(),\n",
    "}"
   ]
  },
  {
   "cell_type": "code",
   "execution_count": 50,
   "id": "c31a60e6-eefa-4612-a2d4-6cfd1c0d0281",
   "metadata": {
    "tags": []
   },
   "outputs": [
    {
     "data": {
      "text/html": [
       "<style>#sk-container-id-5 {color: black;background-color: white;}#sk-container-id-5 pre{padding: 0;}#sk-container-id-5 div.sk-toggleable {background-color: white;}#sk-container-id-5 label.sk-toggleable__label {cursor: pointer;display: block;width: 100%;margin-bottom: 0;padding: 0.3em;box-sizing: border-box;text-align: center;}#sk-container-id-5 label.sk-toggleable__label-arrow:before {content: \"▸\";float: left;margin-right: 0.25em;color: #696969;}#sk-container-id-5 label.sk-toggleable__label-arrow:hover:before {color: black;}#sk-container-id-5 div.sk-estimator:hover label.sk-toggleable__label-arrow:before {color: black;}#sk-container-id-5 div.sk-toggleable__content {max-height: 0;max-width: 0;overflow: hidden;text-align: left;background-color: #f0f8ff;}#sk-container-id-5 div.sk-toggleable__content pre {margin: 0.2em;color: black;border-radius: 0.25em;background-color: #f0f8ff;}#sk-container-id-5 input.sk-toggleable__control:checked~div.sk-toggleable__content {max-height: 200px;max-width: 100%;overflow: auto;}#sk-container-id-5 input.sk-toggleable__control:checked~label.sk-toggleable__label-arrow:before {content: \"▾\";}#sk-container-id-5 div.sk-estimator input.sk-toggleable__control:checked~label.sk-toggleable__label {background-color: #d4ebff;}#sk-container-id-5 div.sk-label input.sk-toggleable__control:checked~label.sk-toggleable__label {background-color: #d4ebff;}#sk-container-id-5 input.sk-hidden--visually {border: 0;clip: rect(1px 1px 1px 1px);clip: rect(1px, 1px, 1px, 1px);height: 1px;margin: -1px;overflow: hidden;padding: 0;position: absolute;width: 1px;}#sk-container-id-5 div.sk-estimator {font-family: monospace;background-color: #f0f8ff;border: 1px dotted black;border-radius: 0.25em;box-sizing: border-box;margin-bottom: 0.5em;}#sk-container-id-5 div.sk-estimator:hover {background-color: #d4ebff;}#sk-container-id-5 div.sk-parallel-item::after {content: \"\";width: 100%;border-bottom: 1px solid gray;flex-grow: 1;}#sk-container-id-5 div.sk-label:hover label.sk-toggleable__label {background-color: #d4ebff;}#sk-container-id-5 div.sk-serial::before {content: \"\";position: absolute;border-left: 1px solid gray;box-sizing: border-box;top: 0;bottom: 0;left: 50%;z-index: 0;}#sk-container-id-5 div.sk-serial {display: flex;flex-direction: column;align-items: center;background-color: white;padding-right: 0.2em;padding-left: 0.2em;position: relative;}#sk-container-id-5 div.sk-item {position: relative;z-index: 1;}#sk-container-id-5 div.sk-parallel {display: flex;align-items: stretch;justify-content: center;background-color: white;position: relative;}#sk-container-id-5 div.sk-item::before, #sk-container-id-5 div.sk-parallel-item::before {content: \"\";position: absolute;border-left: 1px solid gray;box-sizing: border-box;top: 0;bottom: 0;left: 50%;z-index: -1;}#sk-container-id-5 div.sk-parallel-item {display: flex;flex-direction: column;z-index: 1;position: relative;background-color: white;}#sk-container-id-5 div.sk-parallel-item:first-child::after {align-self: flex-end;width: 50%;}#sk-container-id-5 div.sk-parallel-item:last-child::after {align-self: flex-start;width: 50%;}#sk-container-id-5 div.sk-parallel-item:only-child::after {width: 0;}#sk-container-id-5 div.sk-dashed-wrapped {border: 1px dashed gray;margin: 0 0.4em 0.5em 0.4em;box-sizing: border-box;padding-bottom: 0.4em;background-color: white;}#sk-container-id-5 div.sk-label label {font-family: monospace;font-weight: bold;display: inline-block;line-height: 1.2em;}#sk-container-id-5 div.sk-label-container {text-align: center;}#sk-container-id-5 div.sk-container {/* jupyter's `normalize.less` sets `[hidden] { display: none; }` but bootstrap.min.css set `[hidden] { display: none !important; }` so we also need the `!important` here to be able to override the default hidden behavior on the sphinx rendered scikit-learn.org. See: https://github.com/scikit-learn/scikit-learn/issues/21755 */display: inline-block !important;position: relative;}#sk-container-id-5 div.sk-text-repr-fallback {display: none;}</style><div id=\"sk-container-id-5\" class=\"sk-top-container\"><div class=\"sk-text-repr-fallback\"><pre>LogisticRegression()</pre><b>In a Jupyter environment, please rerun this cell to show the HTML representation or trust the notebook. <br />On GitHub, the HTML representation is unable to render, please try loading this page with nbviewer.org.</b></div><div class=\"sk-container\" hidden><div class=\"sk-item\"><div class=\"sk-estimator sk-toggleable\"><input class=\"sk-toggleable__control sk-hidden--visually\" id=\"sk-estimator-id-5\" type=\"checkbox\" checked><label for=\"sk-estimator-id-5\" class=\"sk-toggleable__label sk-toggleable__label-arrow\">LogisticRegression</label><div class=\"sk-toggleable__content\"><pre>LogisticRegression()</pre></div></div></div></div></div>"
      ],
      "text/plain": [
       "LogisticRegression()"
      ]
     },
     "execution_count": 50,
     "metadata": {},
     "output_type": "execute_result"
    }
   ],
   "source": [
    "list(models.values())[3]"
   ]
  },
  {
   "cell_type": "code",
   "execution_count": 51,
   "id": "8a8919bb-8cb2-4d81-ac27-8554bc92c4b5",
   "metadata": {
    "tags": []
   },
   "outputs": [
    {
     "data": {
      "text/plain": [
       "'Logistic Regression'"
      ]
     },
     "execution_count": 51,
     "metadata": {},
     "output_type": "execute_result"
    }
   ],
   "source": [
    "list(models.keys())[3]"
   ]
  },
  {
   "cell_type": "code",
   "execution_count": 52,
   "id": "4bef1a0a-97b0-4535-a042-a80fbcfc54c5",
   "metadata": {
    "tags": []
   },
   "outputs": [],
   "source": [
    "from sklearn.metrics import accuracy_score\n",
    "\n",
    "def evaluate_model(X_train , X_test , y_train , y_test , models):\n",
    "    \n",
    "    report={}\n",
    "    for i in range(len(models)):\n",
    "        model = list(models.values())[i]\n",
    "        model.fit(X_train , y_train)\n",
    "        \n",
    "        y_pred=model.predict(X_test)\n",
    "        test_accuracy=accuracy_score(y_test , y_pred)\n",
    "        \n",
    "        report[list(models.keys())[i]]=test_accuracy\n",
    "        \n",
    "    return report"
   ]
  },
  {
   "cell_type": "code",
   "execution_count": 53,
   "id": "4f37dc01-c2db-4c3e-9d9b-e26131cb6ad6",
   "metadata": {
    "tags": []
   },
   "outputs": [],
   "source": [
    "report=evaluate_model(X_train , X_test , y_train , y_test , models)"
   ]
  },
  {
   "cell_type": "code",
   "execution_count": 54,
   "id": "b5711d0b-4211-4728-9d10-3f51454ef345",
   "metadata": {
    "tags": []
   },
   "outputs": [
    {
     "data": {
      "text/plain": [
       "{'Random Forest': 0.8681318681318682,\n",
       " 'Decision Tree': 0.8351648351648352,\n",
       " 'SVC': 0.8131868131868132,\n",
       " 'Logistic Regression': 0.8131868131868132,\n",
       " 'GaussianNB': 0.8461538461538461,\n",
       " 'BernoulliNB': 0.8351648351648352}"
      ]
     },
     "execution_count": 54,
     "metadata": {},
     "output_type": "execute_result"
    }
   ],
   "source": [
    "report"
   ]
  },
  {
   "cell_type": "code",
   "execution_count": 55,
   "id": "eb01ab41-0a7b-4ca3-a933-5ef454e99cc0",
   "metadata": {
    "tags": []
   },
   "outputs": [],
   "source": [
    "randomforest = RandomForestClassifier(n_estimators=100 , max_depth=10)\n",
    "randomforest.fit(X_train , y_train)\n",
    "y_pred=randomforest.predict(X_test)"
   ]
  },
  {
   "cell_type": "code",
   "execution_count": 56,
   "id": "65465a48-8088-423f-8e23-401b8fa3ca8c",
   "metadata": {
    "tags": []
   },
   "outputs": [
    {
     "name": "stdout",
     "output_type": "stream",
     "text": [
      "0.8351648351648352\n",
      "0.8541666666666666\n",
      "0.8367346938775511\n",
      "0.845360824742268\n"
     ]
    }
   ],
   "source": [
    "from sklearn.metrics import accuracy_score , precision_score , recall_score , f1_score\n",
    "\n",
    "print(accuracy_score(y_test , y_pred))\n",
    "print(precision_score(y_test , y_pred))\n",
    "print(recall_score(y_test , y_pred))\n",
    "print(f1_score(y_test , y_pred))"
   ]
  },
  {
   "cell_type": "code",
   "execution_count": 71,
   "id": "da6a29d4-26b0-4a04-bdba-c47542a0674a",
   "metadata": {
    "tags": []
   },
   "outputs": [
    {
     "name": "stdout",
     "output_type": "stream",
     "text": [
      "Top 5 most important features with respect to target\n",
      "\n",
      "exang      0.435601\n",
      "cp         0.432080\n",
      "oldpeak    0.429146\n",
      "thalach    0.419955\n",
      "ca         0.408992\n",
      "Name: target, dtype: float64\n"
     ]
    }
   ],
   "source": [
    "corr_with_target=df.corr()['target'].abs().sort_values(ascending=False)\n",
    "top_5_most_imp_features=corr_with_target[1:6]\n",
    "print(f\"Top 5 most important features with respect to target\\n\\n{top_5_most_imp_features}\")"
   ]
  },
  {
   "cell_type": "code",
   "execution_count": 72,
   "id": "acbed13c-284f-4b32-8a7e-bdf9ccad0854",
   "metadata": {
    "tags": []
   },
   "outputs": [],
   "source": [
    "param_grid = {\n",
    "    'n_estimators': [50, 100, 200],\n",
    "    'criterion': ['gini', 'entropy'],\n",
    "    'max_depth': [None, 5, 10],\n",
    "    'min_samples_leaf': [1, 2, 4],\n",
    "    'min_samples_split': [2, 5, 10] ,\n",
    "    'oob_score' : [True , False]\n",
    "}\n"
   ]
  },
  {
   "cell_type": "code",
   "execution_count": 74,
   "id": "b8d5c052-3ea2-4447-bc04-03bc938089c0",
   "metadata": {
    "tags": []
   },
   "outputs": [],
   "source": [
    "from sklearn.model_selection import GridSearchCV\n",
    "\n",
    "model=RandomForestClassifier()\n",
    "clf=GridSearchCV(model , param_grid=param_grid , cv=3 , refit=True , verbose=3)"
   ]
  },
  {
   "cell_type": "code",
   "execution_count": 75,
   "id": "32fa9174-5dcd-486d-93e5-f9d61c81008e",
   "metadata": {
    "tags": []
   },
   "outputs": [
    {
     "data": {
      "text/html": [
       "<style>#sk-container-id-6 {color: black;background-color: white;}#sk-container-id-6 pre{padding: 0;}#sk-container-id-6 div.sk-toggleable {background-color: white;}#sk-container-id-6 label.sk-toggleable__label {cursor: pointer;display: block;width: 100%;margin-bottom: 0;padding: 0.3em;box-sizing: border-box;text-align: center;}#sk-container-id-6 label.sk-toggleable__label-arrow:before {content: \"▸\";float: left;margin-right: 0.25em;color: #696969;}#sk-container-id-6 label.sk-toggleable__label-arrow:hover:before {color: black;}#sk-container-id-6 div.sk-estimator:hover label.sk-toggleable__label-arrow:before {color: black;}#sk-container-id-6 div.sk-toggleable__content {max-height: 0;max-width: 0;overflow: hidden;text-align: left;background-color: #f0f8ff;}#sk-container-id-6 div.sk-toggleable__content pre {margin: 0.2em;color: black;border-radius: 0.25em;background-color: #f0f8ff;}#sk-container-id-6 input.sk-toggleable__control:checked~div.sk-toggleable__content {max-height: 200px;max-width: 100%;overflow: auto;}#sk-container-id-6 input.sk-toggleable__control:checked~label.sk-toggleable__label-arrow:before {content: \"▾\";}#sk-container-id-6 div.sk-estimator input.sk-toggleable__control:checked~label.sk-toggleable__label {background-color: #d4ebff;}#sk-container-id-6 div.sk-label input.sk-toggleable__control:checked~label.sk-toggleable__label {background-color: #d4ebff;}#sk-container-id-6 input.sk-hidden--visually {border: 0;clip: rect(1px 1px 1px 1px);clip: rect(1px, 1px, 1px, 1px);height: 1px;margin: -1px;overflow: hidden;padding: 0;position: absolute;width: 1px;}#sk-container-id-6 div.sk-estimator {font-family: monospace;background-color: #f0f8ff;border: 1px dotted black;border-radius: 0.25em;box-sizing: border-box;margin-bottom: 0.5em;}#sk-container-id-6 div.sk-estimator:hover {background-color: #d4ebff;}#sk-container-id-6 div.sk-parallel-item::after {content: \"\";width: 100%;border-bottom: 1px solid gray;flex-grow: 1;}#sk-container-id-6 div.sk-label:hover label.sk-toggleable__label {background-color: #d4ebff;}#sk-container-id-6 div.sk-serial::before {content: \"\";position: absolute;border-left: 1px solid gray;box-sizing: border-box;top: 0;bottom: 0;left: 50%;z-index: 0;}#sk-container-id-6 div.sk-serial {display: flex;flex-direction: column;align-items: center;background-color: white;padding-right: 0.2em;padding-left: 0.2em;position: relative;}#sk-container-id-6 div.sk-item {position: relative;z-index: 1;}#sk-container-id-6 div.sk-parallel {display: flex;align-items: stretch;justify-content: center;background-color: white;position: relative;}#sk-container-id-6 div.sk-item::before, #sk-container-id-6 div.sk-parallel-item::before {content: \"\";position: absolute;border-left: 1px solid gray;box-sizing: border-box;top: 0;bottom: 0;left: 50%;z-index: -1;}#sk-container-id-6 div.sk-parallel-item {display: flex;flex-direction: column;z-index: 1;position: relative;background-color: white;}#sk-container-id-6 div.sk-parallel-item:first-child::after {align-self: flex-end;width: 50%;}#sk-container-id-6 div.sk-parallel-item:last-child::after {align-self: flex-start;width: 50%;}#sk-container-id-6 div.sk-parallel-item:only-child::after {width: 0;}#sk-container-id-6 div.sk-dashed-wrapped {border: 1px dashed gray;margin: 0 0.4em 0.5em 0.4em;box-sizing: border-box;padding-bottom: 0.4em;background-color: white;}#sk-container-id-6 div.sk-label label {font-family: monospace;font-weight: bold;display: inline-block;line-height: 1.2em;}#sk-container-id-6 div.sk-label-container {text-align: center;}#sk-container-id-6 div.sk-container {/* jupyter's `normalize.less` sets `[hidden] { display: none; }` but bootstrap.min.css set `[hidden] { display: none !important; }` so we also need the `!important` here to be able to override the default hidden behavior on the sphinx rendered scikit-learn.org. See: https://github.com/scikit-learn/scikit-learn/issues/21755 */display: inline-block !important;position: relative;}#sk-container-id-6 div.sk-text-repr-fallback {display: none;}</style><div id=\"sk-container-id-6\" class=\"sk-top-container\"><div class=\"sk-text-repr-fallback\"><pre>GridSearchCV(cv=3, estimator=RandomForestClassifier(),\n",
       "             param_grid={&#x27;criterion&#x27;: [&#x27;gini&#x27;, &#x27;entropy&#x27;],\n",
       "                         &#x27;max_depth&#x27;: [None, 5, 10],\n",
       "                         &#x27;min_samples_leaf&#x27;: [1, 2, 4],\n",
       "                         &#x27;min_samples_split&#x27;: [2, 5, 10],\n",
       "                         &#x27;n_estimators&#x27;: [50, 100, 200],\n",
       "                         &#x27;oob_score&#x27;: [True, False]},\n",
       "             verbose=3)</pre><b>In a Jupyter environment, please rerun this cell to show the HTML representation or trust the notebook. <br />On GitHub, the HTML representation is unable to render, please try loading this page with nbviewer.org.</b></div><div class=\"sk-container\" hidden><div class=\"sk-item sk-dashed-wrapped\"><div class=\"sk-label-container\"><div class=\"sk-label sk-toggleable\"><input class=\"sk-toggleable__control sk-hidden--visually\" id=\"sk-estimator-id-6\" type=\"checkbox\" ><label for=\"sk-estimator-id-6\" class=\"sk-toggleable__label sk-toggleable__label-arrow\">GridSearchCV</label><div class=\"sk-toggleable__content\"><pre>GridSearchCV(cv=3, estimator=RandomForestClassifier(),\n",
       "             param_grid={&#x27;criterion&#x27;: [&#x27;gini&#x27;, &#x27;entropy&#x27;],\n",
       "                         &#x27;max_depth&#x27;: [None, 5, 10],\n",
       "                         &#x27;min_samples_leaf&#x27;: [1, 2, 4],\n",
       "                         &#x27;min_samples_split&#x27;: [2, 5, 10],\n",
       "                         &#x27;n_estimators&#x27;: [50, 100, 200],\n",
       "                         &#x27;oob_score&#x27;: [True, False]},\n",
       "             verbose=3)</pre></div></div></div><div class=\"sk-parallel\"><div class=\"sk-parallel-item\"><div class=\"sk-item\"><div class=\"sk-label-container\"><div class=\"sk-label sk-toggleable\"><input class=\"sk-toggleable__control sk-hidden--visually\" id=\"sk-estimator-id-7\" type=\"checkbox\" ><label for=\"sk-estimator-id-7\" class=\"sk-toggleable__label sk-toggleable__label-arrow\">estimator: RandomForestClassifier</label><div class=\"sk-toggleable__content\"><pre>RandomForestClassifier()</pre></div></div></div><div class=\"sk-serial\"><div class=\"sk-item\"><div class=\"sk-estimator sk-toggleable\"><input class=\"sk-toggleable__control sk-hidden--visually\" id=\"sk-estimator-id-8\" type=\"checkbox\" ><label for=\"sk-estimator-id-8\" class=\"sk-toggleable__label sk-toggleable__label-arrow\">RandomForestClassifier</label><div class=\"sk-toggleable__content\"><pre>RandomForestClassifier()</pre></div></div></div></div></div></div></div></div></div></div>"
      ],
      "text/plain": [
       "GridSearchCV(cv=3, estimator=RandomForestClassifier(),\n",
       "             param_grid={'criterion': ['gini', 'entropy'],\n",
       "                         'max_depth': [None, 5, 10],\n",
       "                         'min_samples_leaf': [1, 2, 4],\n",
       "                         'min_samples_split': [2, 5, 10],\n",
       "                         'n_estimators': [50, 100, 200],\n",
       "                         'oob_score': [True, False]},\n",
       "             verbose=3)"
      ]
     },
     "execution_count": 75,
     "metadata": {},
     "output_type": "execute_result"
    }
   ],
   "source": [
    "clf"
   ]
  },
  {
   "cell_type": "code",
   "execution_count": 76,
   "id": "1be287c6-e462-410c-9f1b-550d1bdc8072",
   "metadata": {
    "tags": []
   },
   "outputs": [
    {
     "name": "stdout",
     "output_type": "stream",
     "text": [
      "Fitting 3 folds for each of 324 candidates, totalling 972 fits\n",
      "[CV 1/3] END criterion=gini, max_depth=None, min_samples_leaf=1, min_samples_split=2, n_estimators=50, oob_score=True;, score=0.831 total time=   0.0s\n",
      "[CV 2/3] END criterion=gini, max_depth=None, min_samples_leaf=1, min_samples_split=2, n_estimators=50, oob_score=True;, score=0.843 total time=   0.0s\n",
      "[CV 3/3] END criterion=gini, max_depth=None, min_samples_leaf=1, min_samples_split=2, n_estimators=50, oob_score=True;, score=0.771 total time=   0.0s\n",
      "[CV 1/3] END criterion=gini, max_depth=None, min_samples_leaf=1, min_samples_split=2, n_estimators=50, oob_score=False;, score=0.845 total time=   0.0s\n",
      "[CV 2/3] END criterion=gini, max_depth=None, min_samples_leaf=1, min_samples_split=2, n_estimators=50, oob_score=False;, score=0.771 total time=   0.0s\n",
      "[CV 3/3] END criterion=gini, max_depth=None, min_samples_leaf=1, min_samples_split=2, n_estimators=50, oob_score=False;, score=0.757 total time=   0.0s\n",
      "[CV 1/3] END criterion=gini, max_depth=None, min_samples_leaf=1, min_samples_split=2, n_estimators=100, oob_score=True;, score=0.845 total time=   0.0s\n",
      "[CV 2/3] END criterion=gini, max_depth=None, min_samples_leaf=1, min_samples_split=2, n_estimators=100, oob_score=True;, score=0.814 total time=   0.0s\n",
      "[CV 3/3] END criterion=gini, max_depth=None, min_samples_leaf=1, min_samples_split=2, n_estimators=100, oob_score=True;, score=0.786 total time=   0.0s\n",
      "[CV 1/3] END criterion=gini, max_depth=None, min_samples_leaf=1, min_samples_split=2, n_estimators=100, oob_score=False;, score=0.845 total time=   0.0s\n",
      "[CV 2/3] END criterion=gini, max_depth=None, min_samples_leaf=1, min_samples_split=2, n_estimators=100, oob_score=False;, score=0.814 total time=   0.0s\n",
      "[CV 3/3] END criterion=gini, max_depth=None, min_samples_leaf=1, min_samples_split=2, n_estimators=100, oob_score=False;, score=0.786 total time=   0.0s\n",
      "[CV 1/3] END criterion=gini, max_depth=None, min_samples_leaf=1, min_samples_split=2, n_estimators=200, oob_score=True;, score=0.845 total time=   0.6s\n",
      "[CV 2/3] END criterion=gini, max_depth=None, min_samples_leaf=1, min_samples_split=2, n_estimators=200, oob_score=True;, score=0.829 total time=   0.1s\n",
      "[CV 3/3] END criterion=gini, max_depth=None, min_samples_leaf=1, min_samples_split=2, n_estimators=200, oob_score=True;, score=0.786 total time=   0.1s\n",
      "[CV 1/3] END criterion=gini, max_depth=None, min_samples_leaf=1, min_samples_split=2, n_estimators=200, oob_score=False;, score=0.831 total time=   0.1s\n",
      "[CV 2/3] END criterion=gini, max_depth=None, min_samples_leaf=1, min_samples_split=2, n_estimators=200, oob_score=False;, score=0.814 total time=   0.1s\n",
      "[CV 3/3] END criterion=gini, max_depth=None, min_samples_leaf=1, min_samples_split=2, n_estimators=200, oob_score=False;, score=0.786 total time=   0.1s\n",
      "[CV 1/3] END criterion=gini, max_depth=None, min_samples_leaf=1, min_samples_split=5, n_estimators=50, oob_score=True;, score=0.831 total time=   0.0s\n",
      "[CV 2/3] END criterion=gini, max_depth=None, min_samples_leaf=1, min_samples_split=5, n_estimators=50, oob_score=True;, score=0.800 total time=   0.0s\n",
      "[CV 3/3] END criterion=gini, max_depth=None, min_samples_leaf=1, min_samples_split=5, n_estimators=50, oob_score=True;, score=0.771 total time=   0.0s\n",
      "[CV 1/3] END criterion=gini, max_depth=None, min_samples_leaf=1, min_samples_split=5, n_estimators=50, oob_score=False;, score=0.845 total time=   0.0s\n",
      "[CV 2/3] END criterion=gini, max_depth=None, min_samples_leaf=1, min_samples_split=5, n_estimators=50, oob_score=False;, score=0.786 total time=   0.0s\n",
      "[CV 3/3] END criterion=gini, max_depth=None, min_samples_leaf=1, min_samples_split=5, n_estimators=50, oob_score=False;, score=0.800 total time=   0.0s\n",
      "[CV 1/3] END criterion=gini, max_depth=None, min_samples_leaf=1, min_samples_split=5, n_estimators=100, oob_score=True;, score=0.859 total time=   0.0s\n",
      "[CV 2/3] END criterion=gini, max_depth=None, min_samples_leaf=1, min_samples_split=5, n_estimators=100, oob_score=True;, score=0.800 total time=   0.0s\n",
      "[CV 3/3] END criterion=gini, max_depth=None, min_samples_leaf=1, min_samples_split=5, n_estimators=100, oob_score=True;, score=0.786 total time=   0.0s\n",
      "[CV 1/3] END criterion=gini, max_depth=None, min_samples_leaf=1, min_samples_split=5, n_estimators=100, oob_score=False;, score=0.859 total time=   0.0s\n",
      "[CV 2/3] END criterion=gini, max_depth=None, min_samples_leaf=1, min_samples_split=5, n_estimators=100, oob_score=False;, score=0.800 total time=   0.0s\n",
      "[CV 3/3] END criterion=gini, max_depth=None, min_samples_leaf=1, min_samples_split=5, n_estimators=100, oob_score=False;, score=0.786 total time=   0.0s\n",
      "[CV 1/3] END criterion=gini, max_depth=None, min_samples_leaf=1, min_samples_split=5, n_estimators=200, oob_score=True;, score=0.873 total time=   0.1s\n",
      "[CV 2/3] END criterion=gini, max_depth=None, min_samples_leaf=1, min_samples_split=5, n_estimators=200, oob_score=True;, score=0.814 total time=   0.1s\n",
      "[CV 3/3] END criterion=gini, max_depth=None, min_samples_leaf=1, min_samples_split=5, n_estimators=200, oob_score=True;, score=0.786 total time=   0.1s\n",
      "[CV 1/3] END criterion=gini, max_depth=None, min_samples_leaf=1, min_samples_split=5, n_estimators=200, oob_score=False;, score=0.859 total time=   0.1s\n",
      "[CV 2/3] END criterion=gini, max_depth=None, min_samples_leaf=1, min_samples_split=5, n_estimators=200, oob_score=False;, score=0.814 total time=   0.1s\n",
      "[CV 3/3] END criterion=gini, max_depth=None, min_samples_leaf=1, min_samples_split=5, n_estimators=200, oob_score=False;, score=0.771 total time=   0.1s\n",
      "[CV 1/3] END criterion=gini, max_depth=None, min_samples_leaf=1, min_samples_split=10, n_estimators=50, oob_score=True;, score=0.859 total time=   0.0s\n",
      "[CV 2/3] END criterion=gini, max_depth=None, min_samples_leaf=1, min_samples_split=10, n_estimators=50, oob_score=True;, score=0.786 total time=   0.0s\n",
      "[CV 3/3] END criterion=gini, max_depth=None, min_samples_leaf=1, min_samples_split=10, n_estimators=50, oob_score=True;, score=0.786 total time=   0.0s\n",
      "[CV 1/3] END criterion=gini, max_depth=None, min_samples_leaf=1, min_samples_split=10, n_estimators=50, oob_score=False;, score=0.873 total time=   0.0s\n",
      "[CV 2/3] END criterion=gini, max_depth=None, min_samples_leaf=1, min_samples_split=10, n_estimators=50, oob_score=False;, score=0.786 total time=   0.0s\n",
      "[CV 3/3] END criterion=gini, max_depth=None, min_samples_leaf=1, min_samples_split=10, n_estimators=50, oob_score=False;, score=0.771 total time=   0.0s\n",
      "[CV 1/3] END criterion=gini, max_depth=None, min_samples_leaf=1, min_samples_split=10, n_estimators=100, oob_score=True;, score=0.887 total time=   0.0s\n",
      "[CV 2/3] END criterion=gini, max_depth=None, min_samples_leaf=1, min_samples_split=10, n_estimators=100, oob_score=True;, score=0.786 total time=   0.0s\n",
      "[CV 3/3] END criterion=gini, max_depth=None, min_samples_leaf=1, min_samples_split=10, n_estimators=100, oob_score=True;, score=0.771 total time=   0.0s\n",
      "[CV 1/3] END criterion=gini, max_depth=None, min_samples_leaf=1, min_samples_split=10, n_estimators=100, oob_score=False;, score=0.859 total time=   0.0s\n",
      "[CV 2/3] END criterion=gini, max_depth=None, min_samples_leaf=1, min_samples_split=10, n_estimators=100, oob_score=False;, score=0.786 total time=   0.0s\n",
      "[CV 3/3] END criterion=gini, max_depth=None, min_samples_leaf=1, min_samples_split=10, n_estimators=100, oob_score=False;, score=0.786 total time=   0.0s\n",
      "[CV 1/3] END criterion=gini, max_depth=None, min_samples_leaf=1, min_samples_split=10, n_estimators=200, oob_score=True;, score=0.873 total time=   0.1s\n",
      "[CV 2/3] END criterion=gini, max_depth=None, min_samples_leaf=1, min_samples_split=10, n_estimators=200, oob_score=True;, score=0.786 total time=   0.1s\n",
      "[CV 3/3] END criterion=gini, max_depth=None, min_samples_leaf=1, min_samples_split=10, n_estimators=200, oob_score=True;, score=0.771 total time=   0.1s\n",
      "[CV 1/3] END criterion=gini, max_depth=None, min_samples_leaf=1, min_samples_split=10, n_estimators=200, oob_score=False;, score=0.873 total time=   0.1s\n",
      "[CV 2/3] END criterion=gini, max_depth=None, min_samples_leaf=1, min_samples_split=10, n_estimators=200, oob_score=False;, score=0.829 total time=   0.1s\n",
      "[CV 3/3] END criterion=gini, max_depth=None, min_samples_leaf=1, min_samples_split=10, n_estimators=200, oob_score=False;, score=0.786 total time=   0.1s\n",
      "[CV 1/3] END criterion=gini, max_depth=None, min_samples_leaf=2, min_samples_split=2, n_estimators=50, oob_score=True;, score=0.873 total time=   0.0s\n",
      "[CV 2/3] END criterion=gini, max_depth=None, min_samples_leaf=2, min_samples_split=2, n_estimators=50, oob_score=True;, score=0.786 total time=   0.0s\n",
      "[CV 3/3] END criterion=gini, max_depth=None, min_samples_leaf=2, min_samples_split=2, n_estimators=50, oob_score=True;, score=0.786 total time=   0.0s\n",
      "[CV 1/3] END criterion=gini, max_depth=None, min_samples_leaf=2, min_samples_split=2, n_estimators=50, oob_score=False;, score=0.859 total time=   0.0s\n",
      "[CV 2/3] END criterion=gini, max_depth=None, min_samples_leaf=2, min_samples_split=2, n_estimators=50, oob_score=False;, score=0.814 total time=   0.0s\n",
      "[CV 3/3] END criterion=gini, max_depth=None, min_samples_leaf=2, min_samples_split=2, n_estimators=50, oob_score=False;, score=0.786 total time=   0.0s\n",
      "[CV 1/3] END criterion=gini, max_depth=None, min_samples_leaf=2, min_samples_split=2, n_estimators=100, oob_score=True;, score=0.859 total time=   0.0s\n",
      "[CV 2/3] END criterion=gini, max_depth=None, min_samples_leaf=2, min_samples_split=2, n_estimators=100, oob_score=True;, score=0.814 total time=   0.0s\n",
      "[CV 3/3] END criterion=gini, max_depth=None, min_samples_leaf=2, min_samples_split=2, n_estimators=100, oob_score=True;, score=0.800 total time=   0.0s\n",
      "[CV 1/3] END criterion=gini, max_depth=None, min_samples_leaf=2, min_samples_split=2, n_estimators=100, oob_score=False;, score=0.873 total time=   0.0s\n",
      "[CV 2/3] END criterion=gini, max_depth=None, min_samples_leaf=2, min_samples_split=2, n_estimators=100, oob_score=False;, score=0.800 total time=   0.0s\n",
      "[CV 3/3] END criterion=gini, max_depth=None, min_samples_leaf=2, min_samples_split=2, n_estimators=100, oob_score=False;, score=0.800 total time=   0.0s\n",
      "[CV 1/3] END criterion=gini, max_depth=None, min_samples_leaf=2, min_samples_split=2, n_estimators=200, oob_score=True;, score=0.859 total time=   0.1s\n",
      "[CV 2/3] END criterion=gini, max_depth=None, min_samples_leaf=2, min_samples_split=2, n_estimators=200, oob_score=True;, score=0.829 total time=   0.1s\n",
      "[CV 3/3] END criterion=gini, max_depth=None, min_samples_leaf=2, min_samples_split=2, n_estimators=200, oob_score=True;, score=0.771 total time=   0.1s\n",
      "[CV 1/3] END criterion=gini, max_depth=None, min_samples_leaf=2, min_samples_split=2, n_estimators=200, oob_score=False;, score=0.859 total time=   0.1s\n",
      "[CV 2/3] END criterion=gini, max_depth=None, min_samples_leaf=2, min_samples_split=2, n_estimators=200, oob_score=False;, score=0.829 total time=   0.1s\n",
      "[CV 3/3] END criterion=gini, max_depth=None, min_samples_leaf=2, min_samples_split=2, n_estimators=200, oob_score=False;, score=0.771 total time=   0.1s\n",
      "[CV 1/3] END criterion=gini, max_depth=None, min_samples_leaf=2, min_samples_split=5, n_estimators=50, oob_score=True;, score=0.873 total time=   0.0s\n",
      "[CV 2/3] END criterion=gini, max_depth=None, min_samples_leaf=2, min_samples_split=5, n_estimators=50, oob_score=True;, score=0.829 total time=   0.0s\n",
      "[CV 3/3] END criterion=gini, max_depth=None, min_samples_leaf=2, min_samples_split=5, n_estimators=50, oob_score=True;, score=0.786 total time=   0.0s\n",
      "[CV 1/3] END criterion=gini, max_depth=None, min_samples_leaf=2, min_samples_split=5, n_estimators=50, oob_score=False;, score=0.859 total time=   0.0s\n",
      "[CV 2/3] END criterion=gini, max_depth=None, min_samples_leaf=2, min_samples_split=5, n_estimators=50, oob_score=False;, score=0.843 total time=   0.0s\n",
      "[CV 3/3] END criterion=gini, max_depth=None, min_samples_leaf=2, min_samples_split=5, n_estimators=50, oob_score=False;, score=0.800 total time=   0.0s\n",
      "[CV 1/3] END criterion=gini, max_depth=None, min_samples_leaf=2, min_samples_split=5, n_estimators=100, oob_score=True;, score=0.859 total time=   0.0s\n",
      "[CV 2/3] END criterion=gini, max_depth=None, min_samples_leaf=2, min_samples_split=5, n_estimators=100, oob_score=True;, score=0.800 total time=   0.0s\n",
      "[CV 3/3] END criterion=gini, max_depth=None, min_samples_leaf=2, min_samples_split=5, n_estimators=100, oob_score=True;, score=0.786 total time=   0.0s\n",
      "[CV 1/3] END criterion=gini, max_depth=None, min_samples_leaf=2, min_samples_split=5, n_estimators=100, oob_score=False;, score=0.873 total time=   0.0s\n",
      "[CV 2/3] END criterion=gini, max_depth=None, min_samples_leaf=2, min_samples_split=5, n_estimators=100, oob_score=False;, score=0.829 total time=   0.0s\n",
      "[CV 3/3] END criterion=gini, max_depth=None, min_samples_leaf=2, min_samples_split=5, n_estimators=100, oob_score=False;, score=0.786 total time=   0.0s\n",
      "[CV 1/3] END criterion=gini, max_depth=None, min_samples_leaf=2, min_samples_split=5, n_estimators=200, oob_score=True;, score=0.873 total time=   0.1s\n",
      "[CV 2/3] END criterion=gini, max_depth=None, min_samples_leaf=2, min_samples_split=5, n_estimators=200, oob_score=True;, score=0.814 total time=   0.1s\n",
      "[CV 3/3] END criterion=gini, max_depth=None, min_samples_leaf=2, min_samples_split=5, n_estimators=200, oob_score=True;, score=0.786 total time=   0.1s\n",
      "[CV 1/3] END criterion=gini, max_depth=None, min_samples_leaf=2, min_samples_split=5, n_estimators=200, oob_score=False;, score=0.859 total time=   0.1s\n",
      "[CV 2/3] END criterion=gini, max_depth=None, min_samples_leaf=2, min_samples_split=5, n_estimators=200, oob_score=False;, score=0.814 total time=   0.1s\n",
      "[CV 3/3] END criterion=gini, max_depth=None, min_samples_leaf=2, min_samples_split=5, n_estimators=200, oob_score=False;, score=0.786 total time=   0.1s\n",
      "[CV 1/3] END criterion=gini, max_depth=None, min_samples_leaf=2, min_samples_split=10, n_estimators=50, oob_score=True;, score=0.845 total time=   0.0s\n",
      "[CV 2/3] END criterion=gini, max_depth=None, min_samples_leaf=2, min_samples_split=10, n_estimators=50, oob_score=True;, score=0.814 total time=   0.0s\n",
      "[CV 3/3] END criterion=gini, max_depth=None, min_samples_leaf=2, min_samples_split=10, n_estimators=50, oob_score=True;, score=0.800 total time=   0.0s\n",
      "[CV 1/3] END criterion=gini, max_depth=None, min_samples_leaf=2, min_samples_split=10, n_estimators=50, oob_score=False;, score=0.887 total time=   0.0s\n",
      "[CV 2/3] END criterion=gini, max_depth=None, min_samples_leaf=2, min_samples_split=10, n_estimators=50, oob_score=False;, score=0.829 total time=   0.0s\n",
      "[CV 3/3] END criterion=gini, max_depth=None, min_samples_leaf=2, min_samples_split=10, n_estimators=50, oob_score=False;, score=0.786 total time=   0.0s\n",
      "[CV 1/3] END criterion=gini, max_depth=None, min_samples_leaf=2, min_samples_split=10, n_estimators=100, oob_score=True;, score=0.859 total time=   0.0s\n",
      "[CV 2/3] END criterion=gini, max_depth=None, min_samples_leaf=2, min_samples_split=10, n_estimators=100, oob_score=True;, score=0.829 total time=   0.0s\n",
      "[CV 3/3] END criterion=gini, max_depth=None, min_samples_leaf=2, min_samples_split=10, n_estimators=100, oob_score=True;, score=0.786 total time=   0.0s\n",
      "[CV 1/3] END criterion=gini, max_depth=None, min_samples_leaf=2, min_samples_split=10, n_estimators=100, oob_score=False;, score=0.887 total time=   0.0s\n",
      "[CV 2/3] END criterion=gini, max_depth=None, min_samples_leaf=2, min_samples_split=10, n_estimators=100, oob_score=False;, score=0.786 total time=   0.0s\n",
      "[CV 3/3] END criterion=gini, max_depth=None, min_samples_leaf=2, min_samples_split=10, n_estimators=100, oob_score=False;, score=0.786 total time=   0.0s\n",
      "[CV 1/3] END criterion=gini, max_depth=None, min_samples_leaf=2, min_samples_split=10, n_estimators=200, oob_score=True;, score=0.873 total time=   0.1s\n",
      "[CV 2/3] END criterion=gini, max_depth=None, min_samples_leaf=2, min_samples_split=10, n_estimators=200, oob_score=True;, score=0.814 total time=   0.1s\n",
      "[CV 3/3] END criterion=gini, max_depth=None, min_samples_leaf=2, min_samples_split=10, n_estimators=200, oob_score=True;, score=0.786 total time=   0.1s\n",
      "[CV 1/3] END criterion=gini, max_depth=None, min_samples_leaf=2, min_samples_split=10, n_estimators=200, oob_score=False;, score=0.887 total time=   0.1s\n",
      "[CV 2/3] END criterion=gini, max_depth=None, min_samples_leaf=2, min_samples_split=10, n_estimators=200, oob_score=False;, score=0.814 total time=   0.1s\n",
      "[CV 3/3] END criterion=gini, max_depth=None, min_samples_leaf=2, min_samples_split=10, n_estimators=200, oob_score=False;, score=0.771 total time=   0.1s\n",
      "[CV 1/3] END criterion=gini, max_depth=None, min_samples_leaf=4, min_samples_split=2, n_estimators=50, oob_score=True;, score=0.873 total time=   0.0s\n",
      "[CV 2/3] END criterion=gini, max_depth=None, min_samples_leaf=4, min_samples_split=2, n_estimators=50, oob_score=True;, score=0.829 total time=   0.0s\n",
      "[CV 3/3] END criterion=gini, max_depth=None, min_samples_leaf=4, min_samples_split=2, n_estimators=50, oob_score=True;, score=0.800 total time=   0.0s\n",
      "[CV 1/3] END criterion=gini, max_depth=None, min_samples_leaf=4, min_samples_split=2, n_estimators=50, oob_score=False;, score=0.873 total time=   0.0s\n",
      "[CV 2/3] END criterion=gini, max_depth=None, min_samples_leaf=4, min_samples_split=2, n_estimators=50, oob_score=False;, score=0.829 total time=   0.0s\n",
      "[CV 3/3] END criterion=gini, max_depth=None, min_samples_leaf=4, min_samples_split=2, n_estimators=50, oob_score=False;, score=0.786 total time=   0.0s\n",
      "[CV 1/3] END criterion=gini, max_depth=None, min_samples_leaf=4, min_samples_split=2, n_estimators=100, oob_score=True;, score=0.873 total time=   0.0s\n",
      "[CV 2/3] END criterion=gini, max_depth=None, min_samples_leaf=4, min_samples_split=2, n_estimators=100, oob_score=True;, score=0.814 total time=   0.0s\n",
      "[CV 3/3] END criterion=gini, max_depth=None, min_samples_leaf=4, min_samples_split=2, n_estimators=100, oob_score=True;, score=0.786 total time=   0.0s\n",
      "[CV 1/3] END criterion=gini, max_depth=None, min_samples_leaf=4, min_samples_split=2, n_estimators=100, oob_score=False;, score=0.859 total time=   0.0s\n",
      "[CV 2/3] END criterion=gini, max_depth=None, min_samples_leaf=4, min_samples_split=2, n_estimators=100, oob_score=False;, score=0.814 total time=   0.0s\n",
      "[CV 3/3] END criterion=gini, max_depth=None, min_samples_leaf=4, min_samples_split=2, n_estimators=100, oob_score=False;, score=0.814 total time=   0.0s\n",
      "[CV 1/3] END criterion=gini, max_depth=None, min_samples_leaf=4, min_samples_split=2, n_estimators=200, oob_score=True;, score=0.873 total time=   0.1s\n",
      "[CV 2/3] END criterion=gini, max_depth=None, min_samples_leaf=4, min_samples_split=2, n_estimators=200, oob_score=True;, score=0.814 total time=   0.1s\n",
      "[CV 3/3] END criterion=gini, max_depth=None, min_samples_leaf=4, min_samples_split=2, n_estimators=200, oob_score=True;, score=0.786 total time=   0.1s\n",
      "[CV 1/3] END criterion=gini, max_depth=None, min_samples_leaf=4, min_samples_split=2, n_estimators=200, oob_score=False;, score=0.873 total time=   0.1s\n",
      "[CV 2/3] END criterion=gini, max_depth=None, min_samples_leaf=4, min_samples_split=2, n_estimators=200, oob_score=False;, score=0.814 total time=   0.1s\n",
      "[CV 3/3] END criterion=gini, max_depth=None, min_samples_leaf=4, min_samples_split=2, n_estimators=200, oob_score=False;, score=0.786 total time=   0.1s\n",
      "[CV 1/3] END criterion=gini, max_depth=None, min_samples_leaf=4, min_samples_split=5, n_estimators=50, oob_score=True;, score=0.887 total time=   0.0s\n",
      "[CV 2/3] END criterion=gini, max_depth=None, min_samples_leaf=4, min_samples_split=5, n_estimators=50, oob_score=True;, score=0.814 total time=   0.0s\n",
      "[CV 3/3] END criterion=gini, max_depth=None, min_samples_leaf=4, min_samples_split=5, n_estimators=50, oob_score=True;, score=0.786 total time=   0.0s\n",
      "[CV 1/3] END criterion=gini, max_depth=None, min_samples_leaf=4, min_samples_split=5, n_estimators=50, oob_score=False;, score=0.859 total time=   0.0s\n",
      "[CV 2/3] END criterion=gini, max_depth=None, min_samples_leaf=4, min_samples_split=5, n_estimators=50, oob_score=False;, score=0.800 total time=   0.0s\n",
      "[CV 3/3] END criterion=gini, max_depth=None, min_samples_leaf=4, min_samples_split=5, n_estimators=50, oob_score=False;, score=0.771 total time=   0.0s\n",
      "[CV 1/3] END criterion=gini, max_depth=None, min_samples_leaf=4, min_samples_split=5, n_estimators=100, oob_score=True;, score=0.873 total time=   0.0s\n",
      "[CV 2/3] END criterion=gini, max_depth=None, min_samples_leaf=4, min_samples_split=5, n_estimators=100, oob_score=True;, score=0.800 total time=   0.0s\n",
      "[CV 3/3] END criterion=gini, max_depth=None, min_samples_leaf=4, min_samples_split=5, n_estimators=100, oob_score=True;, score=0.786 total time=   0.0s\n",
      "[CV 1/3] END criterion=gini, max_depth=None, min_samples_leaf=4, min_samples_split=5, n_estimators=100, oob_score=False;, score=0.873 total time=   0.0s\n",
      "[CV 2/3] END criterion=gini, max_depth=None, min_samples_leaf=4, min_samples_split=5, n_estimators=100, oob_score=False;, score=0.829 total time=   0.0s\n",
      "[CV 3/3] END criterion=gini, max_depth=None, min_samples_leaf=4, min_samples_split=5, n_estimators=100, oob_score=False;, score=0.786 total time=   0.0s\n",
      "[CV 1/3] END criterion=gini, max_depth=None, min_samples_leaf=4, min_samples_split=5, n_estimators=200, oob_score=True;, score=0.873 total time=   0.1s\n",
      "[CV 2/3] END criterion=gini, max_depth=None, min_samples_leaf=4, min_samples_split=5, n_estimators=200, oob_score=True;, score=0.814 total time=   0.2s\n",
      "[CV 3/3] END criterion=gini, max_depth=None, min_samples_leaf=4, min_samples_split=5, n_estimators=200, oob_score=True;, score=0.786 total time=   0.2s\n",
      "[CV 1/3] END criterion=gini, max_depth=None, min_samples_leaf=4, min_samples_split=5, n_estimators=200, oob_score=False;, score=0.873 total time=   0.1s\n",
      "[CV 2/3] END criterion=gini, max_depth=None, min_samples_leaf=4, min_samples_split=5, n_estimators=200, oob_score=False;, score=0.814 total time=   0.2s\n",
      "[CV 3/3] END criterion=gini, max_depth=None, min_samples_leaf=4, min_samples_split=5, n_estimators=200, oob_score=False;, score=0.814 total time=   0.1s\n",
      "[CV 1/3] END criterion=gini, max_depth=None, min_samples_leaf=4, min_samples_split=10, n_estimators=50, oob_score=True;, score=0.845 total time=   0.0s\n",
      "[CV 2/3] END criterion=gini, max_depth=None, min_samples_leaf=4, min_samples_split=10, n_estimators=50, oob_score=True;, score=0.800 total time=   0.0s\n",
      "[CV 3/3] END criterion=gini, max_depth=None, min_samples_leaf=4, min_samples_split=10, n_estimators=50, oob_score=True;, score=0.800 total time=   0.0s\n",
      "[CV 1/3] END criterion=gini, max_depth=None, min_samples_leaf=4, min_samples_split=10, n_estimators=50, oob_score=False;, score=0.887 total time=   0.0s\n",
      "[CV 2/3] END criterion=gini, max_depth=None, min_samples_leaf=4, min_samples_split=10, n_estimators=50, oob_score=False;, score=0.786 total time=   0.0s\n",
      "[CV 3/3] END criterion=gini, max_depth=None, min_samples_leaf=4, min_samples_split=10, n_estimators=50, oob_score=False;, score=0.800 total time=   0.0s\n",
      "[CV 1/3] END criterion=gini, max_depth=None, min_samples_leaf=4, min_samples_split=10, n_estimators=100, oob_score=True;, score=0.873 total time=   0.0s\n",
      "[CV 2/3] END criterion=gini, max_depth=None, min_samples_leaf=4, min_samples_split=10, n_estimators=100, oob_score=True;, score=0.814 total time=   0.1s\n",
      "[CV 3/3] END criterion=gini, max_depth=None, min_samples_leaf=4, min_samples_split=10, n_estimators=100, oob_score=True;, score=0.814 total time=   0.0s\n",
      "[CV 1/3] END criterion=gini, max_depth=None, min_samples_leaf=4, min_samples_split=10, n_estimators=100, oob_score=False;, score=0.873 total time=   0.0s\n",
      "[CV 2/3] END criterion=gini, max_depth=None, min_samples_leaf=4, min_samples_split=10, n_estimators=100, oob_score=False;, score=0.814 total time=   0.0s\n",
      "[CV 3/3] END criterion=gini, max_depth=None, min_samples_leaf=4, min_samples_split=10, n_estimators=100, oob_score=False;, score=0.771 total time=   0.0s\n",
      "[CV 1/3] END criterion=gini, max_depth=None, min_samples_leaf=4, min_samples_split=10, n_estimators=200, oob_score=True;, score=0.873 total time=   0.1s\n",
      "[CV 2/3] END criterion=gini, max_depth=None, min_samples_leaf=4, min_samples_split=10, n_estimators=200, oob_score=True;, score=0.829 total time=   0.2s\n",
      "[CV 3/3] END criterion=gini, max_depth=None, min_samples_leaf=4, min_samples_split=10, n_estimators=200, oob_score=True;, score=0.786 total time=   0.1s\n",
      "[CV 1/3] END criterion=gini, max_depth=None, min_samples_leaf=4, min_samples_split=10, n_estimators=200, oob_score=False;, score=0.887 total time=   0.1s\n",
      "[CV 2/3] END criterion=gini, max_depth=None, min_samples_leaf=4, min_samples_split=10, n_estimators=200, oob_score=False;, score=0.814 total time=   0.1s\n",
      "[CV 3/3] END criterion=gini, max_depth=None, min_samples_leaf=4, min_samples_split=10, n_estimators=200, oob_score=False;, score=0.771 total time=   0.1s\n",
      "[CV 1/3] END criterion=gini, max_depth=5, min_samples_leaf=1, min_samples_split=2, n_estimators=50, oob_score=True;, score=0.859 total time=   0.0s\n",
      "[CV 2/3] END criterion=gini, max_depth=5, min_samples_leaf=1, min_samples_split=2, n_estimators=50, oob_score=True;, score=0.800 total time=   0.0s\n",
      "[CV 3/3] END criterion=gini, max_depth=5, min_samples_leaf=1, min_samples_split=2, n_estimators=50, oob_score=True;, score=0.800 total time=   0.0s\n",
      "[CV 1/3] END criterion=gini, max_depth=5, min_samples_leaf=1, min_samples_split=2, n_estimators=50, oob_score=False;, score=0.831 total time=   0.0s\n",
      "[CV 2/3] END criterion=gini, max_depth=5, min_samples_leaf=1, min_samples_split=2, n_estimators=50, oob_score=False;, score=0.800 total time=   0.0s\n",
      "[CV 3/3] END criterion=gini, max_depth=5, min_samples_leaf=1, min_samples_split=2, n_estimators=50, oob_score=False;, score=0.786 total time=   0.0s\n",
      "[CV 1/3] END criterion=gini, max_depth=5, min_samples_leaf=1, min_samples_split=2, n_estimators=100, oob_score=True;, score=0.887 total time=   0.1s\n",
      "[CV 2/3] END criterion=gini, max_depth=5, min_samples_leaf=1, min_samples_split=2, n_estimators=100, oob_score=True;, score=0.800 total time=   0.0s\n",
      "[CV 3/3] END criterion=gini, max_depth=5, min_samples_leaf=1, min_samples_split=2, n_estimators=100, oob_score=True;, score=0.800 total time=   0.0s\n",
      "[CV 1/3] END criterion=gini, max_depth=5, min_samples_leaf=1, min_samples_split=2, n_estimators=100, oob_score=False;, score=0.873 total time=   0.0s\n",
      "[CV 2/3] END criterion=gini, max_depth=5, min_samples_leaf=1, min_samples_split=2, n_estimators=100, oob_score=False;, score=0.814 total time=   0.0s\n",
      "[CV 3/3] END criterion=gini, max_depth=5, min_samples_leaf=1, min_samples_split=2, n_estimators=100, oob_score=False;, score=0.771 total time=   0.0s\n",
      "[CV 1/3] END criterion=gini, max_depth=5, min_samples_leaf=1, min_samples_split=2, n_estimators=200, oob_score=True;, score=0.873 total time=   0.2s\n",
      "[CV 2/3] END criterion=gini, max_depth=5, min_samples_leaf=1, min_samples_split=2, n_estimators=200, oob_score=True;, score=0.814 total time=   0.1s\n",
      "[CV 3/3] END criterion=gini, max_depth=5, min_samples_leaf=1, min_samples_split=2, n_estimators=200, oob_score=True;, score=0.786 total time=   0.1s\n",
      "[CV 1/3] END criterion=gini, max_depth=5, min_samples_leaf=1, min_samples_split=2, n_estimators=200, oob_score=False;, score=0.859 total time=   0.1s\n",
      "[CV 2/3] END criterion=gini, max_depth=5, min_samples_leaf=1, min_samples_split=2, n_estimators=200, oob_score=False;, score=0.814 total time=   0.1s\n",
      "[CV 3/3] END criterion=gini, max_depth=5, min_samples_leaf=1, min_samples_split=2, n_estimators=200, oob_score=False;, score=0.786 total time=   0.1s\n",
      "[CV 1/3] END criterion=gini, max_depth=5, min_samples_leaf=1, min_samples_split=5, n_estimators=50, oob_score=True;, score=0.873 total time=   0.0s\n",
      "[CV 2/3] END criterion=gini, max_depth=5, min_samples_leaf=1, min_samples_split=5, n_estimators=50, oob_score=True;, score=0.786 total time=   0.0s\n",
      "[CV 3/3] END criterion=gini, max_depth=5, min_samples_leaf=1, min_samples_split=5, n_estimators=50, oob_score=True;, score=0.800 total time=   0.0s\n",
      "[CV 1/3] END criterion=gini, max_depth=5, min_samples_leaf=1, min_samples_split=5, n_estimators=50, oob_score=False;, score=0.859 total time=   0.0s\n",
      "[CV 2/3] END criterion=gini, max_depth=5, min_samples_leaf=1, min_samples_split=5, n_estimators=50, oob_score=False;, score=0.814 total time=   0.0s\n",
      "[CV 3/3] END criterion=gini, max_depth=5, min_samples_leaf=1, min_samples_split=5, n_estimators=50, oob_score=False;, score=0.800 total time=   0.0s\n",
      "[CV 1/3] END criterion=gini, max_depth=5, min_samples_leaf=1, min_samples_split=5, n_estimators=100, oob_score=True;, score=0.873 total time=   0.0s\n",
      "[CV 2/3] END criterion=gini, max_depth=5, min_samples_leaf=1, min_samples_split=5, n_estimators=100, oob_score=True;, score=0.814 total time=   0.0s\n",
      "[CV 3/3] END criterion=gini, max_depth=5, min_samples_leaf=1, min_samples_split=5, n_estimators=100, oob_score=True;, score=0.800 total time=   0.0s\n",
      "[CV 1/3] END criterion=gini, max_depth=5, min_samples_leaf=1, min_samples_split=5, n_estimators=100, oob_score=False;, score=0.859 total time=   0.0s\n",
      "[CV 2/3] END criterion=gini, max_depth=5, min_samples_leaf=1, min_samples_split=5, n_estimators=100, oob_score=False;, score=0.800 total time=   0.0s\n",
      "[CV 3/3] END criterion=gini, max_depth=5, min_samples_leaf=1, min_samples_split=5, n_estimators=100, oob_score=False;, score=0.786 total time=   0.0s\n",
      "[CV 1/3] END criterion=gini, max_depth=5, min_samples_leaf=1, min_samples_split=5, n_estimators=200, oob_score=True;, score=0.873 total time=   0.1s\n",
      "[CV 2/3] END criterion=gini, max_depth=5, min_samples_leaf=1, min_samples_split=5, n_estimators=200, oob_score=True;, score=0.814 total time=   0.1s\n",
      "[CV 3/3] END criterion=gini, max_depth=5, min_samples_leaf=1, min_samples_split=5, n_estimators=200, oob_score=True;, score=0.771 total time=   0.1s\n",
      "[CV 1/3] END criterion=gini, max_depth=5, min_samples_leaf=1, min_samples_split=5, n_estimators=200, oob_score=False;, score=0.859 total time=   0.1s\n",
      "[CV 2/3] END criterion=gini, max_depth=5, min_samples_leaf=1, min_samples_split=5, n_estimators=200, oob_score=False;, score=0.814 total time=   0.1s\n",
      "[CV 3/3] END criterion=gini, max_depth=5, min_samples_leaf=1, min_samples_split=5, n_estimators=200, oob_score=False;, score=0.786 total time=   0.1s\n",
      "[CV 1/3] END criterion=gini, max_depth=5, min_samples_leaf=1, min_samples_split=10, n_estimators=50, oob_score=True;, score=0.887 total time=   0.0s\n",
      "[CV 2/3] END criterion=gini, max_depth=5, min_samples_leaf=1, min_samples_split=10, n_estimators=50, oob_score=True;, score=0.771 total time=   0.0s\n",
      "[CV 3/3] END criterion=gini, max_depth=5, min_samples_leaf=1, min_samples_split=10, n_estimators=50, oob_score=True;, score=0.800 total time=   0.0s\n",
      "[CV 1/3] END criterion=gini, max_depth=5, min_samples_leaf=1, min_samples_split=10, n_estimators=50, oob_score=False;, score=0.859 total time=   0.0s\n",
      "[CV 2/3] END criterion=gini, max_depth=5, min_samples_leaf=1, min_samples_split=10, n_estimators=50, oob_score=False;, score=0.800 total time=   0.0s\n",
      "[CV 3/3] END criterion=gini, max_depth=5, min_samples_leaf=1, min_samples_split=10, n_estimators=50, oob_score=False;, score=0.786 total time=   0.0s\n",
      "[CV 1/3] END criterion=gini, max_depth=5, min_samples_leaf=1, min_samples_split=10, n_estimators=100, oob_score=True;, score=0.873 total time=   0.0s\n",
      "[CV 2/3] END criterion=gini, max_depth=5, min_samples_leaf=1, min_samples_split=10, n_estimators=100, oob_score=True;, score=0.786 total time=   0.0s\n",
      "[CV 3/3] END criterion=gini, max_depth=5, min_samples_leaf=1, min_samples_split=10, n_estimators=100, oob_score=True;, score=0.771 total time=   0.0s\n",
      "[CV 1/3] END criterion=gini, max_depth=5, min_samples_leaf=1, min_samples_split=10, n_estimators=100, oob_score=False;, score=0.859 total time=   0.0s\n",
      "[CV 2/3] END criterion=gini, max_depth=5, min_samples_leaf=1, min_samples_split=10, n_estimators=100, oob_score=False;, score=0.814 total time=   0.0s\n",
      "[CV 3/3] END criterion=gini, max_depth=5, min_samples_leaf=1, min_samples_split=10, n_estimators=100, oob_score=False;, score=0.771 total time=   0.0s\n",
      "[CV 1/3] END criterion=gini, max_depth=5, min_samples_leaf=1, min_samples_split=10, n_estimators=200, oob_score=True;, score=0.873 total time=   0.1s\n",
      "[CV 2/3] END criterion=gini, max_depth=5, min_samples_leaf=1, min_samples_split=10, n_estimators=200, oob_score=True;, score=0.800 total time=   0.1s\n",
      "[CV 3/3] END criterion=gini, max_depth=5, min_samples_leaf=1, min_samples_split=10, n_estimators=200, oob_score=True;, score=0.786 total time=   0.1s\n",
      "[CV 1/3] END criterion=gini, max_depth=5, min_samples_leaf=1, min_samples_split=10, n_estimators=200, oob_score=False;, score=0.887 total time=   0.1s\n",
      "[CV 2/3] END criterion=gini, max_depth=5, min_samples_leaf=1, min_samples_split=10, n_estimators=200, oob_score=False;, score=0.786 total time=   0.1s\n",
      "[CV 3/3] END criterion=gini, max_depth=5, min_samples_leaf=1, min_samples_split=10, n_estimators=200, oob_score=False;, score=0.786 total time=   0.1s\n",
      "[CV 1/3] END criterion=gini, max_depth=5, min_samples_leaf=2, min_samples_split=2, n_estimators=50, oob_score=True;, score=0.859 total time=   0.0s\n",
      "[CV 2/3] END criterion=gini, max_depth=5, min_samples_leaf=2, min_samples_split=2, n_estimators=50, oob_score=True;, score=0.800 total time=   0.0s\n",
      "[CV 3/3] END criterion=gini, max_depth=5, min_samples_leaf=2, min_samples_split=2, n_estimators=50, oob_score=True;, score=0.800 total time=   0.0s\n",
      "[CV 1/3] END criterion=gini, max_depth=5, min_samples_leaf=2, min_samples_split=2, n_estimators=50, oob_score=False;, score=0.859 total time=   0.0s\n",
      "[CV 2/3] END criterion=gini, max_depth=5, min_samples_leaf=2, min_samples_split=2, n_estimators=50, oob_score=False;, score=0.800 total time=   0.0s\n",
      "[CV 3/3] END criterion=gini, max_depth=5, min_samples_leaf=2, min_samples_split=2, n_estimators=50, oob_score=False;, score=0.814 total time=   0.0s\n",
      "[CV 1/3] END criterion=gini, max_depth=5, min_samples_leaf=2, min_samples_split=2, n_estimators=100, oob_score=True;, score=0.859 total time=   0.0s\n",
      "[CV 2/3] END criterion=gini, max_depth=5, min_samples_leaf=2, min_samples_split=2, n_estimators=100, oob_score=True;, score=0.814 total time=   0.0s\n",
      "[CV 3/3] END criterion=gini, max_depth=5, min_samples_leaf=2, min_samples_split=2, n_estimators=100, oob_score=True;, score=0.786 total time=   0.0s\n",
      "[CV 1/3] END criterion=gini, max_depth=5, min_samples_leaf=2, min_samples_split=2, n_estimators=100, oob_score=False;, score=0.859 total time=   0.0s\n",
      "[CV 2/3] END criterion=gini, max_depth=5, min_samples_leaf=2, min_samples_split=2, n_estimators=100, oob_score=False;, score=0.829 total time=   0.0s\n",
      "[CV 3/3] END criterion=gini, max_depth=5, min_samples_leaf=2, min_samples_split=2, n_estimators=100, oob_score=False;, score=0.771 total time=   0.0s\n",
      "[CV 1/3] END criterion=gini, max_depth=5, min_samples_leaf=2, min_samples_split=2, n_estimators=200, oob_score=True;, score=0.873 total time=   0.1s\n",
      "[CV 2/3] END criterion=gini, max_depth=5, min_samples_leaf=2, min_samples_split=2, n_estimators=200, oob_score=True;, score=0.786 total time=   0.1s\n",
      "[CV 3/3] END criterion=gini, max_depth=5, min_samples_leaf=2, min_samples_split=2, n_estimators=200, oob_score=True;, score=0.771 total time=   0.1s\n",
      "[CV 1/3] END criterion=gini, max_depth=5, min_samples_leaf=2, min_samples_split=2, n_estimators=200, oob_score=False;, score=0.873 total time=   0.1s\n",
      "[CV 2/3] END criterion=gini, max_depth=5, min_samples_leaf=2, min_samples_split=2, n_estimators=200, oob_score=False;, score=0.800 total time=   0.1s\n",
      "[CV 3/3] END criterion=gini, max_depth=5, min_samples_leaf=2, min_samples_split=2, n_estimators=200, oob_score=False;, score=0.800 total time=   0.1s\n",
      "[CV 1/3] END criterion=gini, max_depth=5, min_samples_leaf=2, min_samples_split=5, n_estimators=50, oob_score=True;, score=0.859 total time=   0.0s\n",
      "[CV 2/3] END criterion=gini, max_depth=5, min_samples_leaf=2, min_samples_split=5, n_estimators=50, oob_score=True;, score=0.800 total time=   0.0s\n",
      "[CV 3/3] END criterion=gini, max_depth=5, min_samples_leaf=2, min_samples_split=5, n_estimators=50, oob_score=True;, score=0.800 total time=   0.0s\n",
      "[CV 1/3] END criterion=gini, max_depth=5, min_samples_leaf=2, min_samples_split=5, n_estimators=50, oob_score=False;, score=0.873 total time=   0.0s\n",
      "[CV 2/3] END criterion=gini, max_depth=5, min_samples_leaf=2, min_samples_split=5, n_estimators=50, oob_score=False;, score=0.786 total time=   0.0s\n",
      "[CV 3/3] END criterion=gini, max_depth=5, min_samples_leaf=2, min_samples_split=5, n_estimators=50, oob_score=False;, score=0.786 total time=   0.0s\n",
      "[CV 1/3] END criterion=gini, max_depth=5, min_samples_leaf=2, min_samples_split=5, n_estimators=100, oob_score=True;, score=0.901 total time=   0.0s\n",
      "[CV 2/3] END criterion=gini, max_depth=5, min_samples_leaf=2, min_samples_split=5, n_estimators=100, oob_score=True;, score=0.800 total time=   0.0s\n",
      "[CV 3/3] END criterion=gini, max_depth=5, min_samples_leaf=2, min_samples_split=5, n_estimators=100, oob_score=True;, score=0.786 total time=   0.0s\n",
      "[CV 1/3] END criterion=gini, max_depth=5, min_samples_leaf=2, min_samples_split=5, n_estimators=100, oob_score=False;, score=0.859 total time=   0.0s\n",
      "[CV 2/3] END criterion=gini, max_depth=5, min_samples_leaf=2, min_samples_split=5, n_estimators=100, oob_score=False;, score=0.814 total time=   0.0s\n",
      "[CV 3/3] END criterion=gini, max_depth=5, min_samples_leaf=2, min_samples_split=5, n_estimators=100, oob_score=False;, score=0.771 total time=   0.0s\n",
      "[CV 1/3] END criterion=gini, max_depth=5, min_samples_leaf=2, min_samples_split=5, n_estimators=200, oob_score=True;, score=0.859 total time=   0.1s\n",
      "[CV 2/3] END criterion=gini, max_depth=5, min_samples_leaf=2, min_samples_split=5, n_estimators=200, oob_score=True;, score=0.814 total time=   0.1s\n",
      "[CV 3/3] END criterion=gini, max_depth=5, min_samples_leaf=2, min_samples_split=5, n_estimators=200, oob_score=True;, score=0.800 total time=   0.1s\n",
      "[CV 1/3] END criterion=gini, max_depth=5, min_samples_leaf=2, min_samples_split=5, n_estimators=200, oob_score=False;, score=0.873 total time=   0.1s\n",
      "[CV 2/3] END criterion=gini, max_depth=5, min_samples_leaf=2, min_samples_split=5, n_estimators=200, oob_score=False;, score=0.800 total time=   0.1s\n",
      "[CV 3/3] END criterion=gini, max_depth=5, min_samples_leaf=2, min_samples_split=5, n_estimators=200, oob_score=False;, score=0.800 total time=   0.1s\n",
      "[CV 1/3] END criterion=gini, max_depth=5, min_samples_leaf=2, min_samples_split=10, n_estimators=50, oob_score=True;, score=0.859 total time=   0.0s\n",
      "[CV 2/3] END criterion=gini, max_depth=5, min_samples_leaf=2, min_samples_split=10, n_estimators=50, oob_score=True;, score=0.786 total time=   0.0s\n",
      "[CV 3/3] END criterion=gini, max_depth=5, min_samples_leaf=2, min_samples_split=10, n_estimators=50, oob_score=True;, score=0.800 total time=   0.0s\n",
      "[CV 1/3] END criterion=gini, max_depth=5, min_samples_leaf=2, min_samples_split=10, n_estimators=50, oob_score=False;, score=0.873 total time=   0.0s\n",
      "[CV 2/3] END criterion=gini, max_depth=5, min_samples_leaf=2, min_samples_split=10, n_estimators=50, oob_score=False;, score=0.800 total time=   0.0s\n",
      "[CV 3/3] END criterion=gini, max_depth=5, min_samples_leaf=2, min_samples_split=10, n_estimators=50, oob_score=False;, score=0.786 total time=   0.0s\n",
      "[CV 1/3] END criterion=gini, max_depth=5, min_samples_leaf=2, min_samples_split=10, n_estimators=100, oob_score=True;, score=0.873 total time=   0.0s\n",
      "[CV 2/3] END criterion=gini, max_depth=5, min_samples_leaf=2, min_samples_split=10, n_estimators=100, oob_score=True;, score=0.814 total time=   0.0s\n",
      "[CV 3/3] END criterion=gini, max_depth=5, min_samples_leaf=2, min_samples_split=10, n_estimators=100, oob_score=True;, score=0.771 total time=   0.0s\n",
      "[CV 1/3] END criterion=gini, max_depth=5, min_samples_leaf=2, min_samples_split=10, n_estimators=100, oob_score=False;, score=0.859 total time=   0.0s\n",
      "[CV 2/3] END criterion=gini, max_depth=5, min_samples_leaf=2, min_samples_split=10, n_estimators=100, oob_score=False;, score=0.800 total time=   0.0s\n",
      "[CV 3/3] END criterion=gini, max_depth=5, min_samples_leaf=2, min_samples_split=10, n_estimators=100, oob_score=False;, score=0.771 total time=   0.0s\n",
      "[CV 1/3] END criterion=gini, max_depth=5, min_samples_leaf=2, min_samples_split=10, n_estimators=200, oob_score=True;, score=0.873 total time=   0.1s\n",
      "[CV 2/3] END criterion=gini, max_depth=5, min_samples_leaf=2, min_samples_split=10, n_estimators=200, oob_score=True;, score=0.814 total time=   0.1s\n",
      "[CV 3/3] END criterion=gini, max_depth=5, min_samples_leaf=2, min_samples_split=10, n_estimators=200, oob_score=True;, score=0.800 total time=   0.1s\n",
      "[CV 1/3] END criterion=gini, max_depth=5, min_samples_leaf=2, min_samples_split=10, n_estimators=200, oob_score=False;, score=0.887 total time=   0.1s\n",
      "[CV 2/3] END criterion=gini, max_depth=5, min_samples_leaf=2, min_samples_split=10, n_estimators=200, oob_score=False;, score=0.800 total time=   0.1s\n",
      "[CV 3/3] END criterion=gini, max_depth=5, min_samples_leaf=2, min_samples_split=10, n_estimators=200, oob_score=False;, score=0.771 total time=   0.1s\n",
      "[CV 1/3] END criterion=gini, max_depth=5, min_samples_leaf=4, min_samples_split=2, n_estimators=50, oob_score=True;, score=0.887 total time=   0.0s\n",
      "[CV 2/3] END criterion=gini, max_depth=5, min_samples_leaf=4, min_samples_split=2, n_estimators=50, oob_score=True;, score=0.814 total time=   0.0s\n",
      "[CV 3/3] END criterion=gini, max_depth=5, min_samples_leaf=4, min_samples_split=2, n_estimators=50, oob_score=True;, score=0.814 total time=   0.0s\n",
      "[CV 1/3] END criterion=gini, max_depth=5, min_samples_leaf=4, min_samples_split=2, n_estimators=50, oob_score=False;, score=0.887 total time=   0.0s\n",
      "[CV 2/3] END criterion=gini, max_depth=5, min_samples_leaf=4, min_samples_split=2, n_estimators=50, oob_score=False;, score=0.814 total time=   0.0s\n",
      "[CV 3/3] END criterion=gini, max_depth=5, min_samples_leaf=4, min_samples_split=2, n_estimators=50, oob_score=False;, score=0.800 total time=   0.0s\n",
      "[CV 1/3] END criterion=gini, max_depth=5, min_samples_leaf=4, min_samples_split=2, n_estimators=100, oob_score=True;, score=0.859 total time=   0.0s\n",
      "[CV 2/3] END criterion=gini, max_depth=5, min_samples_leaf=4, min_samples_split=2, n_estimators=100, oob_score=True;, score=0.800 total time=   0.0s\n",
      "[CV 3/3] END criterion=gini, max_depth=5, min_samples_leaf=4, min_samples_split=2, n_estimators=100, oob_score=True;, score=0.814 total time=   0.0s\n",
      "[CV 1/3] END criterion=gini, max_depth=5, min_samples_leaf=4, min_samples_split=2, n_estimators=100, oob_score=False;, score=0.859 total time=   0.0s\n",
      "[CV 2/3] END criterion=gini, max_depth=5, min_samples_leaf=4, min_samples_split=2, n_estimators=100, oob_score=False;, score=0.814 total time=   0.0s\n",
      "[CV 3/3] END criterion=gini, max_depth=5, min_samples_leaf=4, min_samples_split=2, n_estimators=100, oob_score=False;, score=0.771 total time=   0.0s\n",
      "[CV 1/3] END criterion=gini, max_depth=5, min_samples_leaf=4, min_samples_split=2, n_estimators=200, oob_score=True;, score=0.873 total time=   0.1s\n",
      "[CV 2/3] END criterion=gini, max_depth=5, min_samples_leaf=4, min_samples_split=2, n_estimators=200, oob_score=True;, score=0.800 total time=   0.1s\n",
      "[CV 3/3] END criterion=gini, max_depth=5, min_samples_leaf=4, min_samples_split=2, n_estimators=200, oob_score=True;, score=0.800 total time=   0.1s\n",
      "[CV 1/3] END criterion=gini, max_depth=5, min_samples_leaf=4, min_samples_split=2, n_estimators=200, oob_score=False;, score=0.873 total time=   0.1s\n",
      "[CV 2/3] END criterion=gini, max_depth=5, min_samples_leaf=4, min_samples_split=2, n_estimators=200, oob_score=False;, score=0.814 total time=   0.1s\n",
      "[CV 3/3] END criterion=gini, max_depth=5, min_samples_leaf=4, min_samples_split=2, n_estimators=200, oob_score=False;, score=0.786 total time=   0.1s\n",
      "[CV 1/3] END criterion=gini, max_depth=5, min_samples_leaf=4, min_samples_split=5, n_estimators=50, oob_score=True;, score=0.859 total time=   0.0s\n",
      "[CV 2/3] END criterion=gini, max_depth=5, min_samples_leaf=4, min_samples_split=5, n_estimators=50, oob_score=True;, score=0.800 total time=   0.0s\n",
      "[CV 3/3] END criterion=gini, max_depth=5, min_samples_leaf=4, min_samples_split=5, n_estimators=50, oob_score=True;, score=0.800 total time=   0.0s\n",
      "[CV 1/3] END criterion=gini, max_depth=5, min_samples_leaf=4, min_samples_split=5, n_estimators=50, oob_score=False;, score=0.887 total time=   0.0s\n",
      "[CV 2/3] END criterion=gini, max_depth=5, min_samples_leaf=4, min_samples_split=5, n_estimators=50, oob_score=False;, score=0.829 total time=   0.0s\n",
      "[CV 3/3] END criterion=gini, max_depth=5, min_samples_leaf=4, min_samples_split=5, n_estimators=50, oob_score=False;, score=0.786 total time=   0.0s\n",
      "[CV 1/3] END criterion=gini, max_depth=5, min_samples_leaf=4, min_samples_split=5, n_estimators=100, oob_score=True;, score=0.859 total time=   0.0s\n",
      "[CV 2/3] END criterion=gini, max_depth=5, min_samples_leaf=4, min_samples_split=5, n_estimators=100, oob_score=True;, score=0.829 total time=   0.0s\n",
      "[CV 3/3] END criterion=gini, max_depth=5, min_samples_leaf=4, min_samples_split=5, n_estimators=100, oob_score=True;, score=0.814 total time=   0.0s\n",
      "[CV 1/3] END criterion=gini, max_depth=5, min_samples_leaf=4, min_samples_split=5, n_estimators=100, oob_score=False;, score=0.873 total time=   0.0s\n",
      "[CV 2/3] END criterion=gini, max_depth=5, min_samples_leaf=4, min_samples_split=5, n_estimators=100, oob_score=False;, score=0.800 total time=   0.0s\n",
      "[CV 3/3] END criterion=gini, max_depth=5, min_samples_leaf=4, min_samples_split=5, n_estimators=100, oob_score=False;, score=0.786 total time=   0.0s\n",
      "[CV 1/3] END criterion=gini, max_depth=5, min_samples_leaf=4, min_samples_split=5, n_estimators=200, oob_score=True;, score=0.873 total time=   0.1s\n",
      "[CV 2/3] END criterion=gini, max_depth=5, min_samples_leaf=4, min_samples_split=5, n_estimators=200, oob_score=True;, score=0.800 total time=   0.1s\n",
      "[CV 3/3] END criterion=gini, max_depth=5, min_samples_leaf=4, min_samples_split=5, n_estimators=200, oob_score=True;, score=0.786 total time=   0.1s\n",
      "[CV 1/3] END criterion=gini, max_depth=5, min_samples_leaf=4, min_samples_split=5, n_estimators=200, oob_score=False;, score=0.873 total time=   0.1s\n",
      "[CV 2/3] END criterion=gini, max_depth=5, min_samples_leaf=4, min_samples_split=5, n_estimators=200, oob_score=False;, score=0.800 total time=   0.1s\n",
      "[CV 3/3] END criterion=gini, max_depth=5, min_samples_leaf=4, min_samples_split=5, n_estimators=200, oob_score=False;, score=0.800 total time=   0.1s\n",
      "[CV 1/3] END criterion=gini, max_depth=5, min_samples_leaf=4, min_samples_split=10, n_estimators=50, oob_score=True;, score=0.873 total time=   0.0s\n",
      "[CV 2/3] END criterion=gini, max_depth=5, min_samples_leaf=4, min_samples_split=10, n_estimators=50, oob_score=True;, score=0.800 total time=   0.0s\n",
      "[CV 3/3] END criterion=gini, max_depth=5, min_samples_leaf=4, min_samples_split=10, n_estimators=50, oob_score=True;, score=0.800 total time=   0.0s\n",
      "[CV 1/3] END criterion=gini, max_depth=5, min_samples_leaf=4, min_samples_split=10, n_estimators=50, oob_score=False;, score=0.859 total time=   0.0s\n",
      "[CV 2/3] END criterion=gini, max_depth=5, min_samples_leaf=4, min_samples_split=10, n_estimators=50, oob_score=False;, score=0.814 total time=   0.0s\n",
      "[CV 3/3] END criterion=gini, max_depth=5, min_samples_leaf=4, min_samples_split=10, n_estimators=50, oob_score=False;, score=0.829 total time=   0.0s\n",
      "[CV 1/3] END criterion=gini, max_depth=5, min_samples_leaf=4, min_samples_split=10, n_estimators=100, oob_score=True;, score=0.873 total time=   0.0s\n",
      "[CV 2/3] END criterion=gini, max_depth=5, min_samples_leaf=4, min_samples_split=10, n_estimators=100, oob_score=True;, score=0.786 total time=   0.0s\n",
      "[CV 3/3] END criterion=gini, max_depth=5, min_samples_leaf=4, min_samples_split=10, n_estimators=100, oob_score=True;, score=0.786 total time=   0.0s\n",
      "[CV 1/3] END criterion=gini, max_depth=5, min_samples_leaf=4, min_samples_split=10, n_estimators=100, oob_score=False;, score=0.873 total time=   0.0s\n",
      "[CV 2/3] END criterion=gini, max_depth=5, min_samples_leaf=4, min_samples_split=10, n_estimators=100, oob_score=False;, score=0.814 total time=   0.0s\n",
      "[CV 3/3] END criterion=gini, max_depth=5, min_samples_leaf=4, min_samples_split=10, n_estimators=100, oob_score=False;, score=0.800 total time=   0.0s\n",
      "[CV 1/3] END criterion=gini, max_depth=5, min_samples_leaf=4, min_samples_split=10, n_estimators=200, oob_score=True;, score=0.873 total time=   0.1s\n",
      "[CV 2/3] END criterion=gini, max_depth=5, min_samples_leaf=4, min_samples_split=10, n_estimators=200, oob_score=True;, score=0.814 total time=   0.1s\n",
      "[CV 3/3] END criterion=gini, max_depth=5, min_samples_leaf=4, min_samples_split=10, n_estimators=200, oob_score=True;, score=0.786 total time=   0.1s\n",
      "[CV 1/3] END criterion=gini, max_depth=5, min_samples_leaf=4, min_samples_split=10, n_estimators=200, oob_score=False;, score=0.873 total time=   0.1s\n",
      "[CV 2/3] END criterion=gini, max_depth=5, min_samples_leaf=4, min_samples_split=10, n_estimators=200, oob_score=False;, score=0.800 total time=   0.1s\n",
      "[CV 3/3] END criterion=gini, max_depth=5, min_samples_leaf=4, min_samples_split=10, n_estimators=200, oob_score=False;, score=0.786 total time=   0.1s\n",
      "[CV 1/3] END criterion=gini, max_depth=10, min_samples_leaf=1, min_samples_split=2, n_estimators=50, oob_score=True;, score=0.859 total time=   0.0s\n",
      "[CV 2/3] END criterion=gini, max_depth=10, min_samples_leaf=1, min_samples_split=2, n_estimators=50, oob_score=True;, score=0.786 total time=   0.0s\n",
      "[CV 3/3] END criterion=gini, max_depth=10, min_samples_leaf=1, min_samples_split=2, n_estimators=50, oob_score=True;, score=0.800 total time=   0.0s\n",
      "[CV 1/3] END criterion=gini, max_depth=10, min_samples_leaf=1, min_samples_split=2, n_estimators=50, oob_score=False;, score=0.803 total time=   0.0s\n",
      "[CV 2/3] END criterion=gini, max_depth=10, min_samples_leaf=1, min_samples_split=2, n_estimators=50, oob_score=False;, score=0.786 total time=   0.0s\n",
      "[CV 3/3] END criterion=gini, max_depth=10, min_samples_leaf=1, min_samples_split=2, n_estimators=50, oob_score=False;, score=0.771 total time=   0.0s\n",
      "[CV 1/3] END criterion=gini, max_depth=10, min_samples_leaf=1, min_samples_split=2, n_estimators=100, oob_score=True;, score=0.873 total time=   0.0s\n",
      "[CV 2/3] END criterion=gini, max_depth=10, min_samples_leaf=1, min_samples_split=2, n_estimators=100, oob_score=True;, score=0.800 total time=   0.0s\n",
      "[CV 3/3] END criterion=gini, max_depth=10, min_samples_leaf=1, min_samples_split=2, n_estimators=100, oob_score=True;, score=0.786 total time=   0.0s\n",
      "[CV 1/3] END criterion=gini, max_depth=10, min_samples_leaf=1, min_samples_split=2, n_estimators=100, oob_score=False;, score=0.845 total time=   0.0s\n",
      "[CV 2/3] END criterion=gini, max_depth=10, min_samples_leaf=1, min_samples_split=2, n_estimators=100, oob_score=False;, score=0.800 total time=   0.0s\n",
      "[CV 3/3] END criterion=gini, max_depth=10, min_samples_leaf=1, min_samples_split=2, n_estimators=100, oob_score=False;, score=0.757 total time=   0.0s\n",
      "[CV 1/3] END criterion=gini, max_depth=10, min_samples_leaf=1, min_samples_split=2, n_estimators=200, oob_score=True;, score=0.817 total time=   0.1s\n",
      "[CV 2/3] END criterion=gini, max_depth=10, min_samples_leaf=1, min_samples_split=2, n_estimators=200, oob_score=True;, score=0.800 total time=   0.1s\n",
      "[CV 3/3] END criterion=gini, max_depth=10, min_samples_leaf=1, min_samples_split=2, n_estimators=200, oob_score=True;, score=0.786 total time=   0.1s\n",
      "[CV 1/3] END criterion=gini, max_depth=10, min_samples_leaf=1, min_samples_split=2, n_estimators=200, oob_score=False;, score=0.859 total time=   0.1s\n",
      "[CV 2/3] END criterion=gini, max_depth=10, min_samples_leaf=1, min_samples_split=2, n_estimators=200, oob_score=False;, score=0.814 total time=   0.1s\n",
      "[CV 3/3] END criterion=gini, max_depth=10, min_samples_leaf=1, min_samples_split=2, n_estimators=200, oob_score=False;, score=0.786 total time=   0.1s\n",
      "[CV 1/3] END criterion=gini, max_depth=10, min_samples_leaf=1, min_samples_split=5, n_estimators=50, oob_score=True;, score=0.887 total time=   0.0s\n",
      "[CV 2/3] END criterion=gini, max_depth=10, min_samples_leaf=1, min_samples_split=5, n_estimators=50, oob_score=True;, score=0.814 total time=   0.0s\n",
      "[CV 3/3] END criterion=gini, max_depth=10, min_samples_leaf=1, min_samples_split=5, n_estimators=50, oob_score=True;, score=0.800 total time=   0.0s\n",
      "[CV 1/3] END criterion=gini, max_depth=10, min_samples_leaf=1, min_samples_split=5, n_estimators=50, oob_score=False;, score=0.845 total time=   0.0s\n",
      "[CV 2/3] END criterion=gini, max_depth=10, min_samples_leaf=1, min_samples_split=5, n_estimators=50, oob_score=False;, score=0.814 total time=   0.0s\n",
      "[CV 3/3] END criterion=gini, max_depth=10, min_samples_leaf=1, min_samples_split=5, n_estimators=50, oob_score=False;, score=0.786 total time=   0.0s\n",
      "[CV 1/3] END criterion=gini, max_depth=10, min_samples_leaf=1, min_samples_split=5, n_estimators=100, oob_score=True;, score=0.859 total time=   0.0s\n",
      "[CV 2/3] END criterion=gini, max_depth=10, min_samples_leaf=1, min_samples_split=5, n_estimators=100, oob_score=True;, score=0.800 total time=   0.0s\n",
      "[CV 3/3] END criterion=gini, max_depth=10, min_samples_leaf=1, min_samples_split=5, n_estimators=100, oob_score=True;, score=0.814 total time=   0.0s\n",
      "[CV 1/3] END criterion=gini, max_depth=10, min_samples_leaf=1, min_samples_split=5, n_estimators=100, oob_score=False;, score=0.859 total time=   0.0s\n",
      "[CV 2/3] END criterion=gini, max_depth=10, min_samples_leaf=1, min_samples_split=5, n_estimators=100, oob_score=False;, score=0.800 total time=   0.0s\n",
      "[CV 3/3] END criterion=gini, max_depth=10, min_samples_leaf=1, min_samples_split=5, n_estimators=100, oob_score=False;, score=0.786 total time=   0.0s\n",
      "[CV 1/3] END criterion=gini, max_depth=10, min_samples_leaf=1, min_samples_split=5, n_estimators=200, oob_score=True;, score=0.873 total time=   0.1s\n",
      "[CV 2/3] END criterion=gini, max_depth=10, min_samples_leaf=1, min_samples_split=5, n_estimators=200, oob_score=True;, score=0.814 total time=   0.1s\n",
      "[CV 3/3] END criterion=gini, max_depth=10, min_samples_leaf=1, min_samples_split=5, n_estimators=200, oob_score=True;, score=0.771 total time=   0.1s\n",
      "[CV 1/3] END criterion=gini, max_depth=10, min_samples_leaf=1, min_samples_split=5, n_estimators=200, oob_score=False;, score=0.845 total time=   0.1s\n",
      "[CV 2/3] END criterion=gini, max_depth=10, min_samples_leaf=1, min_samples_split=5, n_estimators=200, oob_score=False;, score=0.814 total time=   0.1s\n",
      "[CV 3/3] END criterion=gini, max_depth=10, min_samples_leaf=1, min_samples_split=5, n_estimators=200, oob_score=False;, score=0.771 total time=   0.1s\n",
      "[CV 1/3] END criterion=gini, max_depth=10, min_samples_leaf=1, min_samples_split=10, n_estimators=50, oob_score=True;, score=0.831 total time=   0.0s\n",
      "[CV 2/3] END criterion=gini, max_depth=10, min_samples_leaf=1, min_samples_split=10, n_estimators=50, oob_score=True;, score=0.786 total time=   0.0s\n",
      "[CV 3/3] END criterion=gini, max_depth=10, min_samples_leaf=1, min_samples_split=10, n_estimators=50, oob_score=True;, score=0.800 total time=   0.0s\n",
      "[CV 1/3] END criterion=gini, max_depth=10, min_samples_leaf=1, min_samples_split=10, n_estimators=50, oob_score=False;, score=0.873 total time=   0.0s\n",
      "[CV 2/3] END criterion=gini, max_depth=10, min_samples_leaf=1, min_samples_split=10, n_estimators=50, oob_score=False;, score=0.800 total time=   0.0s\n",
      "[CV 3/3] END criterion=gini, max_depth=10, min_samples_leaf=1, min_samples_split=10, n_estimators=50, oob_score=False;, score=0.786 total time=   0.0s\n",
      "[CV 1/3] END criterion=gini, max_depth=10, min_samples_leaf=1, min_samples_split=10, n_estimators=100, oob_score=True;, score=0.859 total time=   0.0s\n",
      "[CV 2/3] END criterion=gini, max_depth=10, min_samples_leaf=1, min_samples_split=10, n_estimators=100, oob_score=True;, score=0.829 total time=   0.0s\n",
      "[CV 3/3] END criterion=gini, max_depth=10, min_samples_leaf=1, min_samples_split=10, n_estimators=100, oob_score=True;, score=0.786 total time=   0.0s\n",
      "[CV 1/3] END criterion=gini, max_depth=10, min_samples_leaf=1, min_samples_split=10, n_estimators=100, oob_score=False;, score=0.845 total time=   0.0s\n",
      "[CV 2/3] END criterion=gini, max_depth=10, min_samples_leaf=1, min_samples_split=10, n_estimators=100, oob_score=False;, score=0.800 total time=   0.0s\n",
      "[CV 3/3] END criterion=gini, max_depth=10, min_samples_leaf=1, min_samples_split=10, n_estimators=100, oob_score=False;, score=0.771 total time=   0.0s\n",
      "[CV 1/3] END criterion=gini, max_depth=10, min_samples_leaf=1, min_samples_split=10, n_estimators=200, oob_score=True;, score=0.873 total time=   0.1s\n",
      "[CV 2/3] END criterion=gini, max_depth=10, min_samples_leaf=1, min_samples_split=10, n_estimators=200, oob_score=True;, score=0.786 total time=   0.1s\n",
      "[CV 3/3] END criterion=gini, max_depth=10, min_samples_leaf=1, min_samples_split=10, n_estimators=200, oob_score=True;, score=0.786 total time=   0.1s\n",
      "[CV 1/3] END criterion=gini, max_depth=10, min_samples_leaf=1, min_samples_split=10, n_estimators=200, oob_score=False;, score=0.873 total time=   0.1s\n",
      "[CV 2/3] END criterion=gini, max_depth=10, min_samples_leaf=1, min_samples_split=10, n_estimators=200, oob_score=False;, score=0.800 total time=   0.1s\n",
      "[CV 3/3] END criterion=gini, max_depth=10, min_samples_leaf=1, min_samples_split=10, n_estimators=200, oob_score=False;, score=0.771 total time=   0.1s\n",
      "[CV 1/3] END criterion=gini, max_depth=10, min_samples_leaf=2, min_samples_split=2, n_estimators=50, oob_score=True;, score=0.845 total time=   0.0s\n",
      "[CV 2/3] END criterion=gini, max_depth=10, min_samples_leaf=2, min_samples_split=2, n_estimators=50, oob_score=True;, score=0.843 total time=   0.0s\n",
      "[CV 3/3] END criterion=gini, max_depth=10, min_samples_leaf=2, min_samples_split=2, n_estimators=50, oob_score=True;, score=0.786 total time=   0.0s\n",
      "[CV 1/3] END criterion=gini, max_depth=10, min_samples_leaf=2, min_samples_split=2, n_estimators=50, oob_score=False;, score=0.859 total time=   0.0s\n",
      "[CV 2/3] END criterion=gini, max_depth=10, min_samples_leaf=2, min_samples_split=2, n_estimators=50, oob_score=False;, score=0.800 total time=   0.0s\n",
      "[CV 3/3] END criterion=gini, max_depth=10, min_samples_leaf=2, min_samples_split=2, n_estimators=50, oob_score=False;, score=0.814 total time=   0.0s\n",
      "[CV 1/3] END criterion=gini, max_depth=10, min_samples_leaf=2, min_samples_split=2, n_estimators=100, oob_score=True;, score=0.873 total time=   0.0s\n",
      "[CV 2/3] END criterion=gini, max_depth=10, min_samples_leaf=2, min_samples_split=2, n_estimators=100, oob_score=True;, score=0.829 total time=   0.0s\n",
      "[CV 3/3] END criterion=gini, max_depth=10, min_samples_leaf=2, min_samples_split=2, n_estimators=100, oob_score=True;, score=0.771 total time=   0.0s\n",
      "[CV 1/3] END criterion=gini, max_depth=10, min_samples_leaf=2, min_samples_split=2, n_estimators=100, oob_score=False;, score=0.845 total time=   0.0s\n",
      "[CV 2/3] END criterion=gini, max_depth=10, min_samples_leaf=2, min_samples_split=2, n_estimators=100, oob_score=False;, score=0.814 total time=   0.0s\n",
      "[CV 3/3] END criterion=gini, max_depth=10, min_samples_leaf=2, min_samples_split=2, n_estimators=100, oob_score=False;, score=0.786 total time=   0.0s\n",
      "[CV 1/3] END criterion=gini, max_depth=10, min_samples_leaf=2, min_samples_split=2, n_estimators=200, oob_score=True;, score=0.845 total time=   0.1s\n",
      "[CV 2/3] END criterion=gini, max_depth=10, min_samples_leaf=2, min_samples_split=2, n_estimators=200, oob_score=True;, score=0.814 total time=   0.1s\n",
      "[CV 3/3] END criterion=gini, max_depth=10, min_samples_leaf=2, min_samples_split=2, n_estimators=200, oob_score=True;, score=0.800 total time=   0.1s\n",
      "[CV 1/3] END criterion=gini, max_depth=10, min_samples_leaf=2, min_samples_split=2, n_estimators=200, oob_score=False;, score=0.859 total time=   0.1s\n",
      "[CV 2/3] END criterion=gini, max_depth=10, min_samples_leaf=2, min_samples_split=2, n_estimators=200, oob_score=False;, score=0.829 total time=   0.1s\n",
      "[CV 3/3] END criterion=gini, max_depth=10, min_samples_leaf=2, min_samples_split=2, n_estimators=200, oob_score=False;, score=0.786 total time=   0.1s\n",
      "[CV 1/3] END criterion=gini, max_depth=10, min_samples_leaf=2, min_samples_split=5, n_estimators=50, oob_score=True;, score=0.859 total time=   0.0s\n",
      "[CV 2/3] END criterion=gini, max_depth=10, min_samples_leaf=2, min_samples_split=5, n_estimators=50, oob_score=True;, score=0.800 total time=   0.0s\n",
      "[CV 3/3] END criterion=gini, max_depth=10, min_samples_leaf=2, min_samples_split=5, n_estimators=50, oob_score=True;, score=0.800 total time=   0.0s\n",
      "[CV 1/3] END criterion=gini, max_depth=10, min_samples_leaf=2, min_samples_split=5, n_estimators=50, oob_score=False;, score=0.831 total time=   0.0s\n",
      "[CV 2/3] END criterion=gini, max_depth=10, min_samples_leaf=2, min_samples_split=5, n_estimators=50, oob_score=False;, score=0.814 total time=   0.0s\n",
      "[CV 3/3] END criterion=gini, max_depth=10, min_samples_leaf=2, min_samples_split=5, n_estimators=50, oob_score=False;, score=0.771 total time=   0.0s\n",
      "[CV 1/3] END criterion=gini, max_depth=10, min_samples_leaf=2, min_samples_split=5, n_estimators=100, oob_score=True;, score=0.845 total time=   0.0s\n",
      "[CV 2/3] END criterion=gini, max_depth=10, min_samples_leaf=2, min_samples_split=5, n_estimators=100, oob_score=True;, score=0.829 total time=   0.0s\n",
      "[CV 3/3] END criterion=gini, max_depth=10, min_samples_leaf=2, min_samples_split=5, n_estimators=100, oob_score=True;, score=0.786 total time=   0.0s\n",
      "[CV 1/3] END criterion=gini, max_depth=10, min_samples_leaf=2, min_samples_split=5, n_estimators=100, oob_score=False;, score=0.859 total time=   0.0s\n",
      "[CV 2/3] END criterion=gini, max_depth=10, min_samples_leaf=2, min_samples_split=5, n_estimators=100, oob_score=False;, score=0.800 total time=   0.0s\n",
      "[CV 3/3] END criterion=gini, max_depth=10, min_samples_leaf=2, min_samples_split=5, n_estimators=100, oob_score=False;, score=0.786 total time=   0.0s\n",
      "[CV 1/3] END criterion=gini, max_depth=10, min_samples_leaf=2, min_samples_split=5, n_estimators=200, oob_score=True;, score=0.859 total time=   0.1s\n",
      "[CV 2/3] END criterion=gini, max_depth=10, min_samples_leaf=2, min_samples_split=5, n_estimators=200, oob_score=True;, score=0.814 total time=   0.1s\n",
      "[CV 3/3] END criterion=gini, max_depth=10, min_samples_leaf=2, min_samples_split=5, n_estimators=200, oob_score=True;, score=0.771 total time=   0.1s\n",
      "[CV 1/3] END criterion=gini, max_depth=10, min_samples_leaf=2, min_samples_split=5, n_estimators=200, oob_score=False;, score=0.859 total time=   0.1s\n",
      "[CV 2/3] END criterion=gini, max_depth=10, min_samples_leaf=2, min_samples_split=5, n_estimators=200, oob_score=False;, score=0.829 total time=   0.1s\n",
      "[CV 3/3] END criterion=gini, max_depth=10, min_samples_leaf=2, min_samples_split=5, n_estimators=200, oob_score=False;, score=0.786 total time=   0.1s\n",
      "[CV 1/3] END criterion=gini, max_depth=10, min_samples_leaf=2, min_samples_split=10, n_estimators=50, oob_score=True;, score=0.873 total time=   0.0s\n",
      "[CV 2/3] END criterion=gini, max_depth=10, min_samples_leaf=2, min_samples_split=10, n_estimators=50, oob_score=True;, score=0.829 total time=   0.0s\n",
      "[CV 3/3] END criterion=gini, max_depth=10, min_samples_leaf=2, min_samples_split=10, n_estimators=50, oob_score=True;, score=0.800 total time=   0.0s\n",
      "[CV 1/3] END criterion=gini, max_depth=10, min_samples_leaf=2, min_samples_split=10, n_estimators=50, oob_score=False;, score=0.845 total time=   0.0s\n",
      "[CV 2/3] END criterion=gini, max_depth=10, min_samples_leaf=2, min_samples_split=10, n_estimators=50, oob_score=False;, score=0.814 total time=   0.0s\n",
      "[CV 3/3] END criterion=gini, max_depth=10, min_samples_leaf=2, min_samples_split=10, n_estimators=50, oob_score=False;, score=0.786 total time=   0.0s\n",
      "[CV 1/3] END criterion=gini, max_depth=10, min_samples_leaf=2, min_samples_split=10, n_estimators=100, oob_score=True;, score=0.859 total time=   0.0s\n",
      "[CV 2/3] END criterion=gini, max_depth=10, min_samples_leaf=2, min_samples_split=10, n_estimators=100, oob_score=True;, score=0.829 total time=   0.0s\n",
      "[CV 3/3] END criterion=gini, max_depth=10, min_samples_leaf=2, min_samples_split=10, n_estimators=100, oob_score=True;, score=0.786 total time=   0.0s\n",
      "[CV 1/3] END criterion=gini, max_depth=10, min_samples_leaf=2, min_samples_split=10, n_estimators=100, oob_score=False;, score=0.873 total time=   0.0s\n",
      "[CV 2/3] END criterion=gini, max_depth=10, min_samples_leaf=2, min_samples_split=10, n_estimators=100, oob_score=False;, score=0.814 total time=   0.0s\n",
      "[CV 3/3] END criterion=gini, max_depth=10, min_samples_leaf=2, min_samples_split=10, n_estimators=100, oob_score=False;, score=0.786 total time=   0.0s\n",
      "[CV 1/3] END criterion=gini, max_depth=10, min_samples_leaf=2, min_samples_split=10, n_estimators=200, oob_score=True;, score=0.873 total time=   0.1s\n",
      "[CV 2/3] END criterion=gini, max_depth=10, min_samples_leaf=2, min_samples_split=10, n_estimators=200, oob_score=True;, score=0.800 total time=   0.1s\n",
      "[CV 3/3] END criterion=gini, max_depth=10, min_samples_leaf=2, min_samples_split=10, n_estimators=200, oob_score=True;, score=0.786 total time=   0.1s\n",
      "[CV 1/3] END criterion=gini, max_depth=10, min_samples_leaf=2, min_samples_split=10, n_estimators=200, oob_score=False;, score=0.873 total time=   0.1s\n",
      "[CV 2/3] END criterion=gini, max_depth=10, min_samples_leaf=2, min_samples_split=10, n_estimators=200, oob_score=False;, score=0.814 total time=   0.1s\n",
      "[CV 3/3] END criterion=gini, max_depth=10, min_samples_leaf=2, min_samples_split=10, n_estimators=200, oob_score=False;, score=0.786 total time=   0.1s\n",
      "[CV 1/3] END criterion=gini, max_depth=10, min_samples_leaf=4, min_samples_split=2, n_estimators=50, oob_score=True;, score=0.859 total time=   0.0s\n",
      "[CV 2/3] END criterion=gini, max_depth=10, min_samples_leaf=4, min_samples_split=2, n_estimators=50, oob_score=True;, score=0.829 total time=   0.0s\n",
      "[CV 3/3] END criterion=gini, max_depth=10, min_samples_leaf=4, min_samples_split=2, n_estimators=50, oob_score=True;, score=0.814 total time=   0.0s\n",
      "[CV 1/3] END criterion=gini, max_depth=10, min_samples_leaf=4, min_samples_split=2, n_estimators=50, oob_score=False;, score=0.873 total time=   0.0s\n",
      "[CV 2/3] END criterion=gini, max_depth=10, min_samples_leaf=4, min_samples_split=2, n_estimators=50, oob_score=False;, score=0.786 total time=   0.0s\n",
      "[CV 3/3] END criterion=gini, max_depth=10, min_samples_leaf=4, min_samples_split=2, n_estimators=50, oob_score=False;, score=0.786 total time=   0.0s\n",
      "[CV 1/3] END criterion=gini, max_depth=10, min_samples_leaf=4, min_samples_split=2, n_estimators=100, oob_score=True;, score=0.887 total time=   0.0s\n",
      "[CV 2/3] END criterion=gini, max_depth=10, min_samples_leaf=4, min_samples_split=2, n_estimators=100, oob_score=True;, score=0.814 total time=   0.0s\n",
      "[CV 3/3] END criterion=gini, max_depth=10, min_samples_leaf=4, min_samples_split=2, n_estimators=100, oob_score=True;, score=0.771 total time=   0.0s\n",
      "[CV 1/3] END criterion=gini, max_depth=10, min_samples_leaf=4, min_samples_split=2, n_estimators=100, oob_score=False;, score=0.887 total time=   0.0s\n",
      "[CV 2/3] END criterion=gini, max_depth=10, min_samples_leaf=4, min_samples_split=2, n_estimators=100, oob_score=False;, score=0.814 total time=   0.0s\n",
      "[CV 3/3] END criterion=gini, max_depth=10, min_samples_leaf=4, min_samples_split=2, n_estimators=100, oob_score=False;, score=0.786 total time=   0.0s\n",
      "[CV 1/3] END criterion=gini, max_depth=10, min_samples_leaf=4, min_samples_split=2, n_estimators=200, oob_score=True;, score=0.873 total time=   0.1s\n",
      "[CV 2/3] END criterion=gini, max_depth=10, min_samples_leaf=4, min_samples_split=2, n_estimators=200, oob_score=True;, score=0.814 total time=   0.1s\n",
      "[CV 3/3] END criterion=gini, max_depth=10, min_samples_leaf=4, min_samples_split=2, n_estimators=200, oob_score=True;, score=0.771 total time=   0.1s\n",
      "[CV 1/3] END criterion=gini, max_depth=10, min_samples_leaf=4, min_samples_split=2, n_estimators=200, oob_score=False;, score=0.873 total time=   0.1s\n",
      "[CV 2/3] END criterion=gini, max_depth=10, min_samples_leaf=4, min_samples_split=2, n_estimators=200, oob_score=False;, score=0.800 total time=   0.1s\n",
      "[CV 3/3] END criterion=gini, max_depth=10, min_samples_leaf=4, min_samples_split=2, n_estimators=200, oob_score=False;, score=0.771 total time=   0.1s\n",
      "[CV 1/3] END criterion=gini, max_depth=10, min_samples_leaf=4, min_samples_split=5, n_estimators=50, oob_score=True;, score=0.873 total time=   0.0s\n",
      "[CV 2/3] END criterion=gini, max_depth=10, min_samples_leaf=4, min_samples_split=5, n_estimators=50, oob_score=True;, score=0.829 total time=   0.0s\n",
      "[CV 3/3] END criterion=gini, max_depth=10, min_samples_leaf=4, min_samples_split=5, n_estimators=50, oob_score=True;, score=0.786 total time=   0.0s\n",
      "[CV 1/3] END criterion=gini, max_depth=10, min_samples_leaf=4, min_samples_split=5, n_estimators=50, oob_score=False;, score=0.859 total time=   0.0s\n",
      "[CV 2/3] END criterion=gini, max_depth=10, min_samples_leaf=4, min_samples_split=5, n_estimators=50, oob_score=False;, score=0.814 total time=   0.0s\n",
      "[CV 3/3] END criterion=gini, max_depth=10, min_samples_leaf=4, min_samples_split=5, n_estimators=50, oob_score=False;, score=0.814 total time=   0.0s\n",
      "[CV 1/3] END criterion=gini, max_depth=10, min_samples_leaf=4, min_samples_split=5, n_estimators=100, oob_score=True;, score=0.873 total time=   0.0s\n",
      "[CV 2/3] END criterion=gini, max_depth=10, min_samples_leaf=4, min_samples_split=5, n_estimators=100, oob_score=True;, score=0.800 total time=   0.0s\n",
      "[CV 3/3] END criterion=gini, max_depth=10, min_samples_leaf=4, min_samples_split=5, n_estimators=100, oob_score=True;, score=0.786 total time=   0.0s\n",
      "[CV 1/3] END criterion=gini, max_depth=10, min_samples_leaf=4, min_samples_split=5, n_estimators=100, oob_score=False;, score=0.887 total time=   0.0s\n",
      "[CV 2/3] END criterion=gini, max_depth=10, min_samples_leaf=4, min_samples_split=5, n_estimators=100, oob_score=False;, score=0.814 total time=   0.0s\n",
      "[CV 3/3] END criterion=gini, max_depth=10, min_samples_leaf=4, min_samples_split=5, n_estimators=100, oob_score=False;, score=0.786 total time=   0.0s\n",
      "[CV 1/3] END criterion=gini, max_depth=10, min_samples_leaf=4, min_samples_split=5, n_estimators=200, oob_score=True;, score=0.873 total time=   0.2s\n",
      "[CV 2/3] END criterion=gini, max_depth=10, min_samples_leaf=4, min_samples_split=5, n_estimators=200, oob_score=True;, score=0.814 total time=   0.1s\n",
      "[CV 3/3] END criterion=gini, max_depth=10, min_samples_leaf=4, min_samples_split=5, n_estimators=200, oob_score=True;, score=0.786 total time=   0.1s\n",
      "[CV 1/3] END criterion=gini, max_depth=10, min_samples_leaf=4, min_samples_split=5, n_estimators=200, oob_score=False;, score=0.873 total time=   0.1s\n",
      "[CV 2/3] END criterion=gini, max_depth=10, min_samples_leaf=4, min_samples_split=5, n_estimators=200, oob_score=False;, score=0.814 total time=   0.1s\n",
      "[CV 3/3] END criterion=gini, max_depth=10, min_samples_leaf=4, min_samples_split=5, n_estimators=200, oob_score=False;, score=0.771 total time=   0.1s\n",
      "[CV 1/3] END criterion=gini, max_depth=10, min_samples_leaf=4, min_samples_split=10, n_estimators=50, oob_score=True;, score=0.873 total time=   0.0s\n",
      "[CV 2/3] END criterion=gini, max_depth=10, min_samples_leaf=4, min_samples_split=10, n_estimators=50, oob_score=True;, score=0.814 total time=   0.0s\n",
      "[CV 3/3] END criterion=gini, max_depth=10, min_samples_leaf=4, min_samples_split=10, n_estimators=50, oob_score=True;, score=0.800 total time=   0.0s\n",
      "[CV 1/3] END criterion=gini, max_depth=10, min_samples_leaf=4, min_samples_split=10, n_estimators=50, oob_score=False;, score=0.859 total time=   0.0s\n",
      "[CV 2/3] END criterion=gini, max_depth=10, min_samples_leaf=4, min_samples_split=10, n_estimators=50, oob_score=False;, score=0.829 total time=   0.0s\n",
      "[CV 3/3] END criterion=gini, max_depth=10, min_samples_leaf=4, min_samples_split=10, n_estimators=50, oob_score=False;, score=0.786 total time=   0.0s\n",
      "[CV 1/3] END criterion=gini, max_depth=10, min_samples_leaf=4, min_samples_split=10, n_estimators=100, oob_score=True;, score=0.873 total time=   0.0s\n",
      "[CV 2/3] END criterion=gini, max_depth=10, min_samples_leaf=4, min_samples_split=10, n_estimators=100, oob_score=True;, score=0.814 total time=   0.0s\n",
      "[CV 3/3] END criterion=gini, max_depth=10, min_samples_leaf=4, min_samples_split=10, n_estimators=100, oob_score=True;, score=0.771 total time=   0.0s\n",
      "[CV 1/3] END criterion=gini, max_depth=10, min_samples_leaf=4, min_samples_split=10, n_estimators=100, oob_score=False;, score=0.873 total time=   0.0s\n",
      "[CV 2/3] END criterion=gini, max_depth=10, min_samples_leaf=4, min_samples_split=10, n_estimators=100, oob_score=False;, score=0.829 total time=   0.0s\n",
      "[CV 3/3] END criterion=gini, max_depth=10, min_samples_leaf=4, min_samples_split=10, n_estimators=100, oob_score=False;, score=0.786 total time=   0.0s\n",
      "[CV 1/3] END criterion=gini, max_depth=10, min_samples_leaf=4, min_samples_split=10, n_estimators=200, oob_score=True;, score=0.873 total time=   0.1s\n",
      "[CV 2/3] END criterion=gini, max_depth=10, min_samples_leaf=4, min_samples_split=10, n_estimators=200, oob_score=True;, score=0.814 total time=   0.1s\n",
      "[CV 3/3] END criterion=gini, max_depth=10, min_samples_leaf=4, min_samples_split=10, n_estimators=200, oob_score=True;, score=0.786 total time=   0.1s\n",
      "[CV 1/3] END criterion=gini, max_depth=10, min_samples_leaf=4, min_samples_split=10, n_estimators=200, oob_score=False;, score=0.873 total time=   0.1s\n",
      "[CV 2/3] END criterion=gini, max_depth=10, min_samples_leaf=4, min_samples_split=10, n_estimators=200, oob_score=False;, score=0.814 total time=   0.1s\n",
      "[CV 3/3] END criterion=gini, max_depth=10, min_samples_leaf=4, min_samples_split=10, n_estimators=200, oob_score=False;, score=0.771 total time=   0.1s\n",
      "[CV 1/3] END criterion=entropy, max_depth=None, min_samples_leaf=1, min_samples_split=2, n_estimators=50, oob_score=True;, score=0.831 total time=   0.0s\n",
      "[CV 2/3] END criterion=entropy, max_depth=None, min_samples_leaf=1, min_samples_split=2, n_estimators=50, oob_score=True;, score=0.729 total time=   0.0s\n",
      "[CV 3/3] END criterion=entropy, max_depth=None, min_samples_leaf=1, min_samples_split=2, n_estimators=50, oob_score=True;, score=0.771 total time=   0.0s\n",
      "[CV 1/3] END criterion=entropy, max_depth=None, min_samples_leaf=1, min_samples_split=2, n_estimators=50, oob_score=False;, score=0.859 total time=   0.0s\n",
      "[CV 2/3] END criterion=entropy, max_depth=None, min_samples_leaf=1, min_samples_split=2, n_estimators=50, oob_score=False;, score=0.786 total time=   0.0s\n",
      "[CV 3/3] END criterion=entropy, max_depth=None, min_samples_leaf=1, min_samples_split=2, n_estimators=50, oob_score=False;, score=0.814 total time=   0.0s\n",
      "[CV 1/3] END criterion=entropy, max_depth=None, min_samples_leaf=1, min_samples_split=2, n_estimators=100, oob_score=True;, score=0.831 total time=   0.0s\n",
      "[CV 2/3] END criterion=entropy, max_depth=None, min_samples_leaf=1, min_samples_split=2, n_estimators=100, oob_score=True;, score=0.829 total time=   0.0s\n",
      "[CV 3/3] END criterion=entropy, max_depth=None, min_samples_leaf=1, min_samples_split=2, n_estimators=100, oob_score=True;, score=0.800 total time=   0.0s\n",
      "[CV 1/3] END criterion=entropy, max_depth=None, min_samples_leaf=1, min_samples_split=2, n_estimators=100, oob_score=False;, score=0.845 total time=   0.0s\n",
      "[CV 2/3] END criterion=entropy, max_depth=None, min_samples_leaf=1, min_samples_split=2, n_estimators=100, oob_score=False;, score=0.829 total time=   0.0s\n",
      "[CV 3/3] END criterion=entropy, max_depth=None, min_samples_leaf=1, min_samples_split=2, n_estimators=100, oob_score=False;, score=0.786 total time=   0.0s\n",
      "[CV 1/3] END criterion=entropy, max_depth=None, min_samples_leaf=1, min_samples_split=2, n_estimators=200, oob_score=True;, score=0.845 total time=   0.1s\n",
      "[CV 2/3] END criterion=entropy, max_depth=None, min_samples_leaf=1, min_samples_split=2, n_estimators=200, oob_score=True;, score=0.829 total time=   0.1s\n",
      "[CV 3/3] END criterion=entropy, max_depth=None, min_samples_leaf=1, min_samples_split=2, n_estimators=200, oob_score=True;, score=0.786 total time=   0.1s\n",
      "[CV 1/3] END criterion=entropy, max_depth=None, min_samples_leaf=1, min_samples_split=2, n_estimators=200, oob_score=False;, score=0.817 total time=   0.1s\n",
      "[CV 2/3] END criterion=entropy, max_depth=None, min_samples_leaf=1, min_samples_split=2, n_estimators=200, oob_score=False;, score=0.829 total time=   0.1s\n",
      "[CV 3/3] END criterion=entropy, max_depth=None, min_samples_leaf=1, min_samples_split=2, n_estimators=200, oob_score=False;, score=0.771 total time=   0.1s\n",
      "[CV 1/3] END criterion=entropy, max_depth=None, min_samples_leaf=1, min_samples_split=5, n_estimators=50, oob_score=True;, score=0.859 total time=   0.0s\n",
      "[CV 2/3] END criterion=entropy, max_depth=None, min_samples_leaf=1, min_samples_split=5, n_estimators=50, oob_score=True;, score=0.786 total time=   0.0s\n",
      "[CV 3/3] END criterion=entropy, max_depth=None, min_samples_leaf=1, min_samples_split=5, n_estimators=50, oob_score=True;, score=0.814 total time=   0.0s\n",
      "[CV 1/3] END criterion=entropy, max_depth=None, min_samples_leaf=1, min_samples_split=5, n_estimators=50, oob_score=False;, score=0.859 total time=   0.0s\n",
      "[CV 2/3] END criterion=entropy, max_depth=None, min_samples_leaf=1, min_samples_split=5, n_estimators=50, oob_score=False;, score=0.829 total time=   0.0s\n",
      "[CV 3/3] END criterion=entropy, max_depth=None, min_samples_leaf=1, min_samples_split=5, n_estimators=50, oob_score=False;, score=0.786 total time=   0.0s\n",
      "[CV 1/3] END criterion=entropy, max_depth=None, min_samples_leaf=1, min_samples_split=5, n_estimators=100, oob_score=True;, score=0.859 total time=   0.0s\n",
      "[CV 2/3] END criterion=entropy, max_depth=None, min_samples_leaf=1, min_samples_split=5, n_estimators=100, oob_score=True;, score=0.800 total time=   0.0s\n",
      "[CV 3/3] END criterion=entropy, max_depth=None, min_samples_leaf=1, min_samples_split=5, n_estimators=100, oob_score=True;, score=0.800 total time=   0.0s\n",
      "[CV 1/3] END criterion=entropy, max_depth=None, min_samples_leaf=1, min_samples_split=5, n_estimators=100, oob_score=False;, score=0.859 total time=   0.0s\n",
      "[CV 2/3] END criterion=entropy, max_depth=None, min_samples_leaf=1, min_samples_split=5, n_estimators=100, oob_score=False;, score=0.829 total time=   0.0s\n",
      "[CV 3/3] END criterion=entropy, max_depth=None, min_samples_leaf=1, min_samples_split=5, n_estimators=100, oob_score=False;, score=0.800 total time=   0.0s\n",
      "[CV 1/3] END criterion=entropy, max_depth=None, min_samples_leaf=1, min_samples_split=5, n_estimators=200, oob_score=True;, score=0.873 total time=   0.1s\n",
      "[CV 2/3] END criterion=entropy, max_depth=None, min_samples_leaf=1, min_samples_split=5, n_estimators=200, oob_score=True;, score=0.843 total time=   0.1s\n",
      "[CV 3/3] END criterion=entropy, max_depth=None, min_samples_leaf=1, min_samples_split=5, n_estimators=200, oob_score=True;, score=0.786 total time=   0.1s\n",
      "[CV 1/3] END criterion=entropy, max_depth=None, min_samples_leaf=1, min_samples_split=5, n_estimators=200, oob_score=False;, score=0.873 total time=   0.1s\n",
      "[CV 2/3] END criterion=entropy, max_depth=None, min_samples_leaf=1, min_samples_split=5, n_estimators=200, oob_score=False;, score=0.786 total time=   0.1s\n",
      "[CV 3/3] END criterion=entropy, max_depth=None, min_samples_leaf=1, min_samples_split=5, n_estimators=200, oob_score=False;, score=0.786 total time=   0.1s\n",
      "[CV 1/3] END criterion=entropy, max_depth=None, min_samples_leaf=1, min_samples_split=10, n_estimators=50, oob_score=True;, score=0.873 total time=   0.0s\n",
      "[CV 2/3] END criterion=entropy, max_depth=None, min_samples_leaf=1, min_samples_split=10, n_estimators=50, oob_score=True;, score=0.771 total time=   0.0s\n",
      "[CV 3/3] END criterion=entropy, max_depth=None, min_samples_leaf=1, min_samples_split=10, n_estimators=50, oob_score=True;, score=0.786 total time=   0.0s\n",
      "[CV 1/3] END criterion=entropy, max_depth=None, min_samples_leaf=1, min_samples_split=10, n_estimators=50, oob_score=False;, score=0.873 total time=   0.0s\n",
      "[CV 2/3] END criterion=entropy, max_depth=None, min_samples_leaf=1, min_samples_split=10, n_estimators=50, oob_score=False;, score=0.800 total time=   0.0s\n",
      "[CV 3/3] END criterion=entropy, max_depth=None, min_samples_leaf=1, min_samples_split=10, n_estimators=50, oob_score=False;, score=0.771 total time=   0.0s\n",
      "[CV 1/3] END criterion=entropy, max_depth=None, min_samples_leaf=1, min_samples_split=10, n_estimators=100, oob_score=True;, score=0.873 total time=   0.0s\n",
      "[CV 2/3] END criterion=entropy, max_depth=None, min_samples_leaf=1, min_samples_split=10, n_estimators=100, oob_score=True;, score=0.800 total time=   0.0s\n",
      "[CV 3/3] END criterion=entropy, max_depth=None, min_samples_leaf=1, min_samples_split=10, n_estimators=100, oob_score=True;, score=0.771 total time=   0.0s\n",
      "[CV 1/3] END criterion=entropy, max_depth=None, min_samples_leaf=1, min_samples_split=10, n_estimators=100, oob_score=False;, score=0.873 total time=   0.0s\n",
      "[CV 2/3] END criterion=entropy, max_depth=None, min_samples_leaf=1, min_samples_split=10, n_estimators=100, oob_score=False;, score=0.829 total time=   0.0s\n",
      "[CV 3/3] END criterion=entropy, max_depth=None, min_samples_leaf=1, min_samples_split=10, n_estimators=100, oob_score=False;, score=0.800 total time=   0.0s\n",
      "[CV 1/3] END criterion=entropy, max_depth=None, min_samples_leaf=1, min_samples_split=10, n_estimators=200, oob_score=True;, score=0.873 total time=   0.1s\n",
      "[CV 2/3] END criterion=entropy, max_depth=None, min_samples_leaf=1, min_samples_split=10, n_estimators=200, oob_score=True;, score=0.800 total time=   0.1s\n",
      "[CV 3/3] END criterion=entropy, max_depth=None, min_samples_leaf=1, min_samples_split=10, n_estimators=200, oob_score=True;, score=0.814 total time=   0.1s\n",
      "[CV 1/3] END criterion=entropy, max_depth=None, min_samples_leaf=1, min_samples_split=10, n_estimators=200, oob_score=False;, score=0.873 total time=   0.1s\n",
      "[CV 2/3] END criterion=entropy, max_depth=None, min_samples_leaf=1, min_samples_split=10, n_estimators=200, oob_score=False;, score=0.800 total time=   0.1s\n",
      "[CV 3/3] END criterion=entropy, max_depth=None, min_samples_leaf=1, min_samples_split=10, n_estimators=200, oob_score=False;, score=0.800 total time=   0.1s\n",
      "[CV 1/3] END criterion=entropy, max_depth=None, min_samples_leaf=2, min_samples_split=2, n_estimators=50, oob_score=True;, score=0.845 total time=   0.0s\n",
      "[CV 2/3] END criterion=entropy, max_depth=None, min_samples_leaf=2, min_samples_split=2, n_estimators=50, oob_score=True;, score=0.814 total time=   0.0s\n",
      "[CV 3/3] END criterion=entropy, max_depth=None, min_samples_leaf=2, min_samples_split=2, n_estimators=50, oob_score=True;, score=0.771 total time=   0.0s\n",
      "[CV 1/3] END criterion=entropy, max_depth=None, min_samples_leaf=2, min_samples_split=2, n_estimators=50, oob_score=False;, score=0.873 total time=   0.0s\n",
      "[CV 2/3] END criterion=entropy, max_depth=None, min_samples_leaf=2, min_samples_split=2, n_estimators=50, oob_score=False;, score=0.829 total time=   0.0s\n",
      "[CV 3/3] END criterion=entropy, max_depth=None, min_samples_leaf=2, min_samples_split=2, n_estimators=50, oob_score=False;, score=0.800 total time=   0.0s\n",
      "[CV 1/3] END criterion=entropy, max_depth=None, min_samples_leaf=2, min_samples_split=2, n_estimators=100, oob_score=True;, score=0.887 total time=   0.0s\n",
      "[CV 2/3] END criterion=entropy, max_depth=None, min_samples_leaf=2, min_samples_split=2, n_estimators=100, oob_score=True;, score=0.829 total time=   0.0s\n",
      "[CV 3/3] END criterion=entropy, max_depth=None, min_samples_leaf=2, min_samples_split=2, n_estimators=100, oob_score=True;, score=0.786 total time=   0.0s\n",
      "[CV 1/3] END criterion=entropy, max_depth=None, min_samples_leaf=2, min_samples_split=2, n_estimators=100, oob_score=False;, score=0.873 total time=   0.0s\n",
      "[CV 2/3] END criterion=entropy, max_depth=None, min_samples_leaf=2, min_samples_split=2, n_estimators=100, oob_score=False;, score=0.829 total time=   0.0s\n",
      "[CV 3/3] END criterion=entropy, max_depth=None, min_samples_leaf=2, min_samples_split=2, n_estimators=100, oob_score=False;, score=0.786 total time=   0.0s\n",
      "[CV 1/3] END criterion=entropy, max_depth=None, min_samples_leaf=2, min_samples_split=2, n_estimators=200, oob_score=True;, score=0.873 total time=   0.1s\n",
      "[CV 2/3] END criterion=entropy, max_depth=None, min_samples_leaf=2, min_samples_split=2, n_estimators=200, oob_score=True;, score=0.829 total time=   0.1s\n",
      "[CV 3/3] END criterion=entropy, max_depth=None, min_samples_leaf=2, min_samples_split=2, n_estimators=200, oob_score=True;, score=0.786 total time=   0.1s\n",
      "[CV 1/3] END criterion=entropy, max_depth=None, min_samples_leaf=2, min_samples_split=2, n_estimators=200, oob_score=False;, score=0.859 total time=   0.1s\n",
      "[CV 2/3] END criterion=entropy, max_depth=None, min_samples_leaf=2, min_samples_split=2, n_estimators=200, oob_score=False;, score=0.800 total time=   0.1s\n",
      "[CV 3/3] END criterion=entropy, max_depth=None, min_samples_leaf=2, min_samples_split=2, n_estimators=200, oob_score=False;, score=0.771 total time=   0.1s\n",
      "[CV 1/3] END criterion=entropy, max_depth=None, min_samples_leaf=2, min_samples_split=5, n_estimators=50, oob_score=True;, score=0.859 total time=   0.0s\n",
      "[CV 2/3] END criterion=entropy, max_depth=None, min_samples_leaf=2, min_samples_split=5, n_estimators=50, oob_score=True;, score=0.829 total time=   0.0s\n",
      "[CV 3/3] END criterion=entropy, max_depth=None, min_samples_leaf=2, min_samples_split=5, n_estimators=50, oob_score=True;, score=0.786 total time=   0.0s\n",
      "[CV 1/3] END criterion=entropy, max_depth=None, min_samples_leaf=2, min_samples_split=5, n_estimators=50, oob_score=False;, score=0.859 total time=   0.0s\n",
      "[CV 2/3] END criterion=entropy, max_depth=None, min_samples_leaf=2, min_samples_split=5, n_estimators=50, oob_score=False;, score=0.814 total time=   0.0s\n",
      "[CV 3/3] END criterion=entropy, max_depth=None, min_samples_leaf=2, min_samples_split=5, n_estimators=50, oob_score=False;, score=0.786 total time=   0.0s\n",
      "[CV 1/3] END criterion=entropy, max_depth=None, min_samples_leaf=2, min_samples_split=5, n_estimators=100, oob_score=True;, score=0.859 total time=   0.0s\n",
      "[CV 2/3] END criterion=entropy, max_depth=None, min_samples_leaf=2, min_samples_split=5, n_estimators=100, oob_score=True;, score=0.800 total time=   0.0s\n",
      "[CV 3/3] END criterion=entropy, max_depth=None, min_samples_leaf=2, min_samples_split=5, n_estimators=100, oob_score=True;, score=0.771 total time=   0.0s\n",
      "[CV 1/3] END criterion=entropy, max_depth=None, min_samples_leaf=2, min_samples_split=5, n_estimators=100, oob_score=False;, score=0.859 total time=   0.0s\n",
      "[CV 2/3] END criterion=entropy, max_depth=None, min_samples_leaf=2, min_samples_split=5, n_estimators=100, oob_score=False;, score=0.800 total time=   0.0s\n",
      "[CV 3/3] END criterion=entropy, max_depth=None, min_samples_leaf=2, min_samples_split=5, n_estimators=100, oob_score=False;, score=0.771 total time=   0.0s\n",
      "[CV 1/3] END criterion=entropy, max_depth=None, min_samples_leaf=2, min_samples_split=5, n_estimators=200, oob_score=True;, score=0.873 total time=   0.1s\n",
      "[CV 2/3] END criterion=entropy, max_depth=None, min_samples_leaf=2, min_samples_split=5, n_estimators=200, oob_score=True;, score=0.800 total time=   0.1s\n",
      "[CV 3/3] END criterion=entropy, max_depth=None, min_samples_leaf=2, min_samples_split=5, n_estimators=200, oob_score=True;, score=0.771 total time=   0.1s\n",
      "[CV 1/3] END criterion=entropy, max_depth=None, min_samples_leaf=2, min_samples_split=5, n_estimators=200, oob_score=False;, score=0.859 total time=   0.1s\n",
      "[CV 2/3] END criterion=entropy, max_depth=None, min_samples_leaf=2, min_samples_split=5, n_estimators=200, oob_score=False;, score=0.829 total time=   0.1s\n",
      "[CV 3/3] END criterion=entropy, max_depth=None, min_samples_leaf=2, min_samples_split=5, n_estimators=200, oob_score=False;, score=0.786 total time=   0.1s\n",
      "[CV 1/3] END criterion=entropy, max_depth=None, min_samples_leaf=2, min_samples_split=10, n_estimators=50, oob_score=True;, score=0.873 total time=   0.0s\n",
      "[CV 2/3] END criterion=entropy, max_depth=None, min_samples_leaf=2, min_samples_split=10, n_estimators=50, oob_score=True;, score=0.786 total time=   0.0s\n",
      "[CV 3/3] END criterion=entropy, max_depth=None, min_samples_leaf=2, min_samples_split=10, n_estimators=50, oob_score=True;, score=0.800 total time=   0.0s\n",
      "[CV 1/3] END criterion=entropy, max_depth=None, min_samples_leaf=2, min_samples_split=10, n_estimators=50, oob_score=False;, score=0.859 total time=   0.0s\n",
      "[CV 2/3] END criterion=entropy, max_depth=None, min_samples_leaf=2, min_samples_split=10, n_estimators=50, oob_score=False;, score=0.786 total time=   0.0s\n",
      "[CV 3/3] END criterion=entropy, max_depth=None, min_samples_leaf=2, min_samples_split=10, n_estimators=50, oob_score=False;, score=0.814 total time=   0.0s\n",
      "[CV 1/3] END criterion=entropy, max_depth=None, min_samples_leaf=2, min_samples_split=10, n_estimators=100, oob_score=True;, score=0.859 total time=   0.0s\n",
      "[CV 2/3] END criterion=entropy, max_depth=None, min_samples_leaf=2, min_samples_split=10, n_estimators=100, oob_score=True;, score=0.800 total time=   0.0s\n",
      "[CV 3/3] END criterion=entropy, max_depth=None, min_samples_leaf=2, min_samples_split=10, n_estimators=100, oob_score=True;, score=0.800 total time=   0.0s\n",
      "[CV 1/3] END criterion=entropy, max_depth=None, min_samples_leaf=2, min_samples_split=10, n_estimators=100, oob_score=False;, score=0.873 total time=   0.0s\n",
      "[CV 2/3] END criterion=entropy, max_depth=None, min_samples_leaf=2, min_samples_split=10, n_estimators=100, oob_score=False;, score=0.814 total time=   0.0s\n",
      "[CV 3/3] END criterion=entropy, max_depth=None, min_samples_leaf=2, min_samples_split=10, n_estimators=100, oob_score=False;, score=0.771 total time=   0.0s\n",
      "[CV 1/3] END criterion=entropy, max_depth=None, min_samples_leaf=2, min_samples_split=10, n_estimators=200, oob_score=True;, score=0.873 total time=   0.1s\n",
      "[CV 2/3] END criterion=entropy, max_depth=None, min_samples_leaf=2, min_samples_split=10, n_estimators=200, oob_score=True;, score=0.814 total time=   0.1s\n",
      "[CV 3/3] END criterion=entropy, max_depth=None, min_samples_leaf=2, min_samples_split=10, n_estimators=200, oob_score=True;, score=0.786 total time=   0.1s\n",
      "[CV 1/3] END criterion=entropy, max_depth=None, min_samples_leaf=2, min_samples_split=10, n_estimators=200, oob_score=False;, score=0.873 total time=   0.1s\n",
      "[CV 2/3] END criterion=entropy, max_depth=None, min_samples_leaf=2, min_samples_split=10, n_estimators=200, oob_score=False;, score=0.814 total time=   0.1s\n",
      "[CV 3/3] END criterion=entropy, max_depth=None, min_samples_leaf=2, min_samples_split=10, n_estimators=200, oob_score=False;, score=0.757 total time=   0.1s\n",
      "[CV 1/3] END criterion=entropy, max_depth=None, min_samples_leaf=4, min_samples_split=2, n_estimators=50, oob_score=True;, score=0.873 total time=   0.0s\n",
      "[CV 2/3] END criterion=entropy, max_depth=None, min_samples_leaf=4, min_samples_split=2, n_estimators=50, oob_score=True;, score=0.757 total time=   0.0s\n",
      "[CV 3/3] END criterion=entropy, max_depth=None, min_samples_leaf=4, min_samples_split=2, n_estimators=50, oob_score=True;, score=0.786 total time=   0.0s\n",
      "[CV 1/3] END criterion=entropy, max_depth=None, min_samples_leaf=4, min_samples_split=2, n_estimators=50, oob_score=False;, score=0.873 total time=   0.0s\n",
      "[CV 2/3] END criterion=entropy, max_depth=None, min_samples_leaf=4, min_samples_split=2, n_estimators=50, oob_score=False;, score=0.814 total time=   0.0s\n",
      "[CV 3/3] END criterion=entropy, max_depth=None, min_samples_leaf=4, min_samples_split=2, n_estimators=50, oob_score=False;, score=0.786 total time=   0.0s\n",
      "[CV 1/3] END criterion=entropy, max_depth=None, min_samples_leaf=4, min_samples_split=2, n_estimators=100, oob_score=True;, score=0.859 total time=   0.0s\n",
      "[CV 2/3] END criterion=entropy, max_depth=None, min_samples_leaf=4, min_samples_split=2, n_estimators=100, oob_score=True;, score=0.786 total time=   0.0s\n",
      "[CV 3/3] END criterion=entropy, max_depth=None, min_samples_leaf=4, min_samples_split=2, n_estimators=100, oob_score=True;, score=0.800 total time=   0.0s\n",
      "[CV 1/3] END criterion=entropy, max_depth=None, min_samples_leaf=4, min_samples_split=2, n_estimators=100, oob_score=False;, score=0.873 total time=   0.0s\n",
      "[CV 2/3] END criterion=entropy, max_depth=None, min_samples_leaf=4, min_samples_split=2, n_estimators=100, oob_score=False;, score=0.829 total time=   0.0s\n",
      "[CV 3/3] END criterion=entropy, max_depth=None, min_samples_leaf=4, min_samples_split=2, n_estimators=100, oob_score=False;, score=0.814 total time=   0.0s\n",
      "[CV 1/3] END criterion=entropy, max_depth=None, min_samples_leaf=4, min_samples_split=2, n_estimators=200, oob_score=True;, score=0.873 total time=   0.1s\n",
      "[CV 2/3] END criterion=entropy, max_depth=None, min_samples_leaf=4, min_samples_split=2, n_estimators=200, oob_score=True;, score=0.814 total time=   0.1s\n",
      "[CV 3/3] END criterion=entropy, max_depth=None, min_samples_leaf=4, min_samples_split=2, n_estimators=200, oob_score=True;, score=0.786 total time=   0.1s\n",
      "[CV 1/3] END criterion=entropy, max_depth=None, min_samples_leaf=4, min_samples_split=2, n_estimators=200, oob_score=False;, score=0.873 total time=   0.1s\n",
      "[CV 2/3] END criterion=entropy, max_depth=None, min_samples_leaf=4, min_samples_split=2, n_estimators=200, oob_score=False;, score=0.829 total time=   0.1s\n",
      "[CV 3/3] END criterion=entropy, max_depth=None, min_samples_leaf=4, min_samples_split=2, n_estimators=200, oob_score=False;, score=0.786 total time=   0.1s\n",
      "[CV 1/3] END criterion=entropy, max_depth=None, min_samples_leaf=4, min_samples_split=5, n_estimators=50, oob_score=True;, score=0.873 total time=   0.0s\n",
      "[CV 2/3] END criterion=entropy, max_depth=None, min_samples_leaf=4, min_samples_split=5, n_estimators=50, oob_score=True;, score=0.814 total time=   0.0s\n",
      "[CV 3/3] END criterion=entropy, max_depth=None, min_samples_leaf=4, min_samples_split=5, n_estimators=50, oob_score=True;, score=0.786 total time=   0.0s\n",
      "[CV 1/3] END criterion=entropy, max_depth=None, min_samples_leaf=4, min_samples_split=5, n_estimators=50, oob_score=False;, score=0.859 total time=   0.0s\n",
      "[CV 2/3] END criterion=entropy, max_depth=None, min_samples_leaf=4, min_samples_split=5, n_estimators=50, oob_score=False;, score=0.814 total time=   0.0s\n",
      "[CV 3/3] END criterion=entropy, max_depth=None, min_samples_leaf=4, min_samples_split=5, n_estimators=50, oob_score=False;, score=0.786 total time=   0.0s\n",
      "[CV 1/3] END criterion=entropy, max_depth=None, min_samples_leaf=4, min_samples_split=5, n_estimators=100, oob_score=True;, score=0.859 total time=   0.0s\n",
      "[CV 2/3] END criterion=entropy, max_depth=None, min_samples_leaf=4, min_samples_split=5, n_estimators=100, oob_score=True;, score=0.786 total time=   0.0s\n",
      "[CV 3/3] END criterion=entropy, max_depth=None, min_samples_leaf=4, min_samples_split=5, n_estimators=100, oob_score=True;, score=0.800 total time=   0.0s\n",
      "[CV 1/3] END criterion=entropy, max_depth=None, min_samples_leaf=4, min_samples_split=5, n_estimators=100, oob_score=False;, score=0.873 total time=   0.0s\n",
      "[CV 2/3] END criterion=entropy, max_depth=None, min_samples_leaf=4, min_samples_split=5, n_estimators=100, oob_score=False;, score=0.814 total time=   0.0s\n",
      "[CV 3/3] END criterion=entropy, max_depth=None, min_samples_leaf=4, min_samples_split=5, n_estimators=100, oob_score=False;, score=0.800 total time=   0.0s\n",
      "[CV 1/3] END criterion=entropy, max_depth=None, min_samples_leaf=4, min_samples_split=5, n_estimators=200, oob_score=True;, score=0.887 total time=   0.1s\n",
      "[CV 2/3] END criterion=entropy, max_depth=None, min_samples_leaf=4, min_samples_split=5, n_estimators=200, oob_score=True;, score=0.814 total time=   0.1s\n",
      "[CV 3/3] END criterion=entropy, max_depth=None, min_samples_leaf=4, min_samples_split=5, n_estimators=200, oob_score=True;, score=0.786 total time=   0.1s\n",
      "[CV 1/3] END criterion=entropy, max_depth=None, min_samples_leaf=4, min_samples_split=5, n_estimators=200, oob_score=False;, score=0.873 total time=   0.1s\n",
      "[CV 2/3] END criterion=entropy, max_depth=None, min_samples_leaf=4, min_samples_split=5, n_estimators=200, oob_score=False;, score=0.800 total time=   0.1s\n",
      "[CV 3/3] END criterion=entropy, max_depth=None, min_samples_leaf=4, min_samples_split=5, n_estimators=200, oob_score=False;, score=0.786 total time=   0.1s\n",
      "[CV 1/3] END criterion=entropy, max_depth=None, min_samples_leaf=4, min_samples_split=10, n_estimators=50, oob_score=True;, score=0.845 total time=   0.0s\n",
      "[CV 2/3] END criterion=entropy, max_depth=None, min_samples_leaf=4, min_samples_split=10, n_estimators=50, oob_score=True;, score=0.814 total time=   0.0s\n",
      "[CV 3/3] END criterion=entropy, max_depth=None, min_samples_leaf=4, min_samples_split=10, n_estimators=50, oob_score=True;, score=0.786 total time=   0.0s\n",
      "[CV 1/3] END criterion=entropy, max_depth=None, min_samples_leaf=4, min_samples_split=10, n_estimators=50, oob_score=False;, score=0.859 total time=   0.0s\n",
      "[CV 2/3] END criterion=entropy, max_depth=None, min_samples_leaf=4, min_samples_split=10, n_estimators=50, oob_score=False;, score=0.814 total time=   0.0s\n",
      "[CV 3/3] END criterion=entropy, max_depth=None, min_samples_leaf=4, min_samples_split=10, n_estimators=50, oob_score=False;, score=0.800 total time=   0.0s\n",
      "[CV 1/3] END criterion=entropy, max_depth=None, min_samples_leaf=4, min_samples_split=10, n_estimators=100, oob_score=True;, score=0.873 total time=   0.0s\n",
      "[CV 2/3] END criterion=entropy, max_depth=None, min_samples_leaf=4, min_samples_split=10, n_estimators=100, oob_score=True;, score=0.800 total time=   0.0s\n",
      "[CV 3/3] END criterion=entropy, max_depth=None, min_samples_leaf=4, min_samples_split=10, n_estimators=100, oob_score=True;, score=0.814 total time=   0.0s\n",
      "[CV 1/3] END criterion=entropy, max_depth=None, min_samples_leaf=4, min_samples_split=10, n_estimators=100, oob_score=False;, score=0.859 total time=   0.0s\n",
      "[CV 2/3] END criterion=entropy, max_depth=None, min_samples_leaf=4, min_samples_split=10, n_estimators=100, oob_score=False;, score=0.843 total time=   0.0s\n",
      "[CV 3/3] END criterion=entropy, max_depth=None, min_samples_leaf=4, min_samples_split=10, n_estimators=100, oob_score=False;, score=0.800 total time=   0.0s\n",
      "[CV 1/3] END criterion=entropy, max_depth=None, min_samples_leaf=4, min_samples_split=10, n_estimators=200, oob_score=True;, score=0.873 total time=   0.1s\n",
      "[CV 2/3] END criterion=entropy, max_depth=None, min_samples_leaf=4, min_samples_split=10, n_estimators=200, oob_score=True;, score=0.814 total time=   0.1s\n",
      "[CV 3/3] END criterion=entropy, max_depth=None, min_samples_leaf=4, min_samples_split=10, n_estimators=200, oob_score=True;, score=0.786 total time=   0.1s\n",
      "[CV 1/3] END criterion=entropy, max_depth=None, min_samples_leaf=4, min_samples_split=10, n_estimators=200, oob_score=False;, score=0.859 total time=   0.1s\n",
      "[CV 2/3] END criterion=entropy, max_depth=None, min_samples_leaf=4, min_samples_split=10, n_estimators=200, oob_score=False;, score=0.800 total time=   0.1s\n",
      "[CV 3/3] END criterion=entropy, max_depth=None, min_samples_leaf=4, min_samples_split=10, n_estimators=200, oob_score=False;, score=0.786 total time=   0.1s\n",
      "[CV 1/3] END criterion=entropy, max_depth=5, min_samples_leaf=1, min_samples_split=2, n_estimators=50, oob_score=True;, score=0.845 total time=   0.0s\n",
      "[CV 2/3] END criterion=entropy, max_depth=5, min_samples_leaf=1, min_samples_split=2, n_estimators=50, oob_score=True;, score=0.800 total time=   0.0s\n",
      "[CV 3/3] END criterion=entropy, max_depth=5, min_samples_leaf=1, min_samples_split=2, n_estimators=50, oob_score=True;, score=0.814 total time=   0.0s\n",
      "[CV 1/3] END criterion=entropy, max_depth=5, min_samples_leaf=1, min_samples_split=2, n_estimators=50, oob_score=False;, score=0.845 total time=   0.0s\n",
      "[CV 2/3] END criterion=entropy, max_depth=5, min_samples_leaf=1, min_samples_split=2, n_estimators=50, oob_score=False;, score=0.814 total time=   0.0s\n",
      "[CV 3/3] END criterion=entropy, max_depth=5, min_samples_leaf=1, min_samples_split=2, n_estimators=50, oob_score=False;, score=0.771 total time=   0.0s\n",
      "[CV 1/3] END criterion=entropy, max_depth=5, min_samples_leaf=1, min_samples_split=2, n_estimators=100, oob_score=True;, score=0.873 total time=   0.0s\n",
      "[CV 2/3] END criterion=entropy, max_depth=5, min_samples_leaf=1, min_samples_split=2, n_estimators=100, oob_score=True;, score=0.800 total time=   0.0s\n",
      "[CV 3/3] END criterion=entropy, max_depth=5, min_samples_leaf=1, min_samples_split=2, n_estimators=100, oob_score=True;, score=0.786 total time=   0.0s\n",
      "[CV 1/3] END criterion=entropy, max_depth=5, min_samples_leaf=1, min_samples_split=2, n_estimators=100, oob_score=False;, score=0.845 total time=   0.0s\n",
      "[CV 2/3] END criterion=entropy, max_depth=5, min_samples_leaf=1, min_samples_split=2, n_estimators=100, oob_score=False;, score=0.814 total time=   0.0s\n",
      "[CV 3/3] END criterion=entropy, max_depth=5, min_samples_leaf=1, min_samples_split=2, n_estimators=100, oob_score=False;, score=0.771 total time=   0.0s\n",
      "[CV 1/3] END criterion=entropy, max_depth=5, min_samples_leaf=1, min_samples_split=2, n_estimators=200, oob_score=True;, score=0.859 total time=   0.1s\n",
      "[CV 2/3] END criterion=entropy, max_depth=5, min_samples_leaf=1, min_samples_split=2, n_estimators=200, oob_score=True;, score=0.814 total time=   0.1s\n",
      "[CV 3/3] END criterion=entropy, max_depth=5, min_samples_leaf=1, min_samples_split=2, n_estimators=200, oob_score=True;, score=0.800 total time=   0.1s\n",
      "[CV 1/3] END criterion=entropy, max_depth=5, min_samples_leaf=1, min_samples_split=2, n_estimators=200, oob_score=False;, score=0.873 total time=   0.1s\n",
      "[CV 2/3] END criterion=entropy, max_depth=5, min_samples_leaf=1, min_samples_split=2, n_estimators=200, oob_score=False;, score=0.829 total time=   0.1s\n",
      "[CV 3/3] END criterion=entropy, max_depth=5, min_samples_leaf=1, min_samples_split=2, n_estimators=200, oob_score=False;, score=0.786 total time=   0.1s\n",
      "[CV 1/3] END criterion=entropy, max_depth=5, min_samples_leaf=1, min_samples_split=5, n_estimators=50, oob_score=True;, score=0.873 total time=   0.0s\n",
      "[CV 2/3] END criterion=entropy, max_depth=5, min_samples_leaf=1, min_samples_split=5, n_estimators=50, oob_score=True;, score=0.786 total time=   0.0s\n",
      "[CV 3/3] END criterion=entropy, max_depth=5, min_samples_leaf=1, min_samples_split=5, n_estimators=50, oob_score=True;, score=0.786 total time=   0.0s\n",
      "[CV 1/3] END criterion=entropy, max_depth=5, min_samples_leaf=1, min_samples_split=5, n_estimators=50, oob_score=False;, score=0.859 total time=   0.0s\n",
      "[CV 2/3] END criterion=entropy, max_depth=5, min_samples_leaf=1, min_samples_split=5, n_estimators=50, oob_score=False;, score=0.814 total time=   0.0s\n",
      "[CV 3/3] END criterion=entropy, max_depth=5, min_samples_leaf=1, min_samples_split=5, n_estimators=50, oob_score=False;, score=0.800 total time=   0.0s\n",
      "[CV 1/3] END criterion=entropy, max_depth=5, min_samples_leaf=1, min_samples_split=5, n_estimators=100, oob_score=True;, score=0.873 total time=   0.0s\n",
      "[CV 2/3] END criterion=entropy, max_depth=5, min_samples_leaf=1, min_samples_split=5, n_estimators=100, oob_score=True;, score=0.814 total time=   0.0s\n",
      "[CV 3/3] END criterion=entropy, max_depth=5, min_samples_leaf=1, min_samples_split=5, n_estimators=100, oob_score=True;, score=0.800 total time=   0.0s\n",
      "[CV 1/3] END criterion=entropy, max_depth=5, min_samples_leaf=1, min_samples_split=5, n_estimators=100, oob_score=False;, score=0.887 total time=   0.0s\n",
      "[CV 2/3] END criterion=entropy, max_depth=5, min_samples_leaf=1, min_samples_split=5, n_estimators=100, oob_score=False;, score=0.800 total time=   0.0s\n",
      "[CV 3/3] END criterion=entropy, max_depth=5, min_samples_leaf=1, min_samples_split=5, n_estimators=100, oob_score=False;, score=0.800 total time=   0.0s\n",
      "[CV 1/3] END criterion=entropy, max_depth=5, min_samples_leaf=1, min_samples_split=5, n_estimators=200, oob_score=True;, score=0.873 total time=   0.1s\n",
      "[CV 2/3] END criterion=entropy, max_depth=5, min_samples_leaf=1, min_samples_split=5, n_estimators=200, oob_score=True;, score=0.800 total time=   0.1s\n",
      "[CV 3/3] END criterion=entropy, max_depth=5, min_samples_leaf=1, min_samples_split=5, n_estimators=200, oob_score=True;, score=0.786 total time=   0.1s\n",
      "[CV 1/3] END criterion=entropy, max_depth=5, min_samples_leaf=1, min_samples_split=5, n_estimators=200, oob_score=False;, score=0.859 total time=   0.1s\n",
      "[CV 2/3] END criterion=entropy, max_depth=5, min_samples_leaf=1, min_samples_split=5, n_estimators=200, oob_score=False;, score=0.814 total time=   0.1s\n",
      "[CV 3/3] END criterion=entropy, max_depth=5, min_samples_leaf=1, min_samples_split=5, n_estimators=200, oob_score=False;, score=0.771 total time=   0.1s\n",
      "[CV 1/3] END criterion=entropy, max_depth=5, min_samples_leaf=1, min_samples_split=10, n_estimators=50, oob_score=True;, score=0.873 total time=   0.0s\n",
      "[CV 2/3] END criterion=entropy, max_depth=5, min_samples_leaf=1, min_samples_split=10, n_estimators=50, oob_score=True;, score=0.786 total time=   0.0s\n",
      "[CV 3/3] END criterion=entropy, max_depth=5, min_samples_leaf=1, min_samples_split=10, n_estimators=50, oob_score=True;, score=0.814 total time=   0.0s\n",
      "[CV 1/3] END criterion=entropy, max_depth=5, min_samples_leaf=1, min_samples_split=10, n_estimators=50, oob_score=False;, score=0.845 total time=   0.0s\n",
      "[CV 2/3] END criterion=entropy, max_depth=5, min_samples_leaf=1, min_samples_split=10, n_estimators=50, oob_score=False;, score=0.786 total time=   0.0s\n",
      "[CV 3/3] END criterion=entropy, max_depth=5, min_samples_leaf=1, min_samples_split=10, n_estimators=50, oob_score=False;, score=0.771 total time=   0.0s\n",
      "[CV 1/3] END criterion=entropy, max_depth=5, min_samples_leaf=1, min_samples_split=10, n_estimators=100, oob_score=True;, score=0.873 total time=   0.0s\n",
      "[CV 2/3] END criterion=entropy, max_depth=5, min_samples_leaf=1, min_samples_split=10, n_estimators=100, oob_score=True;, score=0.800 total time=   0.0s\n",
      "[CV 3/3] END criterion=entropy, max_depth=5, min_samples_leaf=1, min_samples_split=10, n_estimators=100, oob_score=True;, score=0.771 total time=   0.0s\n",
      "[CV 1/3] END criterion=entropy, max_depth=5, min_samples_leaf=1, min_samples_split=10, n_estimators=100, oob_score=False;, score=0.873 total time=   0.0s\n",
      "[CV 2/3] END criterion=entropy, max_depth=5, min_samples_leaf=1, min_samples_split=10, n_estimators=100, oob_score=False;, score=0.800 total time=   0.0s\n",
      "[CV 3/3] END criterion=entropy, max_depth=5, min_samples_leaf=1, min_samples_split=10, n_estimators=100, oob_score=False;, score=0.786 total time=   0.0s\n",
      "[CV 1/3] END criterion=entropy, max_depth=5, min_samples_leaf=1, min_samples_split=10, n_estimators=200, oob_score=True;, score=0.859 total time=   0.1s\n",
      "[CV 2/3] END criterion=entropy, max_depth=5, min_samples_leaf=1, min_samples_split=10, n_estimators=200, oob_score=True;, score=0.814 total time=   0.1s\n",
      "[CV 3/3] END criterion=entropy, max_depth=5, min_samples_leaf=1, min_samples_split=10, n_estimators=200, oob_score=True;, score=0.771 total time=   0.2s\n",
      "[CV 1/3] END criterion=entropy, max_depth=5, min_samples_leaf=1, min_samples_split=10, n_estimators=200, oob_score=False;, score=0.887 total time=   0.1s\n",
      "[CV 2/3] END criterion=entropy, max_depth=5, min_samples_leaf=1, min_samples_split=10, n_estimators=200, oob_score=False;, score=0.800 total time=   0.1s\n",
      "[CV 3/3] END criterion=entropy, max_depth=5, min_samples_leaf=1, min_samples_split=10, n_estimators=200, oob_score=False;, score=0.786 total time=   0.1s\n",
      "[CV 1/3] END criterion=entropy, max_depth=5, min_samples_leaf=2, min_samples_split=2, n_estimators=50, oob_score=True;, score=0.901 total time=   0.0s\n",
      "[CV 2/3] END criterion=entropy, max_depth=5, min_samples_leaf=2, min_samples_split=2, n_estimators=50, oob_score=True;, score=0.843 total time=   0.0s\n",
      "[CV 3/3] END criterion=entropy, max_depth=5, min_samples_leaf=2, min_samples_split=2, n_estimators=50, oob_score=True;, score=0.786 total time=   0.0s\n",
      "[CV 1/3] END criterion=entropy, max_depth=5, min_samples_leaf=2, min_samples_split=2, n_estimators=50, oob_score=False;, score=0.845 total time=   0.0s\n",
      "[CV 2/3] END criterion=entropy, max_depth=5, min_samples_leaf=2, min_samples_split=2, n_estimators=50, oob_score=False;, score=0.800 total time=   0.0s\n",
      "[CV 3/3] END criterion=entropy, max_depth=5, min_samples_leaf=2, min_samples_split=2, n_estimators=50, oob_score=False;, score=0.800 total time=   0.0s\n",
      "[CV 1/3] END criterion=entropy, max_depth=5, min_samples_leaf=2, min_samples_split=2, n_estimators=100, oob_score=True;, score=0.873 total time=   0.1s\n",
      "[CV 2/3] END criterion=entropy, max_depth=5, min_samples_leaf=2, min_samples_split=2, n_estimators=100, oob_score=True;, score=0.814 total time=   0.0s\n",
      "[CV 3/3] END criterion=entropy, max_depth=5, min_samples_leaf=2, min_samples_split=2, n_estimators=100, oob_score=True;, score=0.786 total time=   0.0s\n",
      "[CV 1/3] END criterion=entropy, max_depth=5, min_samples_leaf=2, min_samples_split=2, n_estimators=100, oob_score=False;, score=0.845 total time=   0.0s\n",
      "[CV 2/3] END criterion=entropy, max_depth=5, min_samples_leaf=2, min_samples_split=2, n_estimators=100, oob_score=False;, score=0.786 total time=   0.0s\n",
      "[CV 3/3] END criterion=entropy, max_depth=5, min_samples_leaf=2, min_samples_split=2, n_estimators=100, oob_score=False;, score=0.786 total time=   0.0s\n",
      "[CV 1/3] END criterion=entropy, max_depth=5, min_samples_leaf=2, min_samples_split=2, n_estimators=200, oob_score=True;, score=0.859 total time=   0.2s\n",
      "[CV 2/3] END criterion=entropy, max_depth=5, min_samples_leaf=2, min_samples_split=2, n_estimators=200, oob_score=True;, score=0.814 total time=   0.1s\n",
      "[CV 3/3] END criterion=entropy, max_depth=5, min_samples_leaf=2, min_samples_split=2, n_estimators=200, oob_score=True;, score=0.786 total time=   0.2s\n",
      "[CV 1/3] END criterion=entropy, max_depth=5, min_samples_leaf=2, min_samples_split=2, n_estimators=200, oob_score=False;, score=0.859 total time=   0.1s\n",
      "[CV 2/3] END criterion=entropy, max_depth=5, min_samples_leaf=2, min_samples_split=2, n_estimators=200, oob_score=False;, score=0.814 total time=   0.1s\n",
      "[CV 3/3] END criterion=entropy, max_depth=5, min_samples_leaf=2, min_samples_split=2, n_estimators=200, oob_score=False;, score=0.800 total time=   0.1s\n",
      "[CV 1/3] END criterion=entropy, max_depth=5, min_samples_leaf=2, min_samples_split=5, n_estimators=50, oob_score=True;, score=0.873 total time=   0.0s\n",
      "[CV 2/3] END criterion=entropy, max_depth=5, min_samples_leaf=2, min_samples_split=5, n_estimators=50, oob_score=True;, score=0.814 total time=   0.0s\n",
      "[CV 3/3] END criterion=entropy, max_depth=5, min_samples_leaf=2, min_samples_split=5, n_estimators=50, oob_score=True;, score=0.800 total time=   0.0s\n",
      "[CV 1/3] END criterion=entropy, max_depth=5, min_samples_leaf=2, min_samples_split=5, n_estimators=50, oob_score=False;, score=0.887 total time=   0.0s\n",
      "[CV 2/3] END criterion=entropy, max_depth=5, min_samples_leaf=2, min_samples_split=5, n_estimators=50, oob_score=False;, score=0.800 total time=   0.0s\n",
      "[CV 3/3] END criterion=entropy, max_depth=5, min_samples_leaf=2, min_samples_split=5, n_estimators=50, oob_score=False;, score=0.786 total time=   0.0s\n",
      "[CV 1/3] END criterion=entropy, max_depth=5, min_samples_leaf=2, min_samples_split=5, n_estimators=100, oob_score=True;, score=0.873 total time=   0.0s\n",
      "[CV 2/3] END criterion=entropy, max_depth=5, min_samples_leaf=2, min_samples_split=5, n_estimators=100, oob_score=True;, score=0.800 total time=   0.1s\n",
      "[CV 3/3] END criterion=entropy, max_depth=5, min_samples_leaf=2, min_samples_split=5, n_estimators=100, oob_score=True;, score=0.814 total time=   0.1s\n",
      "[CV 1/3] END criterion=entropy, max_depth=5, min_samples_leaf=2, min_samples_split=5, n_estimators=100, oob_score=False;, score=0.859 total time=   0.0s\n",
      "[CV 2/3] END criterion=entropy, max_depth=5, min_samples_leaf=2, min_samples_split=5, n_estimators=100, oob_score=False;, score=0.800 total time=   0.0s\n",
      "[CV 3/3] END criterion=entropy, max_depth=5, min_samples_leaf=2, min_samples_split=5, n_estimators=100, oob_score=False;, score=0.786 total time=   0.0s\n",
      "[CV 1/3] END criterion=entropy, max_depth=5, min_samples_leaf=2, min_samples_split=5, n_estimators=200, oob_score=True;, score=0.873 total time=   0.2s\n",
      "[CV 2/3] END criterion=entropy, max_depth=5, min_samples_leaf=2, min_samples_split=5, n_estimators=200, oob_score=True;, score=0.814 total time=   0.1s\n",
      "[CV 3/3] END criterion=entropy, max_depth=5, min_samples_leaf=2, min_samples_split=5, n_estimators=200, oob_score=True;, score=0.800 total time=   0.1s\n",
      "[CV 1/3] END criterion=entropy, max_depth=5, min_samples_leaf=2, min_samples_split=5, n_estimators=200, oob_score=False;, score=0.859 total time=   0.1s\n",
      "[CV 2/3] END criterion=entropy, max_depth=5, min_samples_leaf=2, min_samples_split=5, n_estimators=200, oob_score=False;, score=0.814 total time=   0.1s\n",
      "[CV 3/3] END criterion=entropy, max_depth=5, min_samples_leaf=2, min_samples_split=5, n_estimators=200, oob_score=False;, score=0.786 total time=   0.1s\n",
      "[CV 1/3] END criterion=entropy, max_depth=5, min_samples_leaf=2, min_samples_split=10, n_estimators=50, oob_score=True;, score=0.873 total time=   0.0s\n",
      "[CV 2/3] END criterion=entropy, max_depth=5, min_samples_leaf=2, min_samples_split=10, n_estimators=50, oob_score=True;, score=0.786 total time=   0.0s\n",
      "[CV 3/3] END criterion=entropy, max_depth=5, min_samples_leaf=2, min_samples_split=10, n_estimators=50, oob_score=True;, score=0.800 total time=   0.0s\n",
      "[CV 1/3] END criterion=entropy, max_depth=5, min_samples_leaf=2, min_samples_split=10, n_estimators=50, oob_score=False;, score=0.845 total time=   0.0s\n",
      "[CV 2/3] END criterion=entropy, max_depth=5, min_samples_leaf=2, min_samples_split=10, n_estimators=50, oob_score=False;, score=0.800 total time=   0.0s\n",
      "[CV 3/3] END criterion=entropy, max_depth=5, min_samples_leaf=2, min_samples_split=10, n_estimators=50, oob_score=False;, score=0.800 total time=   0.0s\n",
      "[CV 1/3] END criterion=entropy, max_depth=5, min_samples_leaf=2, min_samples_split=10, n_estimators=100, oob_score=True;, score=0.887 total time=   0.0s\n",
      "[CV 2/3] END criterion=entropy, max_depth=5, min_samples_leaf=2, min_samples_split=10, n_estimators=100, oob_score=True;, score=0.786 total time=   0.0s\n",
      "[CV 3/3] END criterion=entropy, max_depth=5, min_samples_leaf=2, min_samples_split=10, n_estimators=100, oob_score=True;, score=0.814 total time=   0.0s\n",
      "[CV 1/3] END criterion=entropy, max_depth=5, min_samples_leaf=2, min_samples_split=10, n_estimators=100, oob_score=False;, score=0.873 total time=   0.0s\n",
      "[CV 2/3] END criterion=entropy, max_depth=5, min_samples_leaf=2, min_samples_split=10, n_estimators=100, oob_score=False;, score=0.814 total time=   0.0s\n",
      "[CV 3/3] END criterion=entropy, max_depth=5, min_samples_leaf=2, min_samples_split=10, n_estimators=100, oob_score=False;, score=0.786 total time=   0.0s\n",
      "[CV 1/3] END criterion=entropy, max_depth=5, min_samples_leaf=2, min_samples_split=10, n_estimators=200, oob_score=True;, score=0.831 total time=   0.1s\n",
      "[CV 2/3] END criterion=entropy, max_depth=5, min_samples_leaf=2, min_samples_split=10, n_estimators=200, oob_score=True;, score=0.800 total time=   0.1s\n",
      "[CV 3/3] END criterion=entropy, max_depth=5, min_samples_leaf=2, min_samples_split=10, n_estimators=200, oob_score=True;, score=0.786 total time=   0.1s\n",
      "[CV 1/3] END criterion=entropy, max_depth=5, min_samples_leaf=2, min_samples_split=10, n_estimators=200, oob_score=False;, score=0.873 total time=   0.1s\n",
      "[CV 2/3] END criterion=entropy, max_depth=5, min_samples_leaf=2, min_samples_split=10, n_estimators=200, oob_score=False;, score=0.829 total time=   0.1s\n",
      "[CV 3/3] END criterion=entropy, max_depth=5, min_samples_leaf=2, min_samples_split=10, n_estimators=200, oob_score=False;, score=0.786 total time=   0.1s\n",
      "[CV 1/3] END criterion=entropy, max_depth=5, min_samples_leaf=4, min_samples_split=2, n_estimators=50, oob_score=True;, score=0.873 total time=   0.0s\n",
      "[CV 2/3] END criterion=entropy, max_depth=5, min_samples_leaf=4, min_samples_split=2, n_estimators=50, oob_score=True;, score=0.800 total time=   0.0s\n",
      "[CV 3/3] END criterion=entropy, max_depth=5, min_samples_leaf=4, min_samples_split=2, n_estimators=50, oob_score=True;, score=0.829 total time=   0.0s\n",
      "[CV 1/3] END criterion=entropy, max_depth=5, min_samples_leaf=4, min_samples_split=2, n_estimators=50, oob_score=False;, score=0.845 total time=   0.0s\n",
      "[CV 2/3] END criterion=entropy, max_depth=5, min_samples_leaf=4, min_samples_split=2, n_estimators=50, oob_score=False;, score=0.829 total time=   0.0s\n",
      "[CV 3/3] END criterion=entropy, max_depth=5, min_samples_leaf=4, min_samples_split=2, n_estimators=50, oob_score=False;, score=0.814 total time=   0.0s\n",
      "[CV 1/3] END criterion=entropy, max_depth=5, min_samples_leaf=4, min_samples_split=2, n_estimators=100, oob_score=True;, score=0.845 total time=   0.0s\n",
      "[CV 2/3] END criterion=entropy, max_depth=5, min_samples_leaf=4, min_samples_split=2, n_estimators=100, oob_score=True;, score=0.829 total time=   0.0s\n",
      "[CV 3/3] END criterion=entropy, max_depth=5, min_samples_leaf=4, min_samples_split=2, n_estimators=100, oob_score=True;, score=0.786 total time=   0.0s\n",
      "[CV 1/3] END criterion=entropy, max_depth=5, min_samples_leaf=4, min_samples_split=2, n_estimators=100, oob_score=False;, score=0.873 total time=   0.0s\n",
      "[CV 2/3] END criterion=entropy, max_depth=5, min_samples_leaf=4, min_samples_split=2, n_estimators=100, oob_score=False;, score=0.814 total time=   0.0s\n",
      "[CV 3/3] END criterion=entropy, max_depth=5, min_samples_leaf=4, min_samples_split=2, n_estimators=100, oob_score=False;, score=0.786 total time=   0.0s\n",
      "[CV 1/3] END criterion=entropy, max_depth=5, min_samples_leaf=4, min_samples_split=2, n_estimators=200, oob_score=True;, score=0.873 total time=   0.1s\n",
      "[CV 2/3] END criterion=entropy, max_depth=5, min_samples_leaf=4, min_samples_split=2, n_estimators=200, oob_score=True;, score=0.800 total time=   0.1s\n",
      "[CV 3/3] END criterion=entropy, max_depth=5, min_samples_leaf=4, min_samples_split=2, n_estimators=200, oob_score=True;, score=0.786 total time=   0.1s\n",
      "[CV 1/3] END criterion=entropy, max_depth=5, min_samples_leaf=4, min_samples_split=2, n_estimators=200, oob_score=False;, score=0.873 total time=   0.1s\n",
      "[CV 2/3] END criterion=entropy, max_depth=5, min_samples_leaf=4, min_samples_split=2, n_estimators=200, oob_score=False;, score=0.814 total time=   0.1s\n",
      "[CV 3/3] END criterion=entropy, max_depth=5, min_samples_leaf=4, min_samples_split=2, n_estimators=200, oob_score=False;, score=0.771 total time=   0.1s\n",
      "[CV 1/3] END criterion=entropy, max_depth=5, min_samples_leaf=4, min_samples_split=5, n_estimators=50, oob_score=True;, score=0.873 total time=   0.0s\n",
      "[CV 2/3] END criterion=entropy, max_depth=5, min_samples_leaf=4, min_samples_split=5, n_estimators=50, oob_score=True;, score=0.786 total time=   0.0s\n",
      "[CV 3/3] END criterion=entropy, max_depth=5, min_samples_leaf=4, min_samples_split=5, n_estimators=50, oob_score=True;, score=0.800 total time=   0.0s\n",
      "[CV 1/3] END criterion=entropy, max_depth=5, min_samples_leaf=4, min_samples_split=5, n_estimators=50, oob_score=False;, score=0.873 total time=   0.0s\n",
      "[CV 2/3] END criterion=entropy, max_depth=5, min_samples_leaf=4, min_samples_split=5, n_estimators=50, oob_score=False;, score=0.757 total time=   0.0s\n",
      "[CV 3/3] END criterion=entropy, max_depth=5, min_samples_leaf=4, min_samples_split=5, n_estimators=50, oob_score=False;, score=0.800 total time=   0.0s\n",
      "[CV 1/3] END criterion=entropy, max_depth=5, min_samples_leaf=4, min_samples_split=5, n_estimators=100, oob_score=True;, score=0.873 total time=   0.0s\n",
      "[CV 2/3] END criterion=entropy, max_depth=5, min_samples_leaf=4, min_samples_split=5, n_estimators=100, oob_score=True;, score=0.786 total time=   0.0s\n",
      "[CV 3/3] END criterion=entropy, max_depth=5, min_samples_leaf=4, min_samples_split=5, n_estimators=100, oob_score=True;, score=0.800 total time=   0.0s\n",
      "[CV 1/3] END criterion=entropy, max_depth=5, min_samples_leaf=4, min_samples_split=5, n_estimators=100, oob_score=False;, score=0.873 total time=   0.0s\n",
      "[CV 2/3] END criterion=entropy, max_depth=5, min_samples_leaf=4, min_samples_split=5, n_estimators=100, oob_score=False;, score=0.814 total time=   0.0s\n",
      "[CV 3/3] END criterion=entropy, max_depth=5, min_samples_leaf=4, min_samples_split=5, n_estimators=100, oob_score=False;, score=0.800 total time=   0.0s\n",
      "[CV 1/3] END criterion=entropy, max_depth=5, min_samples_leaf=4, min_samples_split=5, n_estimators=200, oob_score=True;, score=0.887 total time=   0.1s\n",
      "[CV 2/3] END criterion=entropy, max_depth=5, min_samples_leaf=4, min_samples_split=5, n_estimators=200, oob_score=True;, score=0.786 total time=   0.1s\n",
      "[CV 3/3] END criterion=entropy, max_depth=5, min_samples_leaf=4, min_samples_split=5, n_estimators=200, oob_score=True;, score=0.786 total time=   0.1s\n",
      "[CV 1/3] END criterion=entropy, max_depth=5, min_samples_leaf=4, min_samples_split=5, n_estimators=200, oob_score=False;, score=0.873 total time=   0.1s\n",
      "[CV 2/3] END criterion=entropy, max_depth=5, min_samples_leaf=4, min_samples_split=5, n_estimators=200, oob_score=False;, score=0.829 total time=   0.1s\n",
      "[CV 3/3] END criterion=entropy, max_depth=5, min_samples_leaf=4, min_samples_split=5, n_estimators=200, oob_score=False;, score=0.786 total time=   0.1s\n",
      "[CV 1/3] END criterion=entropy, max_depth=5, min_samples_leaf=4, min_samples_split=10, n_estimators=50, oob_score=True;, score=0.859 total time=   0.0s\n",
      "[CV 2/3] END criterion=entropy, max_depth=5, min_samples_leaf=4, min_samples_split=10, n_estimators=50, oob_score=True;, score=0.800 total time=   0.0s\n",
      "[CV 3/3] END criterion=entropy, max_depth=5, min_samples_leaf=4, min_samples_split=10, n_estimators=50, oob_score=True;, score=0.857 total time=   0.0s\n",
      "[CV 1/3] END criterion=entropy, max_depth=5, min_samples_leaf=4, min_samples_split=10, n_estimators=50, oob_score=False;, score=0.873 total time=   0.0s\n",
      "[CV 2/3] END criterion=entropy, max_depth=5, min_samples_leaf=4, min_samples_split=10, n_estimators=50, oob_score=False;, score=0.814 total time=   0.0s\n",
      "[CV 3/3] END criterion=entropy, max_depth=5, min_samples_leaf=4, min_samples_split=10, n_estimators=50, oob_score=False;, score=0.800 total time=   0.0s\n",
      "[CV 1/3] END criterion=entropy, max_depth=5, min_samples_leaf=4, min_samples_split=10, n_estimators=100, oob_score=True;, score=0.887 total time=   0.0s\n",
      "[CV 2/3] END criterion=entropy, max_depth=5, min_samples_leaf=4, min_samples_split=10, n_estimators=100, oob_score=True;, score=0.800 total time=   0.0s\n",
      "[CV 3/3] END criterion=entropy, max_depth=5, min_samples_leaf=4, min_samples_split=10, n_estimators=100, oob_score=True;, score=0.800 total time=   0.0s\n",
      "[CV 1/3] END criterion=entropy, max_depth=5, min_samples_leaf=4, min_samples_split=10, n_estimators=100, oob_score=False;, score=0.873 total time=   0.0s\n",
      "[CV 2/3] END criterion=entropy, max_depth=5, min_samples_leaf=4, min_samples_split=10, n_estimators=100, oob_score=False;, score=0.800 total time=   0.0s\n",
      "[CV 3/3] END criterion=entropy, max_depth=5, min_samples_leaf=4, min_samples_split=10, n_estimators=100, oob_score=False;, score=0.800 total time=   0.0s\n",
      "[CV 1/3] END criterion=entropy, max_depth=5, min_samples_leaf=4, min_samples_split=10, n_estimators=200, oob_score=True;, score=0.873 total time=   0.1s\n",
      "[CV 2/3] END criterion=entropy, max_depth=5, min_samples_leaf=4, min_samples_split=10, n_estimators=200, oob_score=True;, score=0.786 total time=   0.1s\n",
      "[CV 3/3] END criterion=entropy, max_depth=5, min_samples_leaf=4, min_samples_split=10, n_estimators=200, oob_score=True;, score=0.786 total time=   0.1s\n",
      "[CV 1/3] END criterion=entropy, max_depth=5, min_samples_leaf=4, min_samples_split=10, n_estimators=200, oob_score=False;, score=0.873 total time=   0.1s\n",
      "[CV 2/3] END criterion=entropy, max_depth=5, min_samples_leaf=4, min_samples_split=10, n_estimators=200, oob_score=False;, score=0.814 total time=   0.1s\n",
      "[CV 3/3] END criterion=entropy, max_depth=5, min_samples_leaf=4, min_samples_split=10, n_estimators=200, oob_score=False;, score=0.786 total time=   0.1s\n",
      "[CV 1/3] END criterion=entropy, max_depth=10, min_samples_leaf=1, min_samples_split=2, n_estimators=50, oob_score=True;, score=0.803 total time=   0.0s\n",
      "[CV 2/3] END criterion=entropy, max_depth=10, min_samples_leaf=1, min_samples_split=2, n_estimators=50, oob_score=True;, score=0.786 total time=   0.0s\n",
      "[CV 3/3] END criterion=entropy, max_depth=10, min_samples_leaf=1, min_samples_split=2, n_estimators=50, oob_score=True;, score=0.829 total time=   0.0s\n",
      "[CV 1/3] END criterion=entropy, max_depth=10, min_samples_leaf=1, min_samples_split=2, n_estimators=50, oob_score=False;, score=0.831 total time=   0.0s\n",
      "[CV 2/3] END criterion=entropy, max_depth=10, min_samples_leaf=1, min_samples_split=2, n_estimators=50, oob_score=False;, score=0.757 total time=   0.0s\n",
      "[CV 3/3] END criterion=entropy, max_depth=10, min_samples_leaf=1, min_samples_split=2, n_estimators=50, oob_score=False;, score=0.786 total time=   0.0s\n",
      "[CV 1/3] END criterion=entropy, max_depth=10, min_samples_leaf=1, min_samples_split=2, n_estimators=100, oob_score=True;, score=0.859 total time=   0.0s\n",
      "[CV 2/3] END criterion=entropy, max_depth=10, min_samples_leaf=1, min_samples_split=2, n_estimators=100, oob_score=True;, score=0.814 total time=   0.0s\n",
      "[CV 3/3] END criterion=entropy, max_depth=10, min_samples_leaf=1, min_samples_split=2, n_estimators=100, oob_score=True;, score=0.786 total time=   0.0s\n",
      "[CV 1/3] END criterion=entropy, max_depth=10, min_samples_leaf=1, min_samples_split=2, n_estimators=100, oob_score=False;, score=0.859 total time=   0.0s\n",
      "[CV 2/3] END criterion=entropy, max_depth=10, min_samples_leaf=1, min_samples_split=2, n_estimators=100, oob_score=False;, score=0.814 total time=   0.0s\n",
      "[CV 3/3] END criterion=entropy, max_depth=10, min_samples_leaf=1, min_samples_split=2, n_estimators=100, oob_score=False;, score=0.786 total time=   0.0s\n",
      "[CV 1/3] END criterion=entropy, max_depth=10, min_samples_leaf=1, min_samples_split=2, n_estimators=200, oob_score=True;, score=0.873 total time=   0.1s\n",
      "[CV 2/3] END criterion=entropy, max_depth=10, min_samples_leaf=1, min_samples_split=2, n_estimators=200, oob_score=True;, score=0.814 total time=   0.1s\n",
      "[CV 3/3] END criterion=entropy, max_depth=10, min_samples_leaf=1, min_samples_split=2, n_estimators=200, oob_score=True;, score=0.771 total time=   0.1s\n",
      "[CV 1/3] END criterion=entropy, max_depth=10, min_samples_leaf=1, min_samples_split=2, n_estimators=200, oob_score=False;, score=0.873 total time=   0.1s\n",
      "[CV 2/3] END criterion=entropy, max_depth=10, min_samples_leaf=1, min_samples_split=2, n_estimators=200, oob_score=False;, score=0.829 total time=   0.1s\n",
      "[CV 3/3] END criterion=entropy, max_depth=10, min_samples_leaf=1, min_samples_split=2, n_estimators=200, oob_score=False;, score=0.786 total time=   0.1s\n",
      "[CV 1/3] END criterion=entropy, max_depth=10, min_samples_leaf=1, min_samples_split=5, n_estimators=50, oob_score=True;, score=0.873 total time=   0.0s\n",
      "[CV 2/3] END criterion=entropy, max_depth=10, min_samples_leaf=1, min_samples_split=5, n_estimators=50, oob_score=True;, score=0.814 total time=   0.0s\n",
      "[CV 3/3] END criterion=entropy, max_depth=10, min_samples_leaf=1, min_samples_split=5, n_estimators=50, oob_score=True;, score=0.800 total time=   0.0s\n",
      "[CV 1/3] END criterion=entropy, max_depth=10, min_samples_leaf=1, min_samples_split=5, n_estimators=50, oob_score=False;, score=0.845 total time=   0.0s\n",
      "[CV 2/3] END criterion=entropy, max_depth=10, min_samples_leaf=1, min_samples_split=5, n_estimators=50, oob_score=False;, score=0.829 total time=   0.0s\n",
      "[CV 3/3] END criterion=entropy, max_depth=10, min_samples_leaf=1, min_samples_split=5, n_estimators=50, oob_score=False;, score=0.771 total time=   0.0s\n",
      "[CV 1/3] END criterion=entropy, max_depth=10, min_samples_leaf=1, min_samples_split=5, n_estimators=100, oob_score=True;, score=0.859 total time=   0.0s\n",
      "[CV 2/3] END criterion=entropy, max_depth=10, min_samples_leaf=1, min_samples_split=5, n_estimators=100, oob_score=True;, score=0.814 total time=   0.0s\n",
      "[CV 3/3] END criterion=entropy, max_depth=10, min_samples_leaf=1, min_samples_split=5, n_estimators=100, oob_score=True;, score=0.786 total time=   0.0s\n",
      "[CV 1/3] END criterion=entropy, max_depth=10, min_samples_leaf=1, min_samples_split=5, n_estimators=100, oob_score=False;, score=0.845 total time=   0.0s\n",
      "[CV 2/3] END criterion=entropy, max_depth=10, min_samples_leaf=1, min_samples_split=5, n_estimators=100, oob_score=False;, score=0.814 total time=   0.0s\n",
      "[CV 3/3] END criterion=entropy, max_depth=10, min_samples_leaf=1, min_samples_split=5, n_estimators=100, oob_score=False;, score=0.786 total time=   0.0s\n",
      "[CV 1/3] END criterion=entropy, max_depth=10, min_samples_leaf=1, min_samples_split=5, n_estimators=200, oob_score=True;, score=0.859 total time=   0.1s\n",
      "[CV 2/3] END criterion=entropy, max_depth=10, min_samples_leaf=1, min_samples_split=5, n_estimators=200, oob_score=True;, score=0.814 total time=   0.1s\n",
      "[CV 3/3] END criterion=entropy, max_depth=10, min_samples_leaf=1, min_samples_split=5, n_estimators=200, oob_score=True;, score=0.771 total time=   0.1s\n",
      "[CV 1/3] END criterion=entropy, max_depth=10, min_samples_leaf=1, min_samples_split=5, n_estimators=200, oob_score=False;, score=0.873 total time=   0.1s\n",
      "[CV 2/3] END criterion=entropy, max_depth=10, min_samples_leaf=1, min_samples_split=5, n_estimators=200, oob_score=False;, score=0.800 total time=   0.1s\n",
      "[CV 3/3] END criterion=entropy, max_depth=10, min_samples_leaf=1, min_samples_split=5, n_estimators=200, oob_score=False;, score=0.786 total time=   0.1s\n",
      "[CV 1/3] END criterion=entropy, max_depth=10, min_samples_leaf=1, min_samples_split=10, n_estimators=50, oob_score=True;, score=0.887 total time=   0.0s\n",
      "[CV 2/3] END criterion=entropy, max_depth=10, min_samples_leaf=1, min_samples_split=10, n_estimators=50, oob_score=True;, score=0.800 total time=   0.0s\n",
      "[CV 3/3] END criterion=entropy, max_depth=10, min_samples_leaf=1, min_samples_split=10, n_estimators=50, oob_score=True;, score=0.786 total time=   0.0s\n",
      "[CV 1/3] END criterion=entropy, max_depth=10, min_samples_leaf=1, min_samples_split=10, n_estimators=50, oob_score=False;, score=0.873 total time=   0.0s\n",
      "[CV 2/3] END criterion=entropy, max_depth=10, min_samples_leaf=1, min_samples_split=10, n_estimators=50, oob_score=False;, score=0.829 total time=   0.0s\n",
      "[CV 3/3] END criterion=entropy, max_depth=10, min_samples_leaf=1, min_samples_split=10, n_estimators=50, oob_score=False;, score=0.800 total time=   0.0s\n",
      "[CV 1/3] END criterion=entropy, max_depth=10, min_samples_leaf=1, min_samples_split=10, n_estimators=100, oob_score=True;, score=0.845 total time=   0.0s\n",
      "[CV 2/3] END criterion=entropy, max_depth=10, min_samples_leaf=1, min_samples_split=10, n_estimators=100, oob_score=True;, score=0.800 total time=   0.0s\n",
      "[CV 3/3] END criterion=entropy, max_depth=10, min_samples_leaf=1, min_samples_split=10, n_estimators=100, oob_score=True;, score=0.800 total time=   0.0s\n",
      "[CV 1/3] END criterion=entropy, max_depth=10, min_samples_leaf=1, min_samples_split=10, n_estimators=100, oob_score=False;, score=0.887 total time=   0.0s\n",
      "[CV 2/3] END criterion=entropy, max_depth=10, min_samples_leaf=1, min_samples_split=10, n_estimators=100, oob_score=False;, score=0.814 total time=   0.0s\n",
      "[CV 3/3] END criterion=entropy, max_depth=10, min_samples_leaf=1, min_samples_split=10, n_estimators=100, oob_score=False;, score=0.800 total time=   0.0s\n",
      "[CV 1/3] END criterion=entropy, max_depth=10, min_samples_leaf=1, min_samples_split=10, n_estimators=200, oob_score=True;, score=0.873 total time=   0.1s\n",
      "[CV 2/3] END criterion=entropy, max_depth=10, min_samples_leaf=1, min_samples_split=10, n_estimators=200, oob_score=True;, score=0.800 total time=   0.1s\n",
      "[CV 3/3] END criterion=entropy, max_depth=10, min_samples_leaf=1, min_samples_split=10, n_estimators=200, oob_score=True;, score=0.786 total time=   0.1s\n",
      "[CV 1/3] END criterion=entropy, max_depth=10, min_samples_leaf=1, min_samples_split=10, n_estimators=200, oob_score=False;, score=0.859 total time=   0.1s\n",
      "[CV 2/3] END criterion=entropy, max_depth=10, min_samples_leaf=1, min_samples_split=10, n_estimators=200, oob_score=False;, score=0.814 total time=   0.1s\n",
      "[CV 3/3] END criterion=entropy, max_depth=10, min_samples_leaf=1, min_samples_split=10, n_estimators=200, oob_score=False;, score=0.771 total time=   0.1s\n",
      "[CV 1/3] END criterion=entropy, max_depth=10, min_samples_leaf=2, min_samples_split=2, n_estimators=50, oob_score=True;, score=0.859 total time=   0.0s\n",
      "[CV 2/3] END criterion=entropy, max_depth=10, min_samples_leaf=2, min_samples_split=2, n_estimators=50, oob_score=True;, score=0.800 total time=   0.0s\n",
      "[CV 3/3] END criterion=entropy, max_depth=10, min_samples_leaf=2, min_samples_split=2, n_estimators=50, oob_score=True;, score=0.786 total time=   0.0s\n",
      "[CV 1/3] END criterion=entropy, max_depth=10, min_samples_leaf=2, min_samples_split=2, n_estimators=50, oob_score=False;, score=0.845 total time=   0.0s\n",
      "[CV 2/3] END criterion=entropy, max_depth=10, min_samples_leaf=2, min_samples_split=2, n_estimators=50, oob_score=False;, score=0.800 total time=   0.0s\n",
      "[CV 3/3] END criterion=entropy, max_depth=10, min_samples_leaf=2, min_samples_split=2, n_estimators=50, oob_score=False;, score=0.771 total time=   0.0s\n",
      "[CV 1/3] END criterion=entropy, max_depth=10, min_samples_leaf=2, min_samples_split=2, n_estimators=100, oob_score=True;, score=0.873 total time=   0.0s\n",
      "[CV 2/3] END criterion=entropy, max_depth=10, min_samples_leaf=2, min_samples_split=2, n_estimators=100, oob_score=True;, score=0.814 total time=   0.0s\n",
      "[CV 3/3] END criterion=entropy, max_depth=10, min_samples_leaf=2, min_samples_split=2, n_estimators=100, oob_score=True;, score=0.786 total time=   0.0s\n",
      "[CV 1/3] END criterion=entropy, max_depth=10, min_samples_leaf=2, min_samples_split=2, n_estimators=100, oob_score=False;, score=0.803 total time=   0.0s\n",
      "[CV 2/3] END criterion=entropy, max_depth=10, min_samples_leaf=2, min_samples_split=2, n_estimators=100, oob_score=False;, score=0.814 total time=   0.0s\n",
      "[CV 3/3] END criterion=entropy, max_depth=10, min_samples_leaf=2, min_samples_split=2, n_estimators=100, oob_score=False;, score=0.771 total time=   0.0s\n",
      "[CV 1/3] END criterion=entropy, max_depth=10, min_samples_leaf=2, min_samples_split=2, n_estimators=200, oob_score=True;, score=0.859 total time=   0.1s\n",
      "[CV 2/3] END criterion=entropy, max_depth=10, min_samples_leaf=2, min_samples_split=2, n_estimators=200, oob_score=True;, score=0.829 total time=   0.1s\n",
      "[CV 3/3] END criterion=entropy, max_depth=10, min_samples_leaf=2, min_samples_split=2, n_estimators=200, oob_score=True;, score=0.771 total time=   0.1s\n",
      "[CV 1/3] END criterion=entropy, max_depth=10, min_samples_leaf=2, min_samples_split=2, n_estimators=200, oob_score=False;, score=0.873 total time=   0.1s\n",
      "[CV 2/3] END criterion=entropy, max_depth=10, min_samples_leaf=2, min_samples_split=2, n_estimators=200, oob_score=False;, score=0.814 total time=   0.1s\n",
      "[CV 3/3] END criterion=entropy, max_depth=10, min_samples_leaf=2, min_samples_split=2, n_estimators=200, oob_score=False;, score=0.786 total time=   0.1s\n",
      "[CV 1/3] END criterion=entropy, max_depth=10, min_samples_leaf=2, min_samples_split=5, n_estimators=50, oob_score=True;, score=0.859 total time=   0.0s\n",
      "[CV 2/3] END criterion=entropy, max_depth=10, min_samples_leaf=2, min_samples_split=5, n_estimators=50, oob_score=True;, score=0.800 total time=   0.0s\n",
      "[CV 3/3] END criterion=entropy, max_depth=10, min_samples_leaf=2, min_samples_split=5, n_estimators=50, oob_score=True;, score=0.786 total time=   0.0s\n",
      "[CV 1/3] END criterion=entropy, max_depth=10, min_samples_leaf=2, min_samples_split=5, n_estimators=50, oob_score=False;, score=0.859 total time=   0.0s\n",
      "[CV 2/3] END criterion=entropy, max_depth=10, min_samples_leaf=2, min_samples_split=5, n_estimators=50, oob_score=False;, score=0.786 total time=   0.0s\n",
      "[CV 3/3] END criterion=entropy, max_depth=10, min_samples_leaf=2, min_samples_split=5, n_estimators=50, oob_score=False;, score=0.800 total time=   0.0s\n",
      "[CV 1/3] END criterion=entropy, max_depth=10, min_samples_leaf=2, min_samples_split=5, n_estimators=100, oob_score=True;, score=0.859 total time=   0.0s\n",
      "[CV 2/3] END criterion=entropy, max_depth=10, min_samples_leaf=2, min_samples_split=5, n_estimators=100, oob_score=True;, score=0.814 total time=   0.0s\n",
      "[CV 3/3] END criterion=entropy, max_depth=10, min_samples_leaf=2, min_samples_split=5, n_estimators=100, oob_score=True;, score=0.786 total time=   0.0s\n",
      "[CV 1/3] END criterion=entropy, max_depth=10, min_samples_leaf=2, min_samples_split=5, n_estimators=100, oob_score=False;, score=0.873 total time=   0.0s\n",
      "[CV 2/3] END criterion=entropy, max_depth=10, min_samples_leaf=2, min_samples_split=5, n_estimators=100, oob_score=False;, score=0.800 total time=   0.0s\n",
      "[CV 3/3] END criterion=entropy, max_depth=10, min_samples_leaf=2, min_samples_split=5, n_estimators=100, oob_score=False;, score=0.786 total time=   0.0s\n",
      "[CV 1/3] END criterion=entropy, max_depth=10, min_samples_leaf=2, min_samples_split=5, n_estimators=200, oob_score=True;, score=0.859 total time=   0.1s\n",
      "[CV 2/3] END criterion=entropy, max_depth=10, min_samples_leaf=2, min_samples_split=5, n_estimators=200, oob_score=True;, score=0.843 total time=   0.1s\n",
      "[CV 3/3] END criterion=entropy, max_depth=10, min_samples_leaf=2, min_samples_split=5, n_estimators=200, oob_score=True;, score=0.771 total time=   0.1s\n",
      "[CV 1/3] END criterion=entropy, max_depth=10, min_samples_leaf=2, min_samples_split=5, n_estimators=200, oob_score=False;, score=0.873 total time=   0.1s\n",
      "[CV 2/3] END criterion=entropy, max_depth=10, min_samples_leaf=2, min_samples_split=5, n_estimators=200, oob_score=False;, score=0.814 total time=   0.1s\n",
      "[CV 3/3] END criterion=entropy, max_depth=10, min_samples_leaf=2, min_samples_split=5, n_estimators=200, oob_score=False;, score=0.786 total time=   0.1s\n",
      "[CV 1/3] END criterion=entropy, max_depth=10, min_samples_leaf=2, min_samples_split=10, n_estimators=50, oob_score=True;, score=0.859 total time=   0.0s\n",
      "[CV 2/3] END criterion=entropy, max_depth=10, min_samples_leaf=2, min_samples_split=10, n_estimators=50, oob_score=True;, score=0.829 total time=   0.0s\n",
      "[CV 3/3] END criterion=entropy, max_depth=10, min_samples_leaf=2, min_samples_split=10, n_estimators=50, oob_score=True;, score=0.771 total time=   0.0s\n",
      "[CV 1/3] END criterion=entropy, max_depth=10, min_samples_leaf=2, min_samples_split=10, n_estimators=50, oob_score=False;, score=0.845 total time=   0.0s\n",
      "[CV 2/3] END criterion=entropy, max_depth=10, min_samples_leaf=2, min_samples_split=10, n_estimators=50, oob_score=False;, score=0.800 total time=   0.0s\n",
      "[CV 3/3] END criterion=entropy, max_depth=10, min_samples_leaf=2, min_samples_split=10, n_estimators=50, oob_score=False;, score=0.814 total time=   0.0s\n",
      "[CV 1/3] END criterion=entropy, max_depth=10, min_samples_leaf=2, min_samples_split=10, n_estimators=100, oob_score=True;, score=0.859 total time=   0.0s\n",
      "[CV 2/3] END criterion=entropy, max_depth=10, min_samples_leaf=2, min_samples_split=10, n_estimators=100, oob_score=True;, score=0.843 total time=   0.0s\n",
      "[CV 3/3] END criterion=entropy, max_depth=10, min_samples_leaf=2, min_samples_split=10, n_estimators=100, oob_score=True;, score=0.786 total time=   0.0s\n",
      "[CV 1/3] END criterion=entropy, max_depth=10, min_samples_leaf=2, min_samples_split=10, n_estimators=100, oob_score=False;, score=0.873 total time=   0.0s\n",
      "[CV 2/3] END criterion=entropy, max_depth=10, min_samples_leaf=2, min_samples_split=10, n_estimators=100, oob_score=False;, score=0.800 total time=   0.0s\n",
      "[CV 3/3] END criterion=entropy, max_depth=10, min_samples_leaf=2, min_samples_split=10, n_estimators=100, oob_score=False;, score=0.800 total time=   0.0s\n",
      "[CV 1/3] END criterion=entropy, max_depth=10, min_samples_leaf=2, min_samples_split=10, n_estimators=200, oob_score=True;, score=0.859 total time=   0.1s\n",
      "[CV 2/3] END criterion=entropy, max_depth=10, min_samples_leaf=2, min_samples_split=10, n_estimators=200, oob_score=True;, score=0.814 total time=   0.1s\n",
      "[CV 3/3] END criterion=entropy, max_depth=10, min_samples_leaf=2, min_samples_split=10, n_estimators=200, oob_score=True;, score=0.800 total time=   0.1s\n",
      "[CV 1/3] END criterion=entropy, max_depth=10, min_samples_leaf=2, min_samples_split=10, n_estimators=200, oob_score=False;, score=0.859 total time=   0.1s\n",
      "[CV 2/3] END criterion=entropy, max_depth=10, min_samples_leaf=2, min_samples_split=10, n_estimators=200, oob_score=False;, score=0.814 total time=   0.1s\n",
      "[CV 3/3] END criterion=entropy, max_depth=10, min_samples_leaf=2, min_samples_split=10, n_estimators=200, oob_score=False;, score=0.814 total time=   0.1s\n",
      "[CV 1/3] END criterion=entropy, max_depth=10, min_samples_leaf=4, min_samples_split=2, n_estimators=50, oob_score=True;, score=0.859 total time=   0.0s\n",
      "[CV 2/3] END criterion=entropy, max_depth=10, min_samples_leaf=4, min_samples_split=2, n_estimators=50, oob_score=True;, score=0.814 total time=   0.0s\n",
      "[CV 3/3] END criterion=entropy, max_depth=10, min_samples_leaf=4, min_samples_split=2, n_estimators=50, oob_score=True;, score=0.814 total time=   0.0s\n",
      "[CV 1/3] END criterion=entropy, max_depth=10, min_samples_leaf=4, min_samples_split=2, n_estimators=50, oob_score=False;, score=0.845 total time=   0.0s\n",
      "[CV 2/3] END criterion=entropy, max_depth=10, min_samples_leaf=4, min_samples_split=2, n_estimators=50, oob_score=False;, score=0.771 total time=   0.0s\n",
      "[CV 3/3] END criterion=entropy, max_depth=10, min_samples_leaf=4, min_samples_split=2, n_estimators=50, oob_score=False;, score=0.786 total time=   0.0s\n",
      "[CV 1/3] END criterion=entropy, max_depth=10, min_samples_leaf=4, min_samples_split=2, n_estimators=100, oob_score=True;, score=0.873 total time=   0.0s\n",
      "[CV 2/3] END criterion=entropy, max_depth=10, min_samples_leaf=4, min_samples_split=2, n_estimators=100, oob_score=True;, score=0.814 total time=   0.0s\n",
      "[CV 3/3] END criterion=entropy, max_depth=10, min_samples_leaf=4, min_samples_split=2, n_estimators=100, oob_score=True;, score=0.800 total time=   0.0s\n",
      "[CV 1/3] END criterion=entropy, max_depth=10, min_samples_leaf=4, min_samples_split=2, n_estimators=100, oob_score=False;, score=0.887 total time=   0.0s\n",
      "[CV 2/3] END criterion=entropy, max_depth=10, min_samples_leaf=4, min_samples_split=2, n_estimators=100, oob_score=False;, score=0.800 total time=   0.0s\n",
      "[CV 3/3] END criterion=entropy, max_depth=10, min_samples_leaf=4, min_samples_split=2, n_estimators=100, oob_score=False;, score=0.814 total time=   0.0s\n",
      "[CV 1/3] END criterion=entropy, max_depth=10, min_samples_leaf=4, min_samples_split=2, n_estimators=200, oob_score=True;, score=0.873 total time=   0.1s\n",
      "[CV 2/3] END criterion=entropy, max_depth=10, min_samples_leaf=4, min_samples_split=2, n_estimators=200, oob_score=True;, score=0.814 total time=   0.1s\n",
      "[CV 3/3] END criterion=entropy, max_depth=10, min_samples_leaf=4, min_samples_split=2, n_estimators=200, oob_score=True;, score=0.771 total time=   0.1s\n",
      "[CV 1/3] END criterion=entropy, max_depth=10, min_samples_leaf=4, min_samples_split=2, n_estimators=200, oob_score=False;, score=0.873 total time=   0.1s\n",
      "[CV 2/3] END criterion=entropy, max_depth=10, min_samples_leaf=4, min_samples_split=2, n_estimators=200, oob_score=False;, score=0.800 total time=   0.1s\n",
      "[CV 3/3] END criterion=entropy, max_depth=10, min_samples_leaf=4, min_samples_split=2, n_estimators=200, oob_score=False;, score=0.786 total time=   0.1s\n",
      "[CV 1/3] END criterion=entropy, max_depth=10, min_samples_leaf=4, min_samples_split=5, n_estimators=50, oob_score=True;, score=0.845 total time=   0.0s\n",
      "[CV 2/3] END criterion=entropy, max_depth=10, min_samples_leaf=4, min_samples_split=5, n_estimators=50, oob_score=True;, score=0.757 total time=   0.0s\n",
      "[CV 3/3] END criterion=entropy, max_depth=10, min_samples_leaf=4, min_samples_split=5, n_estimators=50, oob_score=True;, score=0.786 total time=   0.0s\n",
      "[CV 1/3] END criterion=entropy, max_depth=10, min_samples_leaf=4, min_samples_split=5, n_estimators=50, oob_score=False;, score=0.873 total time=   0.0s\n",
      "[CV 2/3] END criterion=entropy, max_depth=10, min_samples_leaf=4, min_samples_split=5, n_estimators=50, oob_score=False;, score=0.814 total time=   0.0s\n",
      "[CV 3/3] END criterion=entropy, max_depth=10, min_samples_leaf=4, min_samples_split=5, n_estimators=50, oob_score=False;, score=0.800 total time=   0.0s\n",
      "[CV 1/3] END criterion=entropy, max_depth=10, min_samples_leaf=4, min_samples_split=5, n_estimators=100, oob_score=True;, score=0.873 total time=   0.0s\n",
      "[CV 2/3] END criterion=entropy, max_depth=10, min_samples_leaf=4, min_samples_split=5, n_estimators=100, oob_score=True;, score=0.800 total time=   0.0s\n",
      "[CV 3/3] END criterion=entropy, max_depth=10, min_samples_leaf=4, min_samples_split=5, n_estimators=100, oob_score=True;, score=0.800 total time=   0.0s\n",
      "[CV 1/3] END criterion=entropy, max_depth=10, min_samples_leaf=4, min_samples_split=5, n_estimators=100, oob_score=False;, score=0.859 total time=   0.0s\n",
      "[CV 2/3] END criterion=entropy, max_depth=10, min_samples_leaf=4, min_samples_split=5, n_estimators=100, oob_score=False;, score=0.814 total time=   0.0s\n",
      "[CV 3/3] END criterion=entropy, max_depth=10, min_samples_leaf=4, min_samples_split=5, n_estimators=100, oob_score=False;, score=0.786 total time=   0.0s\n",
      "[CV 1/3] END criterion=entropy, max_depth=10, min_samples_leaf=4, min_samples_split=5, n_estimators=200, oob_score=True;, score=0.873 total time=   0.1s\n",
      "[CV 2/3] END criterion=entropy, max_depth=10, min_samples_leaf=4, min_samples_split=5, n_estimators=200, oob_score=True;, score=0.814 total time=   0.1s\n",
      "[CV 3/3] END criterion=entropy, max_depth=10, min_samples_leaf=4, min_samples_split=5, n_estimators=200, oob_score=True;, score=0.800 total time=   0.1s\n",
      "[CV 1/3] END criterion=entropy, max_depth=10, min_samples_leaf=4, min_samples_split=5, n_estimators=200, oob_score=False;, score=0.873 total time=   0.1s\n",
      "[CV 2/3] END criterion=entropy, max_depth=10, min_samples_leaf=4, min_samples_split=5, n_estimators=200, oob_score=False;, score=0.829 total time=   0.1s\n",
      "[CV 3/3] END criterion=entropy, max_depth=10, min_samples_leaf=4, min_samples_split=5, n_estimators=200, oob_score=False;, score=0.800 total time=   0.1s\n",
      "[CV 1/3] END criterion=entropy, max_depth=10, min_samples_leaf=4, min_samples_split=10, n_estimators=50, oob_score=True;, score=0.873 total time=   0.0s\n",
      "[CV 2/3] END criterion=entropy, max_depth=10, min_samples_leaf=4, min_samples_split=10, n_estimators=50, oob_score=True;, score=0.800 total time=   0.0s\n",
      "[CV 3/3] END criterion=entropy, max_depth=10, min_samples_leaf=4, min_samples_split=10, n_estimators=50, oob_score=True;, score=0.786 total time=   0.0s\n",
      "[CV 1/3] END criterion=entropy, max_depth=10, min_samples_leaf=4, min_samples_split=10, n_estimators=50, oob_score=False;, score=0.873 total time=   0.0s\n",
      "[CV 2/3] END criterion=entropy, max_depth=10, min_samples_leaf=4, min_samples_split=10, n_estimators=50, oob_score=False;, score=0.814 total time=   0.0s\n",
      "[CV 3/3] END criterion=entropy, max_depth=10, min_samples_leaf=4, min_samples_split=10, n_estimators=50, oob_score=False;, score=0.814 total time=   0.0s\n",
      "[CV 1/3] END criterion=entropy, max_depth=10, min_samples_leaf=4, min_samples_split=10, n_estimators=100, oob_score=True;, score=0.859 total time=   0.0s\n",
      "[CV 2/3] END criterion=entropy, max_depth=10, min_samples_leaf=4, min_samples_split=10, n_estimators=100, oob_score=True;, score=0.786 total time=   0.0s\n",
      "[CV 3/3] END criterion=entropy, max_depth=10, min_samples_leaf=4, min_samples_split=10, n_estimators=100, oob_score=True;, score=0.800 total time=   0.0s\n",
      "[CV 1/3] END criterion=entropy, max_depth=10, min_samples_leaf=4, min_samples_split=10, n_estimators=100, oob_score=False;, score=0.873 total time=   0.0s\n",
      "[CV 2/3] END criterion=entropy, max_depth=10, min_samples_leaf=4, min_samples_split=10, n_estimators=100, oob_score=False;, score=0.814 total time=   0.0s\n",
      "[CV 3/3] END criterion=entropy, max_depth=10, min_samples_leaf=4, min_samples_split=10, n_estimators=100, oob_score=False;, score=0.786 total time=   0.0s\n",
      "[CV 1/3] END criterion=entropy, max_depth=10, min_samples_leaf=4, min_samples_split=10, n_estimators=200, oob_score=True;, score=0.873 total time=   0.1s\n",
      "[CV 2/3] END criterion=entropy, max_depth=10, min_samples_leaf=4, min_samples_split=10, n_estimators=200, oob_score=True;, score=0.814 total time=   0.1s\n",
      "[CV 3/3] END criterion=entropy, max_depth=10, min_samples_leaf=4, min_samples_split=10, n_estimators=200, oob_score=True;, score=0.786 total time=   0.1s\n",
      "[CV 1/3] END criterion=entropy, max_depth=10, min_samples_leaf=4, min_samples_split=10, n_estimators=200, oob_score=False;, score=0.873 total time=   0.1s\n",
      "[CV 2/3] END criterion=entropy, max_depth=10, min_samples_leaf=4, min_samples_split=10, n_estimators=200, oob_score=False;, score=0.829 total time=   0.1s\n",
      "[CV 3/3] END criterion=entropy, max_depth=10, min_samples_leaf=4, min_samples_split=10, n_estimators=200, oob_score=False;, score=0.800 total time=   0.1s\n"
     ]
    },
    {
     "data": {
      "text/html": [
       "<style>#sk-container-id-7 {color: black;background-color: white;}#sk-container-id-7 pre{padding: 0;}#sk-container-id-7 div.sk-toggleable {background-color: white;}#sk-container-id-7 label.sk-toggleable__label {cursor: pointer;display: block;width: 100%;margin-bottom: 0;padding: 0.3em;box-sizing: border-box;text-align: center;}#sk-container-id-7 label.sk-toggleable__label-arrow:before {content: \"▸\";float: left;margin-right: 0.25em;color: #696969;}#sk-container-id-7 label.sk-toggleable__label-arrow:hover:before {color: black;}#sk-container-id-7 div.sk-estimator:hover label.sk-toggleable__label-arrow:before {color: black;}#sk-container-id-7 div.sk-toggleable__content {max-height: 0;max-width: 0;overflow: hidden;text-align: left;background-color: #f0f8ff;}#sk-container-id-7 div.sk-toggleable__content pre {margin: 0.2em;color: black;border-radius: 0.25em;background-color: #f0f8ff;}#sk-container-id-7 input.sk-toggleable__control:checked~div.sk-toggleable__content {max-height: 200px;max-width: 100%;overflow: auto;}#sk-container-id-7 input.sk-toggleable__control:checked~label.sk-toggleable__label-arrow:before {content: \"▾\";}#sk-container-id-7 div.sk-estimator input.sk-toggleable__control:checked~label.sk-toggleable__label {background-color: #d4ebff;}#sk-container-id-7 div.sk-label input.sk-toggleable__control:checked~label.sk-toggleable__label {background-color: #d4ebff;}#sk-container-id-7 input.sk-hidden--visually {border: 0;clip: rect(1px 1px 1px 1px);clip: rect(1px, 1px, 1px, 1px);height: 1px;margin: -1px;overflow: hidden;padding: 0;position: absolute;width: 1px;}#sk-container-id-7 div.sk-estimator {font-family: monospace;background-color: #f0f8ff;border: 1px dotted black;border-radius: 0.25em;box-sizing: border-box;margin-bottom: 0.5em;}#sk-container-id-7 div.sk-estimator:hover {background-color: #d4ebff;}#sk-container-id-7 div.sk-parallel-item::after {content: \"\";width: 100%;border-bottom: 1px solid gray;flex-grow: 1;}#sk-container-id-7 div.sk-label:hover label.sk-toggleable__label {background-color: #d4ebff;}#sk-container-id-7 div.sk-serial::before {content: \"\";position: absolute;border-left: 1px solid gray;box-sizing: border-box;top: 0;bottom: 0;left: 50%;z-index: 0;}#sk-container-id-7 div.sk-serial {display: flex;flex-direction: column;align-items: center;background-color: white;padding-right: 0.2em;padding-left: 0.2em;position: relative;}#sk-container-id-7 div.sk-item {position: relative;z-index: 1;}#sk-container-id-7 div.sk-parallel {display: flex;align-items: stretch;justify-content: center;background-color: white;position: relative;}#sk-container-id-7 div.sk-item::before, #sk-container-id-7 div.sk-parallel-item::before {content: \"\";position: absolute;border-left: 1px solid gray;box-sizing: border-box;top: 0;bottom: 0;left: 50%;z-index: -1;}#sk-container-id-7 div.sk-parallel-item {display: flex;flex-direction: column;z-index: 1;position: relative;background-color: white;}#sk-container-id-7 div.sk-parallel-item:first-child::after {align-self: flex-end;width: 50%;}#sk-container-id-7 div.sk-parallel-item:last-child::after {align-self: flex-start;width: 50%;}#sk-container-id-7 div.sk-parallel-item:only-child::after {width: 0;}#sk-container-id-7 div.sk-dashed-wrapped {border: 1px dashed gray;margin: 0 0.4em 0.5em 0.4em;box-sizing: border-box;padding-bottom: 0.4em;background-color: white;}#sk-container-id-7 div.sk-label label {font-family: monospace;font-weight: bold;display: inline-block;line-height: 1.2em;}#sk-container-id-7 div.sk-label-container {text-align: center;}#sk-container-id-7 div.sk-container {/* jupyter's `normalize.less` sets `[hidden] { display: none; }` but bootstrap.min.css set `[hidden] { display: none !important; }` so we also need the `!important` here to be able to override the default hidden behavior on the sphinx rendered scikit-learn.org. See: https://github.com/scikit-learn/scikit-learn/issues/21755 */display: inline-block !important;position: relative;}#sk-container-id-7 div.sk-text-repr-fallback {display: none;}</style><div id=\"sk-container-id-7\" class=\"sk-top-container\"><div class=\"sk-text-repr-fallback\"><pre>GridSearchCV(cv=3, estimator=RandomForestClassifier(),\n",
       "             param_grid={&#x27;criterion&#x27;: [&#x27;gini&#x27;, &#x27;entropy&#x27;],\n",
       "                         &#x27;max_depth&#x27;: [None, 5, 10],\n",
       "                         &#x27;min_samples_leaf&#x27;: [1, 2, 4],\n",
       "                         &#x27;min_samples_split&#x27;: [2, 5, 10],\n",
       "                         &#x27;n_estimators&#x27;: [50, 100, 200],\n",
       "                         &#x27;oob_score&#x27;: [True, False]},\n",
       "             verbose=3)</pre><b>In a Jupyter environment, please rerun this cell to show the HTML representation or trust the notebook. <br />On GitHub, the HTML representation is unable to render, please try loading this page with nbviewer.org.</b></div><div class=\"sk-container\" hidden><div class=\"sk-item sk-dashed-wrapped\"><div class=\"sk-label-container\"><div class=\"sk-label sk-toggleable\"><input class=\"sk-toggleable__control sk-hidden--visually\" id=\"sk-estimator-id-9\" type=\"checkbox\" ><label for=\"sk-estimator-id-9\" class=\"sk-toggleable__label sk-toggleable__label-arrow\">GridSearchCV</label><div class=\"sk-toggleable__content\"><pre>GridSearchCV(cv=3, estimator=RandomForestClassifier(),\n",
       "             param_grid={&#x27;criterion&#x27;: [&#x27;gini&#x27;, &#x27;entropy&#x27;],\n",
       "                         &#x27;max_depth&#x27;: [None, 5, 10],\n",
       "                         &#x27;min_samples_leaf&#x27;: [1, 2, 4],\n",
       "                         &#x27;min_samples_split&#x27;: [2, 5, 10],\n",
       "                         &#x27;n_estimators&#x27;: [50, 100, 200],\n",
       "                         &#x27;oob_score&#x27;: [True, False]},\n",
       "             verbose=3)</pre></div></div></div><div class=\"sk-parallel\"><div class=\"sk-parallel-item\"><div class=\"sk-item\"><div class=\"sk-label-container\"><div class=\"sk-label sk-toggleable\"><input class=\"sk-toggleable__control sk-hidden--visually\" id=\"sk-estimator-id-10\" type=\"checkbox\" ><label for=\"sk-estimator-id-10\" class=\"sk-toggleable__label sk-toggleable__label-arrow\">estimator: RandomForestClassifier</label><div class=\"sk-toggleable__content\"><pre>RandomForestClassifier()</pre></div></div></div><div class=\"sk-serial\"><div class=\"sk-item\"><div class=\"sk-estimator sk-toggleable\"><input class=\"sk-toggleable__control sk-hidden--visually\" id=\"sk-estimator-id-11\" type=\"checkbox\" ><label for=\"sk-estimator-id-11\" class=\"sk-toggleable__label sk-toggleable__label-arrow\">RandomForestClassifier</label><div class=\"sk-toggleable__content\"><pre>RandomForestClassifier()</pre></div></div></div></div></div></div></div></div></div></div>"
      ],
      "text/plain": [
       "GridSearchCV(cv=3, estimator=RandomForestClassifier(),\n",
       "             param_grid={'criterion': ['gini', 'entropy'],\n",
       "                         'max_depth': [None, 5, 10],\n",
       "                         'min_samples_leaf': [1, 2, 4],\n",
       "                         'min_samples_split': [2, 5, 10],\n",
       "                         'n_estimators': [50, 100, 200],\n",
       "                         'oob_score': [True, False]},\n",
       "             verbose=3)"
      ]
     },
     "execution_count": 76,
     "metadata": {},
     "output_type": "execute_result"
    }
   ],
   "source": [
    "clf.fit(X_train , y_train)"
   ]
  },
  {
   "cell_type": "code",
   "execution_count": 77,
   "id": "6eca9a22-d8be-4de7-9b34-09c1e806a32e",
   "metadata": {
    "tags": []
   },
   "outputs": [
    {
     "data": {
      "text/plain": [
       "{'criterion': 'entropy',\n",
       " 'max_depth': 5,\n",
       " 'min_samples_leaf': 2,\n",
       " 'min_samples_split': 2,\n",
       " 'n_estimators': 50,\n",
       " 'oob_score': True}"
      ]
     },
     "execution_count": 77,
     "metadata": {},
     "output_type": "execute_result"
    }
   ],
   "source": [
    "clf.best_params_"
   ]
  },
  {
   "cell_type": "code",
   "execution_count": 78,
   "id": "947eeb76-34e2-4c82-8482-5210006cb075",
   "metadata": {
    "tags": []
   },
   "outputs": [],
   "source": [
    "model=RandomForestClassifier(criterion='entropy' , max_depth=5 , min_samples_leaf=2 ,min_samples_split=2 , n_estimators=50 , oob_score=True)"
   ]
  },
  {
   "cell_type": "code",
   "execution_count": 79,
   "id": "e47c5fa3-adf1-462c-97e7-2958670884f0",
   "metadata": {
    "tags": []
   },
   "outputs": [
    {
     "data": {
      "text/html": [
       "<style>#sk-container-id-8 {color: black;background-color: white;}#sk-container-id-8 pre{padding: 0;}#sk-container-id-8 div.sk-toggleable {background-color: white;}#sk-container-id-8 label.sk-toggleable__label {cursor: pointer;display: block;width: 100%;margin-bottom: 0;padding: 0.3em;box-sizing: border-box;text-align: center;}#sk-container-id-8 label.sk-toggleable__label-arrow:before {content: \"▸\";float: left;margin-right: 0.25em;color: #696969;}#sk-container-id-8 label.sk-toggleable__label-arrow:hover:before {color: black;}#sk-container-id-8 div.sk-estimator:hover label.sk-toggleable__label-arrow:before {color: black;}#sk-container-id-8 div.sk-toggleable__content {max-height: 0;max-width: 0;overflow: hidden;text-align: left;background-color: #f0f8ff;}#sk-container-id-8 div.sk-toggleable__content pre {margin: 0.2em;color: black;border-radius: 0.25em;background-color: #f0f8ff;}#sk-container-id-8 input.sk-toggleable__control:checked~div.sk-toggleable__content {max-height: 200px;max-width: 100%;overflow: auto;}#sk-container-id-8 input.sk-toggleable__control:checked~label.sk-toggleable__label-arrow:before {content: \"▾\";}#sk-container-id-8 div.sk-estimator input.sk-toggleable__control:checked~label.sk-toggleable__label {background-color: #d4ebff;}#sk-container-id-8 div.sk-label input.sk-toggleable__control:checked~label.sk-toggleable__label {background-color: #d4ebff;}#sk-container-id-8 input.sk-hidden--visually {border: 0;clip: rect(1px 1px 1px 1px);clip: rect(1px, 1px, 1px, 1px);height: 1px;margin: -1px;overflow: hidden;padding: 0;position: absolute;width: 1px;}#sk-container-id-8 div.sk-estimator {font-family: monospace;background-color: #f0f8ff;border: 1px dotted black;border-radius: 0.25em;box-sizing: border-box;margin-bottom: 0.5em;}#sk-container-id-8 div.sk-estimator:hover {background-color: #d4ebff;}#sk-container-id-8 div.sk-parallel-item::after {content: \"\";width: 100%;border-bottom: 1px solid gray;flex-grow: 1;}#sk-container-id-8 div.sk-label:hover label.sk-toggleable__label {background-color: #d4ebff;}#sk-container-id-8 div.sk-serial::before {content: \"\";position: absolute;border-left: 1px solid gray;box-sizing: border-box;top: 0;bottom: 0;left: 50%;z-index: 0;}#sk-container-id-8 div.sk-serial {display: flex;flex-direction: column;align-items: center;background-color: white;padding-right: 0.2em;padding-left: 0.2em;position: relative;}#sk-container-id-8 div.sk-item {position: relative;z-index: 1;}#sk-container-id-8 div.sk-parallel {display: flex;align-items: stretch;justify-content: center;background-color: white;position: relative;}#sk-container-id-8 div.sk-item::before, #sk-container-id-8 div.sk-parallel-item::before {content: \"\";position: absolute;border-left: 1px solid gray;box-sizing: border-box;top: 0;bottom: 0;left: 50%;z-index: -1;}#sk-container-id-8 div.sk-parallel-item {display: flex;flex-direction: column;z-index: 1;position: relative;background-color: white;}#sk-container-id-8 div.sk-parallel-item:first-child::after {align-self: flex-end;width: 50%;}#sk-container-id-8 div.sk-parallel-item:last-child::after {align-self: flex-start;width: 50%;}#sk-container-id-8 div.sk-parallel-item:only-child::after {width: 0;}#sk-container-id-8 div.sk-dashed-wrapped {border: 1px dashed gray;margin: 0 0.4em 0.5em 0.4em;box-sizing: border-box;padding-bottom: 0.4em;background-color: white;}#sk-container-id-8 div.sk-label label {font-family: monospace;font-weight: bold;display: inline-block;line-height: 1.2em;}#sk-container-id-8 div.sk-label-container {text-align: center;}#sk-container-id-8 div.sk-container {/* jupyter's `normalize.less` sets `[hidden] { display: none; }` but bootstrap.min.css set `[hidden] { display: none !important; }` so we also need the `!important` here to be able to override the default hidden behavior on the sphinx rendered scikit-learn.org. See: https://github.com/scikit-learn/scikit-learn/issues/21755 */display: inline-block !important;position: relative;}#sk-container-id-8 div.sk-text-repr-fallback {display: none;}</style><div id=\"sk-container-id-8\" class=\"sk-top-container\"><div class=\"sk-text-repr-fallback\"><pre>RandomForestClassifier(criterion=&#x27;entropy&#x27;, max_depth=5, min_samples_leaf=2,\n",
       "                       n_estimators=50, oob_score=True)</pre><b>In a Jupyter environment, please rerun this cell to show the HTML representation or trust the notebook. <br />On GitHub, the HTML representation is unable to render, please try loading this page with nbviewer.org.</b></div><div class=\"sk-container\" hidden><div class=\"sk-item\"><div class=\"sk-estimator sk-toggleable\"><input class=\"sk-toggleable__control sk-hidden--visually\" id=\"sk-estimator-id-12\" type=\"checkbox\" checked><label for=\"sk-estimator-id-12\" class=\"sk-toggleable__label sk-toggleable__label-arrow\">RandomForestClassifier</label><div class=\"sk-toggleable__content\"><pre>RandomForestClassifier(criterion=&#x27;entropy&#x27;, max_depth=5, min_samples_leaf=2,\n",
       "                       n_estimators=50, oob_score=True)</pre></div></div></div></div></div>"
      ],
      "text/plain": [
       "RandomForestClassifier(criterion='entropy', max_depth=5, min_samples_leaf=2,\n",
       "                       n_estimators=50, oob_score=True)"
      ]
     },
     "execution_count": 79,
     "metadata": {},
     "output_type": "execute_result"
    }
   ],
   "source": [
    "model.fit(X_train , y_train)"
   ]
  },
  {
   "cell_type": "code",
   "execution_count": 80,
   "id": "63aed4ba-5e6c-42fb-9743-1315afd7e6de",
   "metadata": {
    "tags": []
   },
   "outputs": [],
   "source": [
    "y_pred=model.predict(X_test)"
   ]
  },
  {
   "cell_type": "code",
   "execution_count": 81,
   "id": "d02d3479-7fdb-49c1-93a4-aef4f0d17bc9",
   "metadata": {
    "tags": []
   },
   "outputs": [
    {
     "name": "stdout",
     "output_type": "stream",
     "text": [
      "0.8901098901098901\n",
      "0.8823529411764706\n",
      "0.9183673469387755\n",
      "0.9\n"
     ]
    }
   ],
   "source": [
    "print(accuracy_score(y_test , y_pred))\n",
    "print(precision_score(y_test , y_pred))\n",
    "print(recall_score(y_test , y_pred))\n",
    "print(f1_score(y_test , y_pred))"
   ]
  },
  {
   "cell_type": "markdown",
   "id": "e0326590-c584-4af7-ad8f-efa4271992a4",
   "metadata": {
    "tags": []
   },
   "source": [
    "### Best set of parameters achived after hyperparameter tuning and correponding accuracy for this model is mentioned above"
   ]
  },
  {
   "cell_type": "code",
   "execution_count": 82,
   "id": "247f668f-3d9a-4755-945e-36ec1672d974",
   "metadata": {
    "tags": []
   },
   "outputs": [
    {
     "data": {
      "text/plain": [
       "{'criterion': 'entropy',\n",
       " 'max_depth': 5,\n",
       " 'min_samples_leaf': 2,\n",
       " 'min_samples_split': 2,\n",
       " 'n_estimators': 50,\n",
       " 'oob_score': True}"
      ]
     },
     "execution_count": 82,
     "metadata": {},
     "output_type": "execute_result"
    }
   ],
   "source": [
    "clf.best_params_"
   ]
  },
  {
   "cell_type": "markdown",
   "id": "656ecf5d-589d-4422-8f67-c348ca71d4ae",
   "metadata": {},
   "source": [
    "### Q8. Interpret the model by analysing the decision boundaries of the random forest classifier. Plot the decision boundaries on a scatter plot of two of the most important features. Discuss the insights and limitations of the model for predicting heart disease risk."
   ]
  },
  {
   "cell_type": "code",
   "execution_count": 91,
   "id": "88ef7c70-1a93-4f6b-9075-ea4f608b2441",
   "metadata": {
    "tags": []
   },
   "outputs": [
    {
     "data": {
      "text/plain": [
       "array([0.07983586, 0.04310078, 0.13642825, 0.04843065, 0.06234954,\n",
       "       0.00515489, 0.01095534, 0.11172826, 0.0645846 , 0.11989415,\n",
       "       0.05383777, 0.14949778, 0.11420213])"
      ]
     },
     "execution_count": 91,
     "metadata": {},
     "output_type": "execute_result"
    }
   ],
   "source": [
    "important_features=model.feature_importances_\n",
    "important_features"
   ]
  },
  {
   "cell_type": "code",
   "execution_count": 99,
   "id": "6433fcb4-cb2c-4610-960a-588653d326cd",
   "metadata": {
    "tags": []
   },
   "outputs": [
    {
     "data": {
      "text/plain": [
       "['age',\n",
       " 'sex',\n",
       " 'cp',\n",
       " 'trestbps',\n",
       " 'chol',\n",
       " 'fbs',\n",
       " 'restecg',\n",
       " 'thalach',\n",
       " 'exang',\n",
       " 'oldpeak',\n",
       " 'slope',\n",
       " 'ca',\n",
       " 'thal']"
      ]
     },
     "execution_count": 99,
     "metadata": {},
     "output_type": "execute_result"
    }
   ],
   "source": [
    "features=list(df.iloc[: , :-1].columns)\n",
    "features"
   ]
  },
  {
   "cell_type": "code",
   "execution_count": 106,
   "id": "9839d78f-99a9-406f-ae52-08ba7cecfe28",
   "metadata": {
    "tags": []
   },
   "outputs": [
    {
     "data": {
      "text/html": [
       "<div>\n",
       "<style scoped>\n",
       "    .dataframe tbody tr th:only-of-type {\n",
       "        vertical-align: middle;\n",
       "    }\n",
       "\n",
       "    .dataframe tbody tr th {\n",
       "        vertical-align: top;\n",
       "    }\n",
       "\n",
       "    .dataframe thead th {\n",
       "        text-align: right;\n",
       "    }\n",
       "</style>\n",
       "<table border=\"1\" class=\"dataframe\">\n",
       "  <thead>\n",
       "    <tr style=\"text-align: right;\">\n",
       "      <th></th>\n",
       "      <th>feature</th>\n",
       "      <th>importance</th>\n",
       "    </tr>\n",
       "  </thead>\n",
       "  <tbody>\n",
       "    <tr>\n",
       "      <th>0</th>\n",
       "      <td>age</td>\n",
       "      <td>0.079836</td>\n",
       "    </tr>\n",
       "    <tr>\n",
       "      <th>1</th>\n",
       "      <td>sex</td>\n",
       "      <td>0.043101</td>\n",
       "    </tr>\n",
       "    <tr>\n",
       "      <th>2</th>\n",
       "      <td>cp</td>\n",
       "      <td>0.136428</td>\n",
       "    </tr>\n",
       "    <tr>\n",
       "      <th>3</th>\n",
       "      <td>trestbps</td>\n",
       "      <td>0.048431</td>\n",
       "    </tr>\n",
       "    <tr>\n",
       "      <th>4</th>\n",
       "      <td>chol</td>\n",
       "      <td>0.062350</td>\n",
       "    </tr>\n",
       "    <tr>\n",
       "      <th>5</th>\n",
       "      <td>fbs</td>\n",
       "      <td>0.005155</td>\n",
       "    </tr>\n",
       "    <tr>\n",
       "      <th>6</th>\n",
       "      <td>restecg</td>\n",
       "      <td>0.010955</td>\n",
       "    </tr>\n",
       "    <tr>\n",
       "      <th>7</th>\n",
       "      <td>thalach</td>\n",
       "      <td>0.111728</td>\n",
       "    </tr>\n",
       "    <tr>\n",
       "      <th>8</th>\n",
       "      <td>exang</td>\n",
       "      <td>0.064585</td>\n",
       "    </tr>\n",
       "    <tr>\n",
       "      <th>9</th>\n",
       "      <td>oldpeak</td>\n",
       "      <td>0.119894</td>\n",
       "    </tr>\n",
       "    <tr>\n",
       "      <th>10</th>\n",
       "      <td>slope</td>\n",
       "      <td>0.053838</td>\n",
       "    </tr>\n",
       "    <tr>\n",
       "      <th>11</th>\n",
       "      <td>ca</td>\n",
       "      <td>0.149498</td>\n",
       "    </tr>\n",
       "    <tr>\n",
       "      <th>12</th>\n",
       "      <td>thal</td>\n",
       "      <td>0.114202</td>\n",
       "    </tr>\n",
       "  </tbody>\n",
       "</table>\n",
       "</div>"
      ],
      "text/plain": [
       "     feature  importance\n",
       "0        age    0.079836\n",
       "1        sex    0.043101\n",
       "2         cp    0.136428\n",
       "3   trestbps    0.048431\n",
       "4       chol    0.062350\n",
       "5        fbs    0.005155\n",
       "6    restecg    0.010955\n",
       "7    thalach    0.111728\n",
       "8      exang    0.064585\n",
       "9    oldpeak    0.119894\n",
       "10     slope    0.053838\n",
       "11        ca    0.149498\n",
       "12      thal    0.114202"
      ]
     },
     "execution_count": 106,
     "metadata": {},
     "output_type": "execute_result"
    }
   ],
   "source": [
    "feature_importance=pd.DataFrame({'feature' : features , 'importance': important_features})\n",
    "feature_importance"
   ]
  },
  {
   "cell_type": "code",
   "execution_count": 111,
   "id": "ec4114f9-c504-425d-88d0-63795d79bd76",
   "metadata": {
    "tags": []
   },
   "outputs": [],
   "source": [
    "feature_importance=feature_importance.sort_values(by='importance' , ascending=False)\n",
    "feature_importance.reset_index(drop=True ,inplace=True)"
   ]
  },
  {
   "cell_type": "code",
   "execution_count": 112,
   "id": "4076ae46-aa81-48fa-b21d-b05ed21aae3d",
   "metadata": {
    "tags": []
   },
   "outputs": [
    {
     "data": {
      "text/html": [
       "<div>\n",
       "<style scoped>\n",
       "    .dataframe tbody tr th:only-of-type {\n",
       "        vertical-align: middle;\n",
       "    }\n",
       "\n",
       "    .dataframe tbody tr th {\n",
       "        vertical-align: top;\n",
       "    }\n",
       "\n",
       "    .dataframe thead th {\n",
       "        text-align: right;\n",
       "    }\n",
       "</style>\n",
       "<table border=\"1\" class=\"dataframe\">\n",
       "  <thead>\n",
       "    <tr style=\"text-align: right;\">\n",
       "      <th></th>\n",
       "      <th>feature</th>\n",
       "      <th>importance</th>\n",
       "    </tr>\n",
       "  </thead>\n",
       "  <tbody>\n",
       "    <tr>\n",
       "      <th>0</th>\n",
       "      <td>ca</td>\n",
       "      <td>0.149498</td>\n",
       "    </tr>\n",
       "    <tr>\n",
       "      <th>1</th>\n",
       "      <td>cp</td>\n",
       "      <td>0.136428</td>\n",
       "    </tr>\n",
       "    <tr>\n",
       "      <th>2</th>\n",
       "      <td>oldpeak</td>\n",
       "      <td>0.119894</td>\n",
       "    </tr>\n",
       "    <tr>\n",
       "      <th>3</th>\n",
       "      <td>thal</td>\n",
       "      <td>0.114202</td>\n",
       "    </tr>\n",
       "    <tr>\n",
       "      <th>4</th>\n",
       "      <td>thalach</td>\n",
       "      <td>0.111728</td>\n",
       "    </tr>\n",
       "    <tr>\n",
       "      <th>5</th>\n",
       "      <td>age</td>\n",
       "      <td>0.079836</td>\n",
       "    </tr>\n",
       "    <tr>\n",
       "      <th>6</th>\n",
       "      <td>exang</td>\n",
       "      <td>0.064585</td>\n",
       "    </tr>\n",
       "    <tr>\n",
       "      <th>7</th>\n",
       "      <td>chol</td>\n",
       "      <td>0.062350</td>\n",
       "    </tr>\n",
       "    <tr>\n",
       "      <th>8</th>\n",
       "      <td>slope</td>\n",
       "      <td>0.053838</td>\n",
       "    </tr>\n",
       "    <tr>\n",
       "      <th>9</th>\n",
       "      <td>trestbps</td>\n",
       "      <td>0.048431</td>\n",
       "    </tr>\n",
       "    <tr>\n",
       "      <th>10</th>\n",
       "      <td>sex</td>\n",
       "      <td>0.043101</td>\n",
       "    </tr>\n",
       "    <tr>\n",
       "      <th>11</th>\n",
       "      <td>restecg</td>\n",
       "      <td>0.010955</td>\n",
       "    </tr>\n",
       "    <tr>\n",
       "      <th>12</th>\n",
       "      <td>fbs</td>\n",
       "      <td>0.005155</td>\n",
       "    </tr>\n",
       "  </tbody>\n",
       "</table>\n",
       "</div>"
      ],
      "text/plain": [
       "     feature  importance\n",
       "0         ca    0.149498\n",
       "1         cp    0.136428\n",
       "2    oldpeak    0.119894\n",
       "3       thal    0.114202\n",
       "4    thalach    0.111728\n",
       "5        age    0.079836\n",
       "6      exang    0.064585\n",
       "7       chol    0.062350\n",
       "8      slope    0.053838\n",
       "9   trestbps    0.048431\n",
       "10       sex    0.043101\n",
       "11   restecg    0.010955\n",
       "12       fbs    0.005155"
      ]
     },
     "execution_count": 112,
     "metadata": {},
     "output_type": "execute_result"
    }
   ],
   "source": [
    "feature_importance"
   ]
  },
  {
   "cell_type": "code",
   "execution_count": 120,
   "id": "a405fe57-0306-4f56-9e12-99cfa88b8ce5",
   "metadata": {
    "tags": []
   },
   "outputs": [
    {
     "data": {
      "text/plain": [
       "array(['ca', 'cp'], dtype=object)"
      ]
     },
     "execution_count": 120,
     "metadata": {},
     "output_type": "execute_result"
    }
   ],
   "source": [
    "top2_features=feature_importance['feature'].iloc[:2].values\n",
    "top2_features"
   ]
  },
  {
   "cell_type": "code",
   "execution_count": 122,
   "id": "9730dec2-64a9-4652-bbe9-bffbae4be10a",
   "metadata": {
    "tags": []
   },
   "outputs": [],
   "source": [
    "X_top2=df[top2_features]\n",
    "y=df['target']"
   ]
  },
  {
   "cell_type": "code",
   "execution_count": 125,
   "id": "336fd185-18c4-47ed-9302-81e614c7d4cf",
   "metadata": {
    "tags": []
   },
   "outputs": [
    {
     "data": {
      "text/html": [
       "<div>\n",
       "<style scoped>\n",
       "    .dataframe tbody tr th:only-of-type {\n",
       "        vertical-align: middle;\n",
       "    }\n",
       "\n",
       "    .dataframe tbody tr th {\n",
       "        vertical-align: top;\n",
       "    }\n",
       "\n",
       "    .dataframe thead th {\n",
       "        text-align: right;\n",
       "    }\n",
       "</style>\n",
       "<table border=\"1\" class=\"dataframe\">\n",
       "  <thead>\n",
       "    <tr style=\"text-align: right;\">\n",
       "      <th></th>\n",
       "      <th>ca</th>\n",
       "      <th>cp</th>\n",
       "    </tr>\n",
       "  </thead>\n",
       "  <tbody>\n",
       "    <tr>\n",
       "      <th>0</th>\n",
       "      <td>0</td>\n",
       "      <td>3</td>\n",
       "    </tr>\n",
       "    <tr>\n",
       "      <th>1</th>\n",
       "      <td>0</td>\n",
       "      <td>2</td>\n",
       "    </tr>\n",
       "    <tr>\n",
       "      <th>2</th>\n",
       "      <td>0</td>\n",
       "      <td>1</td>\n",
       "    </tr>\n",
       "    <tr>\n",
       "      <th>3</th>\n",
       "      <td>0</td>\n",
       "      <td>1</td>\n",
       "    </tr>\n",
       "    <tr>\n",
       "      <th>4</th>\n",
       "      <td>0</td>\n",
       "      <td>0</td>\n",
       "    </tr>\n",
       "  </tbody>\n",
       "</table>\n",
       "</div>"
      ],
      "text/plain": [
       "   ca  cp\n",
       "0   0   3\n",
       "1   0   2\n",
       "2   0   1\n",
       "3   0   1\n",
       "4   0   0"
      ]
     },
     "execution_count": 125,
     "metadata": {},
     "output_type": "execute_result"
    }
   ],
   "source": [
    "X_top2.head()"
   ]
  },
  {
   "cell_type": "code",
   "execution_count": 126,
   "id": "6825646b-7c65-4a61-8e73-44ce4d4945fe",
   "metadata": {
    "tags": []
   },
   "outputs": [
    {
     "data": {
      "text/plain": [
       "0    1\n",
       "1    1\n",
       "2    1\n",
       "3    1\n",
       "4    1\n",
       "Name: target, dtype: int64"
      ]
     },
     "execution_count": 126,
     "metadata": {},
     "output_type": "execute_result"
    }
   ],
   "source": [
    "y.head()"
   ]
  },
  {
   "cell_type": "code",
   "execution_count": 127,
   "id": "c1230e4c-1252-4d07-a012-b4367d93d83a",
   "metadata": {
    "tags": []
   },
   "outputs": [],
   "source": [
    "from sklearn.model_selection import train_test_split\n",
    "X_train ,X_test , y_train , y_test = train_test_split(X , y , test_size=0.3 , random_state=42)"
   ]
  },
  {
   "cell_type": "code",
   "execution_count": 128,
   "id": "b2c73365-27df-4dcf-abc4-8d1e0c44743a",
   "metadata": {
    "tags": []
   },
   "outputs": [
    {
     "data": {
      "text/html": [
       "<style>#sk-container-id-9 {color: black;background-color: white;}#sk-container-id-9 pre{padding: 0;}#sk-container-id-9 div.sk-toggleable {background-color: white;}#sk-container-id-9 label.sk-toggleable__label {cursor: pointer;display: block;width: 100%;margin-bottom: 0;padding: 0.3em;box-sizing: border-box;text-align: center;}#sk-container-id-9 label.sk-toggleable__label-arrow:before {content: \"▸\";float: left;margin-right: 0.25em;color: #696969;}#sk-container-id-9 label.sk-toggleable__label-arrow:hover:before {color: black;}#sk-container-id-9 div.sk-estimator:hover label.sk-toggleable__label-arrow:before {color: black;}#sk-container-id-9 div.sk-toggleable__content {max-height: 0;max-width: 0;overflow: hidden;text-align: left;background-color: #f0f8ff;}#sk-container-id-9 div.sk-toggleable__content pre {margin: 0.2em;color: black;border-radius: 0.25em;background-color: #f0f8ff;}#sk-container-id-9 input.sk-toggleable__control:checked~div.sk-toggleable__content {max-height: 200px;max-width: 100%;overflow: auto;}#sk-container-id-9 input.sk-toggleable__control:checked~label.sk-toggleable__label-arrow:before {content: \"▾\";}#sk-container-id-9 div.sk-estimator input.sk-toggleable__control:checked~label.sk-toggleable__label {background-color: #d4ebff;}#sk-container-id-9 div.sk-label input.sk-toggleable__control:checked~label.sk-toggleable__label {background-color: #d4ebff;}#sk-container-id-9 input.sk-hidden--visually {border: 0;clip: rect(1px 1px 1px 1px);clip: rect(1px, 1px, 1px, 1px);height: 1px;margin: -1px;overflow: hidden;padding: 0;position: absolute;width: 1px;}#sk-container-id-9 div.sk-estimator {font-family: monospace;background-color: #f0f8ff;border: 1px dotted black;border-radius: 0.25em;box-sizing: border-box;margin-bottom: 0.5em;}#sk-container-id-9 div.sk-estimator:hover {background-color: #d4ebff;}#sk-container-id-9 div.sk-parallel-item::after {content: \"\";width: 100%;border-bottom: 1px solid gray;flex-grow: 1;}#sk-container-id-9 div.sk-label:hover label.sk-toggleable__label {background-color: #d4ebff;}#sk-container-id-9 div.sk-serial::before {content: \"\";position: absolute;border-left: 1px solid gray;box-sizing: border-box;top: 0;bottom: 0;left: 50%;z-index: 0;}#sk-container-id-9 div.sk-serial {display: flex;flex-direction: column;align-items: center;background-color: white;padding-right: 0.2em;padding-left: 0.2em;position: relative;}#sk-container-id-9 div.sk-item {position: relative;z-index: 1;}#sk-container-id-9 div.sk-parallel {display: flex;align-items: stretch;justify-content: center;background-color: white;position: relative;}#sk-container-id-9 div.sk-item::before, #sk-container-id-9 div.sk-parallel-item::before {content: \"\";position: absolute;border-left: 1px solid gray;box-sizing: border-box;top: 0;bottom: 0;left: 50%;z-index: -1;}#sk-container-id-9 div.sk-parallel-item {display: flex;flex-direction: column;z-index: 1;position: relative;background-color: white;}#sk-container-id-9 div.sk-parallel-item:first-child::after {align-self: flex-end;width: 50%;}#sk-container-id-9 div.sk-parallel-item:last-child::after {align-self: flex-start;width: 50%;}#sk-container-id-9 div.sk-parallel-item:only-child::after {width: 0;}#sk-container-id-9 div.sk-dashed-wrapped {border: 1px dashed gray;margin: 0 0.4em 0.5em 0.4em;box-sizing: border-box;padding-bottom: 0.4em;background-color: white;}#sk-container-id-9 div.sk-label label {font-family: monospace;font-weight: bold;display: inline-block;line-height: 1.2em;}#sk-container-id-9 div.sk-label-container {text-align: center;}#sk-container-id-9 div.sk-container {/* jupyter's `normalize.less` sets `[hidden] { display: none; }` but bootstrap.min.css set `[hidden] { display: none !important; }` so we also need the `!important` here to be able to override the default hidden behavior on the sphinx rendered scikit-learn.org. See: https://github.com/scikit-learn/scikit-learn/issues/21755 */display: inline-block !important;position: relative;}#sk-container-id-9 div.sk-text-repr-fallback {display: none;}</style><div id=\"sk-container-id-9\" class=\"sk-top-container\"><div class=\"sk-text-repr-fallback\"><pre>RandomForestClassifier()</pre><b>In a Jupyter environment, please rerun this cell to show the HTML representation or trust the notebook. <br />On GitHub, the HTML representation is unable to render, please try loading this page with nbviewer.org.</b></div><div class=\"sk-container\" hidden><div class=\"sk-item\"><div class=\"sk-estimator sk-toggleable\"><input class=\"sk-toggleable__control sk-hidden--visually\" id=\"sk-estimator-id-13\" type=\"checkbox\" checked><label for=\"sk-estimator-id-13\" class=\"sk-toggleable__label sk-toggleable__label-arrow\">RandomForestClassifier</label><div class=\"sk-toggleable__content\"><pre>RandomForestClassifier()</pre></div></div></div></div></div>"
      ],
      "text/plain": [
       "RandomForestClassifier()"
      ]
     },
     "execution_count": 128,
     "metadata": {},
     "output_type": "execute_result"
    }
   ],
   "source": [
    "rf=RandomForestClassifier()\n",
    "rf.fit(X_train , y_train)"
   ]
  },
  {
   "cell_type": "code",
   "execution_count": null,
   "id": "c37fe381-f7c9-459b-a752-caa6850fa8a7",
   "metadata": {
    "tags": []
   },
   "outputs": [],
   "source": []
  },
  {
   "cell_type": "code",
   "execution_count": null,
   "id": "5d39c360-5fea-4b0d-b460-371dd8dfdf9c",
   "metadata": {},
   "outputs": [],
   "source": []
  }
 ],
 "metadata": {
  "kernelspec": {
   "display_name": "Python 3 (ipykernel)",
   "language": "python",
   "name": "python3"
  },
  "language_info": {
   "codemirror_mode": {
    "name": "ipython",
    "version": 3
   },
   "file_extension": ".py",
   "mimetype": "text/x-python",
   "name": "python",
   "nbconvert_exporter": "python",
   "pygments_lexer": "ipython3",
   "version": "3.11.2"
  }
 },
 "nbformat": 4,
 "nbformat_minor": 5
}
